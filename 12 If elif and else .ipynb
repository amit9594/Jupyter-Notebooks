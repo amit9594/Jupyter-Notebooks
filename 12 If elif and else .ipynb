{
 "cells": [
  {
   "cell_type": "markdown",
   "metadata": {},
   "source": [
    "# syntax of if/else statement :::\n",
    "# if some_condition:\n",
    "     #execute some code\n",
    "# else:\n",
    "     # do something else\n",
    "     \n",
    "   # here if and else are lineup each other means e is perfectly below of i\n",
    "   \n",
    "   #  and after if and else colon  : is there and inndentation statement also"
   ]
  },
  {
   "cell_type": "markdown",
   "metadata": {},
   "source": [
    "# syntax of if/elif/else statement :::\n",
    "# if some_condition:\n",
    "     #execute some code\n",
    "# elif some_othe_condition:\n",
    "     # execute something different\n",
    "# else:\n",
    "     # do something else"
   ]
  },
  {
   "cell_type": "code",
   "execution_count": 2,
   "metadata": {},
   "outputs": [
    {
     "name": "stdout",
     "output_type": "stream",
     "text": [
      "Its true!\n"
     ]
    }
   ],
   "source": [
    "if True:\n",
    "    print(\"Its true!\")"
   ]
  },
  {
   "cell_type": "code",
   "execution_count": 3,
   "metadata": {},
   "outputs": [
    {
     "name": "stdout",
     "output_type": "stream",
     "text": [
      "3 is greater than 2 \n"
     ]
    }
   ],
   "source": [
    "if 3>2:\n",
    "    print('3 is greater than 2 ')"
   ]
  },
  {
   "cell_type": "code",
   "execution_count": 4,
   "metadata": {},
   "outputs": [
    {
     "name": "stdout",
     "output_type": "stream",
     "text": [
      "Feed Me!\n"
     ]
    }
   ],
   "source": [
    "hungry = True\n",
    "if hungry:\n",
    "    print('Feed Me!')\n"
   ]
  },
  {
   "cell_type": "code",
   "execution_count": 5,
   "metadata": {},
   "outputs": [
    {
     "name": "stdout",
     "output_type": "stream",
     "text": [
      "Feed Me!\n"
     ]
    }
   ],
   "source": [
    "hungry = True\n",
    "if hungry:\n",
    "    print('Feed Me!')\n",
    "else:\n",
    "    print('im not hungry!')\n"
   ]
  },
  {
   "cell_type": "code",
   "execution_count": 6,
   "metadata": {},
   "outputs": [
    {
     "name": "stdout",
     "output_type": "stream",
     "text": [
      "im not hungry!\n"
     ]
    }
   ],
   "source": [
    "hungry = False\n",
    "if hungry:\n",
    "    print('Feed Me!')\n",
    "else:\n",
    "    print('im not hungry!')\n"
   ]
  },
  {
   "cell_type": "code",
   "execution_count": 7,
   "metadata": {},
   "outputs": [
    {
     "name": "stdout",
     "output_type": "stream",
     "text": [
      "I do not know much.\n"
     ]
    }
   ],
   "source": [
    "loc = 'Bank'\n",
    "if loc=='Auto shop':\n",
    "    print(\"cars are cool!\")\n",
    "else:\n",
    "    print(\"I do not know much.\")\n"
   ]
  },
  {
   "cell_type": "code",
   "execution_count": 8,
   "metadata": {},
   "outputs": [
    {
     "name": "stdout",
     "output_type": "stream",
     "text": [
      "Money is cool!\n"
     ]
    }
   ],
   "source": [
    "loc = 'Bank'\n",
    "if loc=='Auto shop':\n",
    "    print(\"cars are cool!\")\n",
    "elif loc=='Bank':\n",
    "    print(\"Money is cool!\")\n",
    "elif loc=='store':\n",
    "    print(\"Welocome to store!\")\n",
    "else:\n",
    "    print(\"I do not know much.\")\n"
   ]
  },
  {
   "cell_type": "code",
   "execution_count": 9,
   "metadata": {},
   "outputs": [
    {
     "name": "stdout",
     "output_type": "stream",
     "text": [
      "Welocome to store!\n"
     ]
    }
   ],
   "source": [
    "loc = 'store'\n",
    "if loc=='Auto shop':\n",
    "    print(\"cars are cool!\")\n",
    "elif loc=='Bank':\n",
    "    print(\"Money is cool!\")\n",
    "elif loc=='store':\n",
    "    print(\"Welocome to store!\")\n",
    "else:\n",
    "    print(\"I do not know much.\")\n"
   ]
  },
  {
   "cell_type": "code",
   "execution_count": 10,
   "metadata": {},
   "outputs": [
    {
     "name": "stdout",
     "output_type": "stream",
     "text": [
      "I do not know much.\n"
     ]
    }
   ],
   "source": [
    "loc = 'game'\n",
    "if loc=='Auto shop':\n",
    "    print(\"cars are cool!\")\n",
    "elif loc=='Bank':\n",
    "    print(\"Money is cool!\")\n",
    "elif loc=='store':\n",
    "    print(\"Welocome to store!\")\n",
    "else:\n",
    "    print(\"I do not know much.\")\n"
   ]
  },
  {
   "cell_type": "code",
   "execution_count": 12,
   "metadata": {},
   "outputs": [
    {
     "name": "stdout",
     "output_type": "stream",
     "text": [
      "Hello aj\n"
     ]
    }
   ],
   "source": [
    "name = 'aj'\n",
    "if name=='frankie':\n",
    "    print(\"Hello Frankie!\")\n",
    "elif name=='aj':\n",
    "    print(\"Hello aj\")\n",
    "else:\n",
    "    print(\"What is your name bro!\")"
   ]
  },
  {
   "cell_type": "code",
   "execution_count": 13,
   "metadata": {},
   "outputs": [
    {
     "name": "stdout",
     "output_type": "stream",
     "text": [
      "Hello Frankie!\n"
     ]
    }
   ],
   "source": [
    "name = 'frankie'\n",
    "if name=='frankie':\n",
    "    print(\"Hello Frankie!\")\n",
    "elif name=='aj':\n",
    "    print(\"Hello aj\")\n",
    "else:\n",
    "    print(\"What is your name bro!\")"
   ]
  },
  {
   "cell_type": "code",
   "execution_count": 14,
   "metadata": {},
   "outputs": [
    {
     "name": "stdout",
     "output_type": "stream",
     "text": [
      "What is your name bro!\n"
     ]
    }
   ],
   "source": [
    "name = 'grey'\n",
    "if name=='frankie':\n",
    "    print(\"Hello Frankie!\")\n",
    "elif name=='aj':\n",
    "    print(\"Hello aj\")\n",
    "else:\n",
    "    print(\"What is your name bro!\")"
   ]
  },
  {
   "cell_type": "markdown",
   "metadata": {},
   "source": [
    "# here problem is we are not able to check many conditions in one cell means we should take user input see in next session"
   ]
  },
  {
   "cell_type": "code",
   "execution_count": null,
   "metadata": {},
   "outputs": [],
   "source": []
  }
 ],
 "metadata": {
  "kernelspec": {
   "display_name": "Python 3",
   "language": "python",
   "name": "python3"
  },
  "language_info": {
   "codemirror_mode": {
    "name": "ipython",
    "version": 3
   },
   "file_extension": ".py",
   "mimetype": "text/x-python",
   "name": "python",
   "nbconvert_exporter": "python",
   "pygments_lexer": "ipython3",
   "version": "3.8.3"
  }
 },
 "nbformat": 4,
 "nbformat_minor": 4
}
