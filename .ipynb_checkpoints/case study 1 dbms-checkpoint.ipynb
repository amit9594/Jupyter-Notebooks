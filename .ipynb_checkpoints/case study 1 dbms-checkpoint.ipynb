{
 "cells": [
  {
   "cell_type": "code",
   "execution_count": 1,
   "metadata": {},
   "outputs": [],
   "source": [
    "def student_details():\n",
    "    out = True\n",
    "    while True:\n",
    "        name = input(\"Enter  name: \")\n",
    "        #roll = input(\"Enter your roll: \")\n",
    "        contact = input(\"Enter contact number: \")\n",
    "        address = input(\"Enter current address: \")\n",
    "        city = input(\"Enter city name: \")\n",
    "        f = open('dbms1.txt','a')\n",
    "        f.write(f'\\nupdated student details are : \\n\\nname : {name} \\nroll number : {roll} \\ncontact number : {contact}\\ncurrent address : {address}\\ncity name : {city}')\n",
    "        f.close()\n",
    "        display_details()\n",
    "        #stop = 'wrong'\n",
    "        #while stop not in ['Yes','No']:\n",
    "         #   stop = input('Do you want to conitnue to add details of new student or not choose(Yes / No): ')\n",
    "        \n",
    "       # if stop == 'Yes':\n",
    "        #    display_details()\n",
    "        #elif stop == 'No':\n",
    "         #   break"
   ]
  },
  {
   "cell_type": "code",
   "execution_count": 2,
   "metadata": {},
   "outputs": [],
   "source": [
    "def contact():\n",
    "    contact = ''\n",
    "    while contact.isdigit() == False:\n",
    "        contact = input(\"Enter contact number: \")\n",
    "    \n",
    "    \n",
    "    with open('dbms1.txt','a') as f:\n",
    "\n",
    "        f.write(f'\\nUpdated contact is: {int(contact)}')\n",
    "        f.close()"
   ]
  },
  {
   "cell_type": "code",
   "execution_count": 3,
   "metadata": {},
   "outputs": [],
   "source": [
    "def name():\n",
    "    name = input(\"Enter correct name: \")\n",
    "    \n",
    "    \n",
    "    with open('dbms1.txt','a') as f:\n",
    "\n",
    "        f.write(f'\\nUpdated name is: {name}')\n",
    "        f.close()"
   ]
  },
  {
   "cell_type": "code",
   "execution_count": 4,
   "metadata": {},
   "outputs": [],
   "source": [
    "def address():\n",
    "    address = input(\"Enter your current address: \")\n",
    "    \n",
    "    \n",
    "    with open('dbms1.txt','a') as f:\n",
    "\n",
    "        f.write(f'\\nUpdated address is: {address}')\n",
    "        f.close()"
   ]
  },
  {
   "cell_type": "code",
   "execution_count": 5,
   "metadata": {},
   "outputs": [],
   "source": [
    "def city():\n",
    "    city = input(\"Enter your city name: \")\n",
    "    \n",
    "    #print(f'Updated city name is: {city}')\n",
    "    with open('dbms1.txt','a') as f:\n",
    "\n",
    "        f.write(f'Updated city name is: {city}')\n",
    "        f.close()"
   ]
  },
  {
   "cell_type": "code",
   "execution_count": 6,
   "metadata": {},
   "outputs": [],
   "source": [
    "def roll():\n",
    "    choice = ''\n",
    "    \n",
    "    while choice not in range(0,61):\n",
    "        choice = int(input('Please Enter  Roll No: '))\n",
    "        \n",
    "        if choice not in range(0,61):\n",
    "            print('Sorry,Please Enter a valid Roll No: ')\n",
    "    roll_no = choice\n",
    "    \n",
    "    #return roll_no\n",
    "    with open('dbms1.txt','a') as f:\n",
    "        f.write(f'\\n roll number is: {roll_no} ')\n",
    "        f.close()"
   ]
  },
  {
   "cell_type": "code",
   "execution_count": null,
   "metadata": {},
   "outputs": [],
   "source": []
  },
  {
   "cell_type": "code",
   "execution_count": 7,
   "metadata": {},
   "outputs": [],
   "source": [
    "def modify():\n",
    "    update_roll = int(input('please Enter a roll number to update his/her datails: '))\n",
    "    print(f'\\nTO update details of roll no :  {update_roll} , please choose following options: ')\n",
    "    op = int(input(\"1)Add student deatils if you want to update all \\n2)modify name \\n3)modify contact \\n4)modify address \\n5)modify city name\"))\n",
    "    \n",
    "    if op == 1:\n",
    "        student_details()\n",
    "    elif op == 2:\n",
    "        name()\n",
    "    elif op ==  3:\n",
    "        contact()\n",
    "    elif op == 4:\n",
    "        address()\n",
    "    elif op == 5:\n",
    "        city()\n",
    "    else:\n",
    "        print(\"Enter a valid option\")\n",
    "        \n",
    "    with open('dbms1.txt','a') as f:\n",
    "        f.write('')\n",
    "        f.close()"
   ]
  },
  {
   "cell_type": "code",
   "execution_count": 8,
   "metadata": {},
   "outputs": [],
   "source": [
    "#modify()"
   ]
  },
  {
   "cell_type": "code",
   "execution_count": 9,
   "metadata": {},
   "outputs": [],
   "source": [
    "#modify()"
   ]
  },
  {
   "cell_type": "raw",
   "metadata": {},
   "source": [
    "def add_new():\n",
    "    again = 'wrong'\n",
    "    \n",
    "    while again not in ('Yes','No'):\n",
    "        again = input('Do you want to add new student details confirm: ')\n",
    "    \n",
    "    if again == 'Yes':\n",
    "        display_details()\n",
    "    elif again == 'No':\n",
    "        return False\n",
    "        "
   ]
  },
  {
   "cell_type": "raw",
   "metadata": {},
   "source": [
    "def update():\n",
    "    \n",
    "    updates = 'wrong'\n",
    "    while updates not in ('Yes','No'):\n",
    "        again = input('Do you want to update student details: ')\n",
    "    \n",
    "    if updates == 'Yes':\n",
    "        modify()\n",
    "    elif again == 'No':\n",
    "        return False\n",
    "        "
   ]
  },
  {
   "cell_type": "code",
   "execution_count": 15,
   "metadata": {},
   "outputs": [],
   "source": [
    "def display_details():\n",
    "    \n",
    "    new = True\n",
    "    while new:\n",
    "        replay = 'wrong'\n",
    "        while replay not in ['ADD','UPDATE','No']:\n",
    "            replay = input(\"DO YOU WANT TO ADD NEW DETAILS / UPDATE PREVIOUS DATA? CHOOSE ADD/UPDATE/No \")\n",
    "\n",
    "        if replay == 'ADD':\n",
    "            Roll_No = []\n",
    "            Name = []\n",
    "            Address = []\n",
    "            City = []\n",
    "            Mobile_No = []\n",
    "            \n",
    "            print('\\n')\n",
    "            print('Roll_No' + '   ' + 'Name' + '                      ' + 'Address' + '                                                           ' + 'City' + '        '+ 'Mobile_No')\n",
    "\n",
    "            #for i in range(0,61):\n",
    "            #i = 0    \n",
    "\n",
    "            Roll_No.append(int(input('Enter roll no: ')))\n",
    "            Name.append(input('Please Enter name: '))\n",
    "            Address.append(input('Please Enter Address: '))\n",
    "            City.append(input('Please Enter city name: '))\n",
    "            Mobile_No.append(int(input('Please enter contact number: ')))\n",
    "\n",
    "            #i += 1\n",
    "\n",
    "            print(Roll_No  + Name  + Address + City  + Mobile_No )\n",
    "            print('\\n\\n')\n",
    "\n",
    "        elif replay == 'UPDATE':\n",
    "            modify()\n",
    "        elif replay == 'No':\n",
    "            break\n",
    "        \n",
    "        \n",
    "    \n",
    "    with open('dbms1.txt','a') as f:\n",
    "        f.write(f'\\nROll No: {Roll_No}  + \\nname: {Name}  + \\naddress: {Address} + \\ncity: {City } + \\nmobile_no: {Mobile_No}')\n",
    "        f.close()\n",
    "    "
   ]
  },
  {
   "cell_type": "code",
   "execution_count": 16,
   "metadata": {},
   "outputs": [
    {
     "name": "stdout",
     "output_type": "stream",
     "text": [
      "DO YOU WANT TO ADD NEW DETAILS / UPDATE PREVIOUS DATA? CHOOSE ADD/UPDATE/No ADD\n",
      "\n",
      "\n",
      "Roll_No   Name                      Address                                                           City        Mobile_No\n",
      "Enter roll no: 12\n",
      "Please Enter name: fs\n",
      "Please Enter Address: gd\n",
      "Please Enter city name: fs\n",
      "Please enter contact number: 24424\n",
      "[12, 'fs', 'gd', 'fs', 24424]\n",
      "\n",
      "\n",
      "\n",
      "DO YOU WANT TO ADD NEW DETAILS / UPDATE PREVIOUS DATA? CHOOSE ADD/UPDATE/No No\n"
     ]
    }
   ],
   "source": [
    "display_details()"
   ]
  },
  {
   "cell_type": "code",
   "execution_count": 12,
   "metadata": {},
   "outputs": [
    {
     "name": "stdout",
     "output_type": "stream",
     "text": [
      "DO YOU WANT TO ADD NEW DETAILS / UPDATE PREVIOUS DATA? CHOOSE ADD/UPDATE/No No\n"
     ]
    },
    {
     "ename": "UnboundLocalError",
     "evalue": "local variable 'Roll_No' referenced before assignment",
     "output_type": "error",
     "traceback": [
      "\u001b[1;31m---------------------------------------------------------------------------\u001b[0m",
      "\u001b[1;31mUnboundLocalError\u001b[0m                         Traceback (most recent call last)",
      "\u001b[1;32m<ipython-input-12-0aac0d79185a>\u001b[0m in \u001b[0;36m<module>\u001b[1;34m\u001b[0m\n\u001b[1;32m----> 1\u001b[1;33m \u001b[0mdisplay_details\u001b[0m\u001b[1;33m(\u001b[0m\u001b[1;33m)\u001b[0m\u001b[1;33m\u001b[0m\u001b[1;33m\u001b[0m\u001b[0m\n\u001b[0m",
      "\u001b[1;32m<ipython-input-10-c6cca35af2f1>\u001b[0m in \u001b[0;36mdisplay_details\u001b[1;34m()\u001b[0m\n\u001b[0;32m     39\u001b[0m \u001b[1;33m\u001b[0m\u001b[0m\n\u001b[0;32m     40\u001b[0m     \u001b[1;32mwith\u001b[0m \u001b[0mopen\u001b[0m\u001b[1;33m(\u001b[0m\u001b[1;34m'dbms1.txt'\u001b[0m\u001b[1;33m,\u001b[0m\u001b[1;34m'a'\u001b[0m\u001b[1;33m)\u001b[0m \u001b[1;32mas\u001b[0m \u001b[0mf\u001b[0m\u001b[1;33m:\u001b[0m\u001b[1;33m\u001b[0m\u001b[1;33m\u001b[0m\u001b[0m\n\u001b[1;32m---> 41\u001b[1;33m         \u001b[0mf\u001b[0m\u001b[1;33m.\u001b[0m\u001b[0mwrite\u001b[0m\u001b[1;33m(\u001b[0m\u001b[1;34mf'{Roll_No}  + {Name}  + {Address} + {City } + {Mobile_No}'\u001b[0m\u001b[1;33m)\u001b[0m\u001b[1;33m\u001b[0m\u001b[1;33m\u001b[0m\u001b[0m\n\u001b[0m\u001b[0;32m     42\u001b[0m         \u001b[0mf\u001b[0m\u001b[1;33m.\u001b[0m\u001b[0mclose\u001b[0m\u001b[1;33m(\u001b[0m\u001b[1;33m)\u001b[0m\u001b[1;33m\u001b[0m\u001b[1;33m\u001b[0m\u001b[0m\n\u001b[0;32m     43\u001b[0m \u001b[1;33m\u001b[0m\u001b[0m\n",
      "\u001b[1;31mUnboundLocalError\u001b[0m: local variable 'Roll_No' referenced before assignment"
     ]
    }
   ],
   "source": [
    "display_details()"
   ]
  },
  {
   "cell_type": "code",
   "execution_count": null,
   "metadata": {},
   "outputs": [],
   "source": []
  },
  {
   "cell_type": "code",
   "execution_count": null,
   "metadata": {},
   "outputs": [],
   "source": []
  }
 ],
 "metadata": {
  "kernelspec": {
   "display_name": "Python 3",
   "language": "python",
   "name": "python3"
  },
  "language_info": {
   "codemirror_mode": {
    "name": "ipython",
    "version": 3
   },
   "file_extension": ".py",
   "mimetype": "text/x-python",
   "name": "python",
   "nbconvert_exporter": "python",
   "pygments_lexer": "ipython3",
   "version": "3.8.3"
  }
 },
 "nbformat": 4,
 "nbformat_minor": 4
}
