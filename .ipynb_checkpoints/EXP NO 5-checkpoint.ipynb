{
 "cells": [
  {
   "cell_type": "markdown",
   "metadata": {},
   "source": [
    "# 1) Python program to append data to existing file and then display the entire file"
   ]
  },
  {
   "cell_type": "code",
   "execution_count": null,
   "metadata": {},
   "outputs": [],
   "source": []
  },
  {
   "cell_type": "code",
   "execution_count": 18,
   "metadata": {},
   "outputs": [
    {
     "name": "stdout",
     "output_type": "stream",
     "text": [
      "Writing new_python_file.txt\n"
     ]
    }
   ],
   "source": [
    "%%writefile new_python_file.txt\n",
    "Hello , here is exp no.05\n"
   ]
  },
  {
   "cell_type": "code",
   "execution_count": 2,
   "metadata": {},
   "outputs": [
    {
     "name": "stdout",
     "output_type": "stream",
     "text": [
      "Enter filename: fileone.txt\n",
      "Choose option: \n",
      "1.Append data \n",
      "2.Display data\n",
      "2\n",
      "ONE FILE\n",
      "here is my exp 5\n"
     ]
    }
   ],
   "source": [
    "filename = input('Enter filename: ')\n",
    "choice = input('Choose option: \\n1.Append data \\n2.Display data\\n')\n",
    "\n",
    "if int(choice) == 1:\n",
    "    with open(filename,'a') as f:\n",
    "        f.write('\\n')\n",
    "        f.write(input(\"Data: \"))\n",
    "elif int(choice) == 2:\n",
    "       with open(filename,'r') as f:\n",
    "            content= f.read()\n",
    "            print(content)\n",
    "else:\n",
    "    print('WRONG INPUT!')"
   ]
  },
  {
   "cell_type": "markdown",
   "metadata": {},
   "source": [
    "# 2) Python program to count number of lines , words, characters in a file"
   ]
  },
  {
   "cell_type": "code",
   "execution_count": 3,
   "metadata": {},
   "outputs": [
    {
     "name": "stdout",
     "output_type": "stream",
     "text": [
      "Enter filename: fileone.txt\n",
      "['ONE FILE', 'here is my exp 5']\n",
      "\n",
      "Number of lines: 2 \n",
      "\n",
      "['ONE', 'FILE', 'here', 'is', 'my', 'exp', '5']\n",
      "\n",
      "Number of words: 7 \n",
      "\n",
      "['O', 'N', 'E', 'F', 'I', 'L', 'E', 'h', 'e', 'r', 'e', 'i', 's', 'm', 'y', 'e', 'x', 'p', '5']\n",
      "\n",
      "Number of characters: 19 \n",
      "\n"
     ]
    }
   ],
   "source": [
    "filename = input('Enter filename: ')\n",
    "lst = []\n",
    "count = 0\n",
    "word_list = []\n",
    "words = 0\n",
    "char_list = []\n",
    "out = 0\n",
    "with open(filename,'r') as f:\n",
    "    for line in f.read().split('\\n'):\n",
    "        lst.append(line)\n",
    "        \n",
    "    f.seek(0)\n",
    "    for word in f.read().split():\n",
    "        #if word not in word.isdecimal():\n",
    "            word_list.append(word)\n",
    "    f.seek(0)\n",
    "    for char in f.read():\n",
    "        if char.isspace() == False:\n",
    "            char_list.append(char)\n",
    "        \n",
    "for ele in lst:\n",
    "    count += 1\n",
    "for item in word_list:\n",
    "    words += 1\n",
    "for character in char_list:\n",
    "    out += 1\n",
    "print(lst)\n",
    "print(f'\\nNumber of lines: {count} \\n')\n",
    "print(word_list)\n",
    "print(f'\\nNumber of words: {words} \\n')\n",
    "print(char_list)\n",
    "print(f'\\nNumber of characters: {out} \\n')"
   ]
  },
  {
   "cell_type": "markdown",
   "metadata": {},
   "source": [
    "# 3) python program to display file available in current directory"
   ]
  },
  {
   "cell_type": "code",
   "execution_count": 150,
   "metadata": {},
   "outputs": [
    {
     "data": {
      "text/plain": [
       "'C:\\\\Users\\\\user1\\\\python 3'"
      ]
     },
     "execution_count": 150,
     "metadata": {},
     "output_type": "execute_result"
    }
   ],
   "source": [
    "pwd"
   ]
  },
  {
   "cell_type": "code",
   "execution_count": 6,
   "metadata": {},
   "outputs": [],
   "source": [
    "import os"
   ]
  },
  {
   "cell_type": "code",
   "execution_count": 7,
   "metadata": {},
   "outputs": [
    {
     "data": {
      "text/plain": [
       "'C:\\\\Users\\\\user1\\\\python 3'"
      ]
     },
     "execution_count": 7,
     "metadata": {},
     "output_type": "execute_result"
    }
   ],
   "source": [
    "os.getcwd()"
   ]
  },
  {
   "cell_type": "code",
   "execution_count": 9,
   "metadata": {},
   "outputs": [
    {
     "name": "stdout",
     "output_type": "stream",
     "text": [
      "Enter filename: fileone.txt\n",
      "\n",
      "fileone.txt : This file is available in current directory\n"
     ]
    }
   ],
   "source": [
    "filename = input('Enter filename: ')\n",
    "\n",
    "if filename in os.listdir():\n",
    "    print(f'\\n{filename} : This file is available in current directory')\n",
    "else:\n",
    "    print(f'\\n{filename} : This file is not available in current directory')"
   ]
  },
  {
   "cell_type": "code",
   "execution_count": null,
   "metadata": {},
   "outputs": [],
   "source": []
  }
 ],
 "metadata": {
  "kernelspec": {
   "display_name": "Python 3",
   "language": "python",
   "name": "python3"
  },
  "language_info": {
   "codemirror_mode": {
    "name": "ipython",
    "version": 3
   },
   "file_extension": ".py",
   "mimetype": "text/x-python",
   "name": "python",
   "nbconvert_exporter": "python",
   "pygments_lexer": "ipython3",
   "version": "3.8.3"
  }
 },
 "nbformat": 4,
 "nbformat_minor": 4
}
