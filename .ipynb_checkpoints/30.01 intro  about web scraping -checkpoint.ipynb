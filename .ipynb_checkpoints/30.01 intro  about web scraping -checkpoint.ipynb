{
 "cells": [
  {
   "cell_type": "raw",
   "metadata": {},
   "source": [
    "# basic things which need to understand for web scraping\n",
    "\n",
    "1) Rules of web scraping\n",
    "2) Limitations of web scraping\n",
    "3) Basic of HTML and CSS"
   ]
  },
  {
   "cell_type": "raw",
   "metadata": {},
   "source": [
    "1) Rules of web sracping\n",
    "\n",
    "-- Always try to get permission before scraping!\n",
    "-- If you make too many scraping attempts or requests your IP Address could get blocked!\n",
    "-- Some sites automatically block scraping software."
   ]
  },
  {
   "cell_type": "raw",
   "metadata": {},
   "source": [
    "2) Limitations oweb sraping \n",
    "\n",
    "-- In general every website is unique, which means every web scraping sript is unique .\n",
    "-- A slight change or update to a website may completely break your web scraping sript."
   ]
  },
  {
   "cell_type": "raw",
   "metadata": {},
   "source": [
    "3) HTML : basic structure{\n",
    "\n",
    "<!DOCTYPE html>  \n",
    "<html>  \n",
    "    <head>\n",
    "        <title>Title on Browser Tab</title>\n",
    "    </head>\n",
    "    <body>\n",
    "        <h1> Website Header </h1>\n",
    "        <p> Some Paragraph </p>\n",
    "    <body>\n",
    "</html>\n",
    "}\n",
    "\n",
    "   css  : design and style of webpage \n",
    "   js   : is used to defined the interactive elements of           a webpage.\n",
    "    "
   ]
  },
  {
   "cell_type": "raw",
   "metadata": {},
   "source": [
    "# we only need to learn HTML and CSS in depth so python can view these HTML and CSS elements programmatically and then extract information from the website."
   ]
  },
  {
   "cell_type": "raw",
   "metadata": {},
   "source": [
    "# so if we want to grab information inside html tags such as paragraphs etc so we will take help of python"
   ]
  },
  {
   "cell_type": "raw",
   "metadata": {},
   "source": [
    "CSS:\n",
    "    \n",
    "    -- CSS stands for cascading style sheets.\n",
    "    -- CSS gives \"style\" to aa website , such as              changing colors and fonts.\n",
    "    -- CSS uses tags to define what html elements will        be styles."
   ]
  },
  {
   "cell_type": "raw",
   "metadata": {},
   "source": [
    "# EXAMPLE OF style.CSS this css file is link with html:\n",
    "\n",
    "# ID:\n",
    "#para2 {\n",
    "color : red;\n",
    "}\n",
    "\n",
    "# and hash tag (#) donotes that it is a para2 is a ID\n",
    " whatever content inside in para2 will be colored as red which is link html by css\n",
    "# it stores as dictionary such as key and its value"
   ]
  },
  {
   "cell_type": "raw",
   "metadata": {},
   "source": [
    "# class\n",
    " it is used when you want to add the same style to multiple elements across each element file\n",
    "\n",
    "it is denoted by dot(.name of class) {\n",
    "content\n",
    "}\n",
    "example:\n",
    "    \n",
    "    .cool{\n",
    "        color: red;\n",
    "        font-family : verdana;\n",
    "    }\n",
    "so ID's are one use and classes are multiple use"
   ]
  },
  {
   "cell_type": "raw",
   "metadata": {},
   "source": [
    "CSS exapmle:\n",
    "    \n",
    "p{\n",
    "    color:red;\n",
    "    font-family : courier;\n",
    "    font-size; 160%;\n",
    "}\n",
    ".someclass{\n",
    "    color:green;\n",
    "    font-family :verdana;\n",
    "    font-size: 300%;\n",
    "    \n",
    "}\n",
    "#someid{\n",
    "color: blue;\n",
    "}\n",
    "\n",
    "so here 'p' is a css paragraph tag that all paragraph style as color red then font cuorier then size will be 160\n",
    "\n",
    "\n",
    "and also can use css class to use for multiple one have style as green color verdana then 300 size \n",
    "\n",
    "or if u change style of one element so use ID so here it changes only color as blue"
   ]
  },
  {
   "cell_type": "raw",
   "metadata": {},
   "source": [
    "Main ideas to note:\n",
    "    \n",
    "    -- HTML contain the information\n",
    "    -- CSS contains the styling\n",
    "    -- We can use HTML and CSS tags to locate specific        information on a page"
   ]
  },
  {
   "cell_type": "raw",
   "metadata": {},
   "source": [
    "INSTALL BeautifulSoup and requests libraries \n",
    "\n",
    "theese are exteranal lib install using either conda or pip at ur command line"
   ]
  },
  {
   "cell_type": "raw",
   "metadata": {},
   "source": [
    "directly at your command line use:\n",
    "    \n",
    "    -- pip install requests\n",
    "    -- pip install lxml\n",
    "    -- pip install bs4\n",
    "    \n",
    "-- or for Anaconda distributions, use conda install instead of pip install."
   ]
  },
  {
   "cell_type": "code",
   "execution_count": 2,
   "metadata": {},
   "outputs": [],
   "source": [
    "# so to install requests and lxml and bs4 lib go to anaconda probmt write above commands and install it  "
   ]
  },
  {
   "cell_type": "code",
   "execution_count": null,
   "metadata": {},
   "outputs": [],
   "source": []
  }
 ],
 "metadata": {
  "kernelspec": {
   "display_name": "Python 3",
   "language": "python",
   "name": "python3"
  },
  "language_info": {
   "codemirror_mode": {
    "name": "ipython",
    "version": 3
   },
   "file_extension": ".py",
   "mimetype": "text/x-python",
   "name": "python",
   "nbconvert_exporter": "python",
   "pygments_lexer": "ipython3",
   "version": "3.8.3"
  }
 },
 "nbformat": 4,
 "nbformat_minor": 4
}
