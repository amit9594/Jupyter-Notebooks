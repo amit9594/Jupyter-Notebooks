{
 "cells": [
  {
   "cell_type": "code",
   "execution_count": 1,
   "metadata": {},
   "outputs": [],
   "source": [
    "# write a program that accepts two string as input and find the string with max length "
   ]
  },
  {
   "cell_type": "code",
   "execution_count": 9,
   "metadata": {},
   "outputs": [
    {
     "name": "stdout",
     "output_type": "stream",
     "text": [
      "Enter a string 1: hello\n",
      "Enter a string 2: hello aj\n",
      "This string ....hello aj.... has max length which is 8\n"
     ]
    }
   ],
   "source": [
    "s1 = input('Enter a string 1: ')\n",
    "s2 = input(\"Enter a string 2: \")\n",
    "\n",
    "l1 = len(s1)\n",
    "l2 = len(s2)\n",
    "\n",
    "if l1==l2:\n",
    "    print(\"both string is of same length which is {l1}\")\n",
    "elif l1>l2:\n",
    "    print(f\"This string ....{s1}.... has max length which is {l1}\")\n",
    "else:\n",
    "    print(f\"This string ....{s2}.... has max length which is {l2}\")"
   ]
  },
  {
   "cell_type": "code",
   "execution_count": 11,
   "metadata": {},
   "outputs": [],
   "source": [
    "# write a python program to print dictionary where keys are no's between 1 and 20(both included) & values are square of keys"
   ]
  },
  {
   "cell_type": "code",
   "execution_count": 12,
   "metadata": {},
   "outputs": [
    {
     "data": {
      "text/plain": [
       "{1: 1,\n",
       " 2: 4,\n",
       " 3: 9,\n",
       " 4: 16,\n",
       " 5: 25,\n",
       " 6: 36,\n",
       " 7: 49,\n",
       " 8: 64,\n",
       " 9: 81,\n",
       " 10: 100,\n",
       " 11: 121,\n",
       " 12: 144,\n",
       " 13: 169,\n",
       " 14: 196,\n",
       " 15: 225,\n",
       " 16: 256,\n",
       " 17: 289,\n",
       " 18: 324,\n",
       " 19: 361,\n",
       " 20: 400}"
      ]
     },
     "execution_count": 12,
     "metadata": {},
     "output_type": "execute_result"
    }
   ],
   "source": [
    "{x:x**2 for x in range(1,21)}"
   ]
  },
  {
   "cell_type": "code",
   "execution_count": 13,
   "metadata": {},
   "outputs": [],
   "source": [
    "# write a python program to implement object oriented programming concept like classes,encapsulation,inheritance and multiple inheritance"
   ]
  },
  {
   "cell_type": "code",
   "execution_count": 51,
   "metadata": {},
   "outputs": [],
   "source": [
    "class Maths:\n",
    "    def __init__(self,base=0,height=0):\n",
    "        \n",
    "        self.base = base\n",
    "        self.height = height\n",
    "    \n",
    "    def Area_triangle(self):\n",
    "        '''\n",
    "        1/2 * base * height\n",
    "        '''\n",
    "        return 0.5 * self.base * self.height\n",
    "    \n",
    "    def perimeter_tri(self,side1,side2):\n",
    "        '''\n",
    "        base is already taken from sepacial method so here only we have to take other two sides to find perimeter\n",
    "        a + b + c\n",
    "        '''\n",
    "        return self.base + side1 + side2\n",
    "    \n",
    "    def area_equilateral_tri(self,side):\n",
    "        '''\n",
    "        round upto 2 decimal \n",
    "        sqrt(3)/4 * side^2\n",
    "        '''\n",
    "        return round((3**0.5 / 4) * side**2 , 2)\n",
    "    \n",
    "    '''\n",
    "    sqrt(s(s-a)(s-b)(s-c))   inherit this using perimeter \n",
    "    '''\n",
    "    \n",
    "        "
   ]
  },
  {
   "cell_type": "code",
   "execution_count": 52,
   "metadata": {},
   "outputs": [],
   "source": [
    "math = Maths(1,2)"
   ]
  },
  {
   "cell_type": "code",
   "execution_count": 54,
   "metadata": {},
   "outputs": [
    {
     "data": {
      "text/plain": [
       "1.0"
      ]
     },
     "execution_count": 54,
     "metadata": {},
     "output_type": "execute_result"
    }
   ],
   "source": [
    "math.Area_triangle()"
   ]
  },
  {
   "cell_type": "code",
   "execution_count": 55,
   "metadata": {},
   "outputs": [
    {
     "data": {
      "text/plain": [
       "6"
      ]
     },
     "execution_count": 55,
     "metadata": {},
     "output_type": "execute_result"
    }
   ],
   "source": [
    "math.perimeter_tri(2,3)"
   ]
  },
  {
   "cell_type": "code",
   "execution_count": 56,
   "metadata": {},
   "outputs": [
    {
     "data": {
      "text/plain": [
       "10.83"
      ]
     },
     "execution_count": 56,
     "metadata": {},
     "output_type": "execute_result"
    }
   ],
   "source": [
    "math.area_equilateral_tri(5)"
   ]
  },
  {
   "cell_type": "markdown",
   "metadata": {},
   "source": []
  }
 ],
 "metadata": {
  "kernelspec": {
   "display_name": "Python 3",
   "language": "python",
   "name": "python3"
  },
  "language_info": {
   "codemirror_mode": {
    "name": "ipython",
    "version": 3
   },
   "file_extension": ".py",
   "mimetype": "text/x-python",
   "name": "python",
   "nbconvert_exporter": "python",
   "pygments_lexer": "ipython3",
   "version": "3.8.3"
  }
 },
 "nbformat": 4,
 "nbformat_minor": 4
}
