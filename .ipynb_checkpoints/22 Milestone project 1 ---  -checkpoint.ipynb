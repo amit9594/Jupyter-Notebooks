{
 "cells": [
  {
   "cell_type": "markdown",
   "metadata": {},
   "source": [
    "# Milestone Project 1: Walkthrough Steps Workbook"
   ]
  },
  {
   "cell_type": "raw",
   "metadata": {},
   "source": [
    "Below is a set of steps for you to follow to try to create the Tic Tac Toe Milestone Project game!"
   ]
  },
  {
   "cell_type": "raw",
   "metadata": {},
   "source": [
    "Some suggested tools before you get started:"
   ]
  },
  {
   "cell_type": "raw",
   "metadata": {},
   "source": [
    "To take input from a user:\n",
    "\n",
    "player1 = input(\"Please pick a marker 'X' or 'O'\")\n",
    "\n",
    "Note that input() takes in a string. If you need an integer value, use\n",
    "\n",
    "position = int(input('Please enter a number'))\n",
    "\n",
    "\n",
    "To clear the screen between moves:\n",
    "\n",
    "from IPython.display import clear_output\n",
    "clear_output()\n",
    "\n",
    "Note that clear_output() will only work in jupyter. To clear the screen in other IDEs, consider:\n",
    "\n",
    "print('\\n'*100)\n",
    "\n",
    "This scrolls the previous board up out of view. Now on to the program!"
   ]
  },
  {
   "cell_type": "markdown",
   "metadata": {},
   "source": [
    "# Step 1: Write a function that can print out a board. Set up your board as a list, where each index 1-9 corresponds with a number on a number pad, so you get a 3 by 3 board representation.\n"
   ]
  },
  {
   "cell_type": "code",
   "execution_count": 1,
   "metadata": {},
   "outputs": [],
   "source": [
    "from IPython.display import clear_output\n",
    "\n",
    "list1 = ['' , '', '' ]\n",
    "list2 = ['' , '', '' ]\n",
    "list3 = ['' , '', '']\n",
    "board = ['1','2','3','4','5','6','7','8','9']\n",
    "\n",
    "\n",
    "\n",
    "def display_board(board):\n",
    "    list1[0] = board[0]\n",
    "    list1[1] = board[1]\n",
    "    list1[2] = board[2]\n",
    "    list2[0] = board[3]\n",
    "    list2[1] = board[4]\n",
    "    list2[2] = board[5]\n",
    "    list3[0] = board[6]\n",
    "    list3[1] = board[7]\n",
    "    list3[2] = board[8]\n",
    "\n",
    "    print(list1)\n",
    "    print(list2)\n",
    "    print(list3)\n",
    "    "
   ]
  },
  {
   "cell_type": "code",
   "execution_count": 2,
   "metadata": {},
   "outputs": [
    {
     "name": "stdout",
     "output_type": "stream",
     "text": [
      "['1', '2', '3']\n",
      "['4', '5', '6']\n",
      "['7', '8', '9']\n"
     ]
    }
   ],
   "source": [
    "display_board(board)"
   ]
  },
  {
   "cell_type": "code",
   "execution_count": 3,
   "metadata": {},
   "outputs": [
    {
     "name": "stdout",
     "output_type": "stream",
     "text": [
      "['#', 'X', 'O']\n",
      "['X', 'O', 'X']\n",
      "['O', 'X', 'O']\n"
     ]
    }
   ],
   "source": [
    "board = ['#','X','O','X','O','X','O','X','O','X']\n",
    "display_board(board)"
   ]
  },
  {
   "cell_type": "code",
   "execution_count": 4,
   "metadata": {},
   "outputs": [],
   "source": [
    "# but we don't want like list o/p we want tic tac toe board so see how to do that next"
   ]
  },
  {
   "cell_type": "markdown",
   "metadata": {},
   "source": []
  },
  {
   "cell_type": "code",
   "execution_count": 5,
   "metadata": {},
   "outputs": [],
   "source": [
    "\n",
    "def display_board(board):\n",
    "    \n",
    "      \n",
    "    print(board[7]+'|'+board[8]+'|'+board[9])\n",
    "    print(board[4]+'|'+board[5]+'|'+board[6])\n",
    "    print(board[1]+'|'+board[2]+'|'+board[3])"
   ]
  },
  {
   "cell_type": "code",
   "execution_count": 6,
   "metadata": {},
   "outputs": [
    {
     "name": "stdout",
     "output_type": "stream",
     "text": [
      "X|O|X\n",
      "O|X|O\n",
      "X|O|X\n",
      "X|O|X\n",
      "O|X|O\n",
      "X|O|X\n"
     ]
    }
   ],
   "source": [
    "board = ['#','X','O','X','O','X','O','X','O','X']\n",
    "display_board(board)\n",
    "display_board(board) # see here multiple output but we dont want this so use clear_output()"
   ]
  },
  {
   "cell_type": "markdown",
   "metadata": {},
   "source": [
    "# follw this one this is coorect acc to step 1\n",
    "here we accept the lsit to board and grab the value at each index to board and display it¶"
   ]
  },
  {
   "cell_type": "code",
   "execution_count": 7,
   "metadata": {},
   "outputs": [],
   "source": [
    "\n",
    "def display_board(board):\n",
    "    \n",
    "    # to clear prevoius outputs i.e if u ask to palyer to dispaly scrren have multiple history of outputs which is no use later so cear prevoius output\n",
    "    clear_output()\n",
    "    print(' | |')\n",
    "    print(board[7]+'|'+board[8]+'|'+board[9])\n",
    "    print(' | |')\n",
    "    print('------')\n",
    "    print(' | |')\n",
    "    print(board[4]+'|'+board[5]+'|'+board[6])\n",
    "    print(' | |')\n",
    "    print('------')\n",
    "    print(' | |')\n",
    "    print(board[1]+'|'+board[2]+'|'+board[3])\n",
    "    print(' | |')"
   ]
  },
  {
   "cell_type": "code",
   "execution_count": 8,
   "metadata": {},
   "outputs": [
    {
     "name": "stdout",
     "output_type": "stream",
     "text": [
      " | |\n",
      "X|O|X\n",
      " | |\n",
      "------\n",
      " | |\n",
      "O|X|O\n",
      " | |\n",
      "------\n",
      " | |\n",
      "X|O|X\n",
      " | |\n"
     ]
    }
   ],
   "source": [
    "display_board(board)"
   ]
  },
  {
   "cell_type": "code",
   "execution_count": null,
   "metadata": {},
   "outputs": [],
   "source": []
  },
  {
   "cell_type": "code",
   "execution_count": null,
   "metadata": {},
   "outputs": [],
   "source": []
  },
  {
   "cell_type": "code",
   "execution_count": null,
   "metadata": {},
   "outputs": [],
   "source": []
  },
  {
   "cell_type": "code",
   "execution_count": null,
   "metadata": {},
   "outputs": [],
   "source": []
  },
  {
   "cell_type": "code",
   "execution_count": 9,
   "metadata": {},
   "outputs": [],
   "source": [
    "# at very start of game the board will be empty look like"
   ]
  },
  {
   "cell_type": "code",
   "execution_count": 10,
   "metadata": {},
   "outputs": [
    {
     "name": "stdout",
     "output_type": "stream",
     "text": [
      " | |\n",
      " | | \n",
      " | |\n",
      "------\n",
      " | |\n",
      " | | \n",
      " | |\n",
      "------\n",
      " | |\n",
      " | | \n",
      " | |\n"
     ]
    }
   ],
   "source": [
    "board = [' ']*10  #see how to multiply same elemnts in list\n",
    "display_board(board)"
   ]
  },
  {
   "cell_type": "code",
   "execution_count": 11,
   "metadata": {},
   "outputs": [],
   "source": [
    "# if u want anythisng else to print in o/p like strcture design \n",
    "# see some design"
   ]
  },
  {
   "cell_type": "code",
   "execution_count": 12,
   "metadata": {},
   "outputs": [],
   "source": [
    "\n",
    "def display_design(board):\n",
    "    \n",
    "    print(board[7]+'|'+board[8]+'|'+board[9])\n",
    "    print('-|-|-')\n",
    "    print(board[4]+'|'+board[5]+'|'+board[6])\n",
    "    print(board[1]+'|'+board[2]+'|'+board[3])"
   ]
  },
  {
   "cell_type": "code",
   "execution_count": 13,
   "metadata": {},
   "outputs": [
    {
     "name": "stdout",
     "output_type": "stream",
     "text": [
      "X|O|X\n",
      "-|-|-\n",
      "O|X|O\n",
      "X|O|X\n"
     ]
    }
   ],
   "source": [
    "board = ['#','X','O','X','O','X','O','X','O','X']\n",
    "display_design(board)"
   ]
  },
  {
   "cell_type": "markdown",
   "metadata": {},
   "source": [
    "# Step 2: Write a function that can take in a player input and assign their marker as 'X' or 'O'. Think about using while loops to continually ask until you get a correct answer."
   ]
  },
  {
   "cell_type": "code",
   "execution_count": 14,
   "metadata": {},
   "outputs": [],
   "source": [
    "def player_input():\n",
    "    \n",
    "    choice = ''  # here jose were take variable as marker instead of choice\n",
    "    \n",
    "   \n",
    "    \n",
    "    while choice not in ['X' , 'O']:     # u can write here as while choice!='X' and choice!='O'\n",
    "        \n",
    "        choice = input('player1 ,Please enter your choice from (X or O): ')\n",
    "        \n",
    "        if choice not in ['X',\"O\"]:\n",
    "            \n",
    "            print(\"sorry , please enter a valid marker : \")\n",
    "        \n",
    "    # end of while loop\n",
    "    \n",
    "    # assign choice to player1\n",
    "    \n",
    "    player1 = choice\n",
    "\n",
    "    # assign player2 with opposite value of player1\n",
    "    if choice == \"X\":            \n",
    "        player2 = \"O\"\n",
    "    else:\n",
    "        player2 = \"X\"\n",
    "        \n",
    "        \n",
    "    return (player1,player2)\n",
    "    \n",
    "   \n",
    "    \n",
    "    \n",
    "    \n",
    "    "
   ]
  },
  {
   "cell_type": "code",
   "execution_count": 15,
   "metadata": {},
   "outputs": [
    {
     "name": "stdout",
     "output_type": "stream",
     "text": [
      "player1 ,Please enter your choice from (X or O): knf\n",
      "sorry , please enter a valid marker : \n",
      "player1 ,Please enter your choice from (X or O): X\n"
     ]
    },
    {
     "data": {
      "text/plain": [
       "('X', 'O')"
      ]
     },
     "execution_count": 15,
     "metadata": {},
     "output_type": "execute_result"
    }
   ],
   "source": [
    "player_input()    # so see here we give input X then it assigns to player1 1st then it check if else condition outside while loop and assign player2 with oppo of player1"
   ]
  },
  {
   "cell_type": "code",
   "execution_count": 16,
   "metadata": {},
   "outputs": [
    {
     "name": "stdout",
     "output_type": "stream",
     "text": [
      "player1 ,Please enter your choice from (X or O): O\n"
     ]
    },
    {
     "data": {
      "text/plain": [
       "('O', 'X')"
      ]
     },
     "execution_count": 16,
     "metadata": {},
     "output_type": "execute_result"
    }
   ],
   "source": [
    "player_input() # see here now player1 have O and player two have choice of X"
   ]
  },
  {
   "cell_type": "code",
   "execution_count": 17,
   "metadata": {},
   "outputs": [
    {
     "name": "stdout",
     "output_type": "stream",
     "text": [
      "player1 ,Please enter your choice from (X or O): X\n"
     ]
    }
   ],
   "source": [
    "player1_marker , player2_marker = player_input()"
   ]
  },
  {
   "cell_type": "code",
   "execution_count": 18,
   "metadata": {},
   "outputs": [
    {
     "data": {
      "text/plain": [
       "'X'"
      ]
     },
     "execution_count": 18,
     "metadata": {},
     "output_type": "execute_result"
    }
   ],
   "source": [
    "player1_marker"
   ]
  },
  {
   "cell_type": "code",
   "execution_count": 19,
   "metadata": {},
   "outputs": [
    {
     "data": {
      "text/plain": [
       "'O'"
      ]
     },
     "execution_count": 19,
     "metadata": {},
     "output_type": "execute_result"
    }
   ],
   "source": [
    "player2_marker"
   ]
  },
  {
   "cell_type": "code",
   "execution_count": 20,
   "metadata": {},
   "outputs": [],
   "source": [
    "# method 2\n",
    "\n",
    "#see notes"
   ]
  },
  {
   "cell_type": "code",
   "execution_count": null,
   "metadata": {},
   "outputs": [],
   "source": []
  },
  {
   "cell_type": "code",
   "execution_count": null,
   "metadata": {},
   "outputs": [],
   "source": []
  },
  {
   "cell_type": "code",
   "execution_count": null,
   "metadata": {},
   "outputs": [],
   "source": []
  },
  {
   "cell_type": "markdown",
   "metadata": {},
   "source": [
    "# Step 3: Write a function that takes in the board list object, a marker ('X' or 'O'), and a desired position (number 1-9) and assigns it to the board."
   ]
  },
  {
   "cell_type": "raw",
   "metadata": {},
   "source": [
    "# this is wrong\n",
    "def place_marker(board, choice, position):\n",
    "    \n",
    "    display_board(board)\n",
    "    \n",
    "    player_input()\n",
    "    \n",
    "    index_position =''\n",
    "    \n",
    "    position_O =''\n",
    "    \n",
    "    while index_position not in [board]:\n",
    "        index_position=int(input('player1,Please select a position which u want to insert from(1-9): '))\n",
    "        board[index_position] = 'X'\n",
    "        position_O = int(input('player2,Please select a position which u want to insert from(1-9): '))\n",
    "        board[position_O] =\"O\"\n",
    "    \n",
    "    display_board(board)"
   ]
  },
  {
   "cell_type": "code",
   "execution_count": 21,
   "metadata": {},
   "outputs": [],
   "source": [
    "def place_marker(board ,marker , position):\n",
    "    \n",
    "    board[position] = marker"
   ]
  },
  {
   "cell_type": "code",
   "execution_count": 22,
   "metadata": {},
   "outputs": [
    {
     "name": "stdout",
     "output_type": "stream",
     "text": [
      " | |\n",
      "X|%|X\n",
      " | |\n",
      "------\n",
      " | |\n",
      "O|X|O\n",
      " | |\n",
      "------\n",
      " | |\n",
      "X|O|X\n",
      " | |\n"
     ]
    }
   ],
   "source": [
    "board = ['#','X','O','X','O','X','O','X','O','X']\n",
    "place_marker(board,'%',8)\n",
    "\n",
    "display_board(board)"
   ]
  },
  {
   "cell_type": "markdown",
   "metadata": {},
   "source": [
    "# Step 4: Write a function that takes in a board and a mark (X or O) and then checks to see if that mark has won."
   ]
  },
  {
   "cell_type": "code",
   "execution_count": 23,
   "metadata": {},
   "outputs": [],
   "source": [
    "def win_check(board, mark):\n",
    "    \n",
    "    if (board[1]==board[2]==board[3]==mark) or (board[4]==board[5]==board[6]==mark) or (board[7]==board[8]==board[9]==mark) or (board[1]==board[5]==board[9]==mark) or (board[7]==board[5]==board[3]==mark) or (board[1]==board[4]==board[7]==mark) or (board[2]==board[5]==board[8]==mark) or (board[5]==board[6]==board[9]==mark):\n",
    "        print(\"You won the match! \")\n",
    "        \n",
    "    # instead of if and print if u want onlytruw or false write return \n",
    "    # here in if statement we check for multiple possible won cases for all rows , columns , and digonal if there any one match it wons \n",
    "        \n",
    "    "
   ]
  },
  {
   "cell_type": "code",
   "execution_count": 24,
   "metadata": {},
   "outputs": [
    {
     "name": "stdout",
     "output_type": "stream",
     "text": [
      " | |\n",
      "X|%|X\n",
      " | |\n",
      "------\n",
      " | |\n",
      "O|X|O\n",
      " | |\n",
      "------\n",
      " | |\n",
      "X|O|X\n",
      " | |\n",
      "You won the match! \n"
     ]
    }
   ],
   "source": [
    "display_board(board)\n",
    "\n",
    "win_check(board , 'X')"
   ]
  },
  {
   "cell_type": "code",
   "execution_count": 25,
   "metadata": {},
   "outputs": [],
   "source": [
    "#see above o/p i.e digonal element are match so x won the match # see in notes"
   ]
  },
  {
   "cell_type": "markdown",
   "metadata": {},
   "source": [
    "# Step 5: Write a function that uses the random module to randomly decide which player goes first. You may want to lookup random.randint() Return a string of which player went first."
   ]
  },
  {
   "cell_type": "code",
   "execution_count": 26,
   "metadata": {},
   "outputs": [],
   "source": [
    "import random\n",
    "\n",
    "def choose_first():\n",
    "    \n",
    "    flip =  random.randint(0,1)\n",
    "    \n",
    "    if flip == 0:\n",
    "        return 'Player 1 goes first'\n",
    "    else:\n",
    "        return 'player 2 goes first'\n",
    "    \n",
    "    "
   ]
  },
  {
   "cell_type": "code",
   "execution_count": 27,
   "metadata": {},
   "outputs": [
    {
     "data": {
      "text/plain": [
       "'player 2 goes first'"
      ]
     },
     "execution_count": 27,
     "metadata": {},
     "output_type": "execute_result"
    }
   ],
   "source": [
    "choose_first()    # after u run angain and again it will give different o/p"
   ]
  },
  {
   "cell_type": "code",
   "execution_count": 28,
   "metadata": {},
   "outputs": [
    {
     "data": {
      "text/plain": [
       "'Player 1 goes first'"
      ]
     },
     "execution_count": 28,
     "metadata": {},
     "output_type": "execute_result"
    }
   ],
   "source": [
    "choose_first()  "
   ]
  },
  {
   "cell_type": "code",
   "execution_count": 29,
   "metadata": {},
   "outputs": [
    {
     "data": {
      "text/plain": [
       "'player 2 goes first'"
      ]
     },
     "execution_count": 29,
     "metadata": {},
     "output_type": "execute_result"
    }
   ],
   "source": [
    "choose_first()  "
   ]
  },
  {
   "cell_type": "code",
   "execution_count": 30,
   "metadata": {},
   "outputs": [
    {
     "data": {
      "text/plain": [
       "'Player 1 goes first'"
      ]
     },
     "execution_count": 30,
     "metadata": {},
     "output_type": "execute_result"
    }
   ],
   "source": [
    "choose_first()   # see here now payer 1 goes 1st"
   ]
  },
  {
   "cell_type": "markdown",
   "metadata": {},
   "source": [
    "# Step 6: Write a function that returns a boolean indicating whether a space on the board is freely available."
   ]
  },
  {
   "cell_type": "code",
   "execution_count": 31,
   "metadata": {},
   "outputs": [],
   "source": [
    "def space_check1(board):\n",
    "    \n",
    "    return board[1] == ' ' or board[2] == ' ' or board[3] == ' ' or board[4] == ' ' or board[5] == ' ' or board[6] == ' ' or board[7] == ' ' or board[8] == ' ' or board[9] == ' '"
   ]
  },
  {
   "cell_type": "code",
   "execution_count": 32,
   "metadata": {},
   "outputs": [
    {
     "name": "stdout",
     "output_type": "stream",
     "text": [
      " | |\n",
      "X|%|X\n",
      " | |\n",
      "------\n",
      " | |\n",
      "O|X|O\n",
      " | |\n",
      "------\n",
      " | |\n",
      "X|O|X\n",
      " | |\n"
     ]
    },
    {
     "data": {
      "text/plain": [
       "False"
      ]
     },
     "execution_count": 32,
     "metadata": {},
     "output_type": "execute_result"
    }
   ],
   "source": [
    "display_board(board)      # it return false this means in board there is no space available but if u want to check specific position lets see next\n",
    " \n",
    "space_check1(board)"
   ]
  },
  {
   "cell_type": "code",
   "execution_count": 33,
   "metadata": {},
   "outputs": [],
   "source": [
    "def space_check(board , position):\n",
    "    \n",
    "    return board[position] == ' '"
   ]
  },
  {
   "cell_type": "code",
   "execution_count": 34,
   "metadata": {},
   "outputs": [
    {
     "name": "stdout",
     "output_type": "stream",
     "text": [
      " | |\n",
      "X|%|X\n",
      " | |\n",
      "------\n",
      " | |\n",
      "O|X|O\n",
      " | |\n",
      "------\n",
      " | |\n",
      "X|O|X\n",
      " | |\n"
     ]
    },
    {
     "data": {
      "text/plain": [
       "False"
      ]
     },
     "execution_count": 34,
     "metadata": {},
     "output_type": "execute_result"
    }
   ],
   "source": [
    "display_board(board)\n",
    "space_check(board , 1)   # that means at 1st position there is no space"
   ]
  },
  {
   "cell_type": "code",
   "execution_count": 35,
   "metadata": {},
   "outputs": [
    {
     "name": "stdout",
     "output_type": "stream",
     "text": [
      " | |\n",
      "X|%|X\n",
      " | |\n",
      "------\n",
      " | |\n",
      "O|X|O\n",
      " | |\n",
      "------\n",
      " | |\n",
      " |O|X\n",
      " | |\n"
     ]
    },
    {
     "data": {
      "text/plain": [
       "True"
      ]
     },
     "execution_count": 35,
     "metadata": {},
     "output_type": "execute_result"
    }
   ],
   "source": [
    "# IMP\n",
    "# if u want ' ' space at 1st position then\n",
    "# call place_maker passing baord at 1st place is ' ' this\n",
    "place_marker(board , ' ',1)\n",
    "# then display updates board\n",
    "display_board(board)\n",
    "# and check now is there any spcae at 1st position \n",
    "space_check(board , 1)\n",
    "# and we can see that it return true means at 1st position there is a space see dipaly board "
   ]
  },
  {
   "cell_type": "markdown",
   "metadata": {},
   "source": [
    "# Step 7: Write a function that checks if the board is full and returns a boolean value. True if full, False otherwise."
   ]
  },
  {
   "cell_type": "code",
   "execution_count": 36,
   "metadata": {},
   "outputs": [],
   "source": [
    "def full_board_check(board):\n",
    "    \n",
    "    return board[1]!=' ' and board[2]!=' ' and board[2]!=' ' and board[3]!=' ' and board[4]!=' ' and board[5]!=' ' and board[6]!=' ' and board[7]!=' ' and board[8]!=' ' and board[9]!=' '\n",
    "\n",
    "    "
   ]
  },
  {
   "cell_type": "code",
   "execution_count": 37,
   "metadata": {},
   "outputs": [
    {
     "name": "stdout",
     "output_type": "stream",
     "text": [
      " | |\n",
      "X|%|X\n",
      " | |\n",
      "------\n",
      " | |\n",
      "O|X|O\n",
      " | |\n",
      "------\n",
      " | |\n",
      " |O|X\n",
      " | |\n"
     ]
    },
    {
     "data": {
      "text/plain": [
       "False"
      ]
     },
     "execution_count": 37,
     "metadata": {},
     "output_type": "execute_result"
    }
   ],
   "source": [
    "display_board(board)\n",
    "full_board_check(board)   # see return false means there is some available space and u can see at 1st postion there is empty space"
   ]
  },
  {
   "cell_type": "code",
   "execution_count": 38,
   "metadata": {},
   "outputs": [],
   "source": [
    "# method 2 easy \n",
    "# this will jugde whether match is tie or not\n",
    "\n",
    "def full_board_check(board):\n",
    "    \n",
    "    for i in range(0,10):\n",
    "        if space_check(board , i):   # this means for every i means 0 t0 9 index we check is there any space by calling space_check function an is there that means board is not full so result will be false\n",
    "            return False\n",
    "    \n",
    "    # For FUll we return True\n",
    "    return True"
   ]
  },
  {
   "cell_type": "code",
   "execution_count": 39,
   "metadata": {},
   "outputs": [
    {
     "name": "stdout",
     "output_type": "stream",
     "text": [
      " | |\n",
      "X|%|X\n",
      " | |\n",
      "------\n",
      " | |\n",
      "O|X|O\n",
      " | |\n",
      "------\n",
      " | |\n",
      " |O|X\n",
      " | |\n"
     ]
    },
    {
     "data": {
      "text/plain": [
       "False"
      ]
     },
     "execution_count": 39,
     "metadata": {},
     "output_type": "execute_result"
    }
   ],
   "source": [
    "display_board(board)\n",
    "\n",
    "full_board_check(board)"
   ]
  },
  {
   "cell_type": "markdown",
   "metadata": {},
   "source": [
    "# Step 8: Write a function that asks for a player's next position (as a number 1-9) and then uses the function from step 6 to check if it's a free position. If it is, then return the position for later use."
   ]
  },
  {
   "cell_type": "code",
   "execution_count": 40,
   "metadata": {},
   "outputs": [],
   "source": [
    "\n",
    "def player_choice(board):\n",
    "    \n",
    "    position = 0\n",
    "    \n",
    "    while position not in range(0,10) or not space_check(board,position):\n",
    "        \n",
    "        position = input(\"Plase choose a position from (1-9): \")\n",
    "        \n",
    "    return int(position)\n",
    "        \n",
    "    "
   ]
  },
  {
   "cell_type": "code",
   "execution_count": null,
   "metadata": {},
   "outputs": [],
   "source": []
  },
  {
   "cell_type": "markdown",
   "metadata": {},
   "source": [
    "# Step 9: Write a function that asks the player if they want to play again and returns a boolean True if they do want to play again.\n"
   ]
  },
  {
   "cell_type": "code",
   "execution_count": 50,
   "metadata": {},
   "outputs": [],
   "source": [
    "def replay():\n",
    "    \n",
    "    again = 'wrong'\n",
    "    \n",
    "    while again not in ('Y','N'):\n",
    "        \n",
    "        again = input('DO You want to play again choose Y or N :')\n",
    "    \n",
    "    if again == 'Y':\n",
    "        \n",
    "        return True\n",
    "    elif again == 'N':\n",
    "        \n",
    "        return False\n",
    "    \n",
    "    "
   ]
  },
  {
   "cell_type": "code",
   "execution_count": 51,
   "metadata": {},
   "outputs": [
    {
     "name": "stdout",
     "output_type": "stream",
     "text": [
      "DO You want to play again choose Y or N :fs\n",
      "DO You want to play again choose Y or N :y\n",
      "DO You want to play again choose Y or N :Y\n"
     ]
    },
    {
     "data": {
      "text/plain": [
       "True"
      ]
     },
     "execution_count": 51,
     "metadata": {},
     "output_type": "execute_result"
    }
   ],
   "source": [
    "replay()"
   ]
  },
  {
   "cell_type": "code",
   "execution_count": 52,
   "metadata": {},
   "outputs": [
    {
     "name": "stdout",
     "output_type": "stream",
     "text": [
      "DO You want to play again choose Y or N :skn\n",
      "DO You want to play again choose Y or N :n\n",
      "DO You want to play again choose Y or N :N\n"
     ]
    },
    {
     "data": {
      "text/plain": [
       "False"
      ]
     },
     "execution_count": 52,
     "metadata": {},
     "output_type": "execute_result"
    }
   ],
   "source": [
    "replay()"
   ]
  },
  {
   "cell_type": "code",
   "execution_count": 58,
   "metadata": {},
   "outputs": [],
   "source": [
    "#method 2\n",
    "\n",
    "def replay():\n",
    "    choice = ''\n",
    "    while choice not in ['Yes' , 'No']:\n",
    "        choice = input(\"play agian? please choose Yes or No : \")\n",
    "    \n",
    "    return choice == 'Yes'"
   ]
  },
  {
   "cell_type": "code",
   "execution_count": 59,
   "metadata": {},
   "outputs": [
    {
     "name": "stdout",
     "output_type": "stream",
     "text": [
      "play agian? please choose Yes or No : fask\n",
      "play agian? please choose Yes or No : yes\n",
      "play agian? please choose Yes or No : Yes\n"
     ]
    },
    {
     "data": {
      "text/plain": [
       "True"
      ]
     },
     "execution_count": 59,
     "metadata": {},
     "output_type": "execute_result"
    }
   ],
   "source": [
    "replay()"
   ]
  },
  {
   "cell_type": "code",
   "execution_count": 88,
   "metadata": {},
   "outputs": [
    {
     "name": "stdout",
     "output_type": "stream",
     "text": [
      "play agian? please choose Yes or No : \n",
      "play agian? please choose Yes or No : yes\n",
      "play agian? please choose Yes or No : YEs\n",
      "play agian? please choose Yes or No : Yes\n"
     ]
    },
    {
     "data": {
      "text/plain": [
       "True"
      ]
     },
     "execution_count": 88,
     "metadata": {},
     "output_type": "execute_result"
    }
   ],
   "source": [
    "replay()       # choose coorect yes or no as mention in list y and n capital other small"
   ]
  },
  {
   "cell_type": "code",
   "execution_count": null,
   "metadata": {},
   "outputs": [],
   "source": [
    "# game_list pass bcoz to update and position bcoz for replacing the new value by that position\n",
    "def replacement_position(board , position):\n",
    "    \n",
    "    user_placement = input(\"Type a string to replace at position : \")\n",
    "    \n",
    "    #  assign user_placement string to game_list at choosen position(int(choice)) in above function \n",
    "    \n",
    "    board[position] = user_placement\n",
    "    \n",
    "    return game_list\n"
   ]
  },
  {
   "cell_type": "markdown",
   "metadata": {},
   "source": [
    "# Step 10: Here comes the hard part! Use while loops and the functions you've made to run the game!"
   ]
  },
  {
   "cell_type": "code",
   "execution_count": 62,
   "metadata": {},
   "outputs": [],
   "source": [
    "def game():\n",
    "    \n",
    "    board = [' ']*10\n",
    "    \n",
    "    display_board(board)\n",
    "    \n",
    "    "
   ]
  },
  {
   "cell_type": "code",
   "execution_count": 63,
   "metadata": {},
   "outputs": [
    {
     "name": "stdout",
     "output_type": "stream",
     "text": [
      " | |\n",
      " | | \n",
      " | |\n",
      "------\n",
      " | |\n",
      " | | \n",
      " | |\n",
      "------\n",
      " | |\n",
      " | | \n",
      " | |\n"
     ]
    }
   ],
   "source": [
    "game()"
   ]
  },
  {
   "cell_type": "code",
   "execution_count": 64,
   "metadata": {},
   "outputs": [],
   "source": [
    "def game():\n",
    "    \n",
    "    board = [' ']*10\n",
    "    \n",
    "    display_board(board)\n",
    "    \n",
    "    player_input()\n",
    "    \n",
    "    "
   ]
  },
  {
   "cell_type": "code",
   "execution_count": 65,
   "metadata": {},
   "outputs": [
    {
     "name": "stdout",
     "output_type": "stream",
     "text": [
      " | |\n",
      " | | \n",
      " | |\n",
      "------\n",
      " | |\n",
      " | | \n",
      " | |\n",
      "------\n",
      " | |\n",
      " | | \n",
      " | |\n",
      "player1 ,Please enter your choice from (X or O): saf\n",
      "sorry , please enter a valid marker : \n",
      "player1 ,Please enter your choice from (X or O): X\n"
     ]
    }
   ],
   "source": [
    "game()"
   ]
  },
  {
   "cell_type": "code",
   "execution_count": 67,
   "metadata": {},
   "outputs": [
    {
     "data": {
      "text/plain": [
       "'X'"
      ]
     },
     "execution_count": 67,
     "metadata": {},
     "output_type": "execute_result"
    }
   ],
   "source": [
    "player1_marker"
   ]
  },
  {
   "cell_type": "code",
   "execution_count": 68,
   "metadata": {},
   "outputs": [
    {
     "data": {
      "text/plain": [
       "'O'"
      ]
     },
     "execution_count": 68,
     "metadata": {},
     "output_type": "execute_result"
    }
   ],
   "source": [
    "player2_marker"
   ]
  },
  {
   "cell_type": "code",
   "execution_count": 84,
   "metadata": {},
   "outputs": [],
   "source": [
    "def game():\n",
    "    \n",
    "    board = [' ']*10\n",
    "    \n",
    "    i = ''\n",
    "    \n",
    "    avail = 'wrong'\n",
    "    \n",
    "    while i in range(0,10):\n",
    "        avail = space_check(board , i)\n",
    "    \n",
    "    if  avail == ' ':\n",
    "        \n",
    "        display_board(board)\n",
    "    \n",
    "        player_input()\n",
    "    \n",
    "        choose_first()\n",
    "        \n",
    "        player_choice(board)\n",
    "        \n",
    "        for mark in ['X','O']:\n",
    "            \n",
    "            win_check(mark)\n",
    "        \n",
    "        full_board_check(board)\n",
    "        \n",
    "        replay()\n",
    "     \n",
    "    \n",
    "        \n",
    "    "
   ]
  },
  {
   "cell_type": "code",
   "execution_count": 87,
   "metadata": {},
   "outputs": [
    {
     "ename": "NameError",
     "evalue": "name 'game_on' is not defined",
     "output_type": "error",
     "traceback": [
      "\u001b[1;31m---------------------------------------------------------------------------\u001b[0m",
      "\u001b[1;31mNameError\u001b[0m                                 Traceback (most recent call last)",
      "\u001b[1;32m<ipython-input-87-ff2314dba784>\u001b[0m in \u001b[0;36m<module>\u001b[1;34m\u001b[0m\n\u001b[1;32m----> 1\u001b[1;33m \u001b[0mgame_on\u001b[0m\u001b[1;33m(\u001b[0m\u001b[1;33m)\u001b[0m\u001b[1;33m\u001b[0m\u001b[1;33m\u001b[0m\u001b[0m\n\u001b[0m",
      "\u001b[1;31mNameError\u001b[0m: name 'game_on' is not defined"
     ]
    }
   ],
   "source": [
    "game_on()"
   ]
  },
  {
   "cell_type": "code",
   "execution_count": null,
   "metadata": {},
   "outputs": [],
   "source": []
  },
  {
   "cell_type": "code",
   "execution_count": null,
   "metadata": {},
   "outputs": [],
   "source": []
  },
  {
   "cell_type": "code",
   "execution_count": null,
   "metadata": {},
   "outputs": [],
   "source": []
  }
 ],
 "metadata": {
  "kernelspec": {
   "display_name": "Python 3",
   "language": "python",
   "name": "python3"
  },
  "language_info": {
   "codemirror_mode": {
    "name": "ipython",
    "version": 3
   },
   "file_extension": ".py",
   "mimetype": "text/x-python",
   "name": "python",
   "nbconvert_exporter": "python",
   "pygments_lexer": "ipython3",
   "version": "3.8.3"
  }
 },
 "nbformat": 4,
 "nbformat_minor": 4
}
