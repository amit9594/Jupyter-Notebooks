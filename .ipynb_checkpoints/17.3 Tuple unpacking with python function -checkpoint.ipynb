{
 "cells": [
  {
   "cell_type": "code",
   "execution_count": 1,
   "metadata": {},
   "outputs": [],
   "source": [
    "farm_products= [('mini_tiller',400),('garden cutter',4500),('garden saw',750),('hand_tractor',15000)]"
   ]
  },
  {
   "cell_type": "code",
   "execution_count": 2,
   "metadata": {},
   "outputs": [
    {
     "data": {
      "text/plain": [
       "[('mini_tiller', 400),\n",
       " ('garden cutter', 4500),\n",
       " ('garden saw', 750),\n",
       " ('hand_tractor', 15000)]"
      ]
     },
     "execution_count": 2,
     "metadata": {},
     "output_type": "execute_result"
    }
   ],
   "source": [
    "farm_products"
   ]
  },
  {
   "cell_type": "code",
   "execution_count": 4,
   "metadata": {},
   "outputs": [],
   "source": [
    "# tuple unpacking means grab separate means name of products and its prices\n",
    "# using for loop\n"
   ]
  },
  {
   "cell_type": "code",
   "execution_count": 10,
   "metadata": {},
   "outputs": [
    {
     "name": "stdout",
     "output_type": "stream",
     "text": [
      "mini_tiller\n",
      "garden cutter\n",
      "garden saw\n",
      "hand_tractor\n"
     ]
    }
   ],
   "source": [
    "for products,rate in farm_products:\n",
    "    print(products)"
   ]
  },
  {
   "cell_type": "code",
   "execution_count": 11,
   "metadata": {},
   "outputs": [
    {
     "name": "stdout",
     "output_type": "stream",
     "text": [
      "400\n",
      "4500\n",
      "750\n",
      "15000\n"
     ]
    }
   ],
   "source": [
    "for products,rate in farm_products:\n",
    "    print(rate)"
   ]
  },
  {
   "cell_type": "code",
   "execution_count": 13,
   "metadata": {},
   "outputs": [
    {
     "name": "stdout",
     "output_type": "stream",
     "text": [
      "440.0\n",
      "4950.0\n",
      "825.0\n",
      "16500.0\n"
     ]
    }
   ],
   "source": [
    "for products,rate in farm_products:\n",
    "    print(rate + (0.1*rate))"
   ]
  },
  {
   "cell_type": "code",
   "execution_count": 14,
   "metadata": {},
   "outputs": [
    {
     "name": "stdout",
     "output_type": "stream",
     "text": [
      "mini_tiller\n",
      "400\n",
      "garden cutter\n",
      "4500\n",
      "garden saw\n",
      "750\n",
      "hand_tractor\n",
      "15000\n"
     ]
    }
   ],
   "source": [
    "for products,rate in farm_products:\n",
    "    print(products)\n",
    "    print(rate)"
   ]
  },
  {
   "cell_type": "code",
   "execution_count": 15,
   "metadata": {},
   "outputs": [
    {
     "name": "stdout",
     "output_type": "stream",
     "text": [
      "mini_tiller\n",
      "garden cutter\n",
      "garden saw\n",
      "hand_tractor\n",
      "15000\n"
     ]
    }
   ],
   "source": [
    "for products,rate in farm_products:\n",
    "    print(products)\n",
    "print(rate)"
   ]
  },
  {
   "cell_type": "markdown",
   "metadata": {},
   "source": [
    "# returning a tuple using function"
   ]
  },
  {
   "cell_type": "code",
   "execution_count": 1,
   "metadata": {},
   "outputs": [],
   "source": [
    "work_hours = [('Amit',200),('Pruthviraj',4000),('Ritesh',800)]"
   ]
  },
  {
   "cell_type": "code",
   "execution_count": 2,
   "metadata": {},
   "outputs": [],
   "source": [
    "def check_hours(mylist):\n",
    "    #placeholder variables\n",
    "    max_hours = 0\n",
    "    current_employee = \"\"\n",
    "    for name,hours in mylist:\n",
    "        if hours > max_hours:\n",
    "            max_hours = hours\n",
    "            current_employee = name\n",
    "        else:\n",
    "            pass\n",
    "    return(current_employee,max_hours)\n",
    "        "
   ]
  },
  {
   "cell_type": "code",
   "execution_count": 3,
   "metadata": {},
   "outputs": [
    {
     "data": {
      "text/plain": [
       "('Pruthviraj', 4000)"
      ]
     },
     "execution_count": 3,
     "metadata": {},
     "output_type": "execute_result"
    }
   ],
   "source": [
    "check_hours(work_hours)   # here work_hours list assign to variable mylist in function so we can change the name of arguments in function or we can keep same but while calling u have to pass correct defining list name which u want to operate on it "
   ]
  },
  {
   "cell_type": "code",
   "execution_count": 53,
   "metadata": {},
   "outputs": [],
   "source": [
    "def check_hours(work_hours):\n",
    "    #placeholder variables\n",
    "    max_hours = 0\n",
    "    current_employee = \"\"\n",
    "    for name,hours in work_hours:\n",
    "        if hours > max_hours:\n",
    "            max_hours = hours\n",
    "            current_employee = name\n",
    "        else:\n",
    "            pass\n",
    "    # return\n",
    "    return(current_employee,max_hours)\n",
    "        "
   ]
  },
  {
   "cell_type": "code",
   "execution_count": 54,
   "metadata": {},
   "outputs": [
    {
     "data": {
      "text/plain": [
       "('Pruthviraj', 4000)"
      ]
     },
     "execution_count": 54,
     "metadata": {},
     "output_type": "execute_result"
    }
   ],
   "source": [
    "check_hours(work_hours)           # here mandatory to pass list name only "
   ]
  },
  {
   "cell_type": "code",
   "execution_count": 55,
   "metadata": {},
   "outputs": [
    {
     "ename": "NameError",
     "evalue": "name 'urlist' is not defined",
     "output_type": "error",
     "traceback": [
      "\u001b[1;31m---------------------------------------------------------------------------\u001b[0m",
      "\u001b[1;31mNameError\u001b[0m                                 Traceback (most recent call last)",
      "\u001b[1;32m<ipython-input-55-f6243e01b708>\u001b[0m in \u001b[0;36m<module>\u001b[1;34m\u001b[0m\n\u001b[1;32m----> 1\u001b[1;33m \u001b[0mcheck_hours\u001b[0m\u001b[1;33m(\u001b[0m\u001b[0murlist\u001b[0m\u001b[1;33m)\u001b[0m         \u001b[1;31m# so passing argument should be defined\u001b[0m\u001b[1;33m\u001b[0m\u001b[1;33m\u001b[0m\u001b[0m\n\u001b[0m",
      "\u001b[1;31mNameError\u001b[0m: name 'urlist' is not defined"
     ]
    }
   ],
   "source": [
    "check_hours(urlist)         # so passing argument should be defined "
   ]
  },
  {
   "cell_type": "code",
   "execution_count": 56,
   "metadata": {},
   "outputs": [],
   "source": [
    "result=check_hours(work_hours)"
   ]
  },
  {
   "cell_type": "code",
   "execution_count": 57,
   "metadata": {},
   "outputs": [
    {
     "data": {
      "text/plain": [
       "('Pruthviraj', 4000)"
      ]
     },
     "execution_count": 57,
     "metadata": {},
     "output_type": "execute_result"
    }
   ],
   "source": [
    "result"
   ]
  },
  {
   "cell_type": "code",
   "execution_count": 58,
   "metadata": {},
   "outputs": [],
   "source": [
    "employee,maxhours = check_hours(work_hours)        # so u can grab sepearately like this"
   ]
  },
  {
   "cell_type": "code",
   "execution_count": 59,
   "metadata": {},
   "outputs": [
    {
     "data": {
      "text/plain": [
       "'Pruthviraj'"
      ]
     },
     "execution_count": 59,
     "metadata": {},
     "output_type": "execute_result"
    }
   ],
   "source": [
    "employee"
   ]
  },
  {
   "cell_type": "code",
   "execution_count": 60,
   "metadata": {},
   "outputs": [
    {
     "data": {
      "text/plain": [
       "4000"
      ]
     },
     "execution_count": 60,
     "metadata": {},
     "output_type": "execute_result"
    }
   ],
   "source": [
    "maxhours"
   ]
  },
  {
   "cell_type": "code",
   "execution_count": 63,
   "metadata": {},
   "outputs": [
    {
     "ename": "ValueError",
     "evalue": "not enough values to unpack (expected 3, got 2)",
     "output_type": "error",
     "traceback": [
      "\u001b[1;31m---------------------------------------------------------------------------\u001b[0m",
      "\u001b[1;31mValueError\u001b[0m                                Traceback (most recent call last)",
      "\u001b[1;32m<ipython-input-63-951fc4443953>\u001b[0m in \u001b[0;36m<module>\u001b[1;34m\u001b[0m\n\u001b[1;32m----> 1\u001b[1;33m \u001b[0memployee\u001b[0m\u001b[1;33m,\u001b[0m\u001b[0mmaxhours\u001b[0m\u001b[1;33m,\u001b[0m\u001b[0mlocation\u001b[0m \u001b[1;33m=\u001b[0m \u001b[0mcheck_hours\u001b[0m\u001b[1;33m(\u001b[0m\u001b[0mwork_hours\u001b[0m\u001b[1;33m)\u001b[0m   \u001b[1;31m# see here u r expected 3 but present to give 2 only by function so to overcome this error of no confusuion how many objects r present within one tuple so store in one variable only or call only fun ddirectly as above we saw or see next\u001b[0m\u001b[1;33m\u001b[0m\u001b[1;33m\u001b[0m\u001b[0m\n\u001b[0m",
      "\u001b[1;31mValueError\u001b[0m: not enough values to unpack (expected 3, got 2)"
     ]
    }
   ],
   "source": [
    "employee,maxhours,location = check_hours(work_hours)   # see here u r expected 3 but present to give 2 only by function so to overcome this error of no confusuion how many objects r present within one tuple so store in one variable only or call only fun ddirectly as above we saw or see next"
   ]
  },
  {
   "cell_type": "code",
   "execution_count": 64,
   "metadata": {},
   "outputs": [],
   "source": [
    "item = check_hours(work_hours) "
   ]
  },
  {
   "cell_type": "code",
   "execution_count": 65,
   "metadata": {},
   "outputs": [
    {
     "data": {
      "text/plain": [
       "('Pruthviraj', 4000)"
      ]
     },
     "execution_count": 65,
     "metadata": {},
     "output_type": "execute_result"
    }
   ],
   "source": [
    "item"
   ]
  },
  {
   "cell_type": "code",
   "execution_count": null,
   "metadata": {},
   "outputs": [],
   "source": []
  }
 ],
 "metadata": {
  "kernelspec": {
   "display_name": "Python 3",
   "language": "python",
   "name": "python3"
  },
  "language_info": {
   "codemirror_mode": {
    "name": "ipython",
    "version": 3
   },
   "file_extension": ".py",
   "mimetype": "text/x-python",
   "name": "python",
   "nbconvert_exporter": "python",
   "pygments_lexer": "ipython3",
   "version": "3.8.3"
  }
 },
 "nbformat": 4,
 "nbformat_minor": 4
}
