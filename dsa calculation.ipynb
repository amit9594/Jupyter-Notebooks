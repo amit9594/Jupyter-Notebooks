{
 "cells": [
  {
   "cell_type": "code",
   "execution_count": 1,
   "metadata": {},
   "outputs": [
    {
     "data": {
      "text/plain": [
       "70"
      ]
     },
     "execution_count": 1,
     "metadata": {},
     "output_type": "execute_result"
    }
   ],
   "source": [
    "1234%97"
   ]
  },
  {
   "cell_type": "code",
   "execution_count": null,
   "metadata": {},
   "outputs": [],
   "source": [
    "# calculate the hash value key % 97 (division method)"
   ]
  },
  {
   "cell_type": "code",
   "execution_count": 2,
   "metadata": {},
   "outputs": [
    {
     "data": {
      "text/plain": [
       "30"
      ]
     },
     "execution_count": 2,
     "metadata": {},
     "output_type": "execute_result"
    }
   ],
   "source": [
    "5462%97"
   ]
  },
  {
   "cell_type": "code",
   "execution_count": 3,
   "metadata": {},
   "outputs": [
    {
     "data": {
      "text/plain": [
       "16"
      ]
     },
     "execution_count": 3,
     "metadata": {},
     "output_type": "execute_result"
    }
   ],
   "source": [
    "5642%97"
   ]
  },
  {
   "cell_type": "code",
   "execution_count": 5,
   "metadata": {},
   "outputs": [
    {
     "name": "stdout",
     "output_type": "stream",
     "text": [
      "32.030662040006064\n"
     ]
    }
   ],
   "source": [
    "# by multiplication method\n",
    "\n",
    "A = 0.6180339887\n",
    "m = 100\n",
    "k = 1892\n",
    "n=m *(k*A % 1) \n",
    "\n",
    "print(n)\n",
    "\n"
   ]
  },
  {
   "cell_type": "markdown",
   "metadata": {},
   "source": [
    "Calculate the hash value for keys 1234 and 5642 using the mid-square method.                              mid-square method.\n",
    "The hash table has 100 memory locations.\n",
    "Solution Note that the hash table has 100 memory locations whose indices vary from 0 to 99.\n",
    "This means that only two digits are needed to map the key to a location in the hash table, so r = 2.\n",
    "When k = 1234, k2 = 1522756, h (1234) = 27\n",
    "When k = 5642, k2 = 31832164, h (5642) = 21\n",
    "Observe that the 3rd and 4th digits starting from the right are chosen"
   ]
  },
  {
   "cell_type": "code",
   "execution_count": 14,
   "metadata": {},
   "outputs": [],
   "source": [
    "# above is mid sqaure method"
   ]
  },
  {
   "cell_type": "code",
   "execution_count": 1,
   "metadata": {},
   "outputs": [],
   "source": [
    " #folding method is separate into ttwo digits add them write last two digits this is key"
   ]
  },
  {
   "cell_type": "markdown",
   "metadata": {},
   "source": [
    "# division method"
   ]
  },
  {
   "cell_type": "code",
   "execution_count": 8,
   "metadata": {},
   "outputs": [
    {
     "name": "stdout",
     "output_type": "stream",
     "text": [
      "enter key172\n",
      "23\n"
     ]
    }
   ],
   "source": [
    "M = 149\n",
    "\n",
    "x = int(input(\"enter key\"))\n",
    "hash_value = x % M\n",
    "print(hash_value)"
   ]
  },
  {
   "cell_type": "markdown",
   "metadata": {},
   "source": [
    "# multiplication method\n"
   ]
  },
  {
   "cell_type": "code",
   "execution_count": 8,
   "metadata": {},
   "outputs": [
    {
     "name": "stdout",
     "output_type": "stream",
     "text": [
      "enter size1000\n",
      "enter key value12345\n",
      "617.3850000004677\n"
     ]
    }
   ],
   "source": [
    "m = int(input(\"enter size\"))\n",
    "k = int(input(\"enter key value\"))\n",
    "A = 0.618033\n",
    "\n",
    "print(m * (k * A  % 1))"
   ]
  },
  {
   "cell_type": "code",
   "execution_count": null,
   "metadata": {},
   "outputs": [],
   "source": []
  }
 ],
 "metadata": {
  "kernelspec": {
   "display_name": "Python 3",
   "language": "python",
   "name": "python3"
  },
  "language_info": {
   "codemirror_mode": {
    "name": "ipython",
    "version": 3
   },
   "file_extension": ".py",
   "mimetype": "text/x-python",
   "name": "python",
   "nbconvert_exporter": "python",
   "pygments_lexer": "ipython3",
   "version": "3.8.3"
  }
 },
 "nbformat": 4,
 "nbformat_minor": 4
}
