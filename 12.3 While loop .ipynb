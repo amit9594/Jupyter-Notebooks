{
 "cells": [
  {
   "cell_type": "markdown",
   "metadata": {},
   "source": [
    "# syntax\n",
    "\n",
    "# while some_boolean_condition:\n",
    "     # do something\n",
    "# else:\n",
    "    # do something different\n",
    "    \n",
    "    \n",
    "# here while loop is in continuation of execution till condition remains true    "
   ]
  },
  {
   "cell_type": "code",
   "execution_count": 3,
   "metadata": {},
   "outputs": [
    {
     "name": "stdout",
     "output_type": "stream",
     "text": [
      "The current value of x is:0\n",
      "The current value of x is:1\n",
      "The current value of x is:2\n",
      "The current value of x is:3\n",
      "The current value of x is:4\n"
     ]
    }
   ],
   "source": [
    "x = 0\n",
    "\n",
    "while x<5 :\n",
    "    print(f'The current value of x is:{x}')\n",
    "    \n",
    "    # if u try to excute after this print statement before writting x =x+1 then code running continueously \n",
    "                                              # To avoid such error go to kernel select start and u will come to this code again\n",
    "    #x=x+1\n",
    "    x +=1   #(same as x=x+1)\n",
    "    \n"
   ]
  },
  {
   "cell_type": "code",
   "execution_count": 6,
   "metadata": {},
   "outputs": [
    {
     "name": "stdout",
     "output_type": "stream",
     "text": [
      "The current value of x is:0\n",
      "The current value of x is:1\n",
      "The current value of x is:2\n",
      "The current value of x is:3\n",
      "The current value of x is:4\n",
      "x is greter than 5\n"
     ]
    }
   ],
   "source": [
    "x = 0\n",
    "\n",
    "while x<5 :\n",
    "    print(f'The current value of x is:{x}')\n",
    "    \n",
    "    # if u try to excute after this print statement before writting x =x+1 then code running continueously \n",
    "                                              # To avoid such error go to kernel select start and u will come to this code again\n",
    "    #x=x+1\n",
    "    x +=1   #(same as x=x+1)\n",
    "    \n",
    "else:\n",
    "    print(\"x is greter than 5\")"
   ]
  },
  {
   "cell_type": "code",
   "execution_count": 7,
   "metadata": {},
   "outputs": [
    {
     "name": "stdout",
     "output_type": "stream",
     "text": [
      "x is greter than 5\n"
     ]
    }
   ],
   "source": [
    "x = 50\n",
    "\n",
    "while x<5 :\n",
    "    print(f'The current value of x is:{x}')\n",
    "    \n",
    "    # if u try to excute after this print statement before writting x =x+1 then code running continueously \n",
    "                                              # To avoid such error go to kernel select start and u will come to this code again\n",
    "    #x=x+1\n",
    "    x +=1   #(same as x=x+1)\n",
    "else:\n",
    "    print(\"x is greter than 5\")\n",
    "    \n"
   ]
  },
  {
   "cell_type": "markdown",
   "metadata": {},
   "source": [
    "# break , continue and pass \n",
    "\n",
    "this keywords are very useful in looping\n",
    "\n",
    "#break = Breaks out of the current closest enclosing loop\n",
    "#continue = goes to the top of the closest enclosing loop\n",
    "#pass = does nothing at all"
   ]
  },
  {
   "cell_type": "code",
   "execution_count": 14,
   "metadata": {},
   "outputs": [
    {
     "ename": "SyntaxError",
     "evalue": "unexpected EOF while parsing (<ipython-input-14-2f2e37c9607a>, line 4)",
     "output_type": "error",
     "traceback": [
      "\u001b[1;36m  File \u001b[1;32m\"<ipython-input-14-2f2e37c9607a>\"\u001b[1;36m, line \u001b[1;32m4\u001b[0m\n\u001b[1;33m    # comment\u001b[0m\n\u001b[1;37m             ^\u001b[0m\n\u001b[1;31mSyntaxError\u001b[0m\u001b[1;31m:\u001b[0m unexpected EOF while parsing\n"
     ]
    }
   ],
   "source": [
    "x = [1,2,3]\n",
    "\n",
    "for item in x:\n",
    "    # comment"
   ]
  },
  {
   "cell_type": "code",
   "execution_count": 16,
   "metadata": {},
   "outputs": [
    {
     "name": "stdout",
     "output_type": "stream",
     "text": [
      "end of my script\n"
     ]
    }
   ],
   "source": [
    "x = [1,2,3]\n",
    "for item in x:\n",
    "    # comment\n",
    "    pass\n",
    "\n",
    "print(\"end of my script\")"
   ]
  },
  {
   "cell_type": "code",
   "execution_count": 17,
   "metadata": {},
   "outputs": [
    {
     "ename": "IndentationError",
     "evalue": "expected an indented block (<ipython-input-17-b2e297993bb3>, line 6)",
     "output_type": "error",
     "traceback": [
      "\u001b[1;36m  File \u001b[1;32m\"<ipython-input-17-b2e297993bb3>\"\u001b[1;36m, line \u001b[1;32m6\u001b[0m\n\u001b[1;33m    print(\"end of my script\")\u001b[0m\n\u001b[1;37m    ^\u001b[0m\n\u001b[1;31mIndentationError\u001b[0m\u001b[1;31m:\u001b[0m expected an indented block\n"
     ]
    }
   ],
   "source": [
    "x = [1,2,3]\n",
    "for item in x:\n",
    "    # comment\n",
    "    \n",
    "\n",
    "print(\"end of my script\")"
   ]
  },
  {
   "cell_type": "code",
   "execution_count": 19,
   "metadata": {},
   "outputs": [
    {
     "name": "stdout",
     "output_type": "stream",
     "text": [
      "d\n",
      "a\n",
      "d\n",
      "d\n",
      "y\n"
     ]
    }
   ],
   "source": [
    "s = 'daddy'\n",
    "\n",
    "for letter in s:\n",
    "    print(letter)"
   ]
  },
  {
   "cell_type": "code",
   "execution_count": 22,
   "metadata": {},
   "outputs": [
    {
     "name": "stdout",
     "output_type": "stream",
     "text": [
      "d\n",
      "d\n",
      "d\n",
      "y\n"
     ]
    }
   ],
   "source": [
    "s = 'daddy'\n",
    "\n",
    "for letter in s:\n",
    "    if letter == 'a':\n",
    "        continue              # see def of continue it goes to top that's why 'a' will not print \n",
    "    print(letter)"
   ]
  },
  {
   "cell_type": "code",
   "execution_count": 24,
   "metadata": {},
   "outputs": [
    {
     "name": "stdout",
     "output_type": "stream",
     "text": [
      "d\n"
     ]
    }
   ],
   "source": [
    "s = 'daddy'\n",
    "\n",
    "for letter in s:\n",
    "    if letter == 'a':\n",
    "        break              # see def of break it braeak and come out of loop as \"a\" gets \n",
    "    print(letter)"
   ]
  },
  {
   "cell_type": "code",
   "execution_count": 26,
   "metadata": {},
   "outputs": [
    {
     "name": "stdout",
     "output_type": "stream",
     "text": [
      "d\n",
      "a\n",
      "d\n",
      "d\n",
      "y\n"
     ]
    }
   ],
   "source": [
    "s = 'daddy'\n",
    "\n",
    "for letter in s:\n",
    "    if letter == 'a':\n",
    "        pass              # see def of pass\n",
    "    print(letter)"
   ]
  },
  {
   "cell_type": "code",
   "execution_count": 27,
   "metadata": {},
   "outputs": [
    {
     "name": "stdout",
     "output_type": "stream",
     "text": [
      "0\n",
      "1\n",
      "2\n",
      "3\n",
      "4\n"
     ]
    }
   ],
   "source": [
    "x=0 \n",
    "\n",
    "while x<5:\n",
    "    \n",
    "    print(x)\n",
    "    x +=1"
   ]
  },
  {
   "cell_type": "code",
   "execution_count": 29,
   "metadata": {},
   "outputs": [
    {
     "name": "stdout",
     "output_type": "stream",
     "text": [
      "0\n",
      "1\n",
      "2\n"
     ]
    }
   ],
   "source": [
    "x=0 \n",
    "\n",
    "while x<5:\n",
    "    \n",
    "    if x==3:\n",
    "        break\n",
    "    print(x)\n",
    "    x +=1           # if u will not writtr this statement error will occor run time error so to avoid go to kernel slect interupt ot restart"
   ]
  },
  {
   "cell_type": "code",
   "execution_count": null,
   "metadata": {},
   "outputs": [],
   "source": []
  }
 ],
 "metadata": {
  "kernelspec": {
   "display_name": "Python 3",
   "language": "python",
   "name": "python3"
  },
  "language_info": {
   "codemirror_mode": {
    "name": "ipython",
    "version": 3
   },
   "file_extension": ".py",
   "mimetype": "text/x-python",
   "name": "python",
   "nbconvert_exporter": "python",
   "pygments_lexer": "ipython3",
   "version": "3.8.3"
  }
 },
 "nbformat": 4,
 "nbformat_minor": 4
}
