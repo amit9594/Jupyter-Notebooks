{
 "cells": [
  {
   "cell_type": "code",
   "execution_count": 10,
   "metadata": {},
   "outputs": [],
   "source": [
    "x= 25\n",
    "\n",
    "def printer():\n",
    "    x=50\n",
    "    return x"
   ]
  },
  {
   "cell_type": "code",
   "execution_count": 11,
   "metadata": {},
   "outputs": [
    {
     "name": "stdout",
     "output_type": "stream",
     "text": [
      "25\n"
     ]
    }
   ],
   "source": [
    "print(x)  # see here it print outside x"
   ]
  },
  {
   "cell_type": "code",
   "execution_count": 13,
   "metadata": {},
   "outputs": [
    {
     "name": "stdout",
     "output_type": "stream",
     "text": [
      "50\n"
     ]
    }
   ],
   "source": [
    "print(printer()) # see here it prints inside x "
   ]
  },
  {
   "cell_type": "code",
   "execution_count": 14,
   "metadata": {},
   "outputs": [],
   "source": [
    "# but to use these x in same code so which should refer so this problem is overcome by next rules "
   ]
  },
  {
   "cell_type": "raw",
   "metadata": {},
   "source": [
    "Interesting! But how does Python know which x you're referring to in your code? This is where the idea of scope comes in. Python has a set of rules it follows to decide what variables (such as x in this case) you are referencing in your code. Lets break down the rules:"
   ]
  },
  {
   "cell_type": "markdown",
   "metadata": {},
   "source": [
    "# LEGB Rule:\n",
    "\n",
    "L: Local — Names assigned in any way within a function (def or lambda), and not declared global in that function.\n",
    "\n",
    "E: Enclosing function locals — Names in the local scope of any and all enclosing functions (def or lambda), from inner to outer.\n",
    "\n",
    "G: Global (module) — Names assigned at the top-level of a module file, or declared global in a def within the file.\n",
    "\n",
    "B: Built-in (Python) — Names preassigned in the built-in names module : open, range, SyntaxError,..."
   ]
  },
  {
   "cell_type": "code",
   "execution_count": 15,
   "metadata": {},
   "outputs": [],
   "source": [
    "# how variables override it follows LEGB rule i.e it search for local then if there is not local then it search enclosing variable then global then built in "
   ]
  },
  {
   "cell_type": "code",
   "execution_count": 19,
   "metadata": {},
   "outputs": [],
   "source": [
    "# Global\n",
    "\n",
    "name = 'Hey i am global'\n",
    "\n",
    "def outside():\n",
    "    \n",
    "    # Enclosing \n",
    "    name = 'Hey i am enclosing variable'\n",
    "    \n",
    "    def inside():\n",
    "        \n",
    "        # local\n",
    "        name = ' I am local'\n",
    "        print('Hello' + name)      \n",
    "    \n",
    "    inside()"
   ]
  },
  {
   "cell_type": "code",
   "execution_count": 21,
   "metadata": {},
   "outputs": [
    {
     "name": "stdout",
     "output_type": "stream",
     "text": [
      "Hello I am local\n"
     ]
    }
   ],
   "source": [
    "outside()     # withing a fun i.e name is overrite with local variable"
   ]
  },
  {
   "cell_type": "code",
   "execution_count": 24,
   "metadata": {},
   "outputs": [],
   "source": [
    "# Global\n",
    "\n",
    "name = 'Hey i am global'\n",
    "\n",
    "def outside():\n",
    "    \n",
    "    # Enclosing \n",
    "    name = ' Hey i am enclosing variable'\n",
    "    \n",
    "    def inside():\n",
    "        \n",
    "        # local\n",
    "        #name = ' I am local'\n",
    "        print('Hello' + name)      \n",
    "    \n",
    "    inside()"
   ]
  },
  {
   "cell_type": "code",
   "execution_count": 27,
   "metadata": {},
   "outputs": [
    {
     "name": "stdout",
     "output_type": "stream",
     "text": [
      "Hello Hey i am enclosing variable\n"
     ]
    }
   ],
   "source": [
    "outside()    # now 1st it searches for local but local is not assigned so search for next i.e enclosing variables and then name is override with that"
   ]
  },
  {
   "cell_type": "code",
   "execution_count": 49,
   "metadata": {},
   "outputs": [],
   "source": [
    "# Global\n",
    "\n",
    "name = ' Hey i am global'\n",
    "name = 'judge'    # updated global variable \n",
    " \n",
    "def outside():\n",
    "    \n",
    "    # Enclosing \n",
    "    #name = ' Hey i am enclosing variable'\n",
    "    \n",
    "    def inside():\n",
    "        \n",
    "        # local\n",
    "        #name = ' I am local'\n",
    "        print('Hello' + name)      \n",
    "    \n",
    "    inside()"
   ]
  },
  {
   "cell_type": "code",
   "execution_count": 50,
   "metadata": {},
   "outputs": [
    {
     "name": "stdout",
     "output_type": "stream",
     "text": [
      "Hellojudge\n"
     ]
    }
   ],
   "source": [
    "outside()     # now local and enclosing is not present so search for global and ovveride with it"
   ]
  },
  {
   "cell_type": "code",
   "execution_count": 51,
   "metadata": {},
   "outputs": [],
   "source": [
    "# Global\n",
    "#name = ' Hey i am global'\n",
    "\n",
    "def outside():\n",
    "    \n",
    "    # Enclosing \n",
    "    #name = ' Hey i am enclosing variable'\n",
    "    \n",
    "    def inside():\n",
    "        \n",
    "        # local\n",
    "        #name = ' I am local'\n",
    "        print('Hello' + name)      \n",
    "    \n",
    "    inside()"
   ]
  },
  {
   "cell_type": "code",
   "execution_count": 52,
   "metadata": {},
   "outputs": [
    {
     "name": "stdout",
     "output_type": "stream",
     "text": [
      "Hellojudge\n"
     ]
    }
   ],
   "source": [
    "outside()"
   ]
  },
  {
   "cell_type": "code",
   "execution_count": 53,
   "metadata": {},
   "outputs": [
    {
     "data": {
      "text/plain": [
       "<function len(obj, /)>"
      ]
     },
     "execution_count": 53,
     "metadata": {},
     "output_type": "execute_result"
    }
   ],
   "source": [
    "len"
   ]
  },
  {
   "cell_type": "code",
   "execution_count": 54,
   "metadata": {},
   "outputs": [
    {
     "name": "stdout",
     "output_type": "stream",
     "text": [
      "Help on built-in function len in module builtins:\n",
      "\n",
      "len(obj, /)\n",
      "    Return the number of items in a container.\n",
      "\n"
     ]
    }
   ],
   "source": [
    "help(len)  # this is built in fun so don;t assignes as a globalvariable"
   ]
  },
  {
   "cell_type": "code",
   "execution_count": 55,
   "metadata": {},
   "outputs": [],
   "source": [
    "# simple funda is is u call function then search from lowest side variables assignment it overrides above all variables like an it updates to new variable\n",
    "# but if u not call fun and u want to print some variable so it prints global variable which is outside variable"
   ]
  },
  {
   "cell_type": "markdown",
   "metadata": {},
   "source": [
    "# Local variables"
   ]
  },
  {
   "cell_type": "code",
   "execution_count": 62,
   "metadata": {},
   "outputs": [],
   "source": [
    "x = 50\n",
    "\n",
    "def func(x):\n",
    "    print(f'X is {x}')\n",
    "    \n",
    "    # local reassignment\n",
    "    x = 200\n",
    "    print(f'I just locally changed X into {x}')"
   ]
  },
  {
   "cell_type": "code",
   "execution_count": 66,
   "metadata": {},
   "outputs": [
    {
     "name": "stdout",
     "output_type": "stream",
     "text": [
      "X is 50\n",
      "I just locally changed X into 200\n"
     ]
    }
   ],
   "source": [
    "func(x)"
   ]
  },
  {
   "cell_type": "markdown",
   "metadata": {},
   "source": [
    "# GLOBAl"
   ]
  },
  {
   "cell_type": "code",
   "execution_count": 67,
   "metadata": {},
   "outputs": [
    {
     "ename": "SyntaxError",
     "evalue": "name 'x' is parameter and global (<ipython-input-67-ec9be7093c01>, line 4)",
     "output_type": "error",
     "traceback": [
      "\u001b[1;36m  File \u001b[1;32m\"<ipython-input-67-ec9be7093c01>\"\u001b[1;36m, line \u001b[1;32m4\u001b[0m\n\u001b[1;33m    global x    # that means it delete the global variable above and overrit=de with new value but dn't refer this see next\u001b[0m\n\u001b[1;37m    ^\u001b[0m\n\u001b[1;31mSyntaxError\u001b[0m\u001b[1;31m:\u001b[0m name 'x' is parameter and global\n"
     ]
    }
   ],
   "source": [
    "x = 50\n",
    "\n",
    "def func(x):\n",
    "    global x    # that means it delete the global variable above and overrit=de with new value but dn't refer this see next\n",
    "    \n",
    "    # LOCAL REASSIGNEMENT ON A GLOBAL VARIABLE\n",
    "    \n",
    "    x = 250\n",
    "    print(f'I JUST LOCALLY CHANGED GLOBAL VARIABLE X TO {x}')\n",
    "   "
   ]
  },
  {
   "cell_type": "code",
   "execution_count": 68,
   "metadata": {},
   "outputs": [],
   "source": [
    "x = 50\n",
    "\n",
    "def func():\n",
    "    global x    # that means it delete the global variable above and overrit=de with new value but dn't refer this see next\n",
    "    \n",
    "    # LOCAL REASSIGNEMENT ON A GLOBAL VARIABLE\n",
    "    \n",
    "    x = 250\n",
    "    print(f'I JUST LOCALLY CHANGED GLOBAL VARIABLE X TO {x}')\n",
    "   "
   ]
  },
  {
   "cell_type": "code",
   "execution_count": 69,
   "metadata": {},
   "outputs": [
    {
     "name": "stdout",
     "output_type": "stream",
     "text": [
      "50\n"
     ]
    }
   ],
   "source": [
    "print(x)"
   ]
  },
  {
   "cell_type": "code",
   "execution_count": 71,
   "metadata": {},
   "outputs": [
    {
     "name": "stdout",
     "output_type": "stream",
     "text": [
      "I JUST LOCALLY CHANGED GLOBAL VARIABLE X TO 250\n"
     ]
    }
   ],
   "source": [
    "func() # see it only print updates variable"
   ]
  },
  {
   "cell_type": "code",
   "execution_count": 72,
   "metadata": {},
   "outputs": [],
   "source": [
    "# refer this same for global\n"
   ]
  },
  {
   "cell_type": "code",
   "execution_count": 73,
   "metadata": {},
   "outputs": [],
   "source": [
    "x = 50\n",
    "\n",
    "def func(x):\n",
    "    \n",
    "    \n",
    "    # LOCAL REASSIGNEMENT ON A GLOBAL VARIABLE\n",
    "    \n",
    "    x = 250\n",
    "    print(f'I JUST LOCALLY CHANGED GLOBAL VARIABLE X TO {x}')\n",
    "    return x      # so it behaves same as global that  ereturns updated variable\n",
    "   "
   ]
  },
  {
   "cell_type": "code",
   "execution_count": 74,
   "metadata": {},
   "outputs": [
    {
     "name": "stdout",
     "output_type": "stream",
     "text": [
      "50\n"
     ]
    }
   ],
   "source": [
    "print(x)"
   ]
  },
  {
   "cell_type": "code",
   "execution_count": 76,
   "metadata": {},
   "outputs": [
    {
     "name": "stdout",
     "output_type": "stream",
     "text": [
      "I JUST LOCALLY CHANGED GLOBAL VARIABLE X TO 250\n"
     ]
    }
   ],
   "source": [
    "x=func(x)"
   ]
  },
  {
   "cell_type": "code",
   "execution_count": 77,
   "metadata": {},
   "outputs": [
    {
     "data": {
      "text/plain": [
       "250"
      ]
     },
     "execution_count": 77,
     "metadata": {},
     "output_type": "execute_result"
    }
   ],
   "source": [
    "x"
   ]
  },
  {
   "cell_type": "code",
   "execution_count": null,
   "metadata": {},
   "outputs": [],
   "source": []
  }
 ],
 "metadata": {
  "kernelspec": {
   "display_name": "Python 3",
   "language": "python",
   "name": "python3"
  },
  "language_info": {
   "codemirror_mode": {
    "name": "ipython",
    "version": 3
   },
   "file_extension": ".py",
   "mimetype": "text/x-python",
   "name": "python",
   "nbconvert_exporter": "python",
   "pygments_lexer": "ipython3",
   "version": "3.8.3"
  }
 },
 "nbformat": 4,
 "nbformat_minor": 4
}
