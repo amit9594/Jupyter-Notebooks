{
 "cells": [
  {
   "cell_type": "code",
   "execution_count": 1,
   "metadata": {},
   "outputs": [],
   "source": [
    "import smtplib\n",
    "import getpass\n",
    "\n",
    "def send_mail(subject=\"\"):\n",
    "    m1 = getpass.getpass('enter email 1: ')\n",
    "    m2 = getpass.getpass('enter email 2: ')\n",
    "    m3 = getpass.getpass('enter email 3: ')\n",
    "\n",
    "    to = [m1,m2,m3]\n",
    "    gmail_user = getpass.getpass('Enter your mail: ')\n",
    "    gmail_pwd = getpass.getpass('enter App password: ')\n",
    "    smtp_object = smtplib.SMTP(\"smtp.gmail.com\", 587)\n",
    "    smtp_object.ehlo()\n",
    "    smtp_object.starttls()\n",
    "    smtp_object.ehlo\n",
    "    smtp_object.login(gmail_user, gmail_pwd)\n",
    "    header = 'To:' + \", \".join(to) + '\\n' + 'From: ' + gmail_user + '\\n' + 'Subject: ' + subject + '\\n'\n",
    "    msg = header + '\\n' + subject + '\\n\\n'\n",
    "    smtp_object.sendmail(gmail_user, to, msg)\n",
    "    smtp_object.close()"
   ]
  },
  {
   "cell_type": "code",
   "execution_count": 2,
   "metadata": {},
   "outputs": [
    {
     "name": "stdout",
     "output_type": "stream",
     "text": [
      "enter email 1: ········\n",
      "enter email 2: ········\n",
      "enter email 3: ········\n",
      "Enter your mail: ········\n",
      "enter App password: ········\n"
     ]
    }
   ],
   "source": [
    "send_mail('JOIN WITH UK OXFORD UNIVERSITY')"
   ]
  },
  {
   "cell_type": "code",
   "execution_count": null,
   "metadata": {},
   "outputs": [],
   "source": []
  },
  {
   "cell_type": "code",
   "execution_count": 3,
   "metadata": {},
   "outputs": [
    {
     "name": "stdout",
     "output_type": "stream",
     "text": [
      "enter range: 2\n",
      "Enter mail: ········\n",
      "Enter mail: ········\n",
      "['Vbtijektxjcqgtfu', 'Vbtijektxjcqgtfu']\n"
     ]
    }
   ],
   "source": [
    "# To accept multiple emails \n",
    "import getpass\n",
    "n = int(input('enter range: '))   # input for how many emails \n",
    "to = []  # placeholder \n",
    "for i in range(n):  \n",
    "    mails = getpass.getpass('Enter mail: ')   # Enter emails upto that range\n",
    "    to.append(mails) # append it and do operation on it which u want to send recieve etc.\n",
    "    \n",
    "print(to)"
   ]
  },
  {
   "cell_type": "code",
   "execution_count": 4,
   "metadata": {},
   "outputs": [],
   "source": [
    "import smtplib\n",
    "import getpass\n",
    "\n",
    "def send_multi_mail():\n",
    "    #m1 = getpass.getpass('enter email 1: ')\n",
    "    #m2 = getpass.getpass('enter email 2: ')\n",
    "    #m3 = getpass.getpass('enter email 3: ')\n",
    "    #to = [m1,m2,m3]\n",
    "    \n",
    "    # send mail to these mails\n",
    "    n = int(input('enter range: '))                            # input for how many emails \n",
    "    to = []                                                    # placeholder \n",
    "    for i in range(n):  \n",
    "        mails = getpass.getpass('Enter mail: ')                # Enter emails upto that range\n",
    "        to.append(mails)                                    # append it and do operation on it which u want to send recieve etc.\n",
    "\n",
    "    gmail_user = getpass.getpass('Enter your mail: ')\n",
    "    gmail_pwd = getpass.getpass('enter App password: ')\n",
    "    smtp_object = smtplib.SMTP(\"smtp.gmail.com\", 587)\n",
    "    smtp_object.ehlo()\n",
    "    smtp_object.starttls()\n",
    "    smtp_object.ehlo\n",
    "    smtp_object.login(gmail_user, gmail_pwd)\n",
    "    subject = input('Write subject: ')\n",
    "    body = input(\"write body part: \")\n",
    "    msg = 'Subject: '+subject+'\\n'+body\n",
    "    smtp_object.sendmail(gmail_user, to, msg)\n",
    "    smtp_object.close()"
   ]
  },
  {
   "cell_type": "code",
   "execution_count": 6,
   "metadata": {},
   "outputs": [
    {
     "name": "stdout",
     "output_type": "stream",
     "text": [
      "enter range: 2\n",
      "Enter mail: ········\n",
      "Enter mail: ········\n",
      "Enter your mail: ········\n",
      "enter App password: ········\n",
      "Write subject: My file\n",
      "write body part: check this one\n"
     ]
    }
   ],
   "source": [
    "send_multi_mail()  # check sent box in email of 21 march 2021"
   ]
  },
  {
   "cell_type": "code",
   "execution_count": 16,
   "metadata": {},
   "outputs": [],
   "source": [
    "def send_mail_with_attachment():\n",
    "    # Python code to illustrate Sending mail with attachments \n",
    "    # from your Gmail account  \n",
    "\n",
    "    # libraries to be imported \n",
    "    import smtplib \n",
    "    from email.mime.multipart import MIMEMultipart \n",
    "    from email.mime.text import MIMEText \n",
    "    from email.mime.base import MIMEBase \n",
    "    from email import encoders \n",
    "    import getpass\n",
    "\n",
    "    fromaddr = getpass.getpass('Enter your email: ')\n",
    "    toaddr = getpass.getpass('Enter reciver email: ')\n",
    "\n",
    "    # instance of MIMEMultipart \n",
    "    msg = MIMEMultipart() \n",
    "\n",
    "    # storing the senders email address   \n",
    "    msg['From'] = fromaddr \n",
    "\n",
    "    # storing the receivers email address  \n",
    "    msg['To'] = toaddr \n",
    "\n",
    "    # storing the subject  \n",
    "    msg['Subject'] = input('Enter subject: ')\n",
    "\n",
    "    # string to store the body of the mail \n",
    "    body = input('Enter Body Part: ')\n",
    "\n",
    "    # attach the body with the msg instance \n",
    "    msg.attach(MIMEText(body, 'plain')) \n",
    "    \n",
    "    import os\n",
    "     # open the file to be sent  \n",
    "    filename = input(\"Enter File_name_with_extension: \")\n",
    "    path = input(\"Enter Path of the file: \")\n",
    "    \n",
    "    fullpath= os.path.join(path, filename)\n",
    "    attachment = open(fullpath, \"rb\")\n",
    "    # open the file to be sent  \n",
    "    #filename = input(\"Enter File_name_with_extension: \")\n",
    "    #path = input(\"Enter Path of the file: \")\n",
    "    #attachment = open(path, \"rb\") \n",
    "\n",
    "    # instance of MIMEBase and named as p \n",
    "    p = MIMEBase('application', 'octet-stream') \n",
    "\n",
    "    # To change the payload into encoded form \n",
    "    p.set_payload((attachment).read()) \n",
    "\n",
    "    # encode into base64 \n",
    "    encoders.encode_base64(p) \n",
    "\n",
    "    p.add_header('Content-Disposition', \"attachment; filename= %s\" % filename) \n",
    "\n",
    "    # attach the instance 'p' to instance 'msg' \n",
    "    msg.attach(p) \n",
    "\n",
    "    # creates SMTP session \n",
    "    s = smtplib.SMTP('smtp.gmail.com', 587) \n",
    "\n",
    "    # start TLS for security \n",
    "    s.starttls() \n",
    "\n",
    "    # Authentication \n",
    "    s.login(fromaddr, getpass.getpass(\"Enter Password : \")) \n",
    "\n",
    "    # Converts the Multipart msg into a string \n",
    "    text = msg.as_string() \n",
    "\n",
    "    # sending the mail \n",
    "    s.sendmail(fromaddr, toaddr, text) \n",
    "\n",
    "    # terminating the session \n",
    "    s.quit() "
   ]
  },
  {
   "cell_type": "code",
   "execution_count": 17,
   "metadata": {},
   "outputs": [
    {
     "data": {
      "text/plain": [
       "'C:\\\\Users\\\\user1\\\\python 3\\\\working with emails'"
      ]
     },
     "execution_count": 17,
     "metadata": {},
     "output_type": "execute_result"
    }
   ],
   "source": [
    "pwd"
   ]
  },
  {
   "cell_type": "code",
   "execution_count": 18,
   "metadata": {},
   "outputs": [
    {
     "name": "stdout",
     "output_type": "stream",
     "text": [
      "Enter your email: ········\n",
      "Enter reciver email: ········\n",
      "Enter subject: XYZ\n",
      "Enter Body Part: Hello!\n",
      "Enter File_name_with_extension: Epass.pdf\n",
      "Enter Path of the file: C:\\Users\\user1\\Downloads\n",
      "Enter Password : ········\n"
     ]
    }
   ],
   "source": [
    "send_mail_with_attachment()"
   ]
  },
  {
   "cell_type": "code",
   "execution_count": 19,
   "metadata": {},
   "outputs": [],
   "source": [
    "# I think in windows it will not allow so getting permission error "
   ]
  },
  {
   "cell_type": "raw",
   "metadata": {},
   "source": [
    "When you enter the path at the input prompt, try using only one backslash between each part. Also, the safer way to append the file name is to use the os.path.join method -- it will add the correct backslashes.\n",
    "import os\n",
    "\n",
    "fullpath= os.path.join(path, filename)\n",
    "attachment = open(fullpath, \"rb\")"
   ]
  },
  {
   "cell_type": "code",
   "execution_count": null,
   "metadata": {},
   "outputs": [],
   "source": []
  }
 ],
 "metadata": {
  "kernelspec": {
   "display_name": "Python 3",
   "language": "python",
   "name": "python3"
  },
  "language_info": {
   "codemirror_mode": {
    "name": "ipython",
    "version": 3
   },
   "file_extension": ".py",
   "mimetype": "text/x-python",
   "name": "python",
   "nbconvert_exporter": "python",
   "pygments_lexer": "ipython3",
   "version": "3.8.3"
  }
 },
 "nbformat": 4,
 "nbformat_minor": 4
}
