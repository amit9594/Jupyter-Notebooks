{
 "cells": [
  {
   "cell_type": "markdown",
   "metadata": {},
   "source": [
    "# Viewing Emails"
   ]
  },
  {
   "cell_type": "code",
   "execution_count": 1,
   "metadata": {},
   "outputs": [],
   "source": [
    "import imaplib"
   ]
  },
  {
   "cell_type": "code",
   "execution_count": 2,
   "metadata": {},
   "outputs": [],
   "source": [
    "# Instace of imap\n",
    "\n",
    "M = imaplib.IMAP4_SSL('imap.gmail.com')  # pass imap... to connect with server"
   ]
  },
  {
   "cell_type": "code",
   "execution_count": 3,
   "metadata": {},
   "outputs": [],
   "source": [
    "# login to mail\n",
    "import getpass"
   ]
  },
  {
   "cell_type": "code",
   "execution_count": 6,
   "metadata": {},
   "outputs": [
    {
     "name": "stdout",
     "output_type": "stream",
     "text": [
      "Email: ········\n",
      "App Password: ········\n"
     ]
    }
   ],
   "source": [
    "email = getpass.getpass('Email: ')\n",
    "password = getpass.getpass('App Password: ')"
   ]
  },
  {
   "cell_type": "code",
   "execution_count": 7,
   "metadata": {},
   "outputs": [
    {
     "data": {
      "text/plain": [
       "('OK', [b'jadhavab2001@gmail.com authenticated (Success)'])"
      ]
     },
     "execution_count": 7,
     "metadata": {},
     "output_type": "execute_result"
    }
   ],
   "source": [
    "M.login(email,password)"
   ]
  },
  {
   "cell_type": "code",
   "execution_count": 8,
   "metadata": {},
   "outputs": [],
   "source": [
    "# so it gives msg as authentication success"
   ]
  },
  {
   "cell_type": "code",
   "execution_count": 9,
   "metadata": {},
   "outputs": [
    {
     "data": {
      "text/plain": [
       "('OK',\n",
       " [b'(\\\\HasNoChildren) \"/\" \"INBOX\"',\n",
       "  b'(\\\\HasChildren \\\\Noselect) \"/\" \"[Gmail]\"',\n",
       "  b'(\\\\All \\\\HasNoChildren) \"/\" \"[Gmail]/All Mail\"',\n",
       "  b'(\\\\Drafts \\\\HasNoChildren) \"/\" \"[Gmail]/Drafts\"',\n",
       "  b'(\\\\HasNoChildren \\\\Important) \"/\" \"[Gmail]/Important\"',\n",
       "  b'(\\\\HasNoChildren \\\\Sent) \"/\" \"[Gmail]/Sent Mail\"',\n",
       "  b'(\\\\HasNoChildren \\\\Junk) \"/\" \"[Gmail]/Spam\"',\n",
       "  b'(\\\\Flagged \\\\HasNoChildren) \"/\" \"[Gmail]/Starred\"',\n",
       "  b'(\\\\HasNoChildren \\\\Trash) \"/\" \"[Gmail]/Trash\"'])"
      ]
     },
     "execution_count": 9,
     "metadata": {},
     "output_type": "execute_result"
    }
   ],
   "source": [
    "M.list()"
   ]
  },
  {
   "cell_type": "code",
   "execution_count": 11,
   "metadata": {},
   "outputs": [
    {
     "data": {
      "text/plain": [
       "('OK', [b'1879'])"
      ]
     },
     "execution_count": 11,
     "metadata": {},
     "output_type": "execute_result"
    }
   ],
   "source": [
    "M.select('inbox')"
   ]
  },
  {
   "cell_type": "markdown",
   "metadata": {},
   "source": [
    "from above o/p it gives OK, and some sort of connection, no to your inbox.\n",
    "\n",
    "Your number will likely be different than mine here."
   ]
  },
  {
   "cell_type": "code",
   "execution_count": 12,
   "metadata": {},
   "outputs": [],
   "source": [
    "# Now time to serach a particular msges from email\n",
    "\n",
    "# thse are some keywords useful to fetch data from email see ss 10\n",
    "\n"
   ]
  },
  {
   "cell_type": "raw",
   "metadata": {},
   "source": [
    "# here if u want to search all inbox before some data see syntax in ss 10 or from some email \n",
    "# here we will see recive email which we were send myself in previous session by using SUBJECT keyword"
   ]
  },
  {
   "cell_type": "code",
   "execution_count": 13,
   "metadata": {},
   "outputs": [],
   "source": [
    "typ ,sended_email = M.search(None,'SUBJECT \"Multiple mails sending\"')\n",
    "\n",
    "#or to search mails before some date\n",
    "#typ ,sended_email = M.search(None,'BEFORE 01-DEC-2020')\n",
    "\n",
    "#from\n",
    "#typ ,sended_email = M.search(None,'FROM subodh.karve@gmail.com')\n",
    "#or typ ,sended_email = M.search(None,'FROM subodh.karve')"
   ]
  },
  {
   "cell_type": "code",
   "execution_count": 14,
   "metadata": {},
   "outputs": [
    {
     "data": {
      "text/plain": [
       "'OK'"
      ]
     },
     "execution_count": 14,
     "metadata": {},
     "output_type": "execute_result"
    }
   ],
   "source": [
    "typ"
   ]
  },
  {
   "cell_type": "code",
   "execution_count": 15,
   "metadata": {},
   "outputs": [
    {
     "data": {
      "text/plain": [
       "[b'1879']"
      ]
     },
     "execution_count": 15,
     "metadata": {},
     "output_type": "execute_result"
    }
   ],
   "source": [
    "sended_email"
   ]
  },
  {
   "cell_type": "code",
   "execution_count": 16,
   "metadata": {},
   "outputs": [],
   "source": [
    "# this above 1879 is inuque id for that sended mail "
   ]
  },
  {
   "cell_type": "code",
   "execution_count": 18,
   "metadata": {},
   "outputs": [
    {
     "data": {
      "text/plain": [
       "b'1879'"
      ]
     },
     "execution_count": 18,
     "metadata": {},
     "output_type": "execute_result"
    }
   ],
   "source": [
    "sended_email[0]"
   ]
  },
  {
   "cell_type": "code",
   "execution_count": 19,
   "metadata": {},
   "outputs": [],
   "source": [
    "email_id = sended_email[0]"
   ]
  },
  {
   "cell_type": "code",
   "execution_count": 20,
   "metadata": {},
   "outputs": [],
   "source": [
    "result,email_data = M.fetch(email_id,'(RFC822)')   # RFC822 is a protocol"
   ]
  },
  {
   "cell_type": "code",
   "execution_count": 21,
   "metadata": {},
   "outputs": [
    {
     "data": {
      "text/plain": [
       "[(b'1879 (RFC822 {609}',\n",
       "  b'Bcc: Jadhavab2001@gmail.com, Sj3991243@gmail.com\\r\\nReturn-Path: <jadhavab2001@gmail.com>\\r\\nReceived: from [192.168.43.110] ([106.193.199.79])\\r\\n        by smtp.gmail.com with ESMTPSA id z8sm10649277pjr.57.2021.03.21.05.32.40\\r\\n        (version=TLS1_3 cipher=TLS_AES_256_GCM_SHA384 bits=256/256);\\r\\n        Sun, 21 Mar 2021 05:32:42 -0700 (PDT)\\r\\nMessage-ID: <60573cea.1c69fb81.622fc.971e@mx.google.com>\\r\\nDate: Sun, 21 Mar 2021 05:32:42 -0700 (PDT)\\r\\nFrom: jadhavab2001@gmail.com\\r\\nSubject: Multiple mails sending\\r\\n\\r\\nHello, I am aj from oxford univeristy(UK),please join to my team if you want to come to UK thanks! \\r\\n'),\n",
       " b')']"
      ]
     },
     "execution_count": 21,
     "metadata": {},
     "output_type": "execute_result"
    }
   ],
   "source": [
    "email_data"
   ]
  },
  {
   "cell_type": "code",
   "execution_count": 22,
   "metadata": {},
   "outputs": [],
   "source": [
    "# see above o/p contails some information about email and see last 2-3 line which we were send this same mail with subject and body part \n",
    "# it contains as a list of tuples so we can grab needed information only i.t subject and body part see next"
   ]
  },
  {
   "cell_type": "code",
   "execution_count": 23,
   "metadata": {},
   "outputs": [],
   "source": [
    "raw_email = email_data[0][1]"
   ]
  },
  {
   "cell_type": "code",
   "execution_count": 24,
   "metadata": {},
   "outputs": [],
   "source": [
    "raw_email_string = raw_email.decode('utf-8')\n",
    "# here need to decode it.\n",
    "#And the reason for that is because there may be symbols such as the at symbol, which is confusing the\n",
    "#python sometimes.\n",
    "#So we want to clarify that we're going to decode it if UTF Dash eight encoding."
   ]
  },
  {
   "cell_type": "code",
   "execution_count": 25,
   "metadata": {},
   "outputs": [],
   "source": [
    "import email"
   ]
  },
  {
   "cell_type": "code",
   "execution_count": 26,
   "metadata": {},
   "outputs": [],
   "source": [
    "email_messege = email.message_from_string(raw_email_string)"
   ]
  },
  {
   "cell_type": "code",
   "execution_count": 27,
   "metadata": {},
   "outputs": [
    {
     "data": {
      "text/plain": [
       "<email.message.Message at 0x76839a0>"
      ]
     },
     "execution_count": 27,
     "metadata": {},
     "output_type": "execute_result"
    }
   ],
   "source": [
    "email_messege"
   ]
  },
  {
   "cell_type": "code",
   "execution_count": 34,
   "metadata": {},
   "outputs": [
    {
     "name": "stdout",
     "output_type": "stream",
     "text": [
      "b'Hello, I am aj from oxford univeristy(UK),please join to my team if you want to come to UK thanks! \\r\\n'\n"
     ]
    }
   ],
   "source": [
    "for part in email_messege.walk():\n",
    "    if part.get_content_type() == 'text/plain':  # here if email body contains some link so use 'text/html\n",
    "        body = part.get_payload(decode=True)\n",
    "        print(body)\n",
    "    "
   ]
  },
  {
   "cell_type": "code",
   "execution_count": 31,
   "metadata": {},
   "outputs": [],
   "source": [
    "# so see above o/p which return body part\n",
    "# and this B indicates that it's a bite string just because the way we read in that e-mail\n",
    "\n"
   ]
  },
  {
   "cell_type": "markdown",
   "metadata": {},
   "source": [
    "OK.\n",
    "\n",
    "That's it for the basics of checking your received email with Python.\n",
    "\n",
    "Let's quickly go over all the steps.\n",
    "\n",
    "All you have to do is import a map lib, make the connection to your map server.\n",
    "\n",
    "So it's a map that G.M. dot com or I'm up that Yahoo dot com, depending on what your actual domain\n",
    "\n",
    "provider is.\n",
    "\n",
    "Then grab your email and password, log in.\n",
    "\n",
    "You can see a list of options, but typically you'll be searching your inbox and then using the special\n",
    "\n",
    "syntax code.\n",
    "\n",
    "You search for whatever you're looking for, whether it's particular subject, whether it's particular\n",
    "\n",
    "email and it's from a date that it was sent on.\n",
    "\n",
    "You get back the type and data and the data recall is just a list of actual email I.D. Once you have\n",
    "\n",
    "the email I.D., you need to fetch them.\n",
    "\n",
    "And here are fetching a singular email I.D. and we pass in this protocol for fetching it.\n",
    "\n",
    "And then we have the email data and it's kind of up to you what you want to do at that point, because\n",
    "\n",
    "it's a bit of a mess.\n",
    "\n",
    "But one way you can deal fit is using this email library and then using this walk functionality to check\n",
    "\n",
    "for particular content types.\n",
    "\n",
    "All right.\n",
    "\n",
    "That's it.\n",
    "\n",
    "\n"
   ]
  },
  {
   "cell_type": "code",
   "execution_count": null,
   "metadata": {},
   "outputs": [],
   "source": []
  }
 ],
 "metadata": {
  "kernelspec": {
   "display_name": "Python 3",
   "language": "python",
   "name": "python3"
  },
  "language_info": {
   "codemirror_mode": {
    "name": "ipython",
    "version": 3
   },
   "file_extension": ".py",
   "mimetype": "text/x-python",
   "name": "python",
   "nbconvert_exporter": "python",
   "pygments_lexer": "ipython3",
   "version": "3.8.3"
  }
 },
 "nbformat": 4,
 "nbformat_minor": 4
}
