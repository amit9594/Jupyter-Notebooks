{
 "cells": [
  {
   "cell_type": "code",
   "execution_count": 1,
   "metadata": {},
   "outputs": [],
   "source": [
    "import getpass"
   ]
  },
  {
   "cell_type": "code",
   "execution_count": 2,
   "metadata": {},
   "outputs": [
    {
     "name": "stdout",
     "output_type": "stream",
     "text": [
      "Enter email: ········\n",
      "Enter password: ········\n",
      "('nvdgnagjav', 'vdgsgrs')\n"
     ]
    }
   ],
   "source": [
    "mail = getpass.getpass('Enter email: ')\n",
    "pd = getpass.getpass('Enter password: ')\n",
    "t = (mail,pd)\n",
    "print(t)"
   ]
  },
  {
   "cell_type": "code",
   "execution_count": 3,
   "metadata": {},
   "outputs": [
    {
     "data": {
      "text/plain": [
       "10"
      ]
     },
     "execution_count": 3,
     "metadata": {},
     "output_type": "execute_result"
    }
   ],
   "source": [
    "len(mail)"
   ]
  },
  {
   "cell_type": "code",
   "execution_count": 4,
   "metadata": {},
   "outputs": [],
   "source": [
    "import smtplib"
   ]
  },
  {
   "cell_type": "code",
   "execution_count": 5,
   "metadata": {},
   "outputs": [],
   "source": [
    "smtp_obj = smtplib.SMTP('smtp.gmail.com',587)"
   ]
  },
  {
   "cell_type": "raw",
   "metadata": {},
   "source": [
    "# incase if port no 587 doesnt work try for 465 if it also will not workd then try for any random no. if getting any sort of error while running above port "
   ]
  },
  {
   "cell_type": "markdown",
   "metadata": {},
   "source": [
    "The next step we need to do is run an e h.\n",
    "\n",
    "L o method command, which greets the server and establishes the connection.\n",
    "\n",
    "This method calls should be done directly after creating the object.\n",
    "\n",
    "So make sure you follow these steps.\n",
    "\n",
    "Exactly.\n",
    "\n",
    "Calling it after.\n",
    "\n",
    "Other methods will basically result in errors and connecting later on.\n",
    "\n",
    "So right after you create the object, the very next line should be running this E.H., L.O..\n",
    "\n",
    "So we'll say grab our object and run E.H. Yellow, which essentially greets the server.\n",
    "\n",
    "And when you run this, you should see some sort of code that starts with 250.\n",
    "\n",
    "And this basically says that we had a successful connection.\n",
    "\n",
    "Now, when using the Port five, eight, seven.\n",
    "\n",
    "This means you're using t ellas encryption.\n",
    "\n",
    "So basically all email as you send it is encrypted.\n",
    "\n",
    "That way people can't read your emails without being the actual recipient.\n",
    "\n",
    "And in order to actually initiate this sort of encryption, we're going to grab our object again.\n",
    "\n",
    "s.M T.P object.\n",
    "\n",
    "And then we'll call the method starts T.L. s."
   ]
  },
  {
   "cell_type": "code",
   "execution_count": 6,
   "metadata": {},
   "outputs": [
    {
     "data": {
      "text/plain": [
       "(250,\n",
       " b'smtp.gmail.com at your service, [106.193.199.79]\\nSIZE 35882577\\n8BITMIME\\nSTARTTLS\\nENHANCEDSTATUSCODES\\nPIPELINING\\nCHUNKING\\nSMTPUTF8')"
      ]
     },
     "execution_count": 6,
     "metadata": {},
     "output_type": "execute_result"
    }
   ],
   "source": [
    "smtp_obj.ehlo()"
   ]
  },
  {
   "cell_type": "markdown",
   "metadata": {},
   "source": [
    "And in order to actually initiate this sort of encryption, we're going to grab our object again.\n",
    "\n",
    "s.M T.P object.\n",
    "\n",
    "And then we'll call the method starts T.L. s.\n",
    "\n",
    "If you ended up using the port four, six, five, you can basically skip the step because that means\n",
    "\n",
    "you're using SSL."
   ]
  },
  {
   "cell_type": "code",
   "execution_count": 7,
   "metadata": {},
   "outputs": [
    {
     "data": {
      "text/plain": [
       "(220, b'2.0.0 Ready to start TLS')"
      ]
     },
     "execution_count": 7,
     "metadata": {},
     "output_type": "execute_result"
    }
   ],
   "source": [
    "smtp_obj.starttls()"
   ]
  },
  {
   "cell_type": "markdown",
   "metadata": {},
   "source": [
    "now it's time to set up the e-mail and the passwords.\n",
    "\n",
    "Keep in mind that you should never save the raw of your password or e-mail in a script, because\n",
    "\n",
    "basically that means that anyone that sees the script will be able to then see your e-mail and password.\n",
    "\n",
    "Instead, what you should do is try using the input function to get that information.\n",
    "\n",
    "If you don't want your password to be visible when you're typing it in, you can also use the built-In\n",
    "\n",
    "get pass library that will hide your password as you type it in."
   ]
  },
  {
   "cell_type": "code",
   "execution_count": 8,
   "metadata": {},
   "outputs": [
    {
     "name": "stdout",
     "output_type": "stream",
     "text": [
      "Enter pd: bdfgse@gmail.com\n"
     ]
    }
   ],
   "source": [
    "password = input('Enter pd: ')"
   ]
  },
  {
   "cell_type": "code",
   "execution_count": 9,
   "metadata": {},
   "outputs": [],
   "source": [
    "# see above while typing it it gets visible so its not encrypted for that use getpass"
   ]
  },
  {
   "cell_type": "code",
   "execution_count": 10,
   "metadata": {},
   "outputs": [],
   "source": [
    "import getpass"
   ]
  },
  {
   "cell_type": "code",
   "execution_count": 11,
   "metadata": {},
   "outputs": [
    {
     "name": "stdout",
     "output_type": "stream",
     "text": [
      "enter password: ········\n"
     ]
    },
    {
     "data": {
      "text/plain": [
       "'myfile@gmail.com'"
      ]
     },
     "execution_count": 11,
     "metadata": {},
     "output_type": "execute_result"
    }
   ],
   "source": [
    "getpass.getpass('enter password: ')"
   ]
  },
  {
   "cell_type": "code",
   "execution_count": 12,
   "metadata": {},
   "outputs": [],
   "source": [
    "# here also its visible even if i enter password in encrypted form so stor it into in one vaiable"
   ]
  },
  {
   "cell_type": "code",
   "execution_count": 13,
   "metadata": {},
   "outputs": [
    {
     "name": "stdout",
     "output_type": "stream",
     "text": [
      "Password please: ········\n"
     ]
    }
   ],
   "source": [
    "password = getpass.getpass('Password please: ')"
   ]
  },
  {
   "cell_type": "markdown",
   "metadata": {},
   "source": [
    "And you can type a really long password here.\n",
    "\n",
    "And even after you run it, it won't really indicate how long your password was.\n",
    "\n",
    "So this is a secure way to pass on information for people that are viewing your computer."
   ]
  },
  {
   "cell_type": "raw",
   "metadata": {},
   "source": [
    "# now to send email or receiving emial we have to create app passwrod by 2 step verification so creat a app password use it here and don't use normal password use app password only "
   ]
  },
  {
   "cell_type": "raw",
   "metadata": {},
   "source": [
    "email = getpass.getpass('Email: ')\n",
    "password = getpass.getpass('Password: ')  # use app password not normal password\n",
    "smtp_obj.login(email,password)   # to login above email"
   ]
  },
  {
   "cell_type": "code",
   "execution_count": 20,
   "metadata": {},
   "outputs": [
    {
     "name": "stdout",
     "output_type": "stream",
     "text": [
      "Email: ········\n",
      "Password: ········\n"
     ]
    },
    {
     "data": {
      "text/plain": [
       "(503, b'5.5.1 MAIL first. z2sm11083125pfq.198 - gsmtp')"
      ]
     },
     "execution_count": 20,
     "metadata": {},
     "output_type": "execute_result"
    }
   ],
   "source": [
    "email = getpass.getpass('Email: ')\n",
    "password = getpass.getpass('Password: ')  # use app password not normal password\n",
    "smtp_obj.login(email,password)   # to login above email\n"
   ]
  },
  {
   "cell_type": "raw",
   "metadata": {},
   "source": [
    "# if there is an authintication error occur then check 2step varification if verified or by deleting app password create new one "
   ]
  },
  {
   "cell_type": "raw",
   "metadata": {},
   "source": [
    "# and after login it again or run above it may gets disconnected so send immediately after login it"
   ]
  },
  {
   "cell_type": "code",
   "execution_count": 21,
   "metadata": {},
   "outputs": [
    {
     "name": "stdout",
     "output_type": "stream",
     "text": [
      "enter the subject line: My Python Script\n",
      "enter the body part: Hello here is my python script from aj\n"
     ]
    },
    {
     "data": {
      "text/plain": [
       "{}"
      ]
     },
     "execution_count": 21,
     "metadata": {},
     "output_type": "execute_result"
    }
   ],
   "source": [
    "# here i am sendind email to myself so both from and to add will be my email \n",
    "from_address = email\n",
    "to_address = email\n",
    "subject = input('enter the subject line: ')\n",
    "body = input('enter the body part: ')\n",
    "# to print mail format\n",
    "msg = 'Subject: '+subject+'\\n'+body\n",
    "\n",
    "#send mail\n",
    "smtp_obj.sendmail(from_address,to_address,msg)"
   ]
  },
  {
   "cell_type": "code",
   "execution_count": 22,
   "metadata": {},
   "outputs": [],
   "source": [
    "# if we get {}  o/p that means it executed and sends msg properly "
   ]
  },
  {
   "cell_type": "code",
   "execution_count": 23,
   "metadata": {},
   "outputs": [
    {
     "data": {
      "text/plain": [
       "(221, b'2.0.0 closing connection z2sm11083125pfq.198 - gsmtp')"
      ]
     },
     "execution_count": 23,
     "metadata": {},
     "output_type": "execute_result"
    }
   ],
   "source": [
    "# and to quit this sending msg \n",
    "\n",
    "smtp_obj.quit()"
   ]
  },
  {
   "cell_type": "code",
   "execution_count": 24,
   "metadata": {},
   "outputs": [],
   "source": [
    "# see ss of 9 which sended email of this.\n",
    "\n",
    "# see in next session advance part of sending email"
   ]
  },
  {
   "cell_type": "code",
   "execution_count": null,
   "metadata": {},
   "outputs": [],
   "source": []
  }
 ],
 "metadata": {
  "kernelspec": {
   "display_name": "Python 3",
   "language": "python",
   "name": "python3"
  },
  "language_info": {
   "codemirror_mode": {
    "name": "ipython",
    "version": 3
   },
   "file_extension": ".py",
   "mimetype": "text/x-python",
   "name": "python",
   "nbconvert_exporter": "python",
   "pygments_lexer": "ipython3",
   "version": "3.8.3"
  }
 },
 "nbformat": 4,
 "nbformat_minor": 4
}
