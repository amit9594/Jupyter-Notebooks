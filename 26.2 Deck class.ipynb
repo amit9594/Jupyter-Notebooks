{
 "cells": [
  {
   "cell_type": "markdown",
   "metadata": {},
   "source": [
    "# Deck Class\n",
    "\n",
    "# Using a class within another class"
   ]
  },
  {
   "cell_type": "markdown",
   "metadata": {},
   "source": [
    "# 1)instantaite a new deck\n",
    "\n",
    "#1) creat all 52 card objects\n",
    "#2) Holds as a list of card objects\n"
   ]
  },
  {
   "cell_type": "markdown",
   "metadata": {},
   "source": [
    "# 2)shuffle a deck through a method call\n",
    "\n",
    "#1) Random library shuffle() function\n"
   ]
  },
  {
   "cell_type": "markdown",
   "metadata": {},
   "source": [
    "# 3)Deal cards from the Deck object\n",
    "\n",
    "#1) Pop method from cards list"
   ]
  },
  {
   "cell_type": "code",
   "execution_count": 1,
   "metadata": {},
   "outputs": [],
   "source": [
    "# we will see that the deck calss holds a list of card objects\n",
    "\n",
    "# this means the deck class will return card class object instances. not just normal python data types \n",
    "\n",
    "# so this is new for us which is not seen before\n",
    "\n",
    "# kets get started\n",
    "\n",
    "# this is not a inheritance or polymorphism or crating int or str list so it just holding cards list objects see how??"
   ]
  },
  {
   "cell_type": "code",
   "execution_count": 2,
   "metadata": {},
   "outputs": [],
   "source": [
    "# Global variables\n",
    "\n",
    "import random # for shuffling\n",
    "\n",
    "suits = ('Hearts','Diamond','Spade','Club')\n",
    "\n",
    "ranks = ('Two','Three','Four','Five','Six','Seven',\n",
    "        \n",
    "        'Eight','Nine','Ten','Jack','Queen','King','Ace'\n",
    "         \n",
    "         \n",
    "        )\n",
    "\n",
    "value = {'Two':2,'two':2,'Three':3,'three':3,'Four':4,'four':4,'Five':5,'five':5,'Six':6,'six':6,'Seven':7,'seven':7,\n",
    "        \n",
    "        'Eight':8,'eight':8,'Nine':9,'nine':9,'Ten':10,'Jack':11,'jack':11,'Queen':12,'queen':12,'King':13,'king':13,'Ace':14,\n",
    "         \n",
    "         'ace':14\n",
    "        \n",
    "        }"
   ]
  },
  {
   "cell_type": "code",
   "execution_count": 3,
   "metadata": {},
   "outputs": [],
   "source": [
    "class card:\n",
    "    \n",
    "    def __init__(self,suit,rank):\n",
    "        \n",
    "        self.suit = suit\n",
    "        self.rank = rank\n",
    "        self.value = value[rank]\n",
    "        \n",
    "    def __str__(self):\n",
    "        \n",
    "        return self.rank + \" of \" + self.suit"
   ]
  },
  {
   "cell_type": "code",
   "execution_count": 4,
   "metadata": {},
   "outputs": [],
   "source": [
    "# displaying all possible cards i.e suits with its rank\n",
    "\n",
    "class Deck:\n",
    "    \n",
    "    def __init__(self):\n",
    "        \n",
    "        self.all_cards = []   # bcoz at very start of game there is no cards so to get 52 cards call card class to holds all cards here\n",
    "        \n",
    "        for suit in suits:\n",
    "            for rank in ranks:\n",
    "                \n",
    "                # creat the instace of card object\n",
    "                created_card = card(suit,rank)\n",
    "                \n",
    "                self.all_cards.append(created_card)"
   ]
  },
  {
   "cell_type": "code",
   "execution_count": 5,
   "metadata": {},
   "outputs": [],
   "source": [
    "new_deck = Deck()"
   ]
  },
  {
   "cell_type": "code",
   "execution_count": 6,
   "metadata": {},
   "outputs": [
    {
     "data": {
      "text/plain": [
       "[<__main__.card at 0x4db3040>,\n",
       " <__main__.card at 0x4db30a0>,\n",
       " <__main__.card at 0x4db3190>,\n",
       " <__main__.card at 0x4db3250>,\n",
       " <__main__.card at 0x4db32b0>,\n",
       " <__main__.card at 0x4db3310>,\n",
       " <__main__.card at 0x4db33a0>,\n",
       " <__main__.card at 0x4db3430>,\n",
       " <__main__.card at 0x4d761f0>,\n",
       " <__main__.card at 0x4d7a160>,\n",
       " <__main__.card at 0x4d7aa00>,\n",
       " <__main__.card at 0x4d7a040>,\n",
       " <__main__.card at 0x4db34c0>,\n",
       " <__main__.card at 0x4db3490>,\n",
       " <__main__.card at 0x4db3550>,\n",
       " <__main__.card at 0x4db35b0>,\n",
       " <__main__.card at 0x4db35e0>,\n",
       " <__main__.card at 0x4db3160>,\n",
       " <__main__.card at 0x4db3670>,\n",
       " <__main__.card at 0x4db36d0>,\n",
       " <__main__.card at 0x4db3730>,\n",
       " <__main__.card at 0x4db3790>,\n",
       " <__main__.card at 0x4db37f0>,\n",
       " <__main__.card at 0x4db3850>,\n",
       " <__main__.card at 0x4db38b0>,\n",
       " <__main__.card at 0x4db3910>,\n",
       " <__main__.card at 0x4db3970>,\n",
       " <__main__.card at 0x4db39d0>,\n",
       " <__main__.card at 0x4db3a30>,\n",
       " <__main__.card at 0x4db3a90>,\n",
       " <__main__.card at 0x4db3af0>,\n",
       " <__main__.card at 0x4db3b50>,\n",
       " <__main__.card at 0x4db3bb0>,\n",
       " <__main__.card at 0x4db3c10>,\n",
       " <__main__.card at 0x4db3c70>,\n",
       " <__main__.card at 0x4db3cd0>,\n",
       " <__main__.card at 0x4db3dc0>,\n",
       " <__main__.card at 0x4db3eb0>,\n",
       " <__main__.card at 0x4db3f10>,\n",
       " <__main__.card at 0x4db3f70>,\n",
       " <__main__.card at 0x4db3fd0>,\n",
       " <__main__.card at 0x4db3d30>,\n",
       " <__main__.card at 0x4db3e20>,\n",
       " <__main__.card at 0x4db3d60>,\n",
       " <__main__.card at 0x4dbb070>,\n",
       " <__main__.card at 0x4dbb0d0>,\n",
       " <__main__.card at 0x4dbb130>,\n",
       " <__main__.card at 0x4dbb190>,\n",
       " <__main__.card at 0x4dbb1f0>,\n",
       " <__main__.card at 0x4dbb250>,\n",
       " <__main__.card at 0x4dbb2b0>,\n",
       " <__main__.card at 0x4dbb310>]"
      ]
     },
     "execution_count": 6,
     "metadata": {},
     "output_type": "execute_result"
    }
   ],
   "source": [
    "new_deck.all_cards   # now see we can see here all cards are created but it gives location of cards"
   ]
  },
  {
   "cell_type": "code",
   "execution_count": 7,
   "metadata": {},
   "outputs": [
    {
     "data": {
      "text/plain": [
       "52"
      ]
     },
     "execution_count": 7,
     "metadata": {},
     "output_type": "execute_result"
    }
   ],
   "source": [
    "len(new_deck.all_cards)"
   ]
  },
  {
   "cell_type": "code",
   "execution_count": 8,
   "metadata": {},
   "outputs": [],
   "source": [
    "first_card = new_deck.all_cards[0]"
   ]
  },
  {
   "cell_type": "code",
   "execution_count": 9,
   "metadata": {},
   "outputs": [
    {
     "name": "stdout",
     "output_type": "stream",
     "text": [
      "Two of Hearts\n"
     ]
    }
   ],
   "source": [
    "print(first_card)     # see 1st card is this how ?? \n",
    "\n",
    "# in suit there is hearts at 0th index in tuple\n",
    "# in rank two is 1st string "
   ]
  },
  {
   "cell_type": "code",
   "execution_count": 10,
   "metadata": {},
   "outputs": [],
   "source": [
    "last_card = new_deck.all_cards[-1]"
   ]
  },
  {
   "cell_type": "code",
   "execution_count": 11,
   "metadata": {},
   "outputs": [
    {
     "name": "stdout",
     "output_type": "stream",
     "text": [
      "Ace of Club\n"
     ]
    }
   ],
   "source": [
    "print(last_card)"
   ]
  },
  {
   "cell_type": "code",
   "execution_count": 12,
   "metadata": {},
   "outputs": [],
   "source": [
    "# display all 52 cards"
   ]
  },
  {
   "cell_type": "code",
   "execution_count": 13,
   "metadata": {},
   "outputs": [
    {
     "name": "stdout",
     "output_type": "stream",
     "text": [
      "Two of Hearts\n",
      "Three of Hearts\n",
      "Four of Hearts\n",
      "Five of Hearts\n",
      "Six of Hearts\n",
      "Seven of Hearts\n",
      "Eight of Hearts\n",
      "Nine of Hearts\n",
      "Ten of Hearts\n",
      "Jack of Hearts\n",
      "Queen of Hearts\n",
      "King of Hearts\n",
      "Ace of Hearts\n",
      "Two of Diamond\n",
      "Three of Diamond\n",
      "Four of Diamond\n",
      "Five of Diamond\n",
      "Six of Diamond\n",
      "Seven of Diamond\n",
      "Eight of Diamond\n",
      "Nine of Diamond\n",
      "Ten of Diamond\n",
      "Jack of Diamond\n",
      "Queen of Diamond\n",
      "King of Diamond\n",
      "Ace of Diamond\n",
      "Two of Spade\n",
      "Three of Spade\n",
      "Four of Spade\n",
      "Five of Spade\n",
      "Six of Spade\n",
      "Seven of Spade\n",
      "Eight of Spade\n",
      "Nine of Spade\n",
      "Ten of Spade\n",
      "Jack of Spade\n",
      "Queen of Spade\n",
      "King of Spade\n",
      "Ace of Spade\n",
      "Two of Club\n",
      "Three of Club\n",
      "Four of Club\n",
      "Five of Club\n",
      "Six of Club\n",
      "Seven of Club\n",
      "Eight of Club\n",
      "Nine of Club\n",
      "Ten of Club\n",
      "Jack of Club\n",
      "Queen of Club\n",
      "King of Club\n",
      "Ace of Club\n"
     ]
    }
   ],
   "source": [
    "for card_object in new_deck.all_cards:\n",
    "    print(card_object)"
   ]
  },
  {
   "cell_type": "code",
   "execution_count": 14,
   "metadata": {},
   "outputs": [],
   "source": [
    "# now task is at start of game i have to shufle the cards see how??\n"
   ]
  },
  {
   "cell_type": "code",
   "execution_count": 15,
   "metadata": {},
   "outputs": [],
   "source": [
    "mylist = [1,2,4,65,6]"
   ]
  },
  {
   "cell_type": "code",
   "execution_count": 16,
   "metadata": {},
   "outputs": [
    {
     "name": "stdout",
     "output_type": "stream",
     "text": [
      "[6, 2, 1, 4, 65]\n"
     ]
    }
   ],
   "source": [
    "# m-1\n",
    "\n",
    "random.shuffle(mylist)\n",
    "print(mylist)"
   ]
  },
  {
   "cell_type": "code",
   "execution_count": 17,
   "metadata": {},
   "outputs": [
    {
     "name": "stdout",
     "output_type": "stream",
     "text": [
      "None\n"
     ]
    }
   ],
   "source": [
    "new_shuffle = random.shuffle(mylist)\n",
    "print(new_shuffle)  # so assign variable will not return anything it only shuffle the list so we don't have to return "
   ]
  },
  {
   "cell_type": "code",
   "execution_count": 18,
   "metadata": {},
   "outputs": [],
   "source": [
    "# 2nd way to import shuffle or u can go for method 1 directly shuffle \n",
    "# from random import shuffle"
   ]
  },
  {
   "cell_type": "code",
   "execution_count": 38,
   "metadata": {},
   "outputs": [],
   "source": [
    "class Deck:\n",
    "    \n",
    "    def __init__(self):\n",
    "        \n",
    "        self.all_cards = []   # bcoz at very start of game there is no cards so to get 52 cards call card class to holds all cards here\n",
    "        \n",
    "        for suit in suits:\n",
    "            for rank in ranks:\n",
    "                \n",
    "                # creat the card object\n",
    "                created_card = card(suit,rank)\n",
    "                \n",
    "                self.all_cards.append(created_card)\n",
    "                \n",
    "    # see indentation \n",
    "    \n",
    "    def shuffle(self):\n",
    "        random.shuffle(self.all_cards)   # so here we don't have to return bcoz it will not return anything we have to just shuufle cards"
   ]
  },
  {
   "cell_type": "code",
   "execution_count": 39,
   "metadata": {},
   "outputs": [],
   "source": [
    "new_deck = Deck()"
   ]
  },
  {
   "cell_type": "code",
   "execution_count": 40,
   "metadata": {},
   "outputs": [],
   "source": [
    "first_card = new_deck.all_cards[0]"
   ]
  },
  {
   "cell_type": "code",
   "execution_count": 41,
   "metadata": {},
   "outputs": [
    {
     "name": "stdout",
     "output_type": "stream",
     "text": [
      "Two of Hearts\n"
     ]
    }
   ],
   "source": [
    "print(first_card)"
   ]
  },
  {
   "cell_type": "code",
   "execution_count": 42,
   "metadata": {},
   "outputs": [
    {
     "name": "stdout",
     "output_type": "stream",
     "text": [
      "Five of Hearts\n"
     ]
    }
   ],
   "source": [
    "# after shuffling\n",
    "\n",
    "new_deck.shuffle()\n",
    "first_card = new_deck.all_cards[0]\n",
    "print(first_card)\n",
    "\n",
    "\n"
   ]
  },
  {
   "cell_type": "code",
   "execution_count": 44,
   "metadata": {},
   "outputs": [],
   "source": [
    "# now see 1st card is Five of Hearts previous was two of hearts sowe shuffle the cards"
   ]
  },
  {
   "cell_type": "code",
   "execution_count": 25,
   "metadata": {},
   "outputs": [],
   "source": [
    "last_card = new_deck.all_cards[-1]"
   ]
  },
  {
   "cell_type": "code",
   "execution_count": 26,
   "metadata": {},
   "outputs": [
    {
     "name": "stdout",
     "output_type": "stream",
     "text": [
      "Seven of Hearts\n"
     ]
    }
   ],
   "source": [
    "print(last_card)"
   ]
  },
  {
   "cell_type": "code",
   "execution_count": 27,
   "metadata": {},
   "outputs": [],
   "source": [
    "# now see last card is eight of club previous was ace of club"
   ]
  },
  {
   "cell_type": "markdown",
   "metadata": {},
   "source": [
    "# now we want to remove actual card from deck see how??\n"
   ]
  },
  {
   "cell_type": "code",
   "execution_count": 47,
   "metadata": {},
   "outputs": [],
   "source": [
    "class Deck:\n",
    "    \n",
    "    def __init__(self):\n",
    "        \n",
    "        self.all_cards = []   # bcoz at very start of game there is no cards so to get 52 cards call card class to holds all cards here\n",
    "        \n",
    "        for suit in suits:\n",
    "            for rank in ranks:\n",
    "                \n",
    "                # creat the card object\n",
    "                created_card = card(suit,rank)\n",
    "                \n",
    "                self.all_cards.append(created_card)\n",
    "                \n",
    "    # see indentation \n",
    "    \n",
    "    def shuffle(self):\n",
    "        random.shuffle(self.all_cards)   # so here we don't have to return bcoz it will not return anything we have to just shuufle cards\n",
    "        \n",
    "    def deal_one(self):\n",
    "        \n",
    "        return self.all_cards.pop()"
   ]
  },
  {
   "cell_type": "code",
   "execution_count": 48,
   "metadata": {},
   "outputs": [],
   "source": [
    "new_deck = Deck()"
   ]
  },
  {
   "cell_type": "code",
   "execution_count": 49,
   "metadata": {},
   "outputs": [
    {
     "data": {
      "text/plain": [
       "52"
      ]
     },
     "execution_count": 49,
     "metadata": {},
     "output_type": "execute_result"
    }
   ],
   "source": [
    "len(new_deck.all_cards)"
   ]
  },
  {
   "cell_type": "code",
   "execution_count": 50,
   "metadata": {},
   "outputs": [],
   "source": [
    "new_deck.shuffle()"
   ]
  },
  {
   "cell_type": "code",
   "execution_count": 51,
   "metadata": {},
   "outputs": [
    {
     "name": "stdout",
     "output_type": "stream",
     "text": [
      "Queen of Club\n"
     ]
    }
   ],
   "source": [
    "print(new_deck.deal_one())"
   ]
  },
  {
   "cell_type": "code",
   "execution_count": 33,
   "metadata": {},
   "outputs": [
    {
     "data": {
      "text/plain": [
       "51"
      ]
     },
     "execution_count": 33,
     "metadata": {},
     "output_type": "execute_result"
    }
   ],
   "source": [
    "len(new_deck.all_cards)  # now see we got 51 lenth bcoz we have removed 1 card from deck "
   ]
  },
  {
   "cell_type": "code",
   "execution_count": 34,
   "metadata": {},
   "outputs": [],
   "source": [
    "# after pop all cards 51 times and if u tring to pop one more time i.e at 53 time u willget error bcoz there is no cards aavaialable "
   ]
  },
  {
   "cell_type": "code",
   "execution_count": 35,
   "metadata": {},
   "outputs": [],
   "source": [
    "#we can removed more than 1 card at a time using for loop but now it is enogh to pop 1 card for use "
   ]
  },
  {
   "cell_type": "code",
   "execution_count": 36,
   "metadata": {},
   "outputs": [],
   "source": [
    "# so we saw \n",
    "\n",
    "# How to display cards\n",
    "# How to shuffle the cards\n",
    "# How to pop cards "
   ]
  },
  {
   "cell_type": "code",
   "execution_count": 37,
   "metadata": {},
   "outputs": [],
   "source": [
    "# in next session we will see how player class be created for getting separate cards for player to player"
   ]
  },
  {
   "cell_type": "code",
   "execution_count": 45,
   "metadata": {},
   "outputs": [],
   "source": [
    "# go through notes one time"
   ]
  },
  {
   "cell_type": "code",
   "execution_count": null,
   "metadata": {},
   "outputs": [],
   "source": []
  }
 ],
 "metadata": {
  "kernelspec": {
   "display_name": "Python 3",
   "language": "python",
   "name": "python3"
  },
  "language_info": {
   "codemirror_mode": {
    "name": "ipython",
    "version": 3
   },
   "file_extension": ".py",
   "mimetype": "text/x-python",
   "name": "python",
   "nbconvert_exporter": "python",
   "pygments_lexer": "ipython3",
   "version": "3.8.3"
  }
 },
 "nbformat": 4,
 "nbformat_minor": 4
}
