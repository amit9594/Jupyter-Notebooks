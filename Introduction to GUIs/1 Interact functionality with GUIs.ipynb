{
 "cells": [
  {
   "cell_type": "code",
   "execution_count": 3,
   "metadata": {},
   "outputs": [],
   "source": [
    "from ipywidgets import interact,interactive,fixed"
   ]
  },
  {
   "cell_type": "code",
   "execution_count": 4,
   "metadata": {},
   "outputs": [],
   "source": [
    "import ipywidgets as widgests"
   ]
  },
  {
   "cell_type": "code",
   "execution_count": 5,
   "metadata": {},
   "outputs": [],
   "source": [
    "def func(x):\n",
    "    return x"
   ]
  },
  {
   "cell_type": "code",
   "execution_count": 11,
   "metadata": {},
   "outputs": [
    {
     "data": {
      "application/vnd.jupyter.widget-view+json": {
       "model_id": "2972e5fabc8648f78d325e08edccba45",
       "version_major": 2,
       "version_minor": 0
      },
      "text/plain": [
       "interactive(children=(IntSlider(value=100, description='x', max=300, min=-100), Output()), _dom_classes=('widg…"
      ]
     },
     "metadata": {},
     "output_type": "display_data"
    },
    {
     "data": {
      "text/plain": [
       "<function __main__.func(x)>"
      ]
     },
     "execution_count": 11,
     "metadata": {},
     "output_type": "execute_result"
    }
   ],
   "source": [
    "interact(func,x=100)"
   ]
  },
  {
   "cell_type": "code",
   "execution_count": 13,
   "metadata": {},
   "outputs": [],
   "source": [
    "# above u can change values at 100  or slide it in left or right "
   ]
  },
  {
   "cell_type": "code",
   "execution_count": 15,
   "metadata": {},
   "outputs": [
    {
     "data": {
      "application/vnd.jupyter.widget-view+json": {
       "model_id": "49dd8758de3648079d82dd4a2f713caa",
       "version_major": 2,
       "version_minor": 0
      },
      "text/plain": [
       "interactive(children=(IntSlider(value=100, description='x', max=300, min=-100), Output()), _dom_classes=('widg…"
      ]
     },
     "metadata": {},
     "output_type": "display_data"
    },
    {
     "data": {
      "text/plain": [
       "<function __main__.func(x)>"
      ]
     },
     "execution_count": 15,
     "metadata": {},
     "output_type": "execute_result"
    }
   ],
   "source": [
    "interact(func,x=100)"
   ]
  },
  {
   "cell_type": "code",
   "execution_count": 17,
   "metadata": {},
   "outputs": [
    {
     "data": {
      "application/vnd.jupyter.widget-view+json": {
       "model_id": "9be069082f9e4bd0ba361ddb0f3d7f1f",
       "version_major": 2,
       "version_minor": 0
      },
      "text/plain": [
       "interactive(children=(FloatSlider(value=10.2, description='x', max=30.599999999999998, min=-10.2), Output()), …"
      ]
     },
     "metadata": {},
     "output_type": "display_data"
    },
    {
     "data": {
      "text/plain": [
       "<function __main__.func(x)>"
      ]
     },
     "execution_count": 17,
     "metadata": {},
     "output_type": "execute_result"
    }
   ],
   "source": [
    "interact(func,x=10.2)"
   ]
  },
  {
   "cell_type": "code",
   "execution_count": 21,
   "metadata": {},
   "outputs": [],
   "source": [
    "def sq(x):\n",
    "    return x**2"
   ]
  },
  {
   "cell_type": "code",
   "execution_count": 22,
   "metadata": {},
   "outputs": [
    {
     "data": {
      "application/vnd.jupyter.widget-view+json": {
       "model_id": "2bf798ce6b4249599a891d76890556ad",
       "version_major": 2,
       "version_minor": 0
      },
      "text/plain": [
       "interactive(children=(IntSlider(value=10, description='x', max=30, min=-10), Output()), _dom_classes=('widget-…"
      ]
     },
     "metadata": {},
     "output_type": "display_data"
    },
    {
     "data": {
      "text/plain": [
       "<function __main__.sq(x)>"
      ]
     },
     "execution_count": 22,
     "metadata": {},
     "output_type": "execute_result"
    }
   ],
   "source": [
    "interact(sq,x=10)"
   ]
  },
  {
   "cell_type": "code",
   "execution_count": 23,
   "metadata": {},
   "outputs": [
    {
     "data": {
      "application/vnd.jupyter.widget-view+json": {
       "model_id": "1acf8d1822124a5897715f8dd3d06c50",
       "version_major": 2,
       "version_minor": 0
      },
      "text/plain": [
       "interactive(children=(Checkbox(value=True, description='x'), Output()), _dom_classes=('widget-interact',))"
      ]
     },
     "metadata": {},
     "output_type": "display_data"
    },
    {
     "data": {
      "text/plain": [
       "<function __main__.func(x)>"
      ]
     },
     "execution_count": 23,
     "metadata": {},
     "output_type": "execute_result"
    }
   ],
   "source": [
    "interact(func,x=True)"
   ]
  },
  {
   "cell_type": "code",
   "execution_count": 24,
   "metadata": {},
   "outputs": [
    {
     "data": {
      "application/vnd.jupyter.widget-view+json": {
       "model_id": "f6297b87f47c4b3fbe1f3e0804042a7d",
       "version_major": 2,
       "version_minor": 0
      },
      "text/plain": [
       "interactive(children=(Checkbox(value=True, description='x'), Output()), _dom_classes=('widget-interact',))"
      ]
     },
     "metadata": {},
     "output_type": "display_data"
    },
    {
     "data": {
      "text/plain": [
       "<function __main__.func(x)>"
      ]
     },
     "execution_count": 24,
     "metadata": {},
     "output_type": "execute_result"
    }
   ],
   "source": [
    "interact(func,x=True)"
   ]
  },
  {
   "cell_type": "code",
   "execution_count": 25,
   "metadata": {},
   "outputs": [],
   "source": [
    "# if i click on that box if it gets right mark it will show True otherwise False"
   ]
  },
  {
   "cell_type": "code",
   "execution_count": 27,
   "metadata": {},
   "outputs": [
    {
     "data": {
      "application/vnd.jupyter.widget-view+json": {
       "model_id": "57cbc5370ce644008b367bef5b50193c",
       "version_major": 2,
       "version_minor": 0
      },
      "text/plain": [
       "interactive(children=(Text(value='hello', description='x'), Output()), _dom_classes=('widget-interact',))"
      ]
     },
     "metadata": {},
     "output_type": "display_data"
    },
    {
     "data": {
      "text/plain": [
       "<function __main__.func(x)>"
      ]
     },
     "execution_count": 27,
     "metadata": {},
     "output_type": "execute_result"
    }
   ],
   "source": [
    "interact(func,x='hello')"
   ]
  },
  {
   "cell_type": "code",
   "execution_count": 28,
   "metadata": {
    "scrolled": false
   },
   "outputs": [
    {
     "data": {
      "application/vnd.jupyter.widget-view+json": {
       "model_id": "9c5a45ff9c7246a7a090d5412988b390",
       "version_major": 2,
       "version_minor": 0
      },
      "text/plain": [
       "interactive(children=(Text(value='hello', description='x'), Output()), _dom_classes=('widget-interact',))"
      ]
     },
     "metadata": {},
     "output_type": "display_data"
    },
    {
     "data": {
      "text/plain": [
       "<function __main__.func(x)>"
      ]
     },
     "execution_count": 28,
     "metadata": {},
     "output_type": "execute_result"
    }
   ],
   "source": [
    "interact(func,x='hello')"
   ]
  },
  {
   "cell_type": "code",
   "execution_count": 29,
   "metadata": {},
   "outputs": [],
   "source": [
    "# so see this is very interesting interactive with user when we use data type as int/float it gives number slide \n",
    "# if it is bool it gives checkbox \n",
    "# if it is string it gives text box "
   ]
  },
  {
   "cell_type": "code",
   "execution_count": 30,
   "metadata": {},
   "outputs": [],
   "source": [
    "# so in this we can interact with functions but what if we want many interaaction at same time \n",
    "# see using interact as decorators we can do it \n"
   ]
  },
  {
   "cell_type": "code",
   "execution_count": 35,
   "metadata": {},
   "outputs": [
    {
     "data": {
      "application/vnd.jupyter.widget-view+json": {
       "model_id": "e39ff1a9e0b14d92aacd5d22bfa5b768",
       "version_major": 2,
       "version_minor": 0
      },
      "text/plain": [
       "interactive(children=(Checkbox(value=True, description='x'), IntSlider(value=10, description='y', max=30, min=…"
      ]
     },
     "metadata": {},
     "output_type": "display_data"
    }
   ],
   "source": [
    "@interact(x=True,y=10)\n",
    "\n",
    "def g(x,y):\n",
    "    return (x,y)"
   ]
  },
  {
   "cell_type": "code",
   "execution_count": null,
   "metadata": {},
   "outputs": [],
   "source": []
  },
  {
   "cell_type": "code",
   "execution_count": 39,
   "metadata": {},
   "outputs": [
    {
     "data": {
      "application/vnd.jupyter.widget-view+json": {
       "model_id": "a05d6b9c599840ec842bad0b072fdaee",
       "version_major": 2,
       "version_minor": 0
      },
      "text/plain": [
       "interactive(children=(Checkbox(value=True, description='x'), IntSlider(value=10, description='y', max=30, min=…"
      ]
     },
     "metadata": {},
     "output_type": "display_data"
    }
   ],
   "source": [
    "# or\n",
    "@interact()\n",
    "\n",
    "def g(x=True,y=10):\n",
    "    return (x,y)"
   ]
  },
  {
   "cell_type": "code",
   "execution_count": 40,
   "metadata": {},
   "outputs": [
    {
     "data": {
      "application/vnd.jupyter.widget-view+json": {
       "model_id": "5d7802828b7141cebd1e59c100a175d2",
       "version_major": 2,
       "version_minor": 0
      },
      "text/plain": [
       "interactive(children=(Checkbox(value=True, description='x'), IntSlider(value=10, description='y', max=30, min=…"
      ]
     },
     "metadata": {},
     "output_type": "display_data"
    }
   ],
   "source": [
    "@interact()\n",
    "\n",
    "def g(x=True,y=10):\n",
    "    pass"
   ]
  },
  {
   "cell_type": "code",
   "execution_count": 41,
   "metadata": {},
   "outputs": [],
   "source": [
    "# so see here we can manupulate both interaction but what if we want to fix this value "
   ]
  },
  {
   "cell_type": "code",
   "execution_count": 42,
   "metadata": {},
   "outputs": [],
   "source": [
    "# use Fixed function to fix value so that there is no option to manupulate values see"
   ]
  },
  {
   "cell_type": "code",
   "execution_count": 48,
   "metadata": {},
   "outputs": [
    {
     "data": {
      "application/vnd.jupyter.widget-view+json": {
       "model_id": "66b4e293af5b4837874dedb905e843a3",
       "version_major": 2,
       "version_minor": 0
      },
      "text/plain": [
       "interactive(children=(Checkbox(value=True, description='x'), Output()), _dom_classes=('widget-interact',))"
      ]
     },
     "metadata": {},
     "output_type": "display_data"
    }
   ],
   "source": [
    "@interact(x=True,y=fixed(1.5))\n",
    "\n",
    "def g(x,y):\n",
    "    return (x,y)"
   ]
  },
  {
   "cell_type": "code",
   "execution_count": 49,
   "metadata": {},
   "outputs": [
    {
     "data": {
      "application/vnd.jupyter.widget-view+json": {
       "model_id": "69f2f5a7ef6c48dcb8ef4170d835d801",
       "version_major": 2,
       "version_minor": 0
      },
      "text/plain": [
       "interactive(children=(Output(),), _dom_classes=('widget-interact',))"
      ]
     },
     "metadata": {},
     "output_type": "display_data"
    }
   ],
   "source": [
    "@interact(y=fixed('Hello'))\n",
    "\n",
    "def func(y):\n",
    "    return y"
   ]
  },
  {
   "cell_type": "code",
   "execution_count": 50,
   "metadata": {},
   "outputs": [],
   "source": [
    "# see no option for manupulation it fix "
   ]
  },
  {
   "cell_type": "code",
   "execution_count": 53,
   "metadata": {},
   "outputs": [
    {
     "data": {
      "application/vnd.jupyter.widget-view+json": {
       "model_id": "92ffb92e99a443969e01c828354ef9e8",
       "version_major": 2,
       "version_minor": 0
      },
      "text/plain": [
       "interactive(children=(IntSlider(value=10, description='x', max=30, min=-10), Output()), _dom_classes=('widget-…"
      ]
     },
     "metadata": {},
     "output_type": "display_data"
    },
    {
     "data": {
      "application/vnd.jupyter.widget-view+json": {
       "model_id": "dd1c4dff1ab646fbb80f12e452f8357c",
       "version_major": 2,
       "version_minor": 0
      },
      "text/plain": [
       "interactive(children=(IntSlider(value=10, description='x', max=30, min=-10), Output()), _dom_classes=('widget-…"
      ]
     },
     "metadata": {},
     "output_type": "display_data"
    },
    {
     "data": {
      "application/vnd.jupyter.widget-view+json": {
       "model_id": "4ae4f0400a414959b5b8b5559c705e49",
       "version_major": 2,
       "version_minor": 0
      },
      "text/plain": [
       "interactive(children=(IntSlider(value=10, description='x', max=30, min=-10), Output()), _dom_classes=('widget-…"
      ]
     },
     "metadata": {},
     "output_type": "display_data"
    }
   ],
   "source": [
    "@interact(x=10)\n",
    "\n",
    "def func(x):\n",
    "    return x\n",
    "\n",
    "@interact(x=10)\n",
    "\n",
    "def func(x):\n",
    "    return x\n",
    "\n",
    "@interact(x=10)\n",
    "\n",
    "def func(x):\n",
    "    return x\n",
    "\n"
   ]
  },
  {
   "cell_type": "code",
   "execution_count": 99,
   "metadata": {},
   "outputs": [],
   "source": [
    "# see here slide goes min upto -10 and max upto 30 what if we want to change these min and max values see next  min and max is 3 times start value"
   ]
  },
  {
   "cell_type": "code",
   "execution_count": 61,
   "metadata": {},
   "outputs": [
    {
     "data": {
      "application/vnd.jupyter.widget-view+json": {
       "model_id": "090194cb493b48caa43803d12cb51868",
       "version_major": 2,
       "version_minor": 0
      },
      "text/plain": [
       "interactive(children=(IntSlider(value=0, description='x', min=-100), Output()), _dom_classes=('widget-interact…"
      ]
     },
     "metadata": {},
     "output_type": "display_data"
    },
    {
     "data": {
      "application/vnd.jupyter.widget-view+json": {
       "model_id": "ad16e44222584a4ca24c792065565a1f",
       "version_major": 2,
       "version_minor": 0
      },
      "text/plain": [
       "interactive(children=(IntSlider(value=0, description='x', min=-100), Output()), _dom_classes=('widget-interact…"
      ]
     },
     "metadata": {},
     "output_type": "display_data"
    },
    {
     "data": {
      "application/vnd.jupyter.widget-view+json": {
       "model_id": "093906839df1457697fcec9680f8e7e9",
       "version_major": 2,
       "version_minor": 0
      },
      "text/plain": [
       "interactive(children=(IntSlider(value=0, description='x', min=-100), Output()), _dom_classes=('widget-interact…"
      ]
     },
     "metadata": {},
     "output_type": "display_data"
    }
   ],
   "source": [
    "@interact(x=widgests.IntSlider(min=-100,max=100,step=1,value=0))\n",
    "\n",
    "def func(x):\n",
    "    return x\n",
    "\n",
    "@interact(x=widgests.IntSlider(min=-100,max=100,step=1,value=0))\n",
    "\n",
    "def func(x):\n",
    "    return x\n",
    "\n",
    "@interact(x=widgests.IntSlider(min=-100,max=100,step=1,value=0))\n",
    "\n",
    "def func(x):\n",
    "    return x"
   ]
  },
  {
   "cell_type": "code",
   "execution_count": 62,
   "metadata": {},
   "outputs": [],
   "source": [
    "# so see above now we have change acc to us min and max value with step 1 and start is at 0 \n",
    "# min < max otherwise it gives traiterror\n",
    "# we can change step size and strting value also\n",
    "# if min == max it goes at left at will not slide(change) so it will fixed\n"
   ]
  },
  {
   "cell_type": "code",
   "execution_count": 63,
   "metadata": {},
   "outputs": [],
   "source": [
    "# widgests.IntSlider(min=-100,max=100,step=1,value=0 \n",
    "# but this is long code we can do same thing using abbreavation see"
   ]
  },
  {
   "cell_type": "code",
   "execution_count": 64,
   "metadata": {},
   "outputs": [],
   "source": [
    "def func(x):\n",
    "    return x"
   ]
  },
  {
   "cell_type": "code",
   "execution_count": 70,
   "metadata": {},
   "outputs": [
    {
     "data": {
      "application/vnd.jupyter.widget-view+json": {
       "model_id": "ec8e5c063cd447a492bef191fe6b9810",
       "version_major": 2,
       "version_minor": 0
      },
      "text/plain": [
       "interactive(children=(IntSlider(value=0, description='x', min=-100), Output()), _dom_classes=('widget-interact…"
      ]
     },
     "metadata": {},
     "output_type": "display_data"
    },
    {
     "data": {
      "application/vnd.jupyter.widget-view+json": {
       "model_id": "ca1c60b620b54525b8325683db64754a",
       "version_major": 2,
       "version_minor": 0
      },
      "text/plain": [
       "interactive(children=(IntSlider(value=0, description='x', min=-100), Output()), _dom_classes=('widget-interact…"
      ]
     },
     "metadata": {},
     "output_type": "display_data"
    },
    {
     "data": {
      "application/vnd.jupyter.widget-view+json": {
       "model_id": "d3bf2d3a25d74ee197c8747f69240d4f",
       "version_major": 2,
       "version_minor": 0
      },
      "text/plain": [
       "interactive(children=(IntSlider(value=0, description='x', min=-100), Output()), _dom_classes=('widget-interact…"
      ]
     },
     "metadata": {},
     "output_type": "display_data"
    },
    {
     "data": {
      "text/plain": [
       "<function __main__.func(x)>"
      ]
     },
     "execution_count": 70,
     "metadata": {},
     "output_type": "execute_result"
    }
   ],
   "source": [
    "interact(func,x=(-100,100,1))\n",
    "interact(func,x=(-100,100,1))\n",
    "interact(func,x=(-100,100,1))"
   ]
  },
  {
   "cell_type": "code",
   "execution_count": 72,
   "metadata": {},
   "outputs": [
    {
     "data": {
      "application/vnd.jupyter.widget-view+json": {
       "model_id": "79efe432819d498c899ad6cfd0863e48",
       "version_major": 2,
       "version_minor": 0
      },
      "text/plain": [
       "interactive(children=(FloatSlider(value=0.0, description='x', max=10.0, min=-10.0), Output()), _dom_classes=('…"
      ]
     },
     "metadata": {},
     "output_type": "display_data"
    },
    {
     "data": {
      "application/vnd.jupyter.widget-view+json": {
       "model_id": "ea0caf012c6f4017b60ebe1c72826f95",
       "version_major": 2,
       "version_minor": 0
      },
      "text/plain": [
       "interactive(children=(FloatSlider(value=0.0, description='x', max=10.0, min=-10.0), Output()), _dom_classes=('…"
      ]
     },
     "metadata": {},
     "output_type": "display_data"
    },
    {
     "data": {
      "application/vnd.jupyter.widget-view+json": {
       "model_id": "ada4687c51614041853fcbf5cba87c4f",
       "version_major": 2,
       "version_minor": 0
      },
      "text/plain": [
       "interactive(children=(FloatSlider(value=0.0, description='x', max=10.0, min=-10.0), Output()), _dom_classes=('…"
      ]
     },
     "metadata": {},
     "output_type": "display_data"
    },
    {
     "data": {
      "text/plain": [
       "<function __main__.func(x)>"
      ]
     },
     "execution_count": 72,
     "metadata": {},
     "output_type": "execute_result"
    }
   ],
   "source": [
    "interact(func,x=(-10.0,10.0,.1))\n",
    "interact(func,x=(-10.0,10.0,.1))\n",
    "interact(func,x=(-10.0,10.0,.1))"
   ]
  },
  {
   "cell_type": "code",
   "execution_count": 78,
   "metadata": {},
   "outputs": [
    {
     "data": {
      "application/vnd.jupyter.widget-view+json": {
       "model_id": "8069789e16d64913b28ad53ee21ee0f0",
       "version_major": 2,
       "version_minor": 0
      },
      "text/plain": [
       "interactive(children=(FloatSlider(value=10.0, description='x', max=20.0, step=0.5), Output()), _dom_classes=('…"
      ]
     },
     "metadata": {},
     "output_type": "display_data"
    },
    {
     "data": {
      "application/vnd.jupyter.widget-view+json": {
       "model_id": "b31cb6a9491941be9903db91de820042",
       "version_major": 2,
       "version_minor": 0
      },
      "text/plain": [
       "interactive(children=(FloatSlider(value=5.0, description='x', max=20.0, step=0.5), Output()), _dom_classes=('w…"
      ]
     },
     "metadata": {},
     "output_type": "display_data"
    },
    {
     "data": {
      "application/vnd.jupyter.widget-view+json": {
       "model_id": "4f447f48359549c8bc5978f2158f5967",
       "version_major": 2,
       "version_minor": 0
      },
      "text/plain": [
       "interactive(children=(FloatSlider(value=20.0, description='x', max=20.0, step=0.5), Output()), _dom_classes=('…"
      ]
     },
     "metadata": {},
     "output_type": "display_data"
    }
   ],
   "source": [
    "@interact(x=(0.0,20.0,0.5))\n",
    "\n",
    "def h(x): # defualt is at middle\n",
    "    return x\n",
    "\n",
    "@interact(x=(0.0,20.0,0.5))\n",
    "\n",
    "def h(x=5.0): # defualt is at 5.0\n",
    "    return x\n",
    "\n",
    "@interact(x=(0.0,20.0,0.5))\n",
    "\n",
    "def h(x=20.5): # defualt is goes to extreme so it rounding to max as 20.0\n",
    "    return x"
   ]
  },
  {
   "cell_type": "code",
   "execution_count": 79,
   "metadata": {},
   "outputs": [],
   "source": [
    "# for passing as a list it is drop down box and if it is string it is text box"
   ]
  },
  {
   "cell_type": "code",
   "execution_count": 82,
   "metadata": {},
   "outputs": [
    {
     "data": {
      "application/vnd.jupyter.widget-view+json": {
       "model_id": "10de5bdda5f94b9bbb63bf378b77df4b",
       "version_major": 2,
       "version_minor": 0
      },
      "text/plain": [
       "interactive(children=(Text(value='how', description='x'), Output()), _dom_classes=('widget-interact',))"
      ]
     },
     "metadata": {},
     "output_type": "display_data"
    },
    {
     "data": {
      "text/plain": [
       "<function __main__.func(x)>"
      ]
     },
     "execution_count": 82,
     "metadata": {},
     "output_type": "execute_result"
    }
   ],
   "source": [
    "interact(func,x='how')"
   ]
  },
  {
   "cell_type": "code",
   "execution_count": 89,
   "metadata": {},
   "outputs": [
    {
     "data": {
      "application/vnd.jupyter.widget-view+json": {
       "model_id": "178974c3a35444739a0f40fb9c9f32eb",
       "version_major": 2,
       "version_minor": 0
      },
      "text/plain": [
       "interactive(children=(Dropdown(description='x', options=('hello', 'Option 1', 'Option 2'), value='hello'), Out…"
      ]
     },
     "metadata": {},
     "output_type": "display_data"
    },
    {
     "data": {
      "text/plain": [
       "<function __main__.func(x)>"
      ]
     },
     "execution_count": 89,
     "metadata": {},
     "output_type": "execute_result"
    }
   ],
   "source": [
    "interact(func,x=['hello','Option 1','Option 2'])  # ddrop down options"
   ]
  },
  {
   "cell_type": "code",
   "execution_count": 90,
   "metadata": {},
   "outputs": [
    {
     "data": {
      "application/vnd.jupyter.widget-view+json": {
       "model_id": "e4781176055c46ac933dfb8b4cf011cc",
       "version_major": 2,
       "version_minor": 0
      },
      "text/plain": [
       "interactive(children=(Dropdown(description='x', options={'one': 10, 'two': 20}, value=10), Output()), _dom_cla…"
      ]
     },
     "metadata": {},
     "output_type": "display_data"
    },
    {
     "data": {
      "text/plain": [
       "<function __main__.func(x)>"
      ]
     },
     "execution_count": 90,
     "metadata": {},
     "output_type": "execute_result"
    }
   ],
   "source": [
    "# now with dictionary\n",
    "\n",
    "interact(func,x={'one':10,'two':20})"
   ]
  },
  {
   "cell_type": "code",
   "execution_count": 91,
   "metadata": {},
   "outputs": [],
   "source": [
    "# so in above o/p drop down is keys and o/p is its value"
   ]
  },
  {
   "cell_type": "code",
   "execution_count": 92,
   "metadata": {},
   "outputs": [],
   "source": [
    "# now ipython gives more function like interact such as interactive it is useful to interact simultaneouly with more functionality see "
   ]
  },
  {
   "cell_type": "code",
   "execution_count": 94,
   "metadata": {},
   "outputs": [],
   "source": [
    "from IPython.display import display\n",
    "\n",
    "def f(a,b):\n",
    "    display(a+b)\n",
    "    return a+b\n"
   ]
  },
  {
   "cell_type": "code",
   "execution_count": 95,
   "metadata": {},
   "outputs": [],
   "source": [
    "w = interactive(f,a=10,b=20)"
   ]
  },
  {
   "cell_type": "code",
   "execution_count": 96,
   "metadata": {},
   "outputs": [
    {
     "data": {
      "text/plain": [
       "ipywidgets.widgets.interaction.interactive"
      ]
     },
     "execution_count": 96,
     "metadata": {},
     "output_type": "execute_result"
    }
   ],
   "source": [
    "type(w)"
   ]
  },
  {
   "cell_type": "code",
   "execution_count": 98,
   "metadata": {},
   "outputs": [
    {
     "data": {
      "text/plain": [
       "(IntSlider(value=10, description='a', max=30, min=-10),\n",
       " IntSlider(value=20, description='b', max=60, min=-20),\n",
       " Output())"
      ]
     },
     "execution_count": 98,
     "metadata": {},
     "output_type": "execute_result"
    }
   ],
   "source": [
    "w.children"
   ]
  },
  {
   "cell_type": "code",
   "execution_count": 100,
   "metadata": {},
   "outputs": [
    {
     "data": {
      "application/vnd.jupyter.widget-view+json": {
       "model_id": "e9431e2973964ca9b604c8288fbf18b1",
       "version_major": 2,
       "version_minor": 0
      },
      "text/plain": [
       "interactive(children=(IntSlider(value=10, description='a', max=30, min=-10), IntSlider(value=20, description='…"
      ]
     },
     "metadata": {},
     "output_type": "display_data"
    }
   ],
   "source": [
    "display(w)"
   ]
  },
  {
   "cell_type": "code",
   "execution_count": 101,
   "metadata": {},
   "outputs": [],
   "source": [
    "# so dipslay on w gives addition of two slide value of a and b see next with more slide"
   ]
  },
  {
   "cell_type": "code",
   "execution_count": 102,
   "metadata": {},
   "outputs": [
    {
     "data": {
      "application/vnd.jupyter.widget-view+json": {
       "model_id": "e9431e2973964ca9b604c8288fbf18b1",
       "version_major": 2,
       "version_minor": 0
      },
      "text/plain": [
       "interactive(children=(IntSlider(value=10, description='a', max=30, min=-10), IntSlider(value=20, description='…"
      ]
     },
     "metadata": {},
     "output_type": "display_data"
    },
    {
     "data": {
      "application/vnd.jupyter.widget-view+json": {
       "model_id": "e9431e2973964ca9b604c8288fbf18b1",
       "version_major": 2,
       "version_minor": 0
      },
      "text/plain": [
       "interactive(children=(IntSlider(value=10, description='a', max=30, min=-10), IntSlider(value=20, description='…"
      ]
     },
     "metadata": {},
     "output_type": "display_data"
    },
    {
     "data": {
      "application/vnd.jupyter.widget-view+json": {
       "model_id": "e9431e2973964ca9b604c8288fbf18b1",
       "version_major": 2,
       "version_minor": 0
      },
      "text/plain": [
       "interactive(children=(IntSlider(value=10, description='a', max=30, min=-10), IntSlider(value=20, description='…"
      ]
     },
     "metadata": {},
     "output_type": "display_data"
    },
    {
     "data": {
      "application/vnd.jupyter.widget-view+json": {
       "model_id": "e9431e2973964ca9b604c8288fbf18b1",
       "version_major": 2,
       "version_minor": 0
      },
      "text/plain": [
       "interactive(children=(IntSlider(value=10, description='a', max=30, min=-10), IntSlider(value=20, description='…"
      ]
     },
     "metadata": {},
     "output_type": "display_data"
    }
   ],
   "source": [
    "display(w)\n",
    "display(w)\n",
    "display(w)\n",
    "display(w)"
   ]
  },
  {
   "cell_type": "code",
   "execution_count": 103,
   "metadata": {},
   "outputs": [],
   "source": [
    "# from above if i changed a particular slide all slide will changed w.r.t it so all gets same result "
   ]
  },
  {
   "cell_type": "code",
   "execution_count": 104,
   "metadata": {},
   "outputs": [
    {
     "data": {
      "application/vnd.jupyter.widget-view+json": {
       "model_id": "e9431e2973964ca9b604c8288fbf18b1",
       "version_major": 2,
       "version_minor": 0
      },
      "text/plain": [
       "interactive(children=(IntSlider(value=-6, description='a', max=30, min=-10), IntSlider(value=0, description='b…"
      ]
     },
     "metadata": {},
     "output_type": "display_data"
    }
   ],
   "source": [
    "display(w)"
   ]
  },
  {
   "cell_type": "code",
   "execution_count": 105,
   "metadata": {},
   "outputs": [],
   "source": [
    "# so see here also all we changed it and above all slide gets changed (i slide a=-6 and b=-1 so -6+-1 = -7)"
   ]
  },
  {
   "cell_type": "code",
   "execution_count": 106,
   "metadata": {},
   "outputs": [
    {
     "data": {
      "application/vnd.jupyter.widget-view+json": {
       "model_id": "c41bdee7761d4a93addeda1fc8abb8df",
       "version_major": 2,
       "version_minor": 0
      },
      "text/plain": [
       "interactive(children=(Text(value='Hello', description='x'), Output()), _dom_classes=('widget-interact',))"
      ]
     },
     "metadata": {},
     "output_type": "display_data"
    },
    {
     "data": {
      "text/plain": [
       "<function __main__.func(x)>"
      ]
     },
     "execution_count": 106,
     "metadata": {},
     "output_type": "execute_result"
    }
   ],
   "source": [
    "interact(func,x='Hello')"
   ]
  },
  {
   "cell_type": "code",
   "execution_count": 107,
   "metadata": {},
   "outputs": [],
   "source": [
    "# see above o/p it display also  <function __main__.func(x)> so if we don't want it just give ; after interact call"
   ]
  },
  {
   "cell_type": "code",
   "execution_count": 108,
   "metadata": {},
   "outputs": [
    {
     "data": {
      "application/vnd.jupyter.widget-view+json": {
       "model_id": "e4b61b00d07c4355869ce5bcb2771f7c",
       "version_major": 2,
       "version_minor": 0
      },
      "text/plain": [
       "interactive(children=(Text(value='hello', description='x'), Output()), _dom_classes=('widget-interact',))"
      ]
     },
     "metadata": {},
     "output_type": "display_data"
    }
   ],
   "source": [
    "interact(func,x='hello');"
   ]
  },
  {
   "cell_type": "code",
   "execution_count": 109,
   "metadata": {},
   "outputs": [],
   "source": [
    "# now see no longer <function __main__.func(x)> this msg"
   ]
  },
  {
   "cell_type": "raw",
   "metadata": {},
   "source": [
    "Keyword argument\t------------------------------------------------>>>>>>>>>>>>>>>>>>>>>>> Widget\n",
    "`True` or `False`\t------------------------------------------------>>>>>>>>>>>>>>>>>>>>>>> Checkbox\n",
    "`'Hi there'`\t    ------------------------------------------------>>>>>>>>>>>>>>>>>>>>>>> Text\n",
    "`value` or `(min,max)` or `(min,max,step)` if integers are passed\t>>>>>>>>>>>>>>>>>>>>>>> IntSlider\n",
    "`value` or `(min,max)` or `(min,max,step)` if floats are passed\t    >>>>>>>>>>>>>>>>>>>>>>> FloatSlider\n",
    "`['orange','apple']` or `{'one':1,'two':2}`\t                        >>>>>>>>>>>>>>>>>>>>>>> Dropdown\n"
   ]
  },
  {
   "cell_type": "code",
   "execution_count": 110,
   "metadata": {},
   "outputs": [],
   "source": [
    "# note please! if u work this on github or nbconvert u will not able to get o/p of widgest so download from github and run it on jupyter notebook"
   ]
  },
  {
   "cell_type": "code",
   "execution_count": 111,
   "metadata": {},
   "outputs": [],
   "source": [
    "# and for more info refere github notebook"
   ]
  },
  {
   "cell_type": "code",
   "execution_count": 113,
   "metadata": {},
   "outputs": [
    {
     "ename": "ModuleNotFoundError",
     "evalue": "No module named 'MySQLdb'",
     "output_type": "error",
     "traceback": [
      "\u001b[1;31m---------------------------------------------------------------------------\u001b[0m",
      "\u001b[1;31mModuleNotFoundError\u001b[0m                       Traceback (most recent call last)",
      "\u001b[1;32m<ipython-input-113-630239d45e06>\u001b[0m in \u001b[0;36m<module>\u001b[1;34m\u001b[0m\n\u001b[0;32m      1\u001b[0m \u001b[1;31m#!/usr/bin/python\u001b[0m\u001b[1;33m\u001b[0m\u001b[1;33m\u001b[0m\u001b[1;33m\u001b[0m\u001b[0m\n\u001b[1;32m----> 2\u001b[1;33m \u001b[1;32mimport\u001b[0m \u001b[0mMySQLdb\u001b[0m\u001b[1;33m\u001b[0m\u001b[1;33m\u001b[0m\u001b[0m\n\u001b[0m\u001b[0;32m      3\u001b[0m \u001b[1;32mimport\u001b[0m \u001b[0mprettytable\u001b[0m\u001b[1;33m\u001b[0m\u001b[1;33m\u001b[0m\u001b[0m\n\u001b[0;32m      4\u001b[0m \u001b[1;32mfrom\u001b[0m \u001b[0mprettytable\u001b[0m \u001b[1;32mimport\u001b[0m \u001b[0mfrom_db_cursor\u001b[0m\u001b[1;33m\u001b[0m\u001b[1;33m\u001b[0m\u001b[0m\n\u001b[0;32m      5\u001b[0m \u001b[0mhost\u001b[0m \u001b[1;33m=\u001b[0m \u001b[0mraw_input\u001b[0m\u001b[1;33m(\u001b[0m\u001b[1;34m'Enter host name '\u001b[0m\u001b[1;33m)\u001b[0m\u001b[1;33m\u001b[0m\u001b[1;33m\u001b[0m\u001b[0m\n",
      "\u001b[1;31mModuleNotFoundError\u001b[0m: No module named 'MySQLdb'"
     ]
    }
   ],
   "source": [
    "#!/usr/bin/python\n",
    "import MySQLdb\n",
    "import prettytable\n",
    "from prettytable import from_db_cursor\n",
    "host = raw_input('Enter host name ')\n",
    "user = raw_input('Enter username ')\n",
    "passwd = raw_input('Enter password ')\n",
    "database = raw_input('Enter DB ')\n",
    "db = MySQLdb.connect(host, # your host, usually localhost\n",
    "                     user, # your username\n",
    "                      passwd, # your password\n",
    "                      database) # name of the data base)\n",
    "\n",
    "# Create a Cursor object\n",
    "cur = db.cursor() \n",
    "col = raw_input('Enter Column Name')\n",
    "table = raw_input('Enter Table name')\n",
    "#columns = map(col, col.split())\n",
    "cur.execute(\"SELECT \"+col+\" FROM \"+database+ \".\"+table+\"\")\n",
    "pt = from_db_cursor(cur)\n",
    "print(pt)\n",
    "cur.close()\n"
   ]
  },
  {
   "cell_type": "code",
   "execution_count": 114,
   "metadata": {},
   "outputs": [],
   "source": [
    "'''\n",
    "Created on 2014-04-17\n",
    "@author: masegaloeh\n",
    "'''\n",
    "\n",
    "from abc import ABCMeta, abstractmethod\n",
    "from math import pi, sqrt\n",
    "\n",
    "class Shape(metaclass=ABCMeta):\n",
    "    @abstractmethod\n",
    "    def area(self):\n",
    "        pass\n",
    "\n",
    "    @abstractmethod\n",
    "    def perimeter(self):\n",
    "        pass\n",
    "\n",
    "\n",
    "class Circle(Shape):\n",
    "    def __init__(self, radius):\n",
    "        self._radius = radius\n",
    "\n",
    "    @property\n",
    "    def radius(self):\n",
    "        return self._radius\n",
    "\n",
    "    @property\n",
    "    def area(self):\n",
    "        return pi * self._radius * self._radius\n",
    "\n",
    "    @property\n",
    "    def perimeter(self):\n",
    "        return 2 * pi * self._radius\n",
    "\n",
    "\n",
    "class Rectangle(Shape):\n",
    "    def __init__(self,height, width):\n",
    "        self._height = height\n",
    "        self._width = width\n",
    "\n",
    "    @property\n",
    "    def height(self):\n",
    "        return self._height\n",
    "\n",
    "    @property\n",
    "    def width(self):\n",
    "        return self._width\n",
    "\n",
    "    @property\n",
    "    def area(self):\n",
    "        return self._width * self._height\n",
    "\n",
    "    @property\n",
    "    def perimeter(self):\n",
    "        return 2 * (self._width + self._height)\n",
    "\n",
    "\n",
    "class Triangle(Shape):\n",
    "    def __init__(self, side_a, side_b, side_c):\n",
    "        self._side_a = side_a\n",
    "        self._side_b = side_b\n",
    "        self._side_c = side_c\n",
    "\n",
    "    #return list contain of three sides\n",
    "    @property\n",
    "    def getsides(self):\n",
    "        return [self._side_a, self._side_b, self._side_c]\n",
    "\n",
    "    # based on Heron Formula\n",
    "    # http://en.wikipedia.org/wiki/Heron's_formula\n",
    "    @property\n",
    "    def area(self):\n",
    "        s = (self._side_a + self._side_b + self._side_c)/2\n",
    "        return sqrt(s * (s - self._side_a) * (s - self._side_b) * (s - self._side_c))\n",
    "\n",
    "    @property\n",
    "    def perimeter(self):\n",
    "        return self._side_a + self._side_b + self._side_c"
   ]
  },
  {
   "cell_type": "code",
   "execution_count": 119,
   "metadata": {},
   "outputs": [],
   "source": [
    "s = Triangle(10,10,20)"
   ]
  },
  {
   "cell_type": "code",
   "execution_count": 123,
   "metadata": {},
   "outputs": [
    {
     "data": {
      "text/plain": [
       "40"
      ]
     },
     "execution_count": 123,
     "metadata": {},
     "output_type": "execute_result"
    }
   ],
   "source": [
    "s.perimeter"
   ]
  },
  {
   "cell_type": "code",
   "execution_count": 124,
   "metadata": {},
   "outputs": [
    {
     "name": "stdout",
     "output_type": "stream",
     "text": [
      "amount of product: 13\n",
      "value of product: 55\n",
      "different products: 13\n",
      "{\"<class '__main__.Product'>_0\": [Product: 0], \"<class '__main__.Product'>_1\": [Product: 1], \"<class '__main__.Product'>_2\": [Product: 2], \"<class '__main__.Product'>_3\": [Product: 3], \"<class '__main__.Product'>_4\": [Product: 4], \"<class '__main__.Product'>_5\": [Product: 5], \"<class '__main__.Product'>_6\": [Product: 6], \"<class '__main__.Product'>_7\": [Product: 7], \"<class '__main__.Product'>_8\": [Product: 8], \"<class '__main__.Product'>_9\": [Product: 9], \"<class '__main__.Product'>_10\": [Product: 10], \"<class '__main__.Product'>_11\": [Product: 11], \"<class '__main__.Product'>_12\": [Product: 12]}\n",
      "<class '__main__.Product'>_0 prob details: [Product: 0]\n",
      "<class '__main__.Product'>_1 prob details: [Product: 1]\n",
      "<class '__main__.Product'>_2 prob details: [Product: 2]\n",
      "<class '__main__.Product'>_3 prob details: [Product: 3]\n",
      "<class '__main__.Product'>_4 prob details: [Product: 4]\n",
      "<class '__main__.Product'>_5 prob details: [Product: 5]\n",
      "<class '__main__.Product'>_6 prob details: [Product: 6]\n",
      "<class '__main__.Product'>_7 prob details: [Product: 7]\n",
      "<class '__main__.Product'>_8 prob details: [Product: 8]\n",
      "<class '__main__.Product'>_9 prob details: [Product: 9]\n",
      "<class '__main__.Product'>_10 prob details: [Product: 10]\n",
      "<class '__main__.Product'>_11 prob details: [Product: 11]\n",
      "<class '__main__.Product'>_12 prob details: [Product: 12]\n"
     ]
    }
   ],
   "source": [
    "'''\n",
    "Created on 12/07/2013\n",
    "@author: luke\n",
    "'''\n",
    "from abc import *\n",
    "\n",
    "class Entity(metaclass=ABCMeta):\n",
    "    \n",
    "    @abstractproperty\n",
    "    def id_number(self):\n",
    "        return 0\n",
    "\n",
    "class Product(Entity):\n",
    "    '''\n",
    "    classdocs\n",
    "    '''\n",
    "    id      = 0\n",
    "\n",
    "\n",
    "    def __init__(self, name=None, value=0, amount=0, scale='kg'):\n",
    "        '''\n",
    "        Constructor\n",
    "        '''\n",
    "        self._id    = Product.id\n",
    "        Product.id  = Product.id + 1\n",
    "        if not name:\n",
    "            self._name = \"{0}_{1}\".format(self.__class__, self._id)\n",
    "        else:\n",
    "            self._name = name\n",
    "        self._value = value\n",
    "        self._amount = amount \n",
    "        self._scale = scale\n",
    "    \n",
    "    @property\n",
    "    def id_number(self):\n",
    "        return self._id\n",
    "    \n",
    "    @property\n",
    "    def name(self):\n",
    "        return self._name\n",
    "    \n",
    "    @property\n",
    "    def value(self):\n",
    "        return self._value\n",
    "    \n",
    "    @value.setter\n",
    "    def value(self, val):\n",
    "        self._value = val\n",
    "        \n",
    "    @property\n",
    "    def amount(self):\n",
    "        return self._amount\n",
    "    \n",
    "    @amount.setter\n",
    "    def amount(self,other):\n",
    "        self._amount = other\n",
    "        \n",
    "    @property\n",
    "    def scale(self):\n",
    "        return self._scale\n",
    "    \n",
    "    @scale.setter\n",
    "    def scale(self, other):\n",
    "        self._scale = other\n",
    "        \n",
    "    def __repr__(self):\n",
    "        return \"{0}: {1}\".format(self.__class__.__name__, self._id)\n",
    "    \n",
    "    def __str__(self):\n",
    "        return \"{amount}{scale} of {name} valued at {value}\".format(\n",
    "                amount=self._amount,scale=self._scale,name=self._name,\n",
    "                value=self._value\n",
    "                                                                    )\n",
    "    \n",
    "class Inventory(Entity):\n",
    "    \n",
    "    id      = 0\n",
    "    \n",
    "    def __init__(self):\n",
    "        self._id        = Inventory.id\n",
    "        Inventory.id    = Inventory.id + 1\n",
    "        self._products  = {}\n",
    "        \n",
    "    def product_add(self, *args):\n",
    "        \n",
    "        def add_to_products(prod):\n",
    "            try:\n",
    "                self._products[prod.name].append(prod)\n",
    "            except:\n",
    "                self._products[prod.name] = [prod]\n",
    "                \n",
    "        for arg in args:\n",
    "            if isinstance(arg, tuple) or isinstance(arg,list):\n",
    "                for prod in arg:\n",
    "                    add_to_products(prod)\n",
    "            elif isinstance(arg,Product):\n",
    "                add_to_products(arg)\n",
    "            # if it's not a product it won't get added\n",
    "    \n",
    "    @property\n",
    "    def product_value(self):\n",
    "        \"\"\"\n",
    "        @return: int: total value of product on hand\n",
    "        \"\"\"\n",
    "        return sum([single.value for product in self._products for single in self._products[product]])\n",
    "    \n",
    "    @property\n",
    "    def product_count(self):\n",
    "        \"\"\"\n",
    "        @return: int: amt of product on hand\n",
    "        \"\"\"\n",
    "        return len([p for product in self._products for p in self._products[product]])\n",
    "    \n",
    "    @property\n",
    "    def product_diff_amount(self):\n",
    "        \"\"\"\n",
    "        @return: int: the amount of different products on hand\n",
    "        \"\"\"\n",
    "        return len(self._products)\n",
    "\n",
    "    @property\n",
    "    def products(self):\n",
    "        \"\"\"\n",
    "        @return: list(Product): product on hand\n",
    "        \"\"\"\n",
    "        return self._products\n",
    "        \n",
    "    @property\n",
    "    def id_number(self):\n",
    "        \"\"\"\n",
    "        @return:  int: identity number of product\n",
    "        \"\"\"\n",
    "        return self._id\n",
    "    \n",
    "    def __repr__(self):\n",
    "        return \"{0}: {1}\".format(self.__class__.__name__, self._id)\n",
    "    \n",
    "class ObjFactory(metaclass=ABCMeta):\n",
    "    \n",
    "    @abstractmethod\n",
    "    def get_object(self):\n",
    "        return 0\n",
    "    \n",
    "    def __repr__(self):\n",
    "        return \"{0}: {1}\".format(self.__class__.__name__, self._id)\n",
    "    \n",
    "class InventoryFactory(ObjFactory):\n",
    "    \n",
    "    def get_object(self, amt=1):\n",
    "        for i in range(amt):\n",
    "            yield Inventory()\n",
    "\n",
    "class ProductFactory(ObjFactory):\n",
    "    \n",
    "    def get_object(self, amt=1):\n",
    "        for i in range(amt):\n",
    "            yield Product()\n",
    "            \n",
    "if __name__ == \"__main__\":\n",
    "    \"\"\"\n",
    "    Product Inventory Project – Create an application which manages an inventory of products. \n",
    "    Create a product class which has a price, id, and quantity on hand. \n",
    "    Then create an inventory class which keeps track of various products and can sum up the inventory value.\n",
    "    \"\"\"\n",
    "    # create an inventory\n",
    "    inventory   = Inventory()\n",
    "    # add some products to the inventory\n",
    "    genProd = lambda value: Product(value=value)\n",
    "    for i in range(1,10):\n",
    "        inventory.product_add(genProd(value=i))\n",
    "    for i in range(1,5):\n",
    "        inventory.product_add(genProd(value=i))\n",
    "    # Get amount of product on hand, value of product, and amt of differnet product\n",
    "    prod_amt    = inventory.product_count\n",
    "    prod_val    = inventory.product_value\n",
    "    prod_diff   = inventory.product_diff_amount\n",
    "    for name, info in ((\"amount of product\",prod_amt), (\"value of product\",prod_val), (\"different products\",prod_diff)):\n",
    "        print(\"{0}: {1}\".format(name,info))\n",
    "    print(inventory.products)\n",
    "    for product in inventory.products:\n",
    "        print(product + \" prob details: \" + str(inventory.products[product]))"
   ]
  },
  {
   "cell_type": "code",
   "execution_count": null,
   "metadata": {},
   "outputs": [],
   "source": []
  }
 ],
 "metadata": {
  "kernelspec": {
   "display_name": "Python 3",
   "language": "python",
   "name": "python3"
  },
  "language_info": {
   "codemirror_mode": {
    "name": "ipython",
    "version": 3
   },
   "file_extension": ".py",
   "mimetype": "text/x-python",
   "name": "python",
   "nbconvert_exporter": "python",
   "pygments_lexer": "ipython3",
   "version": "3.8.3"
  }
 },
 "nbformat": 4,
 "nbformat_minor": 4
}
