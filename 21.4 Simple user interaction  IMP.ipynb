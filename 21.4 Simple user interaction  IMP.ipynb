{
 "cells": [
  {
   "cell_type": "code",
   "execution_count": null,
   "metadata": {},
   "outputs": [],
   "source": [
    " \n"
   ]
  },
  {
   "cell_type": "code",
   "execution_count": 1,
   "metadata": {},
   "outputs": [],
   "source": [
    "# search for battelship board game"
   ]
  },
  {
   "cell_type": "code",
   "execution_count": 2,
   "metadata": {},
   "outputs": [],
   "source": [
    "game_list = [0,1,2] "
   ]
  },
  {
   "cell_type": "code",
   "execution_count": 3,
   "metadata": {},
   "outputs": [],
   "source": [
    "def display_game(game_list):\n",
    "    print('Here is the current list')\n",
    "    print(game_list)"
   ]
  },
  {
   "cell_type": "code",
   "execution_count": 4,
   "metadata": {},
   "outputs": [
    {
     "name": "stdout",
     "output_type": "stream",
     "text": [
      "Here is the current list\n",
      "[0, 1, 2]\n"
     ]
    }
   ],
   "source": [
    "display_game(game_list)"
   ]
  },
  {
   "cell_type": "code",
   "execution_count": 5,
   "metadata": {},
   "outputs": [],
   "source": [
    "def position_choice():\n",
    "    \n",
    "    choice = 'wrong'\n",
    "    \n",
    "    # here we dom't check string validation and range direct pass list\n",
    "    while choice not in ['0','1','2']:      # input pass accept as a string so we wrote list in string\n",
    "        \n",
    "        choice = input('Pick a number from (0,1,2) : ')\n",
    "        \n",
    "        if choice not in ['0','1','2']:\n",
    "            \n",
    "            print('sorry , invalid choice!')\n",
    "        \n",
    "    return int(choice)"
   ]
  },
  {
   "cell_type": "code",
   "execution_count": 6,
   "metadata": {},
   "outputs": [
    {
     "name": "stdout",
     "output_type": "stream",
     "text": [
      "Pick a number from (0,1,2) : two\n",
      "sorry , invalid choice!\n",
      "Pick a number from (0,1,2) : three\n",
      "sorry , invalid choice!\n",
      "Pick a number from (0,1,2) : 24\n",
      "sorry , invalid choice!\n",
      "Pick a number from (0,1,2) : 0\n"
     ]
    },
    {
     "data": {
      "text/plain": [
       "0"
      ]
     },
     "execution_count": 6,
     "metadata": {},
     "output_type": "execute_result"
    }
   ],
   "source": [
    "position_choice()              # so after enter two and three these are strings and 24 also not in ['1','2','3'] so u can only give 0,1 or 2 input"
   ]
  },
  {
   "cell_type": "raw",
   "metadata": {},
   "source": [
    "Now user inputed correct position and now we have to replace that position with another string see how ?"
   ]
  },
  {
   "cell_type": "code",
   "execution_count": 7,
   "metadata": {},
   "outputs": [],
   "source": [
    "# game_list pass bcoz to update and position bcoz for replacing the new value by that position\n",
    "def replacement_position(game_list , position):\n",
    "    \n",
    "    user_placement = input(\"Type a string to replace at position : \")\n",
    "    \n",
    "    #  assign user_placement string to game_list at choosen position(int(choice)) in above function \n",
    "    \n",
    "    game_list[position] = user_placement\n",
    "    \n",
    "    return game_list\n"
   ]
  },
  {
   "cell_type": "code",
   "execution_count": 8,
   "metadata": {},
   "outputs": [
    {
     "name": "stdout",
     "output_type": "stream",
     "text": [
      "Type a string to replace at position : test\n"
     ]
    },
    {
     "data": {
      "text/plain": [
       "[0, 'test', 2]"
      ]
     },
     "execution_count": 8,
     "metadata": {},
     "output_type": "execute_result"
    }
   ],
   "source": [
    "replacement_position(game_list , 1)"
   ]
  },
  {
   "cell_type": "code",
   "execution_count": 9,
   "metadata": {},
   "outputs": [
    {
     "data": {
      "text/plain": [
       "[0, 'test', 2]"
      ]
     },
     "execution_count": 9,
     "metadata": {},
     "output_type": "execute_result"
    }
   ],
   "source": [
    "game_list"
   ]
  },
  {
   "cell_type": "code",
   "execution_count": 10,
   "metadata": {},
   "outputs": [
    {
     "name": "stdout",
     "output_type": "stream",
     "text": [
      "Type a string to replace at position : new test\n"
     ]
    },
    {
     "data": {
      "text/plain": [
       "[0, 'new test', 2]"
      ]
     },
     "execution_count": 10,
     "metadata": {},
     "output_type": "execute_result"
    }
   ],
   "source": [
    "replacement_position(game_list ,1)"
   ]
  },
  {
   "cell_type": "raw",
   "metadata": {},
   "source": [
    "Now ask to user to keep palying or not \n",
    "\n",
    "so just copy paste here poistion_choice function bcoz it is exactly same"
   ]
  },
  {
   "cell_type": "code",
   "execution_count": 11,
   "metadata": {},
   "outputs": [],
   "source": [
    "def gameon_choice():\n",
    "    \n",
    "    choice = 'wrong'\n",
    "    \n",
    "    \n",
    "    while choice not in ['Y','N']:      \n",
    "        \n",
    "        choice = input('Keep playing ? (Y or N) : ')\n",
    "        \n",
    "        if choice not in['Y','N']:\n",
    "            \n",
    "            print('sorry , I dont understand, please choose Y or N : ' )\n",
    "    \n",
    "    if choice == \"Y\":\n",
    "        return True\n",
    "    else:\n",
    "        return False\n",
    "        \n",
    "  "
   ]
  },
  {
   "cell_type": "code",
   "execution_count": 12,
   "metadata": {},
   "outputs": [
    {
     "name": "stdout",
     "output_type": "stream",
     "text": [
      "Keep playing ? (Y or N) : wrong\n",
      "sorry , I dont understand, please choose Y or N : \n",
      "Keep playing ? (Y or N) : haa\n",
      "sorry , I dont understand, please choose Y or N : \n",
      "Keep playing ? (Y or N) : y\n",
      "sorry , I dont understand, please choose Y or N : \n",
      "Keep playing ? (Y or N) : Y\n"
     ]
    },
    {
     "data": {
      "text/plain": [
       "True"
      ]
     },
     "execution_count": 12,
     "metadata": {},
     "output_type": "execute_result"
    }
   ],
   "source": [
    "gameon_choice()"
   ]
  },
  {
   "cell_type": "code",
   "execution_count": 13,
   "metadata": {},
   "outputs": [
    {
     "name": "stdout",
     "output_type": "stream",
     "text": [
      "Keep playing ? (Y or N) : n\n",
      "sorry , I dont understand, please choose Y or N : \n",
      "Keep playing ? (Y or N) : N\n"
     ]
    },
    {
     "data": {
      "text/plain": [
       "False"
      ]
     },
     "execution_count": 13,
     "metadata": {},
     "output_type": "execute_result"
    }
   ],
   "source": [
    "gameon_choice()"
   ]
  },
  {
   "cell_type": "code",
   "execution_count": 14,
   "metadata": {},
   "outputs": [],
   "source": [
    "# Now this is fincal step to merge all together\n",
    "\n",
    "# 1st display list\n",
    "\n",
    "# choose ur position by calling position_choice()\n",
    "\n",
    "#to update game list by new position call replacement_position()\n",
    "\n",
    "#again display game list\n",
    "\n",
    "#in last step ask to useer to keep playing or not by calling gameon_choice()\n"
   ]
  },
  {
   "cell_type": "code",
   "execution_count": 15,
   "metadata": {},
   "outputs": [
    {
     "name": "stdout",
     "output_type": "stream",
     "text": [
      "Here is the current list\n",
      "['0', '1', '2']\n",
      "Pick a number from (0,1,2) : two\n",
      "sorry , invalid choice!\n",
      "Pick a number from (0,1,2) : 1\n",
      "Type a string to replace at position : is\n",
      "Here is the current list\n",
      "['0', 'is', '2']\n",
      "Keep playing ? (Y or N) : yes\n",
      "sorry , I dont understand, please choose Y or N : \n",
      "Keep playing ? (Y or N) : Y\n",
      "Here is the current list\n",
      "['0', 'is', '2']\n",
      "Pick a number from (0,1,2) : 0\n",
      "Type a string to replace at position : This\n",
      "Here is the current list\n",
      "['This', 'is', '2']\n",
      "Keep playing ? (Y or N) : y\n",
      "sorry , I dont understand, please choose Y or N : \n",
      "Keep playing ? (Y or N) : Y\n",
      "Here is the current list\n",
      "['This', 'is', '2']\n",
      "Pick a number from (0,1,2) : 2\n",
      "Type a string to replace at position : new game\n",
      "Here is the current list\n",
      "['This', 'is', 'new game']\n",
      "Keep playing ? (Y or N) : N\n"
     ]
    }
   ],
   "source": [
    "game_on = True\n",
    "\n",
    "game_list = ['0','1','2']\n",
    "\n",
    "while game_on:                             # means while game is going on that is true which is comes from gameon_choice Y or N\n",
    "    \n",
    "    display_game(game_list)\n",
    "    \n",
    "    position = position_choice()\n",
    "    \n",
    "    # here we update the game_list so assign to game_list\n",
    "    game_list = replacement_position(game_list , position)\n",
    "    \n",
    "    display_game(game_list)\n",
    "    \n",
    "    game_on = gameon_choice()"
   ]
  },
  {
   "cell_type": "code",
   "execution_count": 16,
   "metadata": {},
   "outputs": [],
   "source": [
    "# if u want to run again above cell it will not run go to keernel select restart and run all and run all the cells once again but if u don't want to run all cells again and again delccared all functions in one cell "
   ]
  },
  {
   "cell_type": "code",
   "execution_count": 17,
   "metadata": {},
   "outputs": [],
   "source": [
    "# go through notes one time on this "
   ]
  },
  {
   "cell_type": "code",
   "execution_count": null,
   "metadata": {},
   "outputs": [],
   "source": []
  }
 ],
 "metadata": {
  "kernelspec": {
   "display_name": "Python 3",
   "language": "python",
   "name": "python3"
  },
  "language_info": {
   "codemirror_mode": {
    "name": "ipython",
    "version": 3
   },
   "file_extension": ".py",
   "mimetype": "text/x-python",
   "name": "python",
   "nbconvert_exporter": "python",
   "pygments_lexer": "ipython3",
   "version": "3.8.3"
  }
 },
 "nbformat": 4,
 "nbformat_minor": 4
}
