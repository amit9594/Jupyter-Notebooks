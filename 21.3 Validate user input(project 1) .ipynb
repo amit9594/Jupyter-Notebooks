{
 "cells": [
  {
   "cell_type": "raw",
   "metadata": {},
   "source": [
    "# very IMP this notebook\n",
    "Check that input is valid before attempting to convert.\n",
    "\n",
    "We'll use a simple method here.\n",
    "\n",
    "As you get more advanced, you can start looking at other ways of doing this (these methods will make more sense later on in the course, so don't worry about them for now).\n",
    "go through these webistes below from notes\n",
    "\n",
    "Various Posts on This\n",
    "StackOverflow Post 1\n",
    "StackOverflow Post 2"
   ]
  },
  {
   "cell_type": "code",
   "execution_count": 2,
   "metadata": {},
   "outputs": [],
   "source": [
    "# we have seen that if we give input as string when u type cast as int then it will be value error so for this see all cells carefully"
   ]
  },
  {
   "cell_type": "code",
   "execution_count": 5,
   "metadata": {},
   "outputs": [
    {
     "name": "stdout",
     "output_type": "stream",
     "text": [
      "Please enter a value in (0-10) : two\n"
     ]
    },
    {
     "ename": "ValueError",
     "evalue": "invalid literal for int() with base 10: 'two'",
     "output_type": "error",
     "traceback": [
      "\u001b[1;31m---------------------------------------------------------------------------\u001b[0m",
      "\u001b[1;31mValueError\u001b[0m                                Traceback (most recent call last)",
      "\u001b[1;32m<ipython-input-5-5571c17d4a80>\u001b[0m in \u001b[0;36m<module>\u001b[1;34m\u001b[0m\n\u001b[1;32m----> 1\u001b[1;33m \u001b[0mresult\u001b[0m \u001b[1;33m=\u001b[0m \u001b[0mint\u001b[0m\u001b[1;33m(\u001b[0m\u001b[0minput\u001b[0m\u001b[1;33m(\u001b[0m\u001b[1;34m'Please enter a value in (0-10) : '\u001b[0m\u001b[1;33m)\u001b[0m\u001b[1;33m)\u001b[0m\u001b[1;33m\u001b[0m\u001b[1;33m\u001b[0m\u001b[0m\n\u001b[0m",
      "\u001b[1;31mValueError\u001b[0m: invalid literal for int() with base 10: 'two'"
     ]
    }
   ],
   "source": [
    "result = int(input('Please enter a value in (0-10) : '))"
   ]
  },
  {
   "cell_type": "code",
   "execution_count": 6,
   "metadata": {},
   "outputs": [],
   "source": [
    "# and second is if u want a value in 0-10  then also how to fix it see all cells "
   ]
  },
  {
   "cell_type": "code",
   "execution_count": 7,
   "metadata": {},
   "outputs": [
    {
     "name": "stdout",
     "output_type": "stream",
     "text": [
      "Please enter a value in (0-10) : 5\n"
     ]
    }
   ],
   "source": [
    "result = int(input('Please enter a value in (0-10) : '))"
   ]
  },
  {
   "cell_type": "code",
   "execution_count": 9,
   "metadata": {},
   "outputs": [
    {
     "name": "stdout",
     "output_type": "stream",
     "text": [
      "Please enter a value in (0-10) : 100\n"
     ]
    }
   ],
   "source": [
    "result = int(input('Please enter a value in (0-10) : '))  # see here even i if enter 100 beyong 0-10 then also it will work so to fix in 0-10 see next"
   ]
  },
  {
   "cell_type": "code",
   "execution_count": null,
   "metadata": {},
   "outputs": [],
   "source": []
  },
  {
   "cell_type": "code",
   "execution_count": 15,
   "metadata": {},
   "outputs": [],
   "source": [
    "def user_input():\n",
    "    \n",
    "    choice = int(input(\"Please enter a value in (0-10): \"))\n",
    "    \n",
    "    return choice\n",
    "    \n"
   ]
  },
  {
   "cell_type": "code",
   "execution_count": 16,
   "metadata": {},
   "outputs": [
    {
     "name": "stdout",
     "output_type": "stream",
     "text": [
      "Please enter a value in (0-10): two\n"
     ]
    },
    {
     "ename": "ValueError",
     "evalue": "invalid literal for int() with base 10: 'two'",
     "output_type": "error",
     "traceback": [
      "\u001b[1;31m---------------------------------------------------------------------------\u001b[0m",
      "\u001b[1;31mValueError\u001b[0m                                Traceback (most recent call last)",
      "\u001b[1;32m<ipython-input-16-85aa0689a55f>\u001b[0m in \u001b[0;36m<module>\u001b[1;34m\u001b[0m\n\u001b[1;32m----> 1\u001b[1;33m \u001b[0muser_input\u001b[0m\u001b[1;33m(\u001b[0m\u001b[1;33m)\u001b[0m\u001b[1;33m\u001b[0m\u001b[1;33m\u001b[0m\u001b[0m\n\u001b[0m",
      "\u001b[1;32m<ipython-input-15-9a829c512949>\u001b[0m in \u001b[0;36muser_input\u001b[1;34m()\u001b[0m\n\u001b[0;32m      1\u001b[0m \u001b[1;32mdef\u001b[0m \u001b[0muser_input\u001b[0m\u001b[1;33m(\u001b[0m\u001b[1;33m)\u001b[0m\u001b[1;33m:\u001b[0m\u001b[1;33m\u001b[0m\u001b[1;33m\u001b[0m\u001b[0m\n\u001b[0;32m      2\u001b[0m \u001b[1;33m\u001b[0m\u001b[0m\n\u001b[1;32m----> 3\u001b[1;33m     \u001b[0mchoice\u001b[0m \u001b[1;33m=\u001b[0m \u001b[0mint\u001b[0m\u001b[1;33m(\u001b[0m\u001b[0minput\u001b[0m\u001b[1;33m(\u001b[0m\u001b[1;34m\"Please enter a value in (0-10): \"\u001b[0m\u001b[1;33m)\u001b[0m\u001b[1;33m)\u001b[0m\u001b[1;33m\u001b[0m\u001b[1;33m\u001b[0m\u001b[0m\n\u001b[0m\u001b[0;32m      4\u001b[0m \u001b[1;33m\u001b[0m\u001b[0m\n\u001b[0;32m      5\u001b[0m     \u001b[1;32mreturn\u001b[0m \u001b[0mchoice\u001b[0m\u001b[1;33m\u001b[0m\u001b[1;33m\u001b[0m\u001b[0m\n",
      "\u001b[1;31mValueError\u001b[0m: invalid literal for int() with base 10: 'two'"
     ]
    }
   ],
   "source": [
    "user_input()"
   ]
  },
  {
   "cell_type": "code",
   "execution_count": 17,
   "metadata": {},
   "outputs": [
    {
     "name": "stdout",
     "output_type": "stream",
     "text": [
      "Please enter a value in (0-10): 120\n"
     ]
    },
    {
     "data": {
      "text/plain": [
       "120"
      ]
     },
     "execution_count": 17,
     "metadata": {},
     "output_type": "execute_result"
    }
   ],
   "source": [
    "user_input()"
   ]
  },
  {
   "cell_type": "code",
   "execution_count": 19,
   "metadata": {},
   "outputs": [],
   "source": [
    "# so mainly here two problems to validate i.e one is if user input as a string and enter a value beyond range\n",
    "# so to avoid a value error use while loop to asking again to enter a correct inter value \n",
    "# and to avoid beyond value we will use while loop here also and if else see code next"
   ]
  },
  {
   "cell_type": "code",
   "execution_count": 20,
   "metadata": {},
   "outputs": [],
   "source": [
    "# so to check whether user enter  a integer and not other data types see notes inthat there are 3 sites to see how to fix as a integer as to check is a digit ? go though it and from all that the function .isdigit() is better\n"
   ]
  },
  {
   "cell_type": "code",
   "execution_count": 21,
   "metadata": {},
   "outputs": [],
   "source": [
    "def user_input():\n",
    "    \n",
    "    choice = int(input(\"Please enter a value in (0-10): \"))\n",
    "    \n",
    "    return choice\n",
    "    "
   ]
  },
  {
   "cell_type": "code",
   "execution_count": 23,
   "metadata": {},
   "outputs": [],
   "source": [
    "sam ='100'"
   ]
  },
  {
   "cell_type": "code",
   "execution_count": null,
   "metadata": {},
   "outputs": [],
   "source": [
    "isdigit(press shift+tab to see about this function)\n",
    "\n",
    "signature: sam.isdigit()\n",
    "Docstring:\n",
    "Return True if the string is a digit string, False otherwise."
   ]
  },
  {
   "cell_type": "code",
   "execution_count": 25,
   "metadata": {},
   "outputs": [
    {
     "data": {
      "text/plain": [
       "True"
      ]
     },
     "execution_count": 25,
     "metadata": {},
     "output_type": "execute_result"
    }
   ],
   "source": [
    "sam.isdigit()  \n",
    "# seehere it check twetherit is fdigit or not and gives bollean o/p\n"
   ]
  },
  {
   "cell_type": "code",
   "execution_count": 27,
   "metadata": {},
   "outputs": [],
   "source": [
    "# so use isdigit() in code to coorect input as a interger not a string and this will overcome value error\n",
    "\n",
    "# use this function in a while loop so that it will run till correct input as a integer"
   ]
  },
  {
   "cell_type": "code",
   "execution_count": 41,
   "metadata": {},
   "outputs": [],
   "source": [
    "def user_input():\n",
    "    \n",
    "    choice = 'Wrong'   # give string as u want this is for initial value \n",
    "    \n",
    "    while choice.isdigit() == False:          # bcoz of this if u enter other data types than integer it will aksed again to enter \n",
    "        \n",
    "        choice = input(\"Please enter a value in (0-10): \")\n",
    "        \n",
    "        #if choice.isdigit() == False:\n",
    "            #print(\"Enter correct input as a integer : \")      # this if is under while and if false it comment like this for user\n",
    "    \n",
    "    \n",
    "    return int(choice)\n",
    "    \n"
   ]
  },
  {
   "cell_type": "code",
   "execution_count": 43,
   "metadata": {},
   "outputs": [
    {
     "name": "stdout",
     "output_type": "stream",
     "text": [
      "Please enter a value in (0-10): ada\n",
      "Please enter a value in (0-10): two\n",
      "Please enter a value in (0-10): sds\n",
      "Please enter a value in (0-10): sdffD\n",
      "Please enter a value in (0-10): 5\n"
     ]
    },
    {
     "data": {
      "text/plain": [
       "5"
      ]
     },
     "execution_count": 43,
     "metadata": {},
     "output_type": "execute_result"
    }
   ],
   "source": [
    "user_input()     # see here we have overcome the value error "
   ]
  },
  {
   "cell_type": "code",
   "execution_count": 45,
   "metadata": {},
   "outputs": [],
   "source": [
    "# but now one thing is remain to fix range"
   ]
  },
  {
   "cell_type": "code",
   "execution_count": 47,
   "metadata": {},
   "outputs": [],
   "source": [
    "string = ['a','b','c']"
   ]
  },
  {
   "cell_type": "code",
   "execution_count": 49,
   "metadata": {},
   "outputs": [
    {
     "data": {
      "text/plain": [
       "False"
      ]
     },
     "execution_count": 49,
     "metadata": {},
     "output_type": "execute_result"
    }
   ],
   "source": [
    "'d' in string"
   ]
  },
  {
   "cell_type": "code",
   "execution_count": 50,
   "metadata": {},
   "outputs": [
    {
     "data": {
      "text/plain": [
       "True"
      ]
     },
     "execution_count": 50,
     "metadata": {},
     "output_type": "execute_result"
    }
   ],
   "source": [
    "'d' not in string"
   ]
  },
  {
   "cell_type": "code",
   "execution_count": 51,
   "metadata": {},
   "outputs": [],
   "source": [
    "def user_input():\n",
    "    \n",
    "    choice = 'Wrong'   # give string as u want this is for initial value\n",
    "    within_range = False # bydefulat ntitialize this with false and then check in if else condition for range us in within or not\n",
    "    Acceptable_range = range(0,10)\n",
    "    \n",
    "    # Two condition to check here\n",
    "    # within range or digit == false\n",
    "    \n",
    "    while choice.isdigit() == False or within_range == False or within_range == False:          # bcoz of this if u enter other data types than integer it will aksed again to enter \n",
    "        \n",
    "        choice = input(\"Please enter a value in (0-10): \")\n",
    "        \n",
    "        # digit check\n",
    "        \n",
    "        \n",
    "        if choice.isdigit() == False:\n",
    "            print(\"sorry that is not a digit : \")       # this if is under while and if false it comment like this for user\n",
    "        \n",
    "        \n",
    "        # range check\n",
    "        \n",
    "        \n",
    "        # here we check digit bhi hain aur within range bhi hain to within_range ko true karo otherwise false karo\n",
    "        if choice.isdigit() == True:\n",
    "            if int(choice) in Acceptable_range: \n",
    "                within_range = True\n",
    "            else:\n",
    "                print(\"sorry, you are out of acceptable range (0-10) \")\n",
    "                within_range = False\n",
    "    \n",
    "    return int(choice)\n",
    "    "
   ]
  },
  {
   "cell_type": "code",
   "execution_count": 52,
   "metadata": {},
   "outputs": [
    {
     "name": "stdout",
     "output_type": "stream",
     "text": [
      "Please enter a value in (0-10): five\n",
      "sorry that is not a digit : \n",
      "Please enter a value in (0-10): asd\n",
      "sorry that is not a digit : \n",
      "Please enter a value in (0-10): 100\n",
      "sorry, you are out of acceptable range (0-10) \n",
      "Please enter a value in (0-10): 5\n"
     ]
    },
    {
     "data": {
      "text/plain": [
       "5"
      ]
     },
     "execution_count": 52,
     "metadata": {},
     "output_type": "execute_result"
    }
   ],
   "source": [
    "user_input() "
   ]
  },
  {
   "cell_type": "code",
   "execution_count": 53,
   "metadata": {},
   "outputs": [],
   "source": [
    "# now see we have validate user input i.e we have overcome valueerror and also range problem "
   ]
  },
  {
   "cell_type": "code",
   "execution_count": 54,
   "metadata": {},
   "outputs": [],
   "source": [
    "# in next session by using this logics we will see how to creat simple user interactive experience"
   ]
  },
  {
   "cell_type": "code",
   "execution_count": null,
   "metadata": {},
   "outputs": [],
   "source": []
  }
 ],
 "metadata": {
  "kernelspec": {
   "display_name": "Python 3",
   "language": "python",
   "name": "python3"
  },
  "language_info": {
   "codemirror_mode": {
    "name": "ipython",
    "version": 3
   },
   "file_extension": ".py",
   "mimetype": "text/x-python",
   "name": "python",
   "nbconvert_exporter": "python",
   "pygments_lexer": "ipython3",
   "version": "3.8.3"
  }
 },
 "nbformat": 4,
 "nbformat_minor": 4
}
