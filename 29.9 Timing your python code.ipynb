{
 "cells": [
  {
   "cell_type": "code",
   "execution_count": 1,
   "metadata": {},
   "outputs": [],
   "source": [
    "# there are so many methods to solve one prblem so which will be efficient for us so decide that we will use time built module"
   ]
  },
  {
   "cell_type": "code",
   "execution_count": 2,
   "metadata": {},
   "outputs": [],
   "source": [
    "# method 1\n",
    "def func_one(n):\n",
    "    return[str(num) for num in range(n)]"
   ]
  },
  {
   "cell_type": "code",
   "execution_count": 3,
   "metadata": {},
   "outputs": [
    {
     "data": {
      "text/plain": [
       "['0', '1', '2', '3', '4', '5', '6', '7', '8', '9']"
      ]
     },
     "execution_count": 3,
     "metadata": {},
     "output_type": "execute_result"
    }
   ],
   "source": [
    "func_one(10)"
   ]
  },
  {
   "cell_type": "code",
   "execution_count": 4,
   "metadata": {},
   "outputs": [],
   "source": [
    "# method 2\n",
    "def func_two(n):\n",
    "    return list(map(str,range(n)))\n",
    "    "
   ]
  },
  {
   "cell_type": "code",
   "execution_count": 5,
   "metadata": {},
   "outputs": [
    {
     "data": {
      "text/plain": [
       "['0', '1', '2', '3', '4', '5', '6', '7', '8', '9']"
      ]
     },
     "execution_count": 5,
     "metadata": {},
     "output_type": "execute_result"
    }
   ],
   "source": [
    "func_two(10)"
   ]
  },
  {
   "cell_type": "code",
   "execution_count": 6,
   "metadata": {},
   "outputs": [],
   "source": [
    "# see same result for above two methods which will be efficient see next?"
   ]
  },
  {
   "cell_type": "code",
   "execution_count": 7,
   "metadata": {},
   "outputs": [],
   "source": [
    "import time"
   ]
  },
  {
   "cell_type": "code",
   "execution_count": 8,
   "metadata": {},
   "outputs": [
    {
     "name": "stdout",
     "output_type": "stream",
     "text": [
      "0.08400487899780273\n"
     ]
    }
   ],
   "source": [
    "# CURRENT TIME BEFORE\n",
    "start = time.time()   # this save instance time\n",
    "# RUN CODE\n",
    "result = func_one(100000)\n",
    "# CURRENT TIME BEFORE\n",
    "end = time.time()  # this saves after run code\n",
    "# ELAPSED TIME\n",
    "Elapsed_time = end - start  # we have to minus start from end so that it finds time complexity for the code \n",
    "\n",
    "print(Elapsed_time)  # and just print time "
   ]
  },
  {
   "cell_type": "code",
   "execution_count": 9,
   "metadata": {},
   "outputs": [
    {
     "name": "stdout",
     "output_type": "stream",
     "text": [
      "0.07800436019897461\n"
     ]
    }
   ],
   "source": [
    "# CURRENT TIME BEFORE\n",
    "start = time.time()   # this save instance time\n",
    "# RUN CODE\n",
    "result = func_two(100000)\n",
    "# CURRENT TIME BEFORE\n",
    "end = time.time()  # this saves after run code\n",
    "# ELAPSED TIME\n",
    "Elapsed_time = end - start  # we have to minus start from end so that it finds time complexity for the code \n",
    "\n",
    "print(Elapsed_time)  # and just print time "
   ]
  },
  {
   "cell_type": "code",
   "execution_count": 10,
   "metadata": {},
   "outputs": [],
   "source": [
    "# see for func_two it takes less time than func_one for last vlaue only but see for less values "
   ]
  },
  {
   "cell_type": "code",
   "execution_count": 11,
   "metadata": {},
   "outputs": [
    {
     "name": "stdout",
     "output_type": "stream",
     "text": [
      "0.0\n",
      "0.0\n"
     ]
    }
   ],
   "source": [
    "# CURRENT TIME BEFORE\n",
    "start = time.time()   # this save instance time\n",
    "# RUN CODE\n",
    "result = func_one(10)\n",
    "# CURRENT TIME BEFORE\n",
    "end = time.time()  # this saves after run code\n",
    "# ELAPSED TIME\n",
    "Elapsed_time = end - start  # we have to minus start from end so that it finds time complexity for the code \n",
    "\n",
    "print(Elapsed_time)  # and just print time \n",
    "\n",
    "# CURRENT TIME BEFORE\n",
    "start = time.time()   # this save instance time\n",
    "# RUN CODE\n",
    "result = func_two(10)\n",
    "# CURRENT TIME BEFORE\n",
    "end = time.time()  # this saves after run code\n",
    "# ELAPSED TIME\n",
    "Elapsed_time = end - start  # we have to minus start from end so that it finds time complexity for the code \n",
    "\n",
    "print(Elapsed_time)  # and just print time "
   ]
  },
  {
   "cell_type": "code",
   "execution_count": 12,
   "metadata": {},
   "outputs": [],
   "source": [
    "# see for less input value of n it take approx 0 sec so it will not give which is less and which takes more time for all values \n",
    "# so get which takes less than other code see how ?\n"
   ]
  },
  {
   "cell_type": "code",
   "execution_count": 13,
   "metadata": {},
   "outputs": [],
   "source": [
    "import timeit"
   ]
  },
  {
   "cell_type": "raw",
   "metadata": {},
   "source": [
    "timeit.timeit(\n",
    "    \n",
    "    Signature:\n",
    "timeit.timeit(\n",
    "    stmt='pass',\n",
    "    setup='pass',\n",
    "    timer=<built-in function perf_counter>,\n",
    "    number=1000000,\n",
    "    globals=None,\n",
    ")\n",
    "Docstring: Convenience function to create Timer object and call timeit method.\n",
    "File:      c:\\users\\user1\\anaconda3\\lib\\timeit.py\n",
    "Type:      function\n",
    "             \n",
    "             \n",
    ")"
   ]
  },
  {
   "cell_type": "code",
   "execution_count": 14,
   "metadata": {},
   "outputs": [],
   "source": [
    "stmt1 ='''\n",
    "func_one(100)\n",
    "''' \n",
    "\n",
    "setup1 = '''\n",
    "def func_one(n):\n",
    "    return[str(num) for num in range(n)]\n",
    "'''"
   ]
  },
  {
   "cell_type": "code",
   "execution_count": 15,
   "metadata": {},
   "outputs": [
    {
     "data": {
      "text/plain": [
       "6.798562373"
      ]
     },
     "execution_count": 15,
     "metadata": {},
     "output_type": "execute_result"
    }
   ],
   "source": [
    "timeit.timeit(stmt1,setup1,number= 100000)  \n",
    "# it means 100 thousand time it runs again and again by appliying on setup1 by taking input from stmt1 by calling function "
   ]
  },
  {
   "cell_type": "code",
   "execution_count": 16,
   "metadata": {},
   "outputs": [],
   "source": [
    "stmt2 ='''\n",
    "func_two(100)\n",
    "''' \n",
    "\n",
    "setup2 = '''\n",
    "def func_two(n):\n",
    "    return list(map(str,range(n)))\n",
    "    \n",
    "'''"
   ]
  },
  {
   "cell_type": "code",
   "execution_count": 17,
   "metadata": {},
   "outputs": [
    {
     "data": {
      "text/plain": [
       "5.086522655"
      ]
     },
     "execution_count": 17,
     "metadata": {},
     "output_type": "execute_result"
    }
   ],
   "source": [
    "timeit.timeit(stmt2,setup2,number= 100000)   # keep in mind that to compare two methods func_one and func_two keep number same "
   ]
  },
  {
   "cell_type": "code",
   "execution_count": 18,
   "metadata": {},
   "outputs": [],
   "source": [
    "# see func_one takes less time than func_one see for large value it works or not"
   ]
  },
  {
   "cell_type": "code",
   "execution_count": 19,
   "metadata": {},
   "outputs": [
    {
     "data": {
      "text/plain": [
       "56.169028260999994"
      ]
     },
     "execution_count": 19,
     "metadata": {},
     "output_type": "execute_result"
    }
   ],
   "source": [
    "timeit.timeit(stmt1,setup1,number= 1000000) # see now for 1 million times   \n"
   ]
  },
  {
   "cell_type": "code",
   "execution_count": 20,
   "metadata": {},
   "outputs": [
    {
     "data": {
      "text/plain": [
       "47.648161671"
      ]
     },
     "execution_count": 20,
     "metadata": {},
     "output_type": "execute_result"
    }
   ],
   "source": [
    "timeit.timeit(stmt2,setup2,number= 1000000)"
   ]
  },
  {
   "cell_type": "code",
   "execution_count": 21,
   "metadata": {},
   "outputs": [],
   "source": [
    "# see here also func_two takes less time than func_one for lare value for less i.e for any value and for that use timeit not time module"
   ]
  },
  {
   "cell_type": "code",
   "execution_count": 28,
   "metadata": {},
   "outputs": [],
   "source": [
    "#now if u want to  direct time instead of passing stmt and setup see"
   ]
  },
  {
   "cell_type": "markdown",
   "metadata": {},
   "source": [
    "# Timing you code with Jupyter \"magic\" method"
   ]
  },
  {
   "cell_type": "markdown",
   "metadata": {},
   "source": [
    "# NOTE: This method is ONLY available in Jupyter and the magic command needs to be at the top of the cell with nothing above it (not even commented code)"
   ]
  },
  {
   "cell_type": "code",
   "execution_count": 23,
   "metadata": {},
   "outputs": [
    {
     "name": "stdout",
     "output_type": "stream",
     "text": [
      "47.4 µs ± 10.7 µs per loop (mean ± std. dev. of 7 runs, 10000 loops each)\n"
     ]
    }
   ],
   "source": [
    "%%timeit\n",
    "func_one(100)"
   ]
  },
  {
   "cell_type": "code",
   "execution_count": 24,
   "metadata": {},
   "outputs": [
    {
     "name": "stdout",
     "output_type": "stream",
     "text": [
      "45.6 µs ± 11.2 µs per loop (mean ± std. dev. of 7 runs, 10000 loops each)\n"
     ]
    }
   ],
   "source": [
    "%%timeit\n",
    "func_two(100)"
   ]
  },
  {
   "cell_type": "code",
   "execution_count": 25,
   "metadata": {},
   "outputs": [],
   "source": [
    "# it gives time for defulat value 10000 loops \n",
    "\n",
    "# so from this also func_two takes less time so it is efficint and better to use"
   ]
  },
  {
   "cell_type": "code",
   "execution_count": 26,
   "metadata": {},
   "outputs": [],
   "source": [
    "# to find out time it may takes more time to execute so wait for that"
   ]
  },
  {
   "cell_type": "code",
   "execution_count": 27,
   "metadata": {},
   "outputs": [],
   "source": [
    "#after execute again and agian cells it may vary time but result will always be less time for func_two than func_one"
   ]
  },
  {
   "cell_type": "code",
   "execution_count": null,
   "metadata": {},
   "outputs": [],
   "source": []
  }
 ],
 "metadata": {
  "kernelspec": {
   "display_name": "Python 3",
   "language": "python",
   "name": "python3"
  },
  "language_info": {
   "codemirror_mode": {
    "name": "ipython",
    "version": 3
   },
   "file_extension": ".py",
   "mimetype": "text/x-python",
   "name": "python",
   "nbconvert_exporter": "python",
   "pygments_lexer": "ipython3",
   "version": "3.8.3"
  }
 },
 "nbformat": 4,
 "nbformat_minor": 4
}
