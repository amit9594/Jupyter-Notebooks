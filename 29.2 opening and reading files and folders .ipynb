{
 "cells": [
  {
   "cell_type": "raw",
   "metadata": {},
   "source": [
    "# so we will see how to open , read , write , close files and folders, move from one dir to another , how to delete , how to walk inside any folder ."
   ]
  },
  {
   "cell_type": "code",
   "execution_count": 1,
   "metadata": {},
   "outputs": [
    {
     "data": {
      "text/plain": [
       "'C:\\\\Users\\\\user1\\\\python 3'"
      ]
     },
     "execution_count": 1,
     "metadata": {},
     "output_type": "execute_result"
    }
   ],
   "source": [
    "pwd"
   ]
  },
  {
   "cell_type": "code",
   "execution_count": 2,
   "metadata": {},
   "outputs": [],
   "source": [
    "f = open('29_practice.txt','w+')\n",
    "f.write('this is a text file')\n",
    "f.close()"
   ]
  },
  {
   "cell_type": "raw",
   "metadata": {},
   "source": [
    "# 1st cell is pwd means we have currently in that folder \n",
    "\n",
    "# in 2nd cell we have created a new folder  C:\\\\Users\\\\user1 in this and we have wriiteen something in it and we have close it \n",
    "# so this is fantasty of python that we can open a new folder in any directory "
   ]
  },
  {
   "cell_type": "code",
   "execution_count": 3,
   "metadata": {},
   "outputs": [],
   "source": [
    "# we have os module  which is very useful to open any directory \n"
   ]
  },
  {
   "cell_type": "markdown",
   "metadata": {},
   "source": [
    "# os module"
   ]
  },
  {
   "cell_type": "raw",
   "metadata": {},
   "source": [
    "os.listdir()\n",
    "\n",
    "\n",
    "Signature: os.listdir(path=None)\n",
    "Docstring:\n",
    "Return a list containing the names of the files in the directory.\n",
    "\n",
    "path can be specified as either str, bytes, or a path-like object.  If path is bytes,\n",
    "  the filenames returned will also be bytes; in all other circumstances\n",
    "  the filenames returned will be str.\n",
    "If path is None, uses the path='.'.\n",
    "On some platforms, path may also be specified as an open file descriptor;\\\n",
    "  the file descriptor must refer to a directory.\n",
    "  If this functionality is unavailable, using it raises NotImplementedError.\n",
    "\n",
    "The list is in arbitrary order.  It does not include the special\n",
    "entries '.' and '..' even if they are present in the directory.\n",
    "Type:      builtin_function_or_method"
   ]
  },
  {
   "cell_type": "code",
   "execution_count": 4,
   "metadata": {},
   "outputs": [],
   "source": [
    "import os"
   ]
  },
  {
   "cell_type": "code",
   "execution_count": 5,
   "metadata": {},
   "outputs": [
    {
     "data": {
      "text/plain": [
       "'C:\\\\Users\\\\user1\\\\python 3'"
      ]
     },
     "execution_count": 5,
     "metadata": {},
     "output_type": "execute_result"
    }
   ],
   "source": [
    "os.getcwd()"
   ]
  },
  {
   "cell_type": "code",
   "execution_count": 6,
   "metadata": {},
   "outputs": [],
   "source": [
    "# so above os moudle gives current working directory (cwd) \n",
    "# and pwd also gives cwd but only for this jupyter not for other systems like mac os or linux only for wiindows but \n",
    "# but os moudle workds in any srcipt i.e inany machine"
   ]
  },
  {
   "cell_type": "markdown",
   "metadata": {},
   "source": [
    "# now lets see how to list out all files in a directory i.e for now under python3"
   ]
  },
  {
   "cell_type": "code",
   "execution_count": 7,
   "metadata": {},
   "outputs": [
    {
     "data": {
      "text/plain": [
       "['.ipynb_checkpoints',\n",
       " '1 basics .ipynb',\n",
       " '1 lec basic .ipynb',\n",
       " '1.1 assessment .ipynb',\n",
       " '10.1 text file .ipynb',\n",
       " '11.1 comparison operators .ipynb',\n",
       " '11.2 chaining operators and logical operators .ipynb',\n",
       " '12 If elif and else .ipynb',\n",
       " '12.2 for loop .ipynb',\n",
       " '12.3 While loop .ipynb',\n",
       " '13 useful operators and in built functions .ipynb',\n",
       " '14 List comprehensions .ipynb',\n",
       " '15 Python statements test .ipynb',\n",
       " '16 Methods  and documentation in python .ipynb',\n",
       " '17.1 Functions .ipynb',\n",
       " '17.2 logic with functions .ipynb',\n",
       " '17.3 Tuple unpacking with python function .ipynb',\n",
       " '17.4 Interaction between python function .ipynb',\n",
       " '17.5 args and kwargs .ipynb',\n",
       " '18.1 Function practice exercise  warmup problems .ipynb',\n",
       " '18.2 Function level 1 problems .ipynb',\n",
       " '18.3 Function level 2 problem .ipynb',\n",
       " '18.4 Functions Challenging problems.ipynb',\n",
       " '19 lambda expression, map , filter in functions .ipynb',\n",
       " '2 basic calculation(numbers) .ipynb',\n",
       " '20 Nested statements and scope in function .ipynb',\n",
       " '21 Homework method and  function overview .ipynb',\n",
       " '21.1 Displaying Information(project 1)  .ipynb',\n",
       " '21.2 Accepting user input(project 1)  .ipynb',\n",
       " '21.3 Validate user input(project 1) .ipynb',\n",
       " '21.4 Simple user interaction  IMP.ipynb',\n",
       " '22 Milestone project 1 ---  .ipynb',\n",
       " '22.2 Final 1st project (tic tac toe game) .ipynb',\n",
       " '23.1  Object oriented programming  Attributes and class keyword.ipynb',\n",
       " '23.2 OOP class objects attributes and methods.ipynb',\n",
       " '23.3 Inheritance and polymorphism.ipynb',\n",
       " '23.4 special(magic  or dunder) methods in oop.ipynb',\n",
       " '23.5 OOP Assignment.ipynb',\n",
       " '23.6 OOP challenge problem (BANK ACCOUNT).ipynb',\n",
       " '24 modules and packages.ipynb',\n",
       " '25.1 Errors and exception handling.ipynb',\n",
       " '25.2 errors and exception handling assignment .ipynb',\n",
       " '26.1 card class .ipynb',\n",
       " '26.2 Deck class.ipynb',\n",
       " '26.3 Player Class.ipynb',\n",
       " '26.4 Game logic part 2.ipynb',\n",
       " '26.5 Milestone project -2.ipynb',\n",
       " '27.1 decorators with python overview.ipynb',\n",
       " '28.1 Generators with python.ipynb',\n",
       " '28.2 Iterators and generators homework.ipynb',\n",
       " '29.1 python collection module.ipynb',\n",
       " '29.2 opening and reading files and folders .ipynb',\n",
       " '29_practice.txt',\n",
       " '3 variable_assignments .ipynb',\n",
       " '4 string .ipynb',\n",
       " '5 list .ipynb',\n",
       " '6.0 dictionaries .ipynb',\n",
       " '7 TUPLES .ipynb',\n",
       " '8 Quiz .ipynb',\n",
       " '9 boolean .ipynb',\n",
       " 'dsa calculation.ipynb',\n",
       " 'key points to remember .ipynb',\n",
       " 'main_package_python',\n",
       " 'mymodule.py',\n",
       " 'myprogram.py',\n",
       " 'my_new_file.txt',\n",
       " 'Untitled.ipynb',\n",
       " 'Untitled1.ipynb',\n",
       " 'Untitled2.ipynb']"
      ]
     },
     "execution_count": 7,
     "metadata": {},
     "output_type": "execute_result"
    }
   ],
   "source": [
    "os.listdir()"
   ]
  },
  {
   "cell_type": "code",
   "execution_count": 8,
   "metadata": {},
   "outputs": [
    {
     "data": {
      "text/plain": [
       "['All Users', 'Default', 'Default User', 'desktop.ini', 'Public', 'user1']"
      ]
     },
     "execution_count": 8,
     "metadata": {},
     "output_type": "execute_result"
    }
   ],
   "source": [
    "# if u want list of files of a particular folders or location see how ?\n",
    "\n",
    "os.listdir('C:\\\\Users')"
   ]
  },
  {
   "cell_type": "code",
   "execution_count": 9,
   "metadata": {},
   "outputs": [
    {
     "data": {
      "text/plain": [
       "['.android',\n",
       " '.bash_history',\n",
       " '.conda',\n",
       " '.condarc',\n",
       " '.gitconfig',\n",
       " '.gradle',\n",
       " '.ipynb_checkpoints',\n",
       " '.ipython',\n",
       " '.jupyter',\n",
       " '.matplotlib',\n",
       " '.nbi',\n",
       " '.oracle_jre_usage',\n",
       " '.spyder-py3',\n",
       " '29.3.ipynb',\n",
       " '29_practice.txt',\n",
       " 'agricultur_saw.webp',\n",
       " 'agri_saw.jpg',\n",
       " 'anaconda3',\n",
       " 'AppData',\n",
       " 'Application Data',\n",
       " 'bdjahdahfl.txt',\n",
       " 'cg practcals.docx',\n",
       " 'Contacts',\n",
       " 'Cookies',\n",
       " 'description of products.txt',\n",
       " 'Desktop',\n",
       " 'Documents',\n",
       " 'Downloads',\n",
       " 'dsa calculation.ipynb',\n",
       " 'DTS lab manual 1.xps',\n",
       " 'dts lab manual final 1.xps',\n",
       " 'dts lab manual.htm',\n",
       " 'Favorites',\n",
       " 'Final dts lab manual.xps',\n",
       " 'final lab manual dts.xps',\n",
       " 'garden_spade.jpg',\n",
       " 'garden_sprayer.jpg',\n",
       " 'grass_cutter.jpg',\n",
       " 'hand_tractor.jpg',\n",
       " 'helicopter.cpp',\n",
       " 'hey.txt',\n",
       " 'lab manual dts.pdf',\n",
       " 'Links',\n",
       " 'Local Settings',\n",
       " 'maize_thresher.jpg',\n",
       " 'Mini log book.xps',\n",
       " 'Mini project final 2.docx',\n",
       " 'Mini project final 3.docx',\n",
       " 'mini project report final.docx',\n",
       " 'mini project report.docx',\n",
       " 'Mini tiller.jpg',\n",
       " 'mini_tiller (1).jpg',\n",
       " 'Music',\n",
       " 'my application.txt',\n",
       " 'My Documents',\n",
       " 'My dts practicals.xps',\n",
       " 'myfile.txt',\n",
       " 'NetHood',\n",
       " 'news icon.html',\n",
       " 'news icon_files',\n",
       " 'notepad CG.txt',\n",
       " 'NTUSER.DAT',\n",
       " 'ntuser.dat.LOG1',\n",
       " 'ntuser.dat.LOG2',\n",
       " 'NTUSER.DAT{016888bd-6c6f-11de-8d1d-001e0bcde3ec}.TM.blf',\n",
       " 'NTUSER.DAT{016888bd-6c6f-11de-8d1d-001e0bcde3ec}.TMContainer00000000000000000001.regtrans-ms',\n",
       " 'NTUSER.DAT{016888bd-6c6f-11de-8d1d-001e0bcde3ec}.TMContainer00000000000000000002.regtrans-ms',\n",
       " 'ntuser.ini',\n",
       " 'Pictures',\n",
       " 'PrintHood',\n",
       " 'python 3',\n",
       " 'python3',\n",
       " 'Recent',\n",
       " 'rupees_icon.jpg',\n",
       " 'Saved Games',\n",
       " 'SE FEE RECEIPT.xps',\n",
       " 'Searches',\n",
       " 'SendTo',\n",
       " 'Start Menu',\n",
       " 'Templates',\n",
       " 'test.txt',\n",
       " 'testfile',\n",
       " 'Thumbs.db',\n",
       " 'Videos',\n",
       " 'weatherforecastlink.htm',\n",
       " 'Wheel_hoe.jpg',\n",
       " '__pycache__']"
      ]
     },
     "execution_count": 9,
     "metadata": {},
     "output_type": "execute_result"
    }
   ],
   "source": [
    "os.listdir('C:\\\\Users\\\\user1')"
   ]
  },
  {
   "cell_type": "code",
   "execution_count": 10,
   "metadata": {},
   "outputs": [],
   "source": [
    "# extra part"
   ]
  },
  {
   "cell_type": "code",
   "execution_count": 11,
   "metadata": {},
   "outputs": [],
   "source": [
    "file_list = os.listdir('c:\\\\users')"
   ]
  },
  {
   "cell_type": "code",
   "execution_count": 12,
   "metadata": {},
   "outputs": [
    {
     "data": {
      "text/plain": [
       "['All Users', 'Default', 'Default User', 'desktop.ini', 'Public', 'user1']"
      ]
     },
     "execution_count": 12,
     "metadata": {},
     "output_type": "execute_result"
    }
   ],
   "source": [
    "file_list"
   ]
  },
  {
   "cell_type": "code",
   "execution_count": 13,
   "metadata": {},
   "outputs": [
    {
     "data": {
      "text/plain": [
       "'desktop.ini'"
      ]
     },
     "execution_count": 13,
     "metadata": {},
     "output_type": "execute_result"
    }
   ],
   "source": [
    "file_list[3]"
   ]
  },
  {
   "cell_type": "code",
   "execution_count": 14,
   "metadata": {},
   "outputs": [
    {
     "data": {
      "text/plain": [
       "'user1'"
      ]
     },
     "execution_count": 14,
     "metadata": {},
     "output_type": "execute_result"
    }
   ],
   "source": [
    "file_list[-1]"
   ]
  },
  {
   "cell_type": "code",
   "execution_count": 15,
   "metadata": {},
   "outputs": [
    {
     "data": {
      "text/plain": [
       "['All Users', 'Default', 'Default User', 'desktop.ini', 'Public', 'user1']"
      ]
     },
     "execution_count": 15,
     "metadata": {},
     "output_type": "execute_result"
    }
   ],
   "source": [
    "file_list[0:]"
   ]
  },
  {
   "cell_type": "markdown",
   "metadata": {},
   "source": [
    "# how to move file from one directory to another "
   ]
  },
  {
   "cell_type": "code",
   "execution_count": 16,
   "metadata": {},
   "outputs": [],
   "source": [
    "import shutil"
   ]
  },
  {
   "cell_type": "code",
   "execution_count": 18,
   "metadata": {},
   "outputs": [
    {
     "ename": "PermissionError",
     "evalue": "[Errno 13] Permission denied: 'c:\\\\users\\\\29_practice.txt'",
     "output_type": "error",
     "traceback": [
      "\u001b[1;31m---------------------------------------------------------------------------\u001b[0m",
      "\u001b[1;31mPermissionError\u001b[0m                           Traceback (most recent call last)",
      "\u001b[1;32m~\\anaconda3\\lib\\shutil.py\u001b[0m in \u001b[0;36mmove\u001b[1;34m(src, dst, copy_function)\u001b[0m\n\u001b[0;32m    787\u001b[0m     \u001b[1;32mtry\u001b[0m\u001b[1;33m:\u001b[0m\u001b[1;33m\u001b[0m\u001b[1;33m\u001b[0m\u001b[0m\n\u001b[1;32m--> 788\u001b[1;33m         \u001b[0mos\u001b[0m\u001b[1;33m.\u001b[0m\u001b[0mrename\u001b[0m\u001b[1;33m(\u001b[0m\u001b[0msrc\u001b[0m\u001b[1;33m,\u001b[0m \u001b[0mreal_dst\u001b[0m\u001b[1;33m)\u001b[0m\u001b[1;33m\u001b[0m\u001b[1;33m\u001b[0m\u001b[0m\n\u001b[0m\u001b[0;32m    789\u001b[0m     \u001b[1;32mexcept\u001b[0m \u001b[0mOSError\u001b[0m\u001b[1;33m:\u001b[0m\u001b[1;33m\u001b[0m\u001b[1;33m\u001b[0m\u001b[0m\n",
      "\u001b[1;31mPermissionError\u001b[0m: [WinError 5] Access is denied: '29_practice.txt' -> 'c:\\\\users\\\\29_practice.txt'",
      "\nDuring handling of the above exception, another exception occurred:\n",
      "\u001b[1;31mPermissionError\u001b[0m                           Traceback (most recent call last)",
      "\u001b[1;32m<ipython-input-18-b8e7a125eb7e>\u001b[0m in \u001b[0;36m<module>\u001b[1;34m\u001b[0m\n\u001b[1;32m----> 1\u001b[1;33m \u001b[0mshutil\u001b[0m\u001b[1;33m.\u001b[0m\u001b[0mmove\u001b[0m\u001b[1;33m(\u001b[0m\u001b[1;34m'29_practice.txt'\u001b[0m\u001b[1;33m,\u001b[0m\u001b[1;34m'c:\\\\users'\u001b[0m\u001b[1;33m)\u001b[0m\u001b[1;33m\u001b[0m\u001b[1;33m\u001b[0m\u001b[0m\n\u001b[0m",
      "\u001b[1;32m~\\anaconda3\\lib\\shutil.py\u001b[0m in \u001b[0;36mmove\u001b[1;34m(src, dst, copy_function)\u001b[0m\n\u001b[0;32m    800\u001b[0m             \u001b[0mrmtree\u001b[0m\u001b[1;33m(\u001b[0m\u001b[0msrc\u001b[0m\u001b[1;33m)\u001b[0m\u001b[1;33m\u001b[0m\u001b[1;33m\u001b[0m\u001b[0m\n\u001b[0;32m    801\u001b[0m         \u001b[1;32melse\u001b[0m\u001b[1;33m:\u001b[0m\u001b[1;33m\u001b[0m\u001b[1;33m\u001b[0m\u001b[0m\n\u001b[1;32m--> 802\u001b[1;33m             \u001b[0mcopy_function\u001b[0m\u001b[1;33m(\u001b[0m\u001b[0msrc\u001b[0m\u001b[1;33m,\u001b[0m \u001b[0mreal_dst\u001b[0m\u001b[1;33m)\u001b[0m\u001b[1;33m\u001b[0m\u001b[1;33m\u001b[0m\u001b[0m\n\u001b[0m\u001b[0;32m    803\u001b[0m             \u001b[0mos\u001b[0m\u001b[1;33m.\u001b[0m\u001b[0munlink\u001b[0m\u001b[1;33m(\u001b[0m\u001b[0msrc\u001b[0m\u001b[1;33m)\u001b[0m\u001b[1;33m\u001b[0m\u001b[1;33m\u001b[0m\u001b[0m\n\u001b[0;32m    804\u001b[0m     \u001b[1;32mreturn\u001b[0m \u001b[0mreal_dst\u001b[0m\u001b[1;33m\u001b[0m\u001b[1;33m\u001b[0m\u001b[0m\n",
      "\u001b[1;32m~\\anaconda3\\lib\\shutil.py\u001b[0m in \u001b[0;36mcopy2\u001b[1;34m(src, dst, follow_symlinks)\u001b[0m\n\u001b[0;32m    430\u001b[0m     \u001b[1;32mif\u001b[0m \u001b[0mos\u001b[0m\u001b[1;33m.\u001b[0m\u001b[0mpath\u001b[0m\u001b[1;33m.\u001b[0m\u001b[0misdir\u001b[0m\u001b[1;33m(\u001b[0m\u001b[0mdst\u001b[0m\u001b[1;33m)\u001b[0m\u001b[1;33m:\u001b[0m\u001b[1;33m\u001b[0m\u001b[1;33m\u001b[0m\u001b[0m\n\u001b[0;32m    431\u001b[0m         \u001b[0mdst\u001b[0m \u001b[1;33m=\u001b[0m \u001b[0mos\u001b[0m\u001b[1;33m.\u001b[0m\u001b[0mpath\u001b[0m\u001b[1;33m.\u001b[0m\u001b[0mjoin\u001b[0m\u001b[1;33m(\u001b[0m\u001b[0mdst\u001b[0m\u001b[1;33m,\u001b[0m \u001b[0mos\u001b[0m\u001b[1;33m.\u001b[0m\u001b[0mpath\u001b[0m\u001b[1;33m.\u001b[0m\u001b[0mbasename\u001b[0m\u001b[1;33m(\u001b[0m\u001b[0msrc\u001b[0m\u001b[1;33m)\u001b[0m\u001b[1;33m)\u001b[0m\u001b[1;33m\u001b[0m\u001b[1;33m\u001b[0m\u001b[0m\n\u001b[1;32m--> 432\u001b[1;33m     \u001b[0mcopyfile\u001b[0m\u001b[1;33m(\u001b[0m\u001b[0msrc\u001b[0m\u001b[1;33m,\u001b[0m \u001b[0mdst\u001b[0m\u001b[1;33m,\u001b[0m \u001b[0mfollow_symlinks\u001b[0m\u001b[1;33m=\u001b[0m\u001b[0mfollow_symlinks\u001b[0m\u001b[1;33m)\u001b[0m\u001b[1;33m\u001b[0m\u001b[1;33m\u001b[0m\u001b[0m\n\u001b[0m\u001b[0;32m    433\u001b[0m     \u001b[0mcopystat\u001b[0m\u001b[1;33m(\u001b[0m\u001b[0msrc\u001b[0m\u001b[1;33m,\u001b[0m \u001b[0mdst\u001b[0m\u001b[1;33m,\u001b[0m \u001b[0mfollow_symlinks\u001b[0m\u001b[1;33m=\u001b[0m\u001b[0mfollow_symlinks\u001b[0m\u001b[1;33m)\u001b[0m\u001b[1;33m\u001b[0m\u001b[1;33m\u001b[0m\u001b[0m\n\u001b[0;32m    434\u001b[0m     \u001b[1;32mreturn\u001b[0m \u001b[0mdst\u001b[0m\u001b[1;33m\u001b[0m\u001b[1;33m\u001b[0m\u001b[0m\n",
      "\u001b[1;32m~\\anaconda3\\lib\\shutil.py\u001b[0m in \u001b[0;36mcopyfile\u001b[1;34m(src, dst, follow_symlinks)\u001b[0m\n\u001b[0;32m    259\u001b[0m         \u001b[0mos\u001b[0m\u001b[1;33m.\u001b[0m\u001b[0msymlink\u001b[0m\u001b[1;33m(\u001b[0m\u001b[0mos\u001b[0m\u001b[1;33m.\u001b[0m\u001b[0mreadlink\u001b[0m\u001b[1;33m(\u001b[0m\u001b[0msrc\u001b[0m\u001b[1;33m)\u001b[0m\u001b[1;33m,\u001b[0m \u001b[0mdst\u001b[0m\u001b[1;33m)\u001b[0m\u001b[1;33m\u001b[0m\u001b[1;33m\u001b[0m\u001b[0m\n\u001b[0;32m    260\u001b[0m     \u001b[1;32melse\u001b[0m\u001b[1;33m:\u001b[0m\u001b[1;33m\u001b[0m\u001b[1;33m\u001b[0m\u001b[0m\n\u001b[1;32m--> 261\u001b[1;33m         \u001b[1;32mwith\u001b[0m \u001b[0mopen\u001b[0m\u001b[1;33m(\u001b[0m\u001b[0msrc\u001b[0m\u001b[1;33m,\u001b[0m \u001b[1;34m'rb'\u001b[0m\u001b[1;33m)\u001b[0m \u001b[1;32mas\u001b[0m \u001b[0mfsrc\u001b[0m\u001b[1;33m,\u001b[0m \u001b[0mopen\u001b[0m\u001b[1;33m(\u001b[0m\u001b[0mdst\u001b[0m\u001b[1;33m,\u001b[0m \u001b[1;34m'wb'\u001b[0m\u001b[1;33m)\u001b[0m \u001b[1;32mas\u001b[0m \u001b[0mfdst\u001b[0m\u001b[1;33m:\u001b[0m\u001b[1;33m\u001b[0m\u001b[1;33m\u001b[0m\u001b[0m\n\u001b[0m\u001b[0;32m    262\u001b[0m             \u001b[1;31m# macOS\u001b[0m\u001b[1;33m\u001b[0m\u001b[1;33m\u001b[0m\u001b[1;33m\u001b[0m\u001b[0m\n\u001b[0;32m    263\u001b[0m             \u001b[1;32mif\u001b[0m \u001b[0m_HAS_FCOPYFILE\u001b[0m\u001b[1;33m:\u001b[0m\u001b[1;33m\u001b[0m\u001b[1;33m\u001b[0m\u001b[0m\n",
      "\u001b[1;31mPermissionError\u001b[0m: [Errno 13] Permission denied: 'c:\\\\users\\\\29_practice.txt'"
     ]
    }
   ],
   "source": [
    "shutil.move('29_practice.txt','c:\\\\users')"
   ]
  },
  {
   "cell_type": "code",
   "execution_count": 19,
   "metadata": {},
   "outputs": [],
   "source": [
    "# here is ask for permission so it not allow in windows but for other oeprating system it allows "
   ]
  },
  {
   "cell_type": "code",
   "execution_count": 20,
   "metadata": {},
   "outputs": [],
   "source": [
    "# os module has lot of functions os. press tab and see"
   ]
  },
  {
   "cell_type": "markdown",
   "metadata": {},
   "source": [
    "# deleting files"
   ]
  },
  {
   "cell_type": "raw",
   "metadata": {},
   "source": [
    "NOTE: The os module provides 3 methods for deleting files:\n",
    "\n",
    "os.unlink(path) which deletes a file at the path your provide ----->> removed file\n",
    "os.rmdir(path) which deletes a folder (folder must be empty) at the path your provide--->>> remove folders \n",
    "shutil.rmtree(path) this is the most dangerous, as it will remove all files and folders contained in the path. All of these methods can not be reversed! Which means if you make a mistake you won't be able to recover the file. Instead we will use the send2trash module. A safer alternative that sends deleted files to the trash bin instead of permanent removal.  --->> removed all files and folders so careful with thelast one rm means remove \n",
    "\n",
    "\n",
    "\n",
    "Install the send2trash module with:\n",
    "\n",
    "pip install send2trash\n",
    "\n",
    "at your command line."
   ]
  },
  {
   "cell_type": "code",
   "execution_count": 21,
   "metadata": {},
   "outputs": [],
   "source": [
    "import send2trash"
   ]
  },
  {
   "cell_type": "code",
   "execution_count": 22,
   "metadata": {},
   "outputs": [
    {
     "data": {
      "text/plain": [
       "['.ipynb_checkpoints',\n",
       " '1 basics .ipynb',\n",
       " '1 lec basic .ipynb',\n",
       " '1.1 assessment .ipynb',\n",
       " '10.1 text file .ipynb',\n",
       " '11.1 comparison operators .ipynb',\n",
       " '11.2 chaining operators and logical operators .ipynb',\n",
       " '12 If elif and else .ipynb',\n",
       " '12.2 for loop .ipynb',\n",
       " '12.3 While loop .ipynb',\n",
       " '13 useful operators and in built functions .ipynb',\n",
       " '14 List comprehensions .ipynb',\n",
       " '15 Python statements test .ipynb',\n",
       " '16 Methods  and documentation in python .ipynb',\n",
       " '17.1 Functions .ipynb',\n",
       " '17.2 logic with functions .ipynb',\n",
       " '17.3 Tuple unpacking with python function .ipynb',\n",
       " '17.4 Interaction between python function .ipynb',\n",
       " '17.5 args and kwargs .ipynb',\n",
       " '18.1 Function practice exercise  warmup problems .ipynb',\n",
       " '18.2 Function level 1 problems .ipynb',\n",
       " '18.3 Function level 2 problem .ipynb',\n",
       " '18.4 Functions Challenging problems.ipynb',\n",
       " '19 lambda expression, map , filter in functions .ipynb',\n",
       " '2 basic calculation(numbers) .ipynb',\n",
       " '20 Nested statements and scope in function .ipynb',\n",
       " '21 Homework method and  function overview .ipynb',\n",
       " '21.1 Displaying Information(project 1)  .ipynb',\n",
       " '21.2 Accepting user input(project 1)  .ipynb',\n",
       " '21.3 Validate user input(project 1) .ipynb',\n",
       " '21.4 Simple user interaction  IMP.ipynb',\n",
       " '22 Milestone project 1 ---  .ipynb',\n",
       " '22.2 Final 1st project (tic tac toe game) .ipynb',\n",
       " '23.1  Object oriented programming  Attributes and class keyword.ipynb',\n",
       " '23.2 OOP class objects attributes and methods.ipynb',\n",
       " '23.3 Inheritance and polymorphism.ipynb',\n",
       " '23.4 special(magic  or dunder) methods in oop.ipynb',\n",
       " '23.5 OOP Assignment.ipynb',\n",
       " '23.6 OOP challenge problem (BANK ACCOUNT).ipynb',\n",
       " '24 modules and packages.ipynb',\n",
       " '25.1 Errors and exception handling.ipynb',\n",
       " '25.2 errors and exception handling assignment .ipynb',\n",
       " '26.1 card class .ipynb',\n",
       " '26.2 Deck class.ipynb',\n",
       " '26.3 Player Class.ipynb',\n",
       " '26.4 Game logic part 2.ipynb',\n",
       " '26.5 Milestone project -2.ipynb',\n",
       " '27.1 decorators with python overview.ipynb',\n",
       " '28.1 Generators with python.ipynb',\n",
       " '28.2 Iterators and generators homework.ipynb',\n",
       " '29.1 python collection module.ipynb',\n",
       " '29.2 opening and reading files and folders .ipynb',\n",
       " '29_practice.txt',\n",
       " '3 variable_assignments .ipynb',\n",
       " '4 string .ipynb',\n",
       " '5 list .ipynb',\n",
       " '6.0 dictionaries .ipynb',\n",
       " '7 TUPLES .ipynb',\n",
       " '8 Quiz .ipynb',\n",
       " '9 boolean .ipynb',\n",
       " 'dsa calculation.ipynb',\n",
       " 'key points to remember .ipynb',\n",
       " 'main_package_python',\n",
       " 'mymodule.py',\n",
       " 'myprogram.py',\n",
       " 'my_new_file.txt',\n",
       " 'Untitled.ipynb',\n",
       " 'Untitled1.ipynb',\n",
       " 'Untitled2.ipynb']"
      ]
     },
     "execution_count": 22,
     "metadata": {},
     "output_type": "execute_result"
    }
   ],
   "source": [
    "os.listdir()"
   ]
  },
  {
   "cell_type": "code",
   "execution_count": 23,
   "metadata": {},
   "outputs": [],
   "source": [
    "# remove 29_practice.txt file \n"
   ]
  },
  {
   "cell_type": "code",
   "execution_count": 24,
   "metadata": {},
   "outputs": [],
   "source": [
    "send2trash.send2trash('29_practice.txt')"
   ]
  },
  {
   "cell_type": "code",
   "execution_count": 25,
   "metadata": {},
   "outputs": [
    {
     "data": {
      "text/plain": [
       "['.ipynb_checkpoints',\n",
       " '1 basics .ipynb',\n",
       " '1 lec basic .ipynb',\n",
       " '1.1 assessment .ipynb',\n",
       " '10.1 text file .ipynb',\n",
       " '11.1 comparison operators .ipynb',\n",
       " '11.2 chaining operators and logical operators .ipynb',\n",
       " '12 If elif and else .ipynb',\n",
       " '12.2 for loop .ipynb',\n",
       " '12.3 While loop .ipynb',\n",
       " '13 useful operators and in built functions .ipynb',\n",
       " '14 List comprehensions .ipynb',\n",
       " '15 Python statements test .ipynb',\n",
       " '16 Methods  and documentation in python .ipynb',\n",
       " '17.1 Functions .ipynb',\n",
       " '17.2 logic with functions .ipynb',\n",
       " '17.3 Tuple unpacking with python function .ipynb',\n",
       " '17.4 Interaction between python function .ipynb',\n",
       " '17.5 args and kwargs .ipynb',\n",
       " '18.1 Function practice exercise  warmup problems .ipynb',\n",
       " '18.2 Function level 1 problems .ipynb',\n",
       " '18.3 Function level 2 problem .ipynb',\n",
       " '18.4 Functions Challenging problems.ipynb',\n",
       " '19 lambda expression, map , filter in functions .ipynb',\n",
       " '2 basic calculation(numbers) .ipynb',\n",
       " '20 Nested statements and scope in function .ipynb',\n",
       " '21 Homework method and  function overview .ipynb',\n",
       " '21.1 Displaying Information(project 1)  .ipynb',\n",
       " '21.2 Accepting user input(project 1)  .ipynb',\n",
       " '21.3 Validate user input(project 1) .ipynb',\n",
       " '21.4 Simple user interaction  IMP.ipynb',\n",
       " '22 Milestone project 1 ---  .ipynb',\n",
       " '22.2 Final 1st project (tic tac toe game) .ipynb',\n",
       " '23.1  Object oriented programming  Attributes and class keyword.ipynb',\n",
       " '23.2 OOP class objects attributes and methods.ipynb',\n",
       " '23.3 Inheritance and polymorphism.ipynb',\n",
       " '23.4 special(magic  or dunder) methods in oop.ipynb',\n",
       " '23.5 OOP Assignment.ipynb',\n",
       " '23.6 OOP challenge problem (BANK ACCOUNT).ipynb',\n",
       " '24 modules and packages.ipynb',\n",
       " '25.1 Errors and exception handling.ipynb',\n",
       " '25.2 errors and exception handling assignment .ipynb',\n",
       " '26.1 card class .ipynb',\n",
       " '26.2 Deck class.ipynb',\n",
       " '26.3 Player Class.ipynb',\n",
       " '26.4 Game logic part 2.ipynb',\n",
       " '26.5 Milestone project -2.ipynb',\n",
       " '27.1 decorators with python overview.ipynb',\n",
       " '28.1 Generators with python.ipynb',\n",
       " '28.2 Iterators and generators homework.ipynb',\n",
       " '29.1 python collection module.ipynb',\n",
       " '29.2 opening and reading files and folders .ipynb',\n",
       " '3 variable_assignments .ipynb',\n",
       " '4 string .ipynb',\n",
       " '5 list .ipynb',\n",
       " '6.0 dictionaries .ipynb',\n",
       " '7 TUPLES .ipynb',\n",
       " '8 Quiz .ipynb',\n",
       " '9 boolean .ipynb',\n",
       " 'dsa calculation.ipynb',\n",
       " 'key points to remember .ipynb',\n",
       " 'main_package_python',\n",
       " 'mymodule.py',\n",
       " 'myprogram.py',\n",
       " 'my_new_file.txt',\n",
       " 'Untitled.ipynb',\n",
       " 'Untitled1.ipynb',\n",
       " 'Untitled2.ipynb']"
      ]
     },
     "execution_count": 25,
     "metadata": {},
     "output_type": "execute_result"
    }
   ],
   "source": [
    "os.listdir()"
   ]
  },
  {
   "cell_type": "code",
   "execution_count": 26,
   "metadata": {},
   "outputs": [],
   "source": [
    "# now see it removed permenantly from this above list"
   ]
  },
  {
   "cell_type": "markdown",
   "metadata": {},
   "source": [
    "# Walking through a directory"
   ]
  },
  {
   "cell_type": "code",
   "execution_count": 27,
   "metadata": {},
   "outputs": [],
   "source": [
    "# this is best os module i.e walk "
   ]
  },
  {
   "cell_type": "raw",
   "metadata": {},
   "source": [
    "Often you will just need to \"walk\" through a directory, that is visit every file or folder and check to see if a file is in the directory, and then perhaps do something with that file. Usually recursively walking through every file and folder in a directory would be quite tricky to program, but luckily the os module has a direct method call for this called os.walk(). Let's explore how it works."
   ]
  },
  {
   "cell_type": "code",
   "execution_count": 28,
   "metadata": {},
   "outputs": [
    {
     "data": {
      "text/plain": [
       "'C:\\\\Users\\\\user1\\\\python 3'"
      ]
     },
     "execution_count": 28,
     "metadata": {},
     "output_type": "execute_result"
    }
   ],
   "source": [
    "os.getcwd()"
   ]
  },
  {
   "cell_type": "code",
   "execution_count": 29,
   "metadata": {},
   "outputs": [
    {
     "data": {
      "text/plain": [
       "['.ipynb_checkpoints',\n",
       " '1 basics .ipynb',\n",
       " '1 lec basic .ipynb',\n",
       " '1.1 assessment .ipynb',\n",
       " '10.1 text file .ipynb',\n",
       " '11.1 comparison operators .ipynb',\n",
       " '11.2 chaining operators and logical operators .ipynb',\n",
       " '12 If elif and else .ipynb',\n",
       " '12.2 for loop .ipynb',\n",
       " '12.3 While loop .ipynb',\n",
       " '13 useful operators and in built functions .ipynb',\n",
       " '14 List comprehensions .ipynb',\n",
       " '15 Python statements test .ipynb',\n",
       " '16 Methods  and documentation in python .ipynb',\n",
       " '17.1 Functions .ipynb',\n",
       " '17.2 logic with functions .ipynb',\n",
       " '17.3 Tuple unpacking with python function .ipynb',\n",
       " '17.4 Interaction between python function .ipynb',\n",
       " '17.5 args and kwargs .ipynb',\n",
       " '18.1 Function practice exercise  warmup problems .ipynb',\n",
       " '18.2 Function level 1 problems .ipynb',\n",
       " '18.3 Function level 2 problem .ipynb',\n",
       " '18.4 Functions Challenging problems.ipynb',\n",
       " '19 lambda expression, map , filter in functions .ipynb',\n",
       " '2 basic calculation(numbers) .ipynb',\n",
       " '20 Nested statements and scope in function .ipynb',\n",
       " '21 Homework method and  function overview .ipynb',\n",
       " '21.1 Displaying Information(project 1)  .ipynb',\n",
       " '21.2 Accepting user input(project 1)  .ipynb',\n",
       " '21.3 Validate user input(project 1) .ipynb',\n",
       " '21.4 Simple user interaction  IMP.ipynb',\n",
       " '22 Milestone project 1 ---  .ipynb',\n",
       " '22.2 Final 1st project (tic tac toe game) .ipynb',\n",
       " '23.1  Object oriented programming  Attributes and class keyword.ipynb',\n",
       " '23.2 OOP class objects attributes and methods.ipynb',\n",
       " '23.3 Inheritance and polymorphism.ipynb',\n",
       " '23.4 special(magic  or dunder) methods in oop.ipynb',\n",
       " '23.5 OOP Assignment.ipynb',\n",
       " '23.6 OOP challenge problem (BANK ACCOUNT).ipynb',\n",
       " '24 modules and packages.ipynb',\n",
       " '25.1 Errors and exception handling.ipynb',\n",
       " '25.2 errors and exception handling assignment .ipynb',\n",
       " '26.1 card class .ipynb',\n",
       " '26.2 Deck class.ipynb',\n",
       " '26.3 Player Class.ipynb',\n",
       " '26.4 Game logic part 2.ipynb',\n",
       " '26.5 Milestone project -2.ipynb',\n",
       " '27.1 decorators with python overview.ipynb',\n",
       " '28.1 Generators with python.ipynb',\n",
       " '28.2 Iterators and generators homework.ipynb',\n",
       " '29.1 python collection module.ipynb',\n",
       " '29.2 opening and reading files and folders .ipynb',\n",
       " '3 variable_assignments .ipynb',\n",
       " '4 string .ipynb',\n",
       " '5 list .ipynb',\n",
       " '6.0 dictionaries .ipynb',\n",
       " '7 TUPLES .ipynb',\n",
       " '8 Quiz .ipynb',\n",
       " '9 boolean .ipynb',\n",
       " 'dsa calculation.ipynb',\n",
       " 'key points to remember .ipynb',\n",
       " 'main_package_python',\n",
       " 'mymodule.py',\n",
       " 'myprogram.py',\n",
       " 'my_new_file.txt',\n",
       " 'Untitled.ipynb',\n",
       " 'Untitled1.ipynb',\n",
       " 'Untitled2.ipynb']"
      ]
     },
     "execution_count": 29,
     "metadata": {},
     "output_type": "execute_result"
    }
   ],
   "source": [
    "os.listdir()"
   ]
  },
  {
   "cell_type": "code",
   "execution_count": 30,
   "metadata": {},
   "outputs": [
    {
     "name": "stdout",
     "output_type": "stream",
     "text": [
      "Currently looking at folder: main_package_python\n",
      "\n",
      "\n",
      "THE SUBFOLDERS ARE: \n",
      "\t Subfolder: blackjack_game\n",
      "\t Subfolder: name_and_ main\n",
      "\t Subfolder: sub_package\n",
      "\t Subfolder: tic_tac_toe_game\n",
      "\t Subfolder: __pycache__\n",
      "\n",
      "\n",
      "THE FILES ARE: \n",
      "\t File: mymodule.py\n",
      "\t File: myprogram.py\n",
      "\t File: __init__.py\n",
      "\n",
      "\n",
      "Currently looking at folder: main_package_python\\blackjack_game\n",
      "\n",
      "\n",
      "THE SUBFOLDERS ARE: \n",
      "\n",
      "\n",
      "THE FILES ARE: \n",
      "\t File: blackjack.py\n",
      "\t File: __init__.py\n",
      "\n",
      "\n",
      "Currently looking at folder: main_package_python\\name_and_ main\n",
      "\n",
      "\n",
      "THE SUBFOLDERS ARE: \n",
      "\n",
      "\n",
      "THE FILES ARE: \n",
      "\t File: one.py\n",
      "\t File: two.py\n",
      "\t File: __init__.py\n",
      "\n",
      "\n",
      "Currently looking at folder: main_package_python\\sub_package\n",
      "\n",
      "\n",
      "THE SUBFOLDERS ARE: \n",
      "\t Subfolder: __pycache__\n",
      "\n",
      "\n",
      "THE FILES ARE: \n",
      "\t File: other_sub_script.py\n",
      "\t File: sub_script_module.py\n",
      "\t File: __init__.py\n",
      "\n",
      "\n",
      "Currently looking at folder: main_package_python\\sub_package\\__pycache__\n",
      "\n",
      "\n",
      "THE SUBFOLDERS ARE: \n",
      "\n",
      "\n",
      "THE FILES ARE: \n",
      "\t File: other_sub_script.cpython-38.pyc\n",
      "\n",
      "\n",
      "Currently looking at folder: main_package_python\\tic_tac_toe_game\n",
      "\n",
      "\n",
      "THE SUBFOLDERS ARE: \n",
      "\n",
      "\n",
      "THE FILES ARE: \n",
      "\t File: tic_tac_toe.py\n",
      "\t File: __init__.py\n",
      "\n",
      "\n",
      "Currently looking at folder: main_package_python\\__pycache__\n",
      "\n",
      "\n",
      "THE SUBFOLDERS ARE: \n",
      "\n",
      "\n",
      "THE FILES ARE: \n",
      "\t File: myprogram.cpython-38.pyc\n",
      "\n",
      "\n"
     ]
    }
   ],
   "source": [
    "for folder , sub_folders , files in os.walk(\"main_package_python\"):\n",
    "    \n",
    "    print(\"Currently looking at folder: \"+ folder)\n",
    "    print('\\n')\n",
    "    print(\"THE SUBFOLDERS ARE: \")\n",
    "    for sub_fold in sub_folders:\n",
    "        print(\"\\t Subfolder: \"+sub_fold )\n",
    "    \n",
    "    print('\\n')\n",
    "    \n",
    "    print(\"THE FILES ARE: \")\n",
    "    for f in files:\n",
    "        print(\"\\t File: \"+f)\n",
    "    print('\\n')\n",
    "    \n",
    "    # Now look at subfolders"
   ]
  },
  {
   "cell_type": "code",
   "execution_count": 31,
   "metadata": {},
   "outputs": [],
   "source": [
    "# so evry file is open recursively and return folders , sub-foders and files in it"
   ]
  },
  {
   "cell_type": "raw",
   "metadata": {},
   "source": [
    "Excellent, you should now be aware of how to work with a computer's files and folders in whichever directory they are in. Remember that the os module works for any oeprating system that supports Python, which means these commands will work across Linux,MacOs, or Windows without need for adjustment."
   ]
  },
  {
   "cell_type": "code",
   "execution_count": null,
   "metadata": {},
   "outputs": [],
   "source": []
  }
 ],
 "metadata": {
  "kernelspec": {
   "display_name": "Python 3",
   "language": "python",
   "name": "python3"
  },
  "language_info": {
   "codemirror_mode": {
    "name": "ipython",
    "version": 3
   },
   "file_extension": ".py",
   "mimetype": "text/x-python",
   "name": "python",
   "nbconvert_exporter": "python",
   "pygments_lexer": "ipython3",
   "version": "3.8.3"
  }
 },
 "nbformat": 4,
 "nbformat_minor": 4
}
