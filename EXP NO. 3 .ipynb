{
 "cells": [
  {
   "cell_type": "markdown",
   "metadata": {},
   "source": [
    "# 1) Write a python program that finds a fibonacci series from 0 to 20"
   ]
  },
  {
   "cell_type": "markdown",
   "metadata": {},
   "source": [
    "0 1 1 2 3 5 8 13 21 34 ...."
   ]
  },
  {
   "cell_type": "code",
   "execution_count": 36,
   "metadata": {},
   "outputs": [],
   "source": [
    "def fibonacci():\n",
    "    a = 0\n",
    "    b = 1\n",
    "    \n",
    "    n = int(input('Enter the terms: '))\n",
    "    \n",
    "    if n == 0:\n",
    "        n= int(input('Enter a valid terms: '))\n",
    "    \n",
    "    if n == 1:\n",
    "        print(a)\n",
    "    \n",
    "    if n == 2:\n",
    "        print(a)\n",
    "        print(b)\n",
    "\n",
    "    if n >2:\n",
    "        \n",
    "        print(a)\n",
    "        print(b)\n",
    "        c = a+b\n",
    "        print(c)\n",
    "        \n",
    "        for d in range(3,n):\n",
    "            a = b\n",
    "            b = c\n",
    "            c = a+b\n",
    "            print(c)\n",
    "    \n",
    "    \n",
    "    "
   ]
  },
  {
   "cell_type": "code",
   "execution_count": 37,
   "metadata": {},
   "outputs": [
    {
     "name": "stdout",
     "output_type": "stream",
     "text": [
      "Enter the terms: 10\n",
      "0\n",
      "1\n",
      "1\n",
      "2\n",
      "3\n",
      "5\n",
      "8\n",
      "13\n",
      "21\n",
      "34\n"
     ]
    }
   ],
   "source": [
    "fibonacci() "
   ]
  },
  {
   "cell_type": "markdown",
   "metadata": {},
   "source": [
    "# 2) Write a python program that finds duplicates from the list"
   ]
  },
  {
   "cell_type": "code",
   "execution_count": null,
   "metadata": {},
   "outputs": [],
   "source": []
  },
  {
   "cell_type": "code",
   "execution_count": 38,
   "metadata": {},
   "outputs": [
    {
     "name": "stdout",
     "output_type": "stream",
     "text": [
      "Enter number of terms: bfadb\n",
      "Enter an integer\n",
      "Enter number of terms: 232ednw\n",
      "Enter an integer\n",
      "Enter number of terms: 5\n",
      "Enter the elements : a\n",
      "Enter the elements : a\n",
      "Enter the elements : b\n",
      "Enter the elements : b\n",
      "Enter the elements : ch\n",
      "This is original list: ['a', 'a', 'b', 'b', 'ch']\n",
      "a duplicates 2 times\n",
      "b duplicates 2 times\n",
      "Duplicates elements are: ['a', 'b']\n"
     ]
    }
   ],
   "source": [
    "# final\n",
    "#mylist = ['a','b','c','a','a','b','d','d']\n",
    "\n",
    "# input from user \n",
    "mylist = []\n",
    "n = 'wrong'\n",
    "while n.isdigit() == False:                   # validate user input\n",
    "    n = input('Enter number of terms: ')\n",
    "    \n",
    "    if n.isdigit() == False:\n",
    "        print('Enter an integer')\n",
    "\n",
    "for i in range(0,int(n)):\n",
    "    term = input('Enter the elements : ')\n",
    "    mylist.append(term)\n",
    "\n",
    "# print inputed list\n",
    "print(f'This is original list: {mylist}')\n",
    "\n",
    "ran= len(mylist)\n",
    "c = set()\n",
    "duplicates = []\n",
    "\n",
    "for i in range(ran):      # checking valid range\n",
    "    if mylist.count(mylist[i]) > 1:         # iterate only for duplicates \n",
    "        if mylist[i] not in c:              # if elements is not in c i.e set which checks it repeated or not if not repeated go on adding new elemnts \n",
    "            c.add(mylist[i])                # Adding new duplicate\n",
    "            duplicates.append(mylist[i])    # appending new duplicate in list \n",
    "            \n",
    "            print(f'{mylist[i]} duplicates {mylist.count(mylist[i])} times') # printing duplicate count \n",
    "            \n",
    "#print(c)\n",
    "print(f'Duplicates elements are: {duplicates}')   # printing duplicates"
   ]
  },
  {
   "cell_type": "code",
   "execution_count": null,
   "metadata": {},
   "outputs": [],
   "source": []
  },
  {
   "cell_type": "code",
   "execution_count": null,
   "metadata": {},
   "outputs": [],
   "source": []
  },
  {
   "cell_type": "code",
   "execution_count": null,
   "metadata": {},
   "outputs": [],
   "source": []
  },
  {
   "cell_type": "code",
   "execution_count": null,
   "metadata": {},
   "outputs": [],
   "source": []
  },
  {
   "cell_type": "code",
   "execution_count": 25,
   "metadata": {},
   "outputs": [
    {
     "name": "stdout",
     "output_type": "stream",
     "text": [
      "a count is: 3\n",
      "b count is: 2\n",
      "d count is: 2\n",
      "Duplicates elements are: ['a', 'b', 'd']\n"
     ]
    }
   ],
   "source": [
    "mylist = ['a','b','c','a','a','b','d','d']\n",
    "ran= len(mylist)\n",
    "c = set()\n",
    "duplicates = []\n",
    "\n",
    "for i in range(ran):\n",
    "    if mylist.count(mylist[i]) > 1:\n",
    "        if mylist[i] not in c:\n",
    "            c.add(mylist[i])\n",
    "            duplicates.append(mylist[i])\n",
    "            \n",
    "            print(f'{mylist[i]} count is: {mylist.count(mylist[i])}')\n",
    "            \n",
    "#print(c)\n",
    "print(f'Duplicates elements are: {duplicates}')"
   ]
  },
  {
   "cell_type": "markdown",
   "metadata": {},
   "source": [
    "# 3) write a python program that reads alphabet abd print desire ouput"
   ]
  },
  {
   "cell_type": "raw",
   "metadata": {},
   "source": [
    "3) write a python program that reads alphabet abd print desired ouput\n",
    "\n",
    "Alphabet = [\n",
    "    [1,0,0,0,0,0,1],\n",
    "    [1,0,0,0,0,0,1],\n",
    "    [1,1,1,1,1,1,1],\n",
    "    [1,0,0,0,0,0,1],\n",
    "    [1,0,0,0,0,0,1]\n",
    "]\n",
    "\n",
    "ouput \n",
    "\n",
    "*           *\n",
    "*           *\n",
    "* * * * * * *\n",
    "*           *\n",
    "*           *"
   ]
  },
  {
   "cell_type": "code",
   "execution_count": 15,
   "metadata": {},
   "outputs": [
    {
     "name": "stdout",
     "output_type": "stream",
     "text": [
      "Rows? 5\n",
      "Colomns? 7\n",
      "python list: [     [1,0,0,0,0,0,1],     [1,0,0,0,0,0,1],     [1,1,1,1,1,1,1],     [1,0,0,0,0,0,1],     [1,0,0,0,0,0,1] ]\n",
      "[[1, 0, 0, 0, 0, 0, 1], [1, 0, 0, 0, 0, 0, 1], [1, 1, 1, 1, 1, 1, 1], [1, 0, 0, 0, 0, 0, 1], [1, 0, 0, 0, 0, 0, 1]]\n",
      "\n",
      "\n",
      " *                 * \n",
      " *                 * \n",
      " *  *  *  *  *  *  * \n",
      " *                 * \n",
      " *                 * \n",
      "\n"
     ]
    }
   ],
   "source": [
    "x = int(input('Rows? '))\n",
    "y = int(input('Colomns? '))\n",
    "\n",
    "Alphabet = eval(input('python list: '))\n",
    "print(Alphabet)\n",
    "    \n",
    "#print(len(Alphabet))\n",
    "\n",
    "final_pattern = \"\"                              # initailly ppattern is empty\n",
    "for i in range(0,x):                        # for rows range there are 5 rows \n",
    "    for j in range(0,y):                    # for colomn range there are 7 coloumn\n",
    "        if Alphabet[i][j] == 1:              # it grabs and check elements [0][0] then [0][1] likewise.. if it equals 1 store * in final_str\n",
    "            final_pattern = final_pattern+\" * \"\n",
    "        elif Alphabet[i][j] == 0:\n",
    "            final_pattern = final_pattern+\"   \"       # else store spaces \n",
    "    final_pattern = final_pattern+'\\n'               # go on next line for next row\n",
    "print('\\n')\n",
    "print(final_pattern)                               # printing final pattern\n"
   ]
  },
  {
   "cell_type": "code",
   "execution_count": null,
   "metadata": {},
   "outputs": [],
   "source": []
  },
  {
   "cell_type": "code",
   "execution_count": null,
   "metadata": {},
   "outputs": [],
   "source": []
  },
  {
   "cell_type": "code",
   "execution_count": null,
   "metadata": {},
   "outputs": [],
   "source": []
  },
  {
   "cell_type": "code",
   "execution_count": null,
   "metadata": {},
   "outputs": [],
   "source": []
  },
  {
   "cell_type": "code",
   "execution_count": null,
   "metadata": {},
   "outputs": [],
   "source": []
  },
  {
   "cell_type": "code",
   "execution_count": null,
   "metadata": {},
   "outputs": [],
   "source": []
  },
  {
   "cell_type": "code",
   "execution_count": null,
   "metadata": {},
   "outputs": [],
   "source": []
  },
  {
   "cell_type": "code",
   "execution_count": null,
   "metadata": {},
   "outputs": [],
   "source": []
  },
  {
   "cell_type": "code",
   "execution_count": null,
   "metadata": {},
   "outputs": [],
   "source": []
  },
  {
   "cell_type": "code",
   "execution_count": null,
   "metadata": {},
   "outputs": [],
   "source": []
  },
  {
   "cell_type": "code",
   "execution_count": null,
   "metadata": {},
   "outputs": [],
   "source": []
  },
  {
   "cell_type": "code",
   "execution_count": null,
   "metadata": {},
   "outputs": [],
   "source": []
  },
  {
   "cell_type": "code",
   "execution_count": 5,
   "metadata": {},
   "outputs": [
    {
     "name": "stdout",
     "output_type": "stream",
     "text": [
      " *                 * \n",
      " *                 * \n",
      " *  *  *  *  *  *  * \n",
      " *                 * \n",
      " *                 * \n",
      "\n"
     ]
    }
   ],
   "source": [
    "Alphabet = [\n",
    "    [1,0,0,0,0,0,1],\n",
    "    [1,0,0,0,0,0,1],\n",
    "    [1,1,1,1,1,1,1],\n",
    "    [1,0,0,0,0,0,1],\n",
    "    [1,0,0,0,0,0,1]\n",
    "]\n",
    "#print(len(Alphabet))\n",
    "\n",
    "final_pattern = \"\"                              # initailly ppattern is empty\n",
    "for i in range(0,5):                        # for rows range there are 5 rows \n",
    "    for j in range(0,7):                    # for colomn range there are 7 coloumn\n",
    "        if Alphabet[i][j] == 1:              # it grabs and check elements [0][0] then [0][1] likewise.. if it equals 1 store * in final_str\n",
    "            final_pattern = final_pattern+\" * \"\n",
    "        elif Alphabet[i][j] == 0:\n",
    "            final_pattern = final_pattern+\"   \"       # else store spaces \n",
    "    final_pattern = final_pattern+'\\n'               # go on next line\n",
    "print(final_pattern)                               # printing final pattern\n",
    "\n",
    "\n",
    "\n",
    "\n",
    "#for Alphabet[i] in range(0,5):\n",
    " #   for Alphabet[j] in range(0,7):\n",
    "        #print(Alphabet[0:][0:])\n",
    "        #if (Alphabet[i]==0 or Alphabet[i]==2 or Alphabet[i]==3 and (Alphabet[j]==0 or Alphabet[j]==6)):\n",
    "  #      if (((Alphabet[j] == 0 or Alphabet[j] == 6)) or ((Alphabet[i] == 2) and (Alphabet[j] > 0 and Alphabet[j] < 7))):\n",
    "   #         final_str=final_str+'*'\n",
    "    #    else:\n",
    "     #       final_str=final_str+\" \"\n",
    "#print(final_str)\n",
    "#for x,n in Alphabet:\n",
    " #   Alphabet.remove(Alphabet[x][j])\n",
    "  #  Alphabet.insert(Alphabet[x][j],\"*\")\n",
    "#print(Alphabet)"
   ]
  },
  {
   "cell_type": "code",
   "execution_count": 1,
   "metadata": {},
   "outputs": [
    {
     "name": "stdout",
     "output_type": "stream",
     "text": [
      "Python list: [[1,2,3],[2,3,4]]\n",
      "[[1, 2, 3], [2, 3, 4]]\n",
      "<class 'list'>\n"
     ]
    }
   ],
   "source": [
    "from json import loads\n",
    "\n",
    "user_input = input('Python list: ') # Excepts python list\n",
    "act_list = loads(user_input)\n",
    "print(act_list)\n",
    "print(type(act_list))"
   ]
  },
  {
   "cell_type": "markdown",
   "metadata": {},
   "source": [
    "It is for handling json data in python\n",
    "https://docs.python.org/3/library/json.html\n",
    "JSON is extremely similar to python dictionary"
   ]
  },
  {
   "cell_type": "code",
   "execution_count": 3,
   "metadata": {},
   "outputs": [
    {
     "name": "stdout",
     "output_type": "stream",
     "text": [
      "python list:[[1,2,3],[1,1,1]]\n",
      "[[1, 2, 3], [1, 1, 1]]\n",
      "<class 'list'>\n"
     ]
    }
   ],
   "source": [
    "l = \"[[1,2,3],[2,3,4]]\"\n",
    "\n",
    "out = eval(input('python list:')) # This could be evil though\n",
    "print(out)\n",
    "print(type(out))"
   ]
  },
  {
   "cell_type": "code",
   "execution_count": 4,
   "metadata": {},
   "outputs": [
    {
     "name": "stdout",
     "output_type": "stream",
     "text": [
      "[[1, 2, 3], [2, 3, 4]]\n",
      "<class 'list'>\n"
     ]
    }
   ],
   "source": [
    "from ast import literal_eval\n",
    "l = \"[[1,2,3],[2,3,4]]\"\n",
    "\n",
    "out = literal_eval(l)\n",
    "print(out)\n",
    "print(type(out))"
   ]
  },
  {
   "cell_type": "raw",
   "metadata": {},
   "source": [
    "literal_eval evaluate python code that is in str form, but is safe(have some restrictions)\n",
    "\n",
    "eval would execute any code you pass in it without any restrictions."
   ]
  },
  {
   "cell_type": "code",
   "execution_count": null,
   "metadata": {},
   "outputs": [],
   "source": []
  },
  {
   "cell_type": "code",
   "execution_count": null,
   "metadata": {},
   "outputs": [],
   "source": []
  },
  {
   "cell_type": "code",
   "execution_count": 9,
   "metadata": {},
   "outputs": [
    {
     "name": "stdout",
     "output_type": "stream",
     "text": [
      "Enter number of rows: 1\n",
      "Enter number of colomss: 1\n",
      "Enter the elemnts row_wise: 1\n",
      "\n",
      "\n"
     ]
    }
   ],
   "source": [
    "# Alphabet =[]\n",
    "\n",
    "\n",
    "x = input('Enter number of rows: ')\n",
    "y = input('Enter number of colomss: ')\n",
    "\n",
    "for x in range(0,int(x)):\n",
    "    for y in range(0,int(y)):\n",
    "        row_ele = input(\"Enter the elemnts row_wise: \")\n",
    "        Alphabet.append(row_ele)\n",
    "        \n",
    "#print(len(Alphabet))\n",
    "\n",
    "final_str = \"\"                              # initailly ppattern is empty\n",
    "for i in range(0,x+1):                        # for rows range there are 5 rows \n",
    "    for j in range(0,y+1):                    # for colomn range there are 7 coloumn\n",
    "        if Alphabet[i][j] == 1:              # it grabs and check elements [0][0] then [0][1] likewise.. if it equals 1 store * in final_str\n",
    "            final_str = final_str+\" * \"\n",
    "        elif Alphabet[i][j] == 0:\n",
    "            final_str = final_str+\"   \"       # else store spaces \n",
    "    final_str = final_str+'\\n'               # go on next line\n",
    "print(final_str)                               # printing final pattern\n"
   ]
  },
  {
   "cell_type": "code",
   "execution_count": null,
   "metadata": {},
   "outputs": [],
   "source": []
  },
  {
   "cell_type": "code",
   "execution_count": null,
   "metadata": {},
   "outputs": [],
   "source": []
  },
  {
   "cell_type": "code",
   "execution_count": null,
   "metadata": {},
   "outputs": [],
   "source": []
  },
  {
   "cell_type": "code",
   "execution_count": null,
   "metadata": {},
   "outputs": [],
   "source": []
  },
  {
   "cell_type": "code",
   "execution_count": 7,
   "metadata": {},
   "outputs": [
    {
     "name": "stdout",
     "output_type": "stream",
     "text": [
      "1\n",
      "1\n",
      "1\n",
      "[[1]]\n"
     ]
    }
   ],
   "source": [
    "scorelist =[] \n",
    "name =[]\n",
    "score = []\n",
    "x = int(input())\n",
    "y = int(input())\n",
    "for i in range(x):\n",
    "    name.append(int(input()))\n",
    "    \n",
    "\n",
    "for i in range(x): \n",
    "    for j in range(y):\n",
    "        scorelist.append([name[i]])\n",
    "\n",
    "print(scorelist)"
   ]
  },
  {
   "cell_type": "markdown",
   "metadata": {},
   "source": []
  },
  {
   "cell_type": "code",
   "execution_count": null,
   "metadata": {},
   "outputs": [],
   "source": []
  },
  {
   "cell_type": "code",
   "execution_count": null,
   "metadata": {},
   "outputs": [],
   "source": []
  },
  {
   "cell_type": "code",
   "execution_count": null,
   "metadata": {},
   "outputs": [],
   "source": []
  },
  {
   "cell_type": "code",
   "execution_count": 8,
   "metadata": {},
   "outputs": [
    {
     "name": "stdout",
     "output_type": "stream",
     "text": [
      " *                 * \n",
      " *                 * \n",
      " *  *  *  *  *  *  * \n",
      " *                 * \n",
      " *                 * \n",
      "\n"
     ]
    }
   ],
   "source": [
    "result_str=\"\";    \n",
    "for row in range(0,5):    \n",
    "    for column in range(0,7):     \n",
    "        if (((column == 0 or column == 6)) or ((row == 2) and (column > 0 and column < 7))):    \n",
    "            result_str=result_str+\" * \"    \n",
    "        else:      \n",
    "            result_str=result_str+\"   \"    \n",
    "    result_str=result_str+\"\\n\"    \n",
    "print(result_str);"
   ]
  },
  {
   "cell_type": "code",
   "execution_count": 13,
   "metadata": {},
   "outputs": [
    {
     "name": "stdout",
     "output_type": "stream",
     "text": [
      "Rows? 5\n",
      "Colomns? 7\n",
      "python list: [     [1,0,0,0,0,0,1],     [1,0,0,0,0,0,1],     [1,1,1,1,1,1,1],     [1,0,0,0,0,0,1],     [1,0,0,0,0,0,1] ]\n",
      "[[1, 0, 0, 0, 0, 0, 1], [1, 0, 0, 0, 0, 0, 1], [1, 1, 1, 1, 1, 1, 1], [1, 0, 0, 0, 0, 0, 1], [1, 0, 0, 0, 0, 0, 1]]\n",
      "\n",
      "\n",
      " *                 * \n",
      " *                 * \n",
      " *  *  *  *  *  *  * \n",
      " *                 * \n",
      " *                 * \n",
      "\n"
     ]
    }
   ],
   "source": [
    "x = int(input('Rows? '))\n",
    "y = int(input('Colomns? '))\n",
    "\n",
    "Alphabet = eval(input('python list: '))\n",
    "print(Alphabet)\n",
    "    \n",
    "#print(len(Alphabet))\n",
    "\n",
    "final_pattern = \"\"                              # initailly ppattern is empty\n",
    "for i in range(0,x):                        # for rows range there are 5 rows \n",
    "    for j in range(0,y):                    # for colomn range there are 7 coloumn\n",
    "        if Alphabet[i][j] == 1:              # it grabs and check elements [0][0] then [0][1] likewise.. if it equals 1 store * in final_str\n",
    "            final_pattern = final_pattern+\" * \"\n",
    "        elif Alphabet[i][j] == 0:\n",
    "            final_pattern = final_pattern+\"   \"       # else store spaces \n",
    "    final_pattern = final_pattern+'\\n'               # go on next line for next row\n",
    "print('\\n')\n",
    "print(final_pattern)                               # printing final pattern\n"
   ]
  },
  {
   "cell_type": "code",
   "execution_count": null,
   "metadata": {},
   "outputs": [],
   "source": []
  }
 ],
 "metadata": {
  "kernelspec": {
   "display_name": "Python 3",
   "language": "python",
   "name": "python3"
  },
  "language_info": {
   "codemirror_mode": {
    "name": "ipython",
    "version": 3
   },
   "file_extension": ".py",
   "mimetype": "text/x-python",
   "name": "python",
   "nbconvert_exporter": "python",
   "pygments_lexer": "ipython3",
   "version": "3.8.3"
  }
 },
 "nbformat": 4,
 "nbformat_minor": 4
}
