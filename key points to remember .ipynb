{
 "cells": [
  {
   "cell_type": "markdown",
   "metadata": {},
   "source": [
    "# set function\n",
    "\n",
    "list(set([pass list here]))\n",
    "\n",
    "set function gives uniques elements present in passing list means not repeated "
   ]
  },
  {
   "cell_type": "markdown",
   "metadata": {},
   "source": [
    "# TO reverse a string \n",
    "\n"
   ]
  },
  {
   "cell_type": "raw",
   "metadata": {},
   "source": [
    "use slicing concept\n",
    "\n",
    "for eg:\n",
    "    \n",
    "    reversed this\n",
    "     string = 'hello'\n",
    "    \n",
    "    reversed string = string[::-1]"
   ]
  },
  {
   "cell_type": "markdown",
   "metadata": {},
   "source": [
    "# How to remove spaces in strings using .replace() method"
   ]
  },
  {
   "cell_type": "code",
   "execution_count": 3,
   "metadata": {},
   "outputs": [],
   "source": [
    "# how to remove spaces in strings\n",
    "\n",
    "def palindrom(s):\n",
    "    s= s.replace(' ','')       # passing ' ', and'' means we have replace ' ' this space with '' with empty space i.t it can join\n",
    "    return s"
   ]
  },
  {
   "cell_type": "code",
   "execution_count": 4,
   "metadata": {},
   "outputs": [
    {
     "data": {
      "text/plain": [
       "'nursesrun'"
      ]
     },
     "execution_count": 4,
     "metadata": {},
     "output_type": "execute_result"
    }
   ],
   "source": [
    "palindrom(\"nurses run\")    "
   ]
  },
  {
   "cell_type": "markdown",
   "metadata": {},
   "source": [
    "# search what is pangrams"
   ]
  },
  {
   "cell_type": "markdown",
   "metadata": {},
   "source": [
    "# go though 21.2 one time"
   ]
  },
  {
   "cell_type": "raw",
   "metadata": {},
   "source": [
    "# so keep allcells as it is it before restart they r now not available but if u want to run them again and if u want in further code then go to cell select run all or run above "
   ]
  },
  {
   "cell_type": "markdown",
   "metadata": {},
   "source": [
    "# GO through 21.3 validate user input"
   ]
  },
  {
   "cell_type": "markdown",
   "metadata": {},
   "source": [
    "# V>IMP\n",
    "\n",
    "GO through simple user interaction VVIMP for built an game "
   ]
  },
  {
   "cell_type": "markdown",
   "metadata": {},
   "source": [
    "# Milestone project 1"
   ]
  },
  {
   "cell_type": "raw",
   "metadata": {},
   "source": [
    "To take input from a user:\n",
    "\n",
    "player1 = input(\"Please pick a marker 'X' or 'O'\")\n",
    "\n",
    "Note that input() takes in a string. If you need an integer value, use\n",
    "\n",
    "position = int(input('Please enter a number'))\n",
    "\n",
    "\n",
    "To clear the screen between moves:\n",
    "\n",
    "from IPython.display import clear_output\n",
    "clear_output()\n",
    "\n",
    "Note that clear_output() will only work in jupyter. To clear the screen in other IDEs, consider:\n",
    "\n",
    "print('\\n'*100)\n",
    "\n",
    "This scrolls the previous board up out of view. Now on to the program!"
   ]
  },
  {
   "cell_type": "markdown",
   "metadata": {},
   "source": [
    "# Go through final project 1 22.2"
   ]
  },
  {
   "cell_type": "markdown",
   "metadata": {},
   "source": [
    "# OOP"
   ]
  },
  {
   "cell_type": "code",
   "execution_count": 1,
   "metadata": {},
   "outputs": [],
   "source": [
    " # before and after of init there should be two underscores while defining in a class"
   ]
  },
  {
   "cell_type": "code",
   "execution_count": null,
   "metadata": {},
   "outputs": [],
   "source": []
  }
 ],
 "metadata": {
  "kernelspec": {
   "display_name": "Python 3",
   "language": "python",
   "name": "python3"
  },
  "language_info": {
   "codemirror_mode": {
    "name": "ipython",
    "version": 3
   },
   "file_extension": ".py",
   "mimetype": "text/x-python",
   "name": "python",
   "nbconvert_exporter": "python",
   "pygments_lexer": "ipython3",
   "version": "3.8.3"
  }
 },
 "nbformat": 4,
 "nbformat_minor": 4
}
