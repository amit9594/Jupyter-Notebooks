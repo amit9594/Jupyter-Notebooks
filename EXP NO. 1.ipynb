{
 "cells": [
  {
   "cell_type": "markdown",
   "metadata": {},
   "source": [
    "# 1) write a python program to input student details and display welcome message to newly added student record"
   ]
  },
  {
   "cell_type": "code",
   "execution_count": 1,
   "metadata": {},
   "outputs": [
    {
     "name": "stdout",
     "output_type": "stream",
     "text": [
      "Enter your name: Amit\n",
      "Enter your working mobile number: 4325463234\n",
      "Enter your current address: xyz\n",
      "hi! Amit welcome to datta meghe college of engineering,  best of luck!\n",
      "your details are : \n",
      "name : Amit \n",
      "phone number : 4325463234 \n",
      "address : xyz\n"
     ]
    }
   ],
   "source": [
    "name = input(\"Enter your name: \")\n",
    "phone_no = int(input(\"Enter your working mobile number: \"))\n",
    "add = input(\"Enter your current address: \")\n",
    "\n",
    "print(f'hi! {name} welcome to datta meghe college of engineering,  best of luck!')\n",
    "print(f'your details are : ')\n",
    "print(f'name : {name} \\nphone number : {phone_no} \\naddress : {add}')"
   ]
  },
  {
   "cell_type": "markdown",
   "metadata": {},
   "source": [
    "# 2) write a python program to perform arithmetic operations on any given inputs "
   ]
  },
  {
   "cell_type": "code",
   "execution_count": 2,
   "metadata": {},
   "outputs": [
    {
     "name": "stdout",
     "output_type": "stream",
     "text": [
      "Enter a 1st number: 12\n",
      "Enter a 2nd number: 32\n",
      "Addition:        44.0\n",
      "Subtraction:     -20.0\n",
      "multipliaction:  384.0\n",
      "division:        0.375\n",
      "modulous:        12.0\n"
     ]
    }
   ],
   "source": [
    "a = float(input(\"Enter a 1st number: \"))\n",
    "b = float(input(\"Enter a 2nd number: \"))\n",
    "\n",
    "print(f'Addition:        {a+b}')\n",
    "print(f'Subtraction:     {a-b}')\n",
    "print(f'multipliaction:  {a*b}')\n",
    "print(f'division:        {a/b}')\n",
    "print(f'modulous:        {a%b}')\n"
   ]
  },
  {
   "cell_type": "code",
   "execution_count": 3,
   "metadata": {},
   "outputs": [
    {
     "name": "stdout",
     "output_type": "stream",
     "text": [
      "Enter a 1st number: 3.4\n",
      "Enter a 2nd number: 3\n",
      "\n",
      "enter '1' for addition \n",
      "enter '2' for subtraction \n",
      "enter '3' for multiplication \n",
      "enter '4' for division \n",
      "enter '5' for modulous \n",
      "enter '6' for powers \n",
      "enter '-1' for EXIT\n",
      "12\n",
      "Please Enter a valid option to perform arithmetic operations: 432\n",
      "Please Enter a valid option to perform arithmetic operations: 7\n",
      "Please Enter a valid option to perform arithmetic operations: 6\n",
      "39.303999999999995\n"
     ]
    }
   ],
   "source": [
    "a = float(input(\"Enter a 1st number: \"))\n",
    "b = float(input(\"Enter a 2nd number: \"))\n",
    "\n",
    "c = int(input(\"\\nenter '1' for addition \\nenter '2' for subtraction \\nenter '3' for multiplication \\nenter '4' for division \\nenter '5' for modulous \\nenter '6' for powers \\nenter '-1' for EXIT\\n\"))\n",
    "\n",
    "\n",
    "while True:\n",
    "    \n",
    "    while c not in [1,2,3,4,5,6,-1]:\n",
    "        c = int(input(\"Please Enter a valid option to perform arithmetic operations: \"))\n",
    "    if c == 1:\n",
    "        print(a + b)\n",
    "        \n",
    "    elif c == 2:\n",
    "        print(a-b)\n",
    "        break\n",
    "    elif c == 3:\n",
    "        print(a*b)\n",
    "        break\n",
    "    elif c == 4:\n",
    "        print(a/b)\n",
    "        break\n",
    "    elif c == 5:\n",
    "        print(a%b)\n",
    "        break\n",
    "    elif c == 6:\n",
    "        print(a**b)\n",
    "        break\n",
    "    elif c == -1:\n",
    "        break\n"
   ]
  },
  {
   "cell_type": "markdown",
   "metadata": {},
   "source": [
    "# 3) write a python program for password length checker "
   ]
  },
  {
   "cell_type": "code",
   "execution_count": 4,
   "metadata": {},
   "outputs": [
    {
     "name": "stdout",
     "output_type": "stream",
     "text": [
      "Enter a valid password: 12234345\n",
      "********\n",
      "8\n"
     ]
    }
   ],
   "source": [
    "password = input(\"Enter a valid password: \")\n",
    "hidden = len(password)*'*'\n",
    "print(hidden)\n",
    "print(len(hidden))"
   ]
  },
  {
   "cell_type": "code",
   "execution_count": 5,
   "metadata": {},
   "outputs": [
    {
     "name": "stdout",
     "output_type": "stream",
     "text": [
      "Enter a valid password: aj3232@\n",
      "*******\n",
      "7\n"
     ]
    }
   ],
   "source": [
    "password = input(\"Enter a valid password: \")\n",
    "hidden = password.replace(password,len(password)*'*')\n",
    "print(hidden)\n",
    "print(len(password))"
   ]
  },
  {
   "cell_type": "code",
   "execution_count": null,
   "metadata": {},
   "outputs": [],
   "source": []
  }
 ],
 "metadata": {
  "kernelspec": {
   "display_name": "Python 3",
   "language": "python",
   "name": "python3"
  },
  "language_info": {
   "codemirror_mode": {
    "name": "ipython",
    "version": 3
   },
   "file_extension": ".py",
   "mimetype": "text/x-python",
   "name": "python",
   "nbconvert_exporter": "python",
   "pygments_lexer": "ipython3",
   "version": "3.8.3"
  }
 },
 "nbformat": 4,
 "nbformat_minor": 4
}
