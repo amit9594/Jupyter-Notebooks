{
 "cells": [
  {
   "cell_type": "markdown",
   "metadata": {},
   "source": [
    "# Milestone Project 2 - Blackjack Game"
   ]
  },
  {
   "cell_type": "raw",
   "metadata": {},
   "source": [
    "In this milestone project you will be creating a Complete BlackJack Card Game in Python.\n",
    "\n",
    "Here are the requirements:\n",
    "\n",
    "You need to create a simple text-based BlackJack game\n",
    "The game needs to have one player versus an automated dealer.\n",
    "The player can stand or hit.\n",
    "The player must be able to pick their betting amount.\n",
    "You need to keep track of the player's total money.\n",
    "You need to alert the player of wins, losses, or busts, etc...\n",
    "And most importantly:\n",
    "\n",
    "You must use OOP and classes in some portion of your game. You can not just use functions in your game. Use classes to help you define the Deck and the Player's hand. There are many right ways to do this, so explore it well!\n",
    "Feel free to expand this game. Try including multiple players. Try adding in Double-Down and card splits! Remember to you are free to use any resources you want and as always:"
   ]
  },
  {
   "cell_type": "markdown",
   "metadata": {},
   "source": [
    "# HAVE FUN!"
   ]
  },
  {
   "cell_type": "raw",
   "metadata": {},
   "source": [
    "Below is a set of steps for you to follow to try to create the Blackjack Milestone Project game!"
   ]
  },
  {
   "cell_type": "markdown",
   "metadata": {},
   "source": [
    "# Game Play"
   ]
  },
  {
   "cell_type": "raw",
   "metadata": {},
   "source": [
    "To play a hand of Blackjack the following steps must be followed:\n",
    "\n",
    "1) Create a deck of 52 cards\n",
    "2) Shuffle the deck\n",
    "3) Ask the Player for their bet\n",
    "4) Make sure that the Player's bet does not exceed their available chips\n",
    "5) Deal two cards to the Dealer and two cards to the Player\n",
    "6) Show only one of the Dealer's cards, the other remains hidden\n",
    "7) Show both of the Player's cards\n",
    "8) Ask the Player if they wish to Hit, and take another card\n",
    "9) If the Player's hand doesn't Bust (go over 21), ask if they'd like to Hit again.\n",
    "10) If a Player Stands, play the Dealer's hand. The dealer will always Hit until the Dealer's value meets or exceeds 17\n",
    "11) Determine the winner and adjust the Player's chips accordingly\n",
    "12) Ask the Player if they'd like to play again\n"
   ]
  },
  {
   "cell_type": "markdown",
   "metadata": {},
   "source": [
    "# Playing cards"
   ]
  },
  {
   "cell_type": "raw",
   "metadata": {},
   "source": [
    "A standard deck of playing cards has four suits (Hearts, Diamonds, Spades and Clubs) and thirteen ranks (2 through 10, then the face cards Jack, Queen, King and Ace) for a total of 52 cards per deck. Jacks, Queens and Kings all have a rank of 10. Aces have a rank of either 11 or 1 as needed to reach 21 without busting. As a starting point in your program, you may want to assign variables to store a list of suits, ranks, and then use a dictionary to map ranks to values."
   ]
  },
  {
   "cell_type": "markdown",
   "metadata": {},
   "source": [
    "# The Game"
   ]
  },
  {
   "cell_type": "raw",
   "metadata": {},
   "source": [
    "Imports and Global Variables\n",
    "Step 1: Import the random module. This will be used to shuffle the deck prior to dealing. Then, declare variables to store suits, ranks and values. You can develop your own system, or copy ours below. Finally, declare a Boolean value to be used to control while loops. This is a common practice used to control the flow of the game.\n",
    "\n",
    "suits = ('Hearts', 'Diamonds', 'Spades', 'Clubs')\n",
    "ranks = ('Two', 'Three', 'Four', 'Five', 'Six', 'Seven', 'Eight', 'Nine', 'Ten', 'Jack', 'Queen', 'King', 'Ace')\n",
    "values = {'Two':2, 'Three':3, 'Four':4, 'Five':5, 'Six':6, 'Seven':7, 'Eight':8, 'Nine':9, 'Ten':10, 'Jack':10,\n",
    "         'Queen':10, 'King':10, 'Ace':11}"
   ]
  },
  {
   "cell_type": "code",
   "execution_count": 5,
   "metadata": {},
   "outputs": [],
   "source": [
    "import random\n",
    "\n",
    "suits = ('Heart','Diamond','Spade','Club')\n",
    "\n",
    "ranks = ('Two','Three','Four','Five','Six','Seven',\n",
    "        \n",
    "        'Eight','Nine','Ten','Jack','Queen','King','Ace'\n",
    "         )\n",
    "# here jack ,queen and king have same priority of 10 \n",
    "value = {'Two':2,'Three':3,'Four':4,'Five':5,'Six':6,'Seven':7,'Eight':8,'Nine':9,'Ten':10,'Jack':10,'Queen':10,'King':10,'Ace':11 }"
   ]
  },
  {
   "cell_type": "markdown",
   "metadata": {},
   "source": [
    "# class definition"
   ]
  },
  {
   "cell_type": "raw",
   "metadata": {},
   "source": [
    "# Consider making a Card class where each Card object has a suit and a rank, then a Deck class to hold all 52 Card objects, and can be shuffled, and finally a Hand class that holds those Cards that have been dealt to each player from the Deck.\n",
    "\n",
    "\n"
   ]
  },
  {
   "cell_type": "markdown",
   "metadata": {},
   "source": [
    "# Step 2: Create a Card Class"
   ]
  },
  {
   "cell_type": "raw",
   "metadata": {},
   "source": [
    "A Card object really only needs two attributes: suit and rank. You might add an attribute for \"value\" - we chose to handle value later when developing our Hand class.\n",
    "In addition to the Card's __init__ method, consider adding a __str__ method that, when asked to print a Card, returns a string in the form \"Two of Hearts\""
   ]
  },
  {
   "cell_type": "code",
   "execution_count": 2,
   "metadata": {},
   "outputs": [],
   "source": [
    "class Card:\n",
    "    \n",
    "    def __init__(self,suit,rank):\n",
    "        \n",
    "        self.suit = suit\n",
    "        self.rank = rank\n",
    "        self.value = value[rank]\n",
    "        \n",
    "    def __str__(self):\n",
    "        return f'{self.rank} of {self.suit}'\n",
    "        "
   ]
  },
  {
   "cell_type": "code",
   "execution_count": 3,
   "metadata": {},
   "outputs": [],
   "source": [
    "mycard = Card('Heart','Ace')"
   ]
  },
  {
   "cell_type": "code",
   "execution_count": 4,
   "metadata": {},
   "outputs": [
    {
     "name": "stdout",
     "output_type": "stream",
     "text": [
      "Ace of Heart\n"
     ]
    }
   ],
   "source": [
    "print(mycard)"
   ]
  },
  {
   "cell_type": "markdown",
   "metadata": {},
   "source": [
    "# Step 3: Create a Deck Class"
   ]
  },
  {
   "cell_type": "raw",
   "metadata": {},
   "source": [
    "Here we might store 52 card objects in a list that can later be shuffled. First, though, we need to instantiate all 52 unique card objects and add them to our list. So long as the Card class definition appears in our code, we can build Card objects inside our Deck __init__ method. Consider iterating over sequences of suits and ranks to build out each card. This might appear inside a Deck class __init__ method:\n",
    "\n",
    "for suit in suits:\n",
    "    for rank in ranks:\n",
    "\n",
    "In addition to an __init__ method we'll want to add methods to shuffle our deck, and to deal out cards during gameplay.\n",
    "\n",
    "OPTIONAL: We may never need to print the contents of the deck during gameplay, but having the ability to see the cards inside it may help troubleshoot any problems that occur during development. With this in mind, consider adding a __str__ method to the class definition."
   ]
  },
  {
   "cell_type": "code",
   "execution_count": 5,
   "metadata": {},
   "outputs": [],
   "source": [
    "class Deck:\n",
    "    \n",
    "    def __init__(self):\n",
    "        self.all_cards = []  # start with an empty list\n",
    "        \n",
    "        for suit in suits:\n",
    "            for rank in ranks:\n",
    "                self.all_cards.append(Card(suit,rank)) # build Card objects and add them to the list\n",
    "                \n",
    "    def shuffle(self):\n",
    "        random.shuffle(self.all_cards)\n",
    "    \n",
    "    def __str__(self):\n",
    "        deck_comp = ' '   # start with an empty string\n",
    "        for card in self.all_cards:\n",
    "            deck_comp += '\\n'+card.__str__()  # add each Card object's print string\n",
    "        return 'The deck has' +deck_comp\n",
    "    \n",
    "    def deal(self):\n",
    "        \n",
    "        single_card =self.all_cards.pop()\n",
    "        return single_card\n",
    "       \n",
    "    "
   ]
  },
  {
   "cell_type": "code",
   "execution_count": 6,
   "metadata": {},
   "outputs": [],
   "source": [
    "my_deck = Deck()"
   ]
  },
  {
   "cell_type": "code",
   "execution_count": 7,
   "metadata": {},
   "outputs": [
    {
     "name": "stdout",
     "output_type": "stream",
     "text": [
      "Two of Heart\n",
      "Three of Heart\n",
      "Four of Heart\n",
      "Five of Heart\n",
      "Six of Heart\n",
      "Seven of Heart\n",
      "Eight of Heart\n",
      "Nine of Heart\n",
      "Ten of Heart\n",
      "Jack of Heart\n",
      "Queen of Heart\n",
      "King of Heart\n",
      "Ace of Heart\n",
      "Two of Diamond\n",
      "Three of Diamond\n",
      "Four of Diamond\n",
      "Five of Diamond\n",
      "Six of Diamond\n",
      "Seven of Diamond\n",
      "Eight of Diamond\n",
      "Nine of Diamond\n",
      "Ten of Diamond\n",
      "Jack of Diamond\n",
      "Queen of Diamond\n",
      "King of Diamond\n",
      "Ace of Diamond\n",
      "Two of Spade\n",
      "Three of Spade\n",
      "Four of Spade\n",
      "Five of Spade\n",
      "Six of Spade\n",
      "Seven of Spade\n",
      "Eight of Spade\n",
      "Nine of Spade\n",
      "Ten of Spade\n",
      "Jack of Spade\n",
      "Queen of Spade\n",
      "King of Spade\n",
      "Ace of Spade\n",
      "Two of Club\n",
      "Three of Club\n",
      "Four of Club\n",
      "Five of Club\n",
      "Six of Club\n",
      "Seven of Club\n",
      "Eight of Club\n",
      "Nine of Club\n",
      "Ten of Club\n",
      "Jack of Club\n",
      "Queen of Club\n",
      "King of Club\n",
      "Ace of Club\n"
     ]
    }
   ],
   "source": [
    "for card in my_deck.all_cards:\n",
    "    print(card)"
   ]
  },
  {
   "cell_type": "code",
   "execution_count": 8,
   "metadata": {},
   "outputs": [
    {
     "name": "stdout",
     "output_type": "stream",
     "text": [
      "The deck has \n",
      "Two of Heart\n",
      "Three of Heart\n",
      "Four of Heart\n",
      "Five of Heart\n",
      "Six of Heart\n",
      "Seven of Heart\n",
      "Eight of Heart\n",
      "Nine of Heart\n",
      "Ten of Heart\n",
      "Jack of Heart\n",
      "Queen of Heart\n",
      "King of Heart\n",
      "Ace of Heart\n",
      "Two of Diamond\n",
      "Three of Diamond\n",
      "Four of Diamond\n",
      "Five of Diamond\n",
      "Six of Diamond\n",
      "Seven of Diamond\n",
      "Eight of Diamond\n",
      "Nine of Diamond\n",
      "Ten of Diamond\n",
      "Jack of Diamond\n",
      "Queen of Diamond\n",
      "King of Diamond\n",
      "Ace of Diamond\n",
      "Two of Spade\n",
      "Three of Spade\n",
      "Four of Spade\n",
      "Five of Spade\n",
      "Six of Spade\n",
      "Seven of Spade\n",
      "Eight of Spade\n",
      "Nine of Spade\n",
      "Ten of Spade\n",
      "Jack of Spade\n",
      "Queen of Spade\n",
      "King of Spade\n",
      "Ace of Spade\n",
      "Two of Club\n",
      "Three of Club\n",
      "Four of Club\n",
      "Five of Club\n",
      "Six of Club\n",
      "Seven of Club\n",
      "Eight of Club\n",
      "Nine of Club\n",
      "Ten of Club\n",
      "Jack of Club\n",
      "Queen of Club\n",
      "King of Club\n",
      "Ace of Club\n"
     ]
    }
   ],
   "source": [
    "print(my_deck) # direct display by calling special method __str__() see code "
   ]
  },
  {
   "cell_type": "code",
   "execution_count": null,
   "metadata": {},
   "outputs": [],
   "source": []
  },
  {
   "cell_type": "code",
   "execution_count": 9,
   "metadata": {},
   "outputs": [
    {
     "data": {
      "text/plain": [
       "52"
      ]
     },
     "execution_count": 9,
     "metadata": {},
     "output_type": "execute_result"
    }
   ],
   "source": [
    "len(my_deck.all_cards)"
   ]
  },
  {
   "cell_type": "code",
   "execution_count": null,
   "metadata": {},
   "outputs": [],
   "source": []
  },
  {
   "cell_type": "code",
   "execution_count": 10,
   "metadata": {},
   "outputs": [
    {
     "name": "stdout",
     "output_type": "stream",
     "text": [
      "The deck has \n",
      "Nine of Club\n",
      "Seven of Club\n",
      "Two of Diamond\n",
      "Ten of Heart\n",
      "Ten of Diamond\n",
      "Seven of Diamond\n",
      "Eight of Diamond\n",
      "Five of Club\n",
      "King of Spade\n",
      "Jack of Spade\n",
      "Two of Heart\n",
      "Four of Heart\n",
      "Nine of Diamond\n",
      "Ace of Spade\n",
      "Eight of Spade\n",
      "Five of Spade\n",
      "Ten of Spade\n",
      "Five of Heart\n",
      "Ace of Diamond\n",
      "Queen of Spade\n",
      "Nine of Spade\n",
      "Jack of Heart\n",
      "Eight of Club\n",
      "Three of Spade\n",
      "Nine of Heart\n",
      "Jack of Club\n",
      "Jack of Diamond\n",
      "Six of Diamond\n",
      "Three of Heart\n",
      "Seven of Spade\n",
      "King of Heart\n",
      "Queen of Diamond\n",
      "Six of Heart\n",
      "Queen of Heart\n",
      "Ace of Club\n",
      "Eight of Heart\n",
      "Seven of Heart\n",
      "Three of Club\n",
      "Three of Diamond\n",
      "Two of Spade\n",
      "Ten of Club\n",
      "Ace of Heart\n",
      "Six of Spade\n",
      "Four of Diamond\n",
      "Four of Club\n",
      "Four of Spade\n",
      "Queen of Club\n",
      "King of Club\n",
      "Five of Diamond\n",
      "Two of Club\n",
      "Six of Club\n",
      "King of Diamond\n"
     ]
    }
   ],
   "source": [
    "my_deck.shuffle()\n",
    "print(my_deck)  # now see we have shuffle the list"
   ]
  },
  {
   "cell_type": "code",
   "execution_count": 11,
   "metadata": {},
   "outputs": [
    {
     "name": "stdout",
     "output_type": "stream",
     "text": [
      "Nine of Club\n"
     ]
    }
   ],
   "source": [
    "print(my_deck.all_cards[0])"
   ]
  },
  {
   "cell_type": "code",
   "execution_count": 12,
   "metadata": {},
   "outputs": [
    {
     "name": "stdout",
     "output_type": "stream",
     "text": [
      "King of Diamond\n"
     ]
    }
   ],
   "source": [
    "print(my_deck.all_cards[-1])"
   ]
  },
  {
   "cell_type": "markdown",
   "metadata": {},
   "source": [
    "# Step 4: Create a Hand Class"
   ]
  },
  {
   "cell_type": "raw",
   "metadata": {},
   "source": [
    "Great! Now let's move on to our Hand class.\n",
    "\n",
    "\n",
    "In addition to holding Card objects dealt from the Deck, the Hand class may be used to calculate the value of those cards using the values dictionary defined above. It may also need to adjust for the value of Aces when appropriate."
   ]
  },
  {
   "cell_type": "code",
   "execution_count": 13,
   "metadata": {},
   "outputs": [],
   "source": [
    "class Hand():\n",
    "    \n",
    "    def __init__(self,):\n",
    "        self.aces = 0       # add an attribute to keep track of aces\n",
    "        self.value = 0      # we have actually here add cards by hepling this \n",
    "        self.cards = []   # at very start cards will be zero\n",
    "   \n",
    "    def add_cards(self,card):\n",
    "        #card passed in\n",
    "        # from Deck.deal() ---->>> single_card(suit,rank)\n",
    "        self.cards.append(card)\n",
    "        self.value += value[card.rank] # we have actually find the sum of value of cards \n",
    "         # we know if value >21 so this values whovever has hand will be lost\n",
    "            \n",
    "        \n",
    "    \n",
    "            \n",
    "                "
   ]
  },
  {
   "cell_type": "code",
   "execution_count": 14,
   "metadata": {},
   "outputs": [
    {
     "name": "stdout",
     "output_type": "stream",
     "text": [
      "Ace of Heart\n",
      "11\n"
     ]
    }
   ],
   "source": [
    "# creat deck instance and shuufle it\n",
    "grab_deck = Deck()\n",
    "grab_deck.shuffle()\n",
    "\n",
    "# we have to grab one card from deal() from deck class----->>> CARD(suit,rank) and passed in hand to add_cards method \n",
    "\n",
    "grab_one = grab_deck.deal()\n",
    "print(grab_one)\n",
    "\n",
    "# instance of hand\n",
    "\n",
    "new_player = Hand()\n",
    "new_player.add_cards(grab_one) # we passed card here which we had grab from deck -->>> deal --->. single_card \n",
    "print(new_player.value)"
   ]
  },
  {
   "cell_type": "code",
   "execution_count": 15,
   "metadata": {},
   "outputs": [
    {
     "name": "stdout",
     "output_type": "stream",
     "text": [
      "20\n"
     ]
    }
   ],
   "source": [
    "# instead of adding extra variable i.e grab_one we can do that in a single line see\n",
    "\n",
    "new_player.add_cards(grab_deck.deal())\n",
    "print(new_player.value)"
   ]
  },
  {
   "cell_type": "code",
   "execution_count": 16,
   "metadata": {},
   "outputs": [
    {
     "name": "stdout",
     "output_type": "stream",
     "text": [
      "Ace of Heart\n",
      "Nine of Spade\n"
     ]
    }
   ],
   "source": [
    "for card in new_player.cards:\n",
    "    print(card)"
   ]
  },
  {
   "cell_type": "code",
   "execution_count": 17,
   "metadata": {},
   "outputs": [],
   "source": [
    "# so we have addes 2 cards and summ is 20 < 21 \n",
    "\n",
    "\n",
    "\n",
    "# now we  have to adjust an aces\n",
    "# Great! Now let's tackle the Aces issue. If a hand's value exceeds 21 but it contains an Ace, we can reduce the Ace's value from 11 to 1 and continue playing."
   ]
  },
  {
   "cell_type": "code",
   "execution_count": 18,
   "metadata": {},
   "outputs": [],
   "source": [
    "# Ref this is final hand class\n",
    "\n",
    "class Hand():\n",
    "    \n",
    "    def __init__(self,):\n",
    "        self.aces = 0       # add an attribute to keep track of aces\n",
    "        self.value = 0      # we have actually here add cards by hepling this \n",
    "        self.cards = []   # at very start cards will be zero\n",
    "   \n",
    "    def add_cards(self,card):\n",
    "        #card passed in\n",
    "        # from Deck.deal() ---->>> single_card(suit,rank)\n",
    "        self.cards.append(card)\n",
    "        self.value += value[card.rank] # we have actually find the sum of value of cards \n",
    "         # we know if value >21 so this values whovever has hand will be lost\n",
    "            \n",
    "        #IF CARD WILL BE ACE (track aces)\n",
    "        \n",
    "        if card.rank == 'Ace':\n",
    "            self.aces += 1\n",
    "            \n",
    "    def adjust_for_ace(self):\n",
    "        \n",
    "        # IF sum is > 21 and card is still ace then change my ace to be an 1 instead of 11  \n",
    "        while self.value > 21 and self.aces > 0:\n",
    "            \n",
    "            self.value -= 10\n",
    "            self.aces -= 1\n",
    "        \n",
    "    "
   ]
  },
  {
   "cell_type": "markdown",
   "metadata": {},
   "source": [
    "# Step 5: Create a Chips Class"
   ]
  },
  {
   "cell_type": "raw",
   "metadata": {},
   "source": [
    "In addition to decks of cards and hands, we need to keep track of a Player's starting chips, bets, and ongoing winnings. This could be done using global variables, but in the spirit of object oriented programming, let's make a Chips class instead!"
   ]
  },
  {
   "cell_type": "code",
   "execution_count": 19,
   "metadata": {},
   "outputs": [],
   "source": [
    "class Chips:\n",
    "    \n",
    "    def __init__(self,total = 100):\n",
    "        self.total = total  # This can be set to a default value or supplied by a user input i.e such as intead of 100 chips u can set 1000 ,45000 anything u want\n",
    "        self.bet = 0\n",
    "        \n",
    "    def win_bet(self):\n",
    "        self.total += self.bet\n",
    "        \n",
    "    def lose_bet(self):\n",
    "        self.total -= self.bet\n"
   ]
  },
  {
   "cell_type": "code",
   "execution_count": null,
   "metadata": {},
   "outputs": [],
   "source": []
  },
  {
   "cell_type": "code",
   "execution_count": null,
   "metadata": {},
   "outputs": [],
   "source": []
  },
  {
   "cell_type": "markdown",
   "metadata": {},
   "source": [
    "# Functions Definitions"
   ]
  },
  {
   "cell_type": "raw",
   "metadata": {},
   "source": [
    "A lot of steps are going to be repetitive. That's where functions come in! The following steps are guidelines - add or remove functions as needed in your own program."
   ]
  },
  {
   "cell_type": "markdown",
   "metadata": {},
   "source": [
    "# Step 6: Write a function for taking bets"
   ]
  },
  {
   "cell_type": "raw",
   "metadata": {},
   "source": [
    "Since we're asking the user for an integer value, this would be a good place to use try/except. Remember to check that a Player's bet can be covered by their available chips."
   ]
  },
  {
   "cell_type": "code",
   "execution_count": 20,
   "metadata": {},
   "outputs": [],
   "source": [
    "def take_bet(chips):\n",
    "    \n",
    "    while True:\n",
    "        \n",
    "        try:\n",
    "            chips.bet = int(input(\"How many chips would you like to bet : \"))\n",
    "        except:\n",
    "            print(\"Sorry, please provide an integer\")\n",
    "            continue\n",
    "            \n",
    "        else:\n",
    "            if chips.bet > chips.total:\n",
    "                print(\"Hey you don't have enough chips! you have {}\".format(chips.total))\n",
    "                \n",
    "            else:\n",
    "                break"
   ]
  },
  {
   "cell_type": "markdown",
   "metadata": {},
   "source": [
    "# step 7: Write a function for taking hits"
   ]
  },
  {
   "cell_type": "raw",
   "metadata": {},
   "source": [
    "Either player can take hits until they bust. This function will be called during gameplay anytime a Player requests a hit, or a Dealer's hand is less than 17. It should take in Deck and Hand objects as arguments, and deal one card off the deck and add it to the Hand. You may want it to check for aces in the event that a player's hand exceeds 21."
   ]
  },
  {
   "cell_type": "code",
   "execution_count": 21,
   "metadata": {},
   "outputs": [],
   "source": [
    "# this will call if input will be 'h'  and hand is instance of Hand class so u can grab all attributes like add_cards ,adjusr_for_ace\n",
    "def hit(deck,hand):\n",
    "    \n",
    "    \n",
    "    hand.add_cards(deck.deal())\n",
    "    hand.adjust_for_ace()\n",
    "        "
   ]
  },
  {
   "cell_type": "markdown",
   "metadata": {},
   "source": [
    "# Step 8: Write a function prompting the Player to Hit or Stand"
   ]
  },
  {
   "cell_type": "raw",
   "metadata": {},
   "source": [
    "This function should accept the deck and the player's hand as arguments, and assign playing as a global variable.\n",
    "If the Player Hits, employ the hit() function above. If the Player Stands, set the playing variable to False - this will control the behavior of a while loop later on in our code."
   ]
  },
  {
   "cell_type": "code",
   "execution_count": 22,
   "metadata": {},
   "outputs": [],
   "source": [
    "def hit_or_stand(deck,hand):\n",
    "    global playing  # to control an upcoming while loop\n",
    "    \n",
    "    while True:\n",
    "        \n",
    "        # u can write while loop like while not in ['h' , 's'] also here or try and except\n",
    "        # see how we validate input new here\n",
    "        x = ' '\n",
    "        while x not in ['h' ,'s']:\n",
    "            x = input(\"Hit or stand? enter 'h' or 's' : \")\n",
    "            \n",
    "            if x not in ['h' ,'s']:\n",
    "                print(\"Sorry, Please enter 'h' or 's': \")\n",
    "        \n",
    "        if x[0].lower() == 'h':\n",
    "            hit(deck,hand)\n",
    "        \n",
    "        elif x[0].lower() == 's':\n",
    "            print(\"player's stand dealer's turn\")\n",
    "            playing = False  # this playing is same for while loop in actual game code while playing: wala bcoz after hit 's' playing = false and will come out of that while loop so its necessary here same global playing\n",
    "            \n",
    "        else:\n",
    "            print(\"sorry, you have enter wrong input ,please eneter 'h' or 's'\")\n",
    "            continue\n",
    "        \n",
    "        break\n",
    "            \n",
    "    "
   ]
  },
  {
   "cell_type": "markdown",
   "metadata": {},
   "source": [
    "# Step 9: Write functions to display cards"
   ]
  },
  {
   "cell_type": "raw",
   "metadata": {},
   "source": [
    "When the game starts, and after each time Player takes a card, the dealer's first card is hidden and all of Player's cards are visible. At the end of the hand all cards are shown, and you may want to show each hand's total value. Write a function for each of these scenarios."
   ]
  },
  {
   "cell_type": "code",
   "execution_count": 23,
   "metadata": {},
   "outputs": [],
   "source": [
    "def show_some(player,dealer):   # here we passed player_hand and dealer_hand i.e instance\n",
    "    print(\"\\nDealer's Hand:\")\n",
    "    print(\" <card hidden>\")  # 1st will be hidden\n",
    "    print('',dealer.cards[1]) # here we show 2nd card of dealer only this .cards is from hand calss which is for dealer hand cards available  \n",
    "    print(\"\\nPlayer's Hand:\", *player.cards, sep='\\n ')   # here we willshow all players cards at separate line\n",
    "    \n",
    "def show_all(player,dealer):\n",
    "    print(\"\\nDealer's Hand:\", *dealer.cards, sep='\\n ')   # we will show all cards of dealer\n",
    "    print(\"Dealer's Hand =\",dealer.value)  # its total value\n",
    "    print(\"\\nPlayer's Hand:\", *player.cards, sep='\\n ') # we will show all cards of player\n",
    "    print(\"Player's Hand =\",player.value)  #player's total value"
   ]
  },
  {
   "cell_type": "raw",
   "metadata": {},
   "source": [
    "QUICK NOTES ABOUT PRINT STATEMENTS:\n",
    "\n",
    "The asterisk * symbol is used to print every item in a collection, and the sep='\\n ' argument prints each item on a separate line.\n",
    "\n",
    "In the fourth line where we have\n",
    "\n",
    "print('',dealer.cards[1])\n",
    "\n",
    "the empty string and comma are there just to add a space.\n",
    "\n",
    "Here we used commas to separate the objects being printed in each line. If you want to concatenate strings using the + symbol, then you have to call each Card object's __str__ method explicitly, as with\n",
    "\n",
    "print(' ' + dealer.cards[1].__str__())"
   ]
  },
  {
   "cell_type": "markdown",
   "metadata": {},
   "source": [
    "# Step 10: Write functions to handle end of game scenarios"
   ]
  },
  {
   "cell_type": "raw",
   "metadata": {},
   "source": [
    "Remember to pass player's hand, dealer's hand and chips as needed."
   ]
  },
  {
   "cell_type": "code",
   "execution_count": 24,
   "metadata": {},
   "outputs": [],
   "source": [
    "def player_busts(player,dealer,chips):\n",
    "    print(\"BUST PLAYER!\")\n",
    "    chips.lose_bet() \n",
    "\n",
    "def player_wins(player,dealer,chips):\n",
    "    print(\"PlAYER WINS!\")\n",
    "    chips.win_bet() # this is for player hand\n",
    "\n",
    "def dealer_busts(player,dealer,chips):\n",
    "    print(\"PlAYER WINS! DEALER BUSTED!\")\n",
    "    chips.win_bet()\n",
    "    \n",
    "def dealer_wins(player,dealer,chips):\n",
    "    print(\"DEALER WINS!\")\n",
    "    chips.lose_bet()\n",
    "    \n",
    "def push(player,dealer):\n",
    "    print(\"Dealer and player tie! PUSH\")"
   ]
  },
  {
   "cell_type": "markdown",
   "metadata": {},
   "source": [
    "# And now on to the game!!"
   ]
  },
  {
   "cell_type": "code",
   "execution_count": 25,
   "metadata": {},
   "outputs": [
    {
     "name": "stdout",
     "output_type": "stream",
     "text": [
      "WELCOME TO BLACKJACK GAME!\n",
      "How many chips would you like to bet : nga\n",
      "Sorry, please provide an integer\n",
      "How many chips would you like to bet : afs3\n",
      "Sorry, please provide an integer\n",
      "How many chips would you like to bet : 40\n",
      "\n",
      "Dealer's Hand:\n",
      " <card hidden>\n",
      " Nine of Club\n",
      "\n",
      "Player's Hand:\n",
      " Jack of Heart\n",
      " Six of Club\n",
      "Hit or stand? enter 'h' or 's' : csak\n",
      "Sorry, Please enter 'h' or 's': \n",
      "Hit or stand? enter 'h' or 's' : 23\n",
      "Sorry, Please enter 'h' or 's': \n",
      "Hit or stand? enter 'h' or 's' : sdf\n",
      "Sorry, Please enter 'h' or 's': \n",
      "Hit or stand? enter 'h' or 's' : hsd\n",
      "Sorry, Please enter 'h' or 's': \n",
      "Hit or stand? enter 'h' or 's' : h\n",
      "\n",
      "Dealer's Hand:\n",
      " <card hidden>\n",
      " Nine of Club\n",
      "\n",
      "Player's Hand:\n",
      " Jack of Heart\n",
      " Six of Club\n",
      " King of Club\n",
      "BUST PLAYER!\n",
      "\n",
      " player has total chips at 60\n",
      "Would you like to play another hand 'y' or 'n': yes\n",
      "Sorry, your input was wrong! please enter 'y' or'n'\n",
      "Would you like to play another hand 'y' or 'n': no\n",
      "Sorry, your input was wrong! please enter 'y' or'n'\n",
      "Would you like to play another hand 'y' or 'n': 23f\n",
      "Sorry, your input was wrong! please enter 'y' or'n'\n",
      "Would you like to play another hand 'y' or 'n': y\n",
      "WELCOME TO BLACKJACK GAME!\n",
      "How many chips would you like to bet : 50\n",
      "\n",
      "Dealer's Hand:\n",
      " <card hidden>\n",
      " Ten of Club\n",
      "\n",
      "Player's Hand:\n",
      " Two of Spade\n",
      " Eight of Spade\n",
      "Hit or stand? enter 'h' or 's' : h\n",
      "\n",
      "Dealer's Hand:\n",
      " <card hidden>\n",
      " Ten of Club\n",
      "\n",
      "Player's Hand:\n",
      " Two of Spade\n",
      " Eight of Spade\n",
      " Ten of Spade\n",
      "Hit or stand? enter 'h' or 's' : s\n",
      "player's stand dealer's turn\n",
      "\n",
      "Dealer's Hand:\n",
      " <card hidden>\n",
      " Ten of Club\n",
      "\n",
      "Player's Hand:\n",
      " Two of Spade\n",
      " Eight of Spade\n",
      " Ten of Spade\n",
      "\n",
      "Dealer's Hand:\n",
      " Six of Club\n",
      " Ten of Club\n",
      " Two of Club\n",
      "Dealer's Hand = 18\n",
      "\n",
      "Player's Hand:\n",
      " Two of Spade\n",
      " Eight of Spade\n",
      " Ten of Spade\n",
      "Player's Hand = 20\n",
      "PlAYER WINS!\n",
      "\n",
      " player has total chips at 150\n",
      "Would you like to play another hand 'y' or 'n': y\n",
      "WELCOME TO BLACKJACK GAME!\n",
      "How many chips would you like to bet : 110\n",
      "Hey you don't have enough chips! you have 100\n",
      "How many chips would you like to bet : sf\n",
      "Sorry, please provide an integer\n",
      "How many chips would you like to bet : 100\n",
      "\n",
      "Dealer's Hand:\n",
      " <card hidden>\n",
      " Queen of Heart\n",
      "\n",
      "Player's Hand:\n",
      " Three of Spade\n",
      " Two of Diamond\n",
      "Hit or stand? enter 'h' or 's' : s\n",
      "player's stand dealer's turn\n",
      "\n",
      "Dealer's Hand:\n",
      " <card hidden>\n",
      " Queen of Heart\n",
      "\n",
      "Player's Hand:\n",
      " Three of Spade\n",
      " Two of Diamond\n",
      "\n",
      "Dealer's Hand:\n",
      " Four of Club\n",
      " Queen of Heart\n",
      " Five of Heart\n",
      "Dealer's Hand = 19\n",
      "\n",
      "Player's Hand:\n",
      " Three of Spade\n",
      " Two of Diamond\n",
      "Player's Hand = 5\n",
      "DEALER WINS!\n",
      "\n",
      " player has total chips at 0\n",
      "Would you like to play another hand 'y' or 'n': n\n",
      "Thanks for playing\n"
     ]
    }
   ],
   "source": [
    "playing = True\n",
    "while True:\n",
    "    # Print an opening statement\n",
    "    print(\"WELCOME TO BLACKJACK GAME!\")\n",
    "\n",
    "    \n",
    "    # Create & shuffle the deck, deal two cards to each player\n",
    "    \n",
    "    deck = Deck()\n",
    "    deck.shuffle()\n",
    "    \n",
    "    # deal two cards so two times add by dealing\n",
    "    player_hand = Hand()\n",
    "    player_hand.add_cards(deck.deal())\n",
    "    player_hand.add_cards(deck.deal())\n",
    "    \n",
    "    # same for dealer\n",
    "    dealer_hand = Hand()\n",
    "    dealer_hand.add_cards(deck.deal())\n",
    "    dealer_hand.add_cards(deck.deal())\n",
    "    \n",
    "    \n",
    "    # Set up the Player's chips\n",
    "    player_chips = Chips()  # by default 100 chips  # u can change\n",
    "\n",
    "    \n",
    "    # Prompt the Player for their bet\n",
    "    \n",
    "    take_bet(player_chips)   # humne yaha par satta lagate hain about money it should be less than chips.total money i.e 100\n",
    "    # ye call hoga aur dekhega input lega aur cheack karega ki tumhne less value hi game main lagaya hain na than total in terem of chips\n",
    "    # money means here chips\n",
    "    # and if u win thae match win_bet call hoga from Chips class and total main jitna paisa lagaya that vo add joga \n",
    "    # noww maine paisa to lagaya dealer ke sath anhi cards show karne ke bolne ka hain dealer ko but 1 card will be hiiden\n",
    "    \n",
    "    \n",
    "    # Show cards (but keep one dealer card hidden)\n",
    "    # here show_some will be called and 2nd dealer card will be shown only and 1st will be hidden and will show all cards of player_hand\n",
    "    show_some(player_hand,dealer_hand)   \n",
    "\n",
    "    # now game will be start we have created deck shuufle it , we have created player_hand,dealer_hand ,humne game ke liye chips bhi decidekiye\n",
    "    # by taking input of chips by calling take_bet , and show_some cards to player and dealer ho gaya now time for playing turns to hit and stand\n",
    "    while playing:  # recall this variable from our hit_or_stand function\n",
    "        \n",
    "        # this turn is of player_hand\n",
    "        # Prompt for Player to Hit or Stand\n",
    "        # so this will call hit_or_stand after than it checks 'h' or 's' if 'h' it will call hit method then it grabs method of hand class add_cards and adjust_for_ace so see flow of calling \n",
    "        hit_or_stand(deck,player_hand) # we passed deck for deal() from all cards available to pop one card and player_hand for use when called hit method to grab methods of all Hand class \n",
    "        \n",
    "        # Show cards (but keep one dealer card hidden)\n",
    "        # here also after hit or stand we willshow some_cards i.e one hidden card of dealer else all visible\n",
    "        show_some(player_hand,dealer_hand)\n",
    "        \n",
    "        # If player's hand exceeds 21, run player_busts() and break out of loop\n",
    "        # u hava hot the cards and cards will added but if while adding cards if its value exceeds 21 player_hand will busted so we will call player_bust method and break the loop\n",
    "        if player_hand.value > 21:   # here this .value is in Hand class in add_cards method bcoz we call by instance i.e player_hand and after hit card the self.value will be added every timme it ill update everytime see hand class\n",
    "            player_busts(player_hand,dealer_hand,player_chips)  # so u have busted so calling lose_bet from player_busts bcoz total will be decrement by chips.bet which u have gave input when u called the take_bet so its all connectivity see properly\n",
    "            \n",
    "            break\n",
    "            \n",
    "        # from this while loop when u will come out there is 2 cases:\n",
    "        # 1) if u hit and suddenly value goes > 21 it will break\n",
    "        # 2) if ur input is 's ' i.e stand playing will become False and will come out of this loop see hit_or_stand that there is also same global variable playing so it should be same\n",
    "\n",
    "\n",
    "    # If Player hasn't busted, play Dealer's hand until Dealer reaches 17\n",
    "    # now plaer_hand trns completed that he hits 's' and come out while loop now dealer's turn\n",
    "    if player_hand.value <= 21:\n",
    "        \n",
    "        while dealer_hand.value < 17:   # whenever dealer value will be < 17 hit      \n",
    "            hit(deck,dealer_hand)\n",
    "            \n",
    "        \n",
    "            \n",
    "        # here for delaer turn there is no problem to hidden so show_all cards and here value is also shown\n",
    "        # Show all cards\n",
    "        show_all(player_hand,dealer_hand)\n",
    "        \n",
    "    \n",
    "        # Run different winning scenarios\n",
    "        if dealer_hand.value > 21:  # in this nested if origirn if means player value is < 21 but suddenly dealer value goes over 21 he will busted so caleed delaer busts method\n",
    "            dealer_busts(player_hand,dealer_hand,player_chips)\n",
    "        elif dealer_hand.value > player_hand.value:\n",
    "            dealer_wins(player_hand,dealer_hand,player_chips)\n",
    "        elif dealer_hand.value < player_hand.value:\n",
    "            player_wins(player_hand,dealer_hand,player_chips)\n",
    "        else:\n",
    "            push(player_hand,dealer_hand)   #this is for tie\n",
    "            \n",
    "        \n",
    "    # at last we will show total chips of plaer_hand\n",
    "    # Inform Player of their chips total\n",
    "    print('\\n player has total chips at {}'.format(player_chips.total))\n",
    "    \n",
    "    # Ask to play again\n",
    "    # new cahnge here see how we validate input\n",
    "    new_game = 'wrong'\n",
    "    while new_game not in ['y' , 'n']:\n",
    "        new_game = input(\"Would you like to play another hand 'y' or 'n': \")\n",
    "\n",
    "        if new_game not in ['y' , 'n']:\n",
    "            print(\"Sorry, your input was wrong! please enter 'y' or'n'\")\n",
    "\n",
    "    if new_game[0].lower() == 'y':\n",
    "\n",
    "        playing = True  # this playing is of outer that was declared at very 1st line for while Treu: game\n",
    "        continue\n",
    "\n",
    "    elif new_game[0].lower() == 'n':\n",
    "\n",
    "        playing = False  # this will break the outwer while loop so we will give some tahnks msg for playing \n",
    "        print(\"Thanks for playing\")\n",
    "        break\n",
    "\n",
    "\n",
    "    \n",
    "\n",
    "        "
   ]
  },
  {
   "cell_type": "code",
   "execution_count": 36,
   "metadata": {},
   "outputs": [],
   "source": [
    "# so this is milestone project 2 u can write this game in so many different ways "
   ]
  },
  {
   "cell_type": "markdown",
   "metadata": {},
   "source": [
    "# extra "
   ]
  },
  {
   "cell_type": "code",
   "execution_count": 27,
   "metadata": {},
   "outputs": [],
   "source": [
    "# next task will be explore this game for more than one player\n",
    "# in project 1 add try and except for input wherever possible or while loop\n",
    "# see sites after project 2 of game logic i think 3 see properly"
   ]
  },
  {
   "cell_type": "code",
   "execution_count": 37,
   "metadata": {},
   "outputs": [],
   "source": [
    "# so we have validate all user inputs  using while loop"
   ]
  },
  {
   "cell_type": "raw",
   "metadata": {},
   "source": [
    "def ask_for_int():\n",
    "    \n",
    "    try:\n",
    "        result = int(input(\"please provide an integer : \"))\n",
    "    \n",
    "    except:\n",
    "        print(\"Whoops! that is not an integer plese enter an integer \")\n",
    "    \n",
    "    finally:\n",
    "        print(\"End of try/except/finally block\")\n",
    "        "
   ]
  },
  {
   "cell_type": "code",
   "execution_count": 38,
   "metadata": {},
   "outputs": [],
   "source": [
    "# or u can validate using try and except like above"
   ]
  },
  {
   "cell_type": "code",
   "execution_count": 3,
   "metadata": {},
   "outputs": [],
   "source": [
    "# not perfect there is something wrong in this\n",
    "def blackjack_game_run():\n",
    "    playing = True\n",
    "    while True:\n",
    "        # Print an opening statement\n",
    "        print(\"WELCOME TO BLACKJACK GAME!\")\n",
    "\n",
    "\n",
    "        # Create & shuffle the deck, deal two cards to each player\n",
    "\n",
    "        deck = Deck()\n",
    "        deck.shuffle()\n",
    "\n",
    "        # deal two cards so two times add by dealing\n",
    "        player_hand = Hand()\n",
    "        player_hand.add_cards(deck.deal())\n",
    "        player_hand.add_cards(deck.deal())\n",
    "\n",
    "        # same for dealer\n",
    "        dealer_hand = Hand()\n",
    "        dealer_hand.add_cards(deck.deal())\n",
    "        dealer_hand.add_cards(deck.deal())\n",
    "\n",
    "\n",
    "        # Set up the Player's chips\n",
    "        player_chips = Chips()  # by default 100 chips  # u can change\n",
    "\n",
    "\n",
    "        # Prompt the Player for their bet\n",
    "\n",
    "        take_bet(player_chips)   # humne yaha par satta lagate hain about money it should be less than chips.total money i.e 100\n",
    "        # ye call hoga aur dekhega input lega aur cheack karega ki tumhne less value hi game main lagaya hain na than total in terem of chips\n",
    "        # money means here chips\n",
    "        # and if u win thae match win_bet call hoga from Chips class and total main jitna paisa lagaya that vo add joga \n",
    "        # noww maine paisa to lagaya dealer ke sath anhi cards show karne ke bolne ka hain dealer ko but 1 card will be hiiden\n",
    "\n",
    "\n",
    "        # Show cards (but keep one dealer card hidden)\n",
    "        # here show_some will be called and 2nd dealer card will be shown only and 1st will be hidden and will show all cards of player_hand\n",
    "        show_some(player_hand,dealer_hand)   \n",
    "\n",
    "        # now game will be start we have created deck shuufle it , we have created player_hand,dealer_hand ,humne game ke liye chips bhi decidekiye\n",
    "        # by taking input of chips by calling take_bet , and show_some cards to player and dealer ho gaya now time for playing turns to hit and stand\n",
    "        while playing:  # recall this variable from our hit_or_stand function\n",
    "\n",
    "            # this turn is of player_hand\n",
    "            # Prompt for Player to Hit or Stand\n",
    "            # so this will call hit_or_stand after than it checks 'h' or 's' if 'h' it will call hit method then it grabs method of hand class add_cards and adjust_for_ace so see flow of calling \n",
    "            hit_or_stand(deck,player_hand) # we passed deck for deal() from all cards available to pop one card and player_hand for use when called hit method to grab methods of all Hand class \n",
    "\n",
    "            # Show cards (but keep one dealer card hidden)\n",
    "            # here also after hit or stand we willshow some_cards i.e one hidden card of dealer else all visible\n",
    "            show_some(player_hand,dealer_hand)\n",
    "\n",
    "            # If player's hand exceeds 21, run player_busts() and break out of loop\n",
    "            # u hava hot the cards and cards will added but if while adding cards if its value exceeds 21 player_hand will busted so we will call player_bust method and break the loop\n",
    "            if player_hand.value > 21:   # here this .value is in Hand class in add_cards method bcoz we call by instance i.e player_hand and after hit card the self.value will be added every timme it ill update everytime see hand class\n",
    "                player_busts(player_hand,dealer_hand,player_chips)  # so u have busted so calling lose_bet from player_busts bcoz total will be decrement by chips.bet which u have gave input when u called the take_bet so its all connectivity see properly\n",
    "\n",
    "                break\n",
    "\n",
    "            # from this while loop when u will come out there is 2 cases:\n",
    "            # 1) if u hit and suddenly value goes > 21 it will break\n",
    "            # 2) if ur input is 's ' i.e stand playing will become False and will come out of this loop see hit_or_stand that there is also same global variable playing so it should be same\n",
    "\n",
    "\n",
    "        # If Player hasn't busted, play Dealer's hand until Dealer reaches 17\n",
    "        # now plaer_hand trns completed that he hits 's' and come out while loop now dealer's turn\n",
    "        if player_hand.value <= 21:\n",
    "\n",
    "            while dealer_hand.value < 17:   # whenever dealer value will be < 17 hit      \n",
    "                hit(deck,dealer_hand)\n",
    "\n",
    "\n",
    "\n",
    "            # here for delaer turn there is no problem to hidden so show_all cards and here value is also shown\n",
    "            # Show all cards\n",
    "            show_all(player_hand,dealer_hand)\n",
    "\n",
    "\n",
    "            # Run different winning scenarios\n",
    "            if dealer_hand.value > 21:  # in this nested if origirn if means player value is < 21 but suddenly dealer value goes over 21 he will busted so caleed delaer busts method\n",
    "                dealer_busts(player_hand,dealer_hand,player_chips)\n",
    "            elif dealer_hand.value > player_hand.value:\n",
    "                dealer_wins(player_hand,dealer_hand,player_chips)\n",
    "            elif dealer_hand.value < player_hand.value:\n",
    "                player_wins(player_hand,dealer_hand,player_chips)\n",
    "            else:\n",
    "                push(player_hand,dealer_hand)   #this is for tie\n",
    "\n",
    "\n",
    "        # at last we will show total chips of plaer_hand\n",
    "        # Inform Player of their chips total\n",
    "        print('\\n player has total chips at {}'.format(player_chips.total))\n",
    "\n",
    "        # Ask to play again\n",
    "        # new cahnge here see how we validate input\n",
    "        new_game = 'wrong'\n",
    "        while new_game not in ['y' , 'n']:\n",
    "            new_game = input(\"Would you like to play another hand 'y' or 'n': \")\n",
    "\n",
    "            if new_game not in ['y' , 'n']:\n",
    "                print(\"Sorry, your input was wrong! please enter 'y' or'n'\")\n",
    "\n",
    "        if new_game[0].lower() == 'y':\n",
    "\n",
    "            playing = True  # this playing is of outer that was declared at very 1st line for while Treu: game\n",
    "            continue\n",
    "\n",
    "        elif new_game[0].lower() == 'n':\n",
    "\n",
    "            playing = False  # this will break the outwer while loop so we will give some tahnks msg for playing \n",
    "            print(\"Thanks for playing\")\n",
    "            break\n"
   ]
  },
  {
   "cell_type": "code",
   "execution_count": null,
   "metadata": {},
   "outputs": [],
   "source": []
  },
  {
   "cell_type": "code",
   "execution_count": 34,
   "metadata": {},
   "outputs": [],
   "source": [
    "# whenever u want to run blackjack game call function \n",
    "# but work on this definition there is something wrong see why??"
   ]
  },
  {
   "cell_type": "code",
   "execution_count": 1,
   "metadata": {},
   "outputs": [],
   "source": [
    "# next task will be explore this game for more than one player\n",
    "# work on this"
   ]
  },
  {
   "cell_type": "code",
   "execution_count": 2,
   "metadata": {},
   "outputs": [],
   "source": [
    "# Below output is from spyder "
   ]
  },
  {
   "cell_type": "raw",
   "metadata": {},
   "source": [
    "Python 3.8.3 (default, Jul  2 2020, 17:30:36) [MSC v.1916 64 bit (AMD64)]\n",
    "Type \"copyright\", \"credits\" or \"license\" for more information.\n",
    "\n",
    "IPython 7.16.1 -- An enhanced Interactive Python.\n",
    "\n",
    "runcell(0, 'C:/Users/user1/main_package_python/blackjack_game/blackjack.py')\n",
    "WELCOME TO BLACKJACK GAME!\n",
    "\n",
    "How many chips would you like to bet : vsd\n",
    "Sorry, please provide an integer\n",
    "\n",
    "How many chips would you like to bet : qe3\n",
    "Sorry, please provide an integer\n",
    "\n",
    "How many chips would you like to bet : 40\n",
    "\n",
    "Dealer's Hand:\n",
    " <card hidden>\n",
    " Five of Heart\n",
    "\n",
    "Player's Hand:\n",
    " Seven of Heart\n",
    " Six of Heart\n",
    "\n",
    "Hit or stand? enter 'h' or 's' : sd\n",
    "Sorry, Please enter 'h' or 's': \n",
    "\n",
    "Hit or stand? enter 'h' or 's' : 2e\n",
    "Sorry, Please enter 'h' or 's': \n",
    "\n",
    "Hit or stand? enter 'h' or 's' : sf\n",
    "Sorry, Please enter 'h' or 's': \n",
    "\n",
    "Hit or stand? enter 'h' or 's' : h\n",
    "\n",
    "Dealer's Hand:\n",
    " <card hidden>\n",
    " Five of Heart\n",
    "\n",
    "Player's Hand:\n",
    " Seven of Heart\n",
    " Six of Heart\n",
    " Jack of Club\n",
    "BUST PLAYER!\n",
    "\n",
    " player has total chips at 60\n",
    "\n",
    "Would you like to play another hand 'y' or 'n': no\n",
    "Sorry, your input was wrong! please enter 'y' or'n'\n",
    "\n",
    "Would you like to play another hand 'y' or 'n': vd\n",
    "Sorry, your input was wrong! please enter 'y' or'n'\n",
    "\n",
    "Would you like to play another hand 'y' or 'n': ye\n",
    "Sorry, your input was wrong! please enter 'y' or'n'\n",
    "\n",
    "Would you like to play another hand 'y' or 'n': y\n",
    "WELCOME TO BLACKJACK GAME!\n",
    "\n",
    "How many chips would you like to bet : 50\n",
    "\n",
    "Dealer's Hand:\n",
    " <card hidden>\n",
    " Eight of Spade\n",
    "\n",
    "Player's Hand:\n",
    " Four of Club\n",
    " King of Diamond\n",
    "\n",
    "Hit or stand? enter 'h' or 's' : h\n",
    "\n",
    "Dealer's Hand:\n",
    " <card hidden>\n",
    " Eight of Spade\n",
    "\n",
    "Player's Hand:\n",
    " Four of Club\n",
    " King of Diamond\n",
    " King of Heart\n",
    "BUST PLAYER!\n",
    "\n",
    " player has total chips at 50\n",
    "\n",
    "Would you like to play another hand 'y' or 'n': 100\n",
    "Sorry, your input was wrong! please enter 'y' or'n'\n",
    "\n",
    "Would you like to play another hand 'y' or 'n': y\n",
    "WELCOME TO BLACKJACK GAME!\n",
    "\n",
    "How many chips would you like to bet : 100\n",
    "\n",
    "Dealer's Hand:\n",
    " <card hidden>\n",
    " Three of Club\n",
    "\n",
    "Player's Hand:\n",
    " Three of Spade\n",
    " Four of Diamond\n",
    "\n",
    "Hit or stand? enter 'h' or 's' : h\n",
    "\n",
    "Dealer's Hand:\n",
    " <card hidden>\n",
    " Three of Club\n",
    "\n",
    "Player's Hand:\n",
    " Three of Spade\n",
    " Four of Diamond\n",
    " Nine of Club\n",
    "\n",
    "Hit or stand? enter 'h' or 's' : h\n",
    "\n",
    "Dealer's Hand:\n",
    " <card hidden>\n",
    " Three of Club\n",
    "\n",
    "Player's Hand:\n",
    " Three of Spade\n",
    " Four of Diamond\n",
    " Nine of Club\n",
    " Four of Club\n",
    "\n",
    "Hit or stand? enter 'h' or 's' : s\n",
    "player's stand dealer's turn\n",
    "\n",
    "Dealer's Hand:\n",
    " <card hidden>\n",
    " Three of Club\n",
    "\n",
    "Player's Hand:\n",
    " Three of Spade\n",
    " Four of Diamond\n",
    " Nine of Club\n",
    " Four of Club\n",
    "\n",
    "Dealer's Hand:\n",
    " King of Diamond\n",
    " Three of Club\n",
    " Ace of Club\n",
    " Nine of Heart\n",
    "Dealer's Hand = 23\n",
    "\n",
    "Player's Hand:\n",
    " Three of Spade\n",
    " Four of Diamond\n",
    " Nine of Club\n",
    " Four of Club\n",
    "Player's Hand = 20\n",
    "PlAYER WINS! DEALER BUSTED!\n",
    "\n",
    " player has total chips at 200\n",
    "\n",
    "Would you like to play another hand 'y' or 'n': 110\n",
    "Sorry, your input was wrong! please enter 'y' or'n'\n",
    "\n",
    "Would you like to play another hand 'y' or 'n': y\n",
    "WELCOME TO BLACKJACK GAME!\n",
    "\n",
    "How many chips would you like to bet : 110\n",
    "Hey you don't have enough chips! you have 100\n",
    "\n",
    "How many chips would you like to bet : 80\n",
    "\n",
    "Dealer's Hand:\n",
    " <card hidden>\n",
    " King of Heart\n",
    "\n",
    "Player's Hand:\n",
    " Three of Club\n",
    " Ten of Spade\n",
    "\n",
    "Hit or stand? enter 'h' or 's' : h\n",
    "\n",
    "Dealer's Hand:\n",
    " <card hidden>\n",
    " King of Heart\n",
    "\n",
    "Player's Hand:\n",
    " Three of Club\n",
    " Ten of Spade\n",
    " Five of Spade\n",
    "\n",
    "Hit or stand? enter 'h' or 's' : s\n",
    "player's stand dealer's turn\n",
    "\n",
    "Dealer's Hand:\n",
    " <card hidden>\n",
    " King of Heart\n",
    "\n",
    "Player's Hand:\n",
    " Three of Club\n",
    " Ten of Spade\n",
    " Five of Spade\n",
    "\n",
    "Dealer's Hand:\n",
    " Queen of Club\n",
    " King of Heart\n",
    "Dealer's Hand = 20\n",
    "\n",
    "Player's Hand:\n",
    " Three of Club\n",
    " Ten of Spade\n",
    " Five of Spade\n",
    "Player's Hand = 18\n",
    "DEALER WINS!\n",
    "\n",
    " player has total chips at 20\n",
    "\n",
    "Would you like to play another hand 'y' or 'n': n\n",
    "Thanks for playing\n"
   ]
  },
  {
   "cell_type": "code",
   "execution_count": null,
   "metadata": {},
   "outputs": [],
   "source": []
  },
  {
   "cell_type": "code",
   "execution_count": null,
   "metadata": {},
   "outputs": [],
   "source": []
  },
  {
   "cell_type": "code",
   "execution_count": null,
   "metadata": {},
   "outputs": [],
   "source": []
  },
  {
   "cell_type": "code",
   "execution_count": null,
   "metadata": {},
   "outputs": [],
   "source": []
  },
  {
   "cell_type": "code",
   "execution_count": null,
   "metadata": {},
   "outputs": [],
   "source": []
  }
 ],
 "metadata": {
  "kernelspec": {
   "display_name": "Python 3",
   "language": "python",
   "name": "python3"
  },
  "language_info": {
   "codemirror_mode": {
    "name": "ipython",
    "version": 3
   },
   "file_extension": ".py",
   "mimetype": "text/x-python",
   "name": "python",
   "nbconvert_exporter": "python",
   "pygments_lexer": "ipython3",
   "version": "3.8.3"
  }
 },
 "nbformat": 4,
 "nbformat_minor": 4
}
