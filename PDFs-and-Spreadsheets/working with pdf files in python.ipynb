{
 "cells": [
  {
   "cell_type": "code",
   "execution_count": 1,
   "metadata": {},
   "outputs": [],
   "source": [
    "# download PyPDF2 module command : pip install PyPDF2"
   ]
  },
  {
   "cell_type": "code",
   "execution_count": 2,
   "metadata": {},
   "outputs": [],
   "source": [
    "import PyPDF2"
   ]
  },
  {
   "cell_type": "raw",
   "metadata": {},
   "source": [
    "#'rb' is the read binary mode bcoz pdf files are not just text files\n",
    "\n",
    "# to open pdf file\n",
    "f = open('working_with_pdf.pdf','rb')\n",
    "\n",
    "# to read that pdf file\n",
    "pdf_reader = PyPDF2.PdfFileReader(f)\n",
    "\n",
    "#to check pages inside that pdf\n",
    "pdf_reader.numPages\n",
    "\n",
    "#to access any page say 1st page so pass an index as 0\n",
    "page_one = pdf_reader.getPage(0)\n",
    "\n",
    "# to grab text from that 1st page\n",
    "page_one_text = page_one.extractText()\n",
    "\n"
   ]
  },
  {
   "cell_type": "raw",
   "metadata": {},
   "source": [
    "# to read that text file\n",
    "page_one_text\n",
    "\n"
   ]
  },
  {
   "cell_type": "raw",
   "metadata": {},
   "source": [
    "# close that pdf file\n",
    "\n",
    "f.close()"
   ]
  },
  {
   "cell_type": "raw",
   "metadata": {},
   "source": [
    "# now we have to add pages into pdf file\n",
    "\n",
    "f = open('working_with_pdf.pdf','rb')\n",
    "# to read pages\n",
    "page_reader = PyPDF2.PdfFileReader(f)\n",
    "# to grab first page\n",
    "first_page = page_reader.getPage(0)\n"
   ]
  },
  {
   "cell_type": "raw",
   "metadata": {},
   "source": [
    "# check type of first page\n",
    "\n",
    "type(first_page)  # it gives pdfobject "
   ]
  },
  {
   "cell_type": "raw",
   "metadata": {},
   "source": [
    "# now if we want to all 1st or last pages then we will creat new object file as writer and add to them pages\n",
    "\n",
    "pdf_writer = PyPDF2.PdfFileWriter()  # writer object\n",
    "\n",
    "# to add pages into this new file\n",
    "pdf_writer.addPage(first_page)   # we have to pass only pdf object \n",
    "\n",
    "# to open new file to add this new pdf object\n",
    "\n",
    "pdf_output = open('some_new_brand_doc.pdf','wb') # this wb mode overrites the existing file\n",
    "\n",
    "# now add that pdf_writer which consist 1st page to this new file\n",
    "pdf_writer.write(pdf_output)\n",
    "\n",
    "f.close()\n",
    "\n",
    "pdf_output.close()"
   ]
  },
  {
   "cell_type": "raw",
   "metadata": {},
   "source": [
    "# now to grab all text from pdf \n",
    "\n",
    "f = open('working_with_pdf.pdf','rb')\n",
    "\n",
    "# creat placeholder object\n",
    "pdf_text = []\n",
    "\n",
    "pdf_reader = PyPDF2.PdfFileReader(f)\n",
    "\n",
    "for num in range(pdf_reader.numPages):\n",
    "    \n",
    "    page = pdf_reader.getPage(num)\n",
    "    \n",
    "    pdf_text.append(page.extractText())"
   ]
  },
  {
   "cell_type": "raw",
   "metadata": {},
   "source": [
    "# print those text \n",
    "\n",
    "pdf_text"
   ]
  },
  {
   "cell_type": "raw",
   "metadata": {},
   "source": [
    "# to read particular page lets say 4h page\n",
    "pdf_text[3]"
   ]
  },
  {
   "cell_type": "raw",
   "metadata": {},
   "source": [
    "# neew senetece on new line\n",
    "print(pdf_text[1])"
   ]
  },
  {
   "cell_type": "code",
   "execution_count": 6,
   "metadata": {},
   "outputs": [],
   "source": [
    "# see one more time pdf notebooks on github"
   ]
  },
  {
   "cell_type": "code",
   "execution_count": null,
   "metadata": {},
   "outputs": [],
   "source": []
  }
 ],
 "metadata": {
  "kernelspec": {
   "display_name": "Python 3",
   "language": "python",
   "name": "python3"
  },
  "language_info": {
   "codemirror_mode": {
    "name": "ipython",
    "version": 3
   },
   "file_extension": ".py",
   "mimetype": "text/x-python",
   "name": "python",
   "nbconvert_exporter": "python",
   "pygments_lexer": "ipython3",
   "version": "3.8.3"
  }
 },
 "nbformat": 4,
 "nbformat_minor": 4
}
