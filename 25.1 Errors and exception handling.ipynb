{
 "cells": [
  {
   "cell_type": "code",
   "execution_count": 1,
   "metadata": {},
   "outputs": [],
   "source": [
    "def add(n1,n2):\n",
    "    \n",
    "    print(n1+n2)"
   ]
  },
  {
   "cell_type": "code",
   "execution_count": 2,
   "metadata": {},
   "outputs": [
    {
     "name": "stdout",
     "output_type": "stream",
     "text": [
      "30\n"
     ]
    }
   ],
   "source": [
    "add(10,20)"
   ]
  },
  {
   "cell_type": "code",
   "execution_count": 3,
   "metadata": {},
   "outputs": [],
   "source": [
    "num1 = 10"
   ]
  },
  {
   "cell_type": "code",
   "execution_count": 4,
   "metadata": {},
   "outputs": [
    {
     "name": "stdout",
     "output_type": "stream",
     "text": [
      "please enter the number : 30\n"
     ]
    }
   ],
   "source": [
    "num2 =input(\"please enter the number : \")"
   ]
  },
  {
   "cell_type": "code",
   "execution_count": 7,
   "metadata": {},
   "outputs": [
    {
     "ename": "TypeError",
     "evalue": "unsupported operand type(s) for +: 'int' and 'str'",
     "output_type": "error",
     "traceback": [
      "\u001b[1;31m---------------------------------------------------------------------------\u001b[0m",
      "\u001b[1;31mTypeError\u001b[0m                                 Traceback (most recent call last)",
      "\u001b[1;32m<ipython-input-7-7899ec4f7ec3>\u001b[0m in \u001b[0;36m<module>\u001b[1;34m\u001b[0m\n\u001b[1;32m----> 1\u001b[1;33m \u001b[0madd\u001b[0m\u001b[1;33m(\u001b[0m\u001b[0mnum1\u001b[0m\u001b[1;33m,\u001b[0m\u001b[0mnum2\u001b[0m\u001b[1;33m)\u001b[0m \u001b[1;31m# this is type error says while ask for input it accept as a string and we can't add int + str so here type error occur\u001b[0m\u001b[1;33m\u001b[0m\u001b[1;33m\u001b[0m\u001b[0m\n\u001b[0m\u001b[0;32m      2\u001b[0m \u001b[1;33m\u001b[0m\u001b[0m\n\u001b[0;32m      3\u001b[0m \u001b[0mprint\u001b[0m\u001b[1;33m(\u001b[0m\u001b[1;34m\"Hello\"\u001b[0m\u001b[1;33m)\u001b[0m  \u001b[1;31m# after print state,ent it also not executed bcoz error occurs then next part will skip and execution stop\u001b[0m\u001b[1;33m\u001b[0m\u001b[1;33m\u001b[0m\u001b[0m\n\u001b[0;32m      4\u001b[0m \u001b[1;33m\u001b[0m\u001b[0m\n\u001b[0;32m      5\u001b[0m \u001b[1;31m# so even if error occur and to avoid that error and we want to execute complete code then we have to do try except bloacks\u001b[0m\u001b[1;33m\u001b[0m\u001b[1;33m\u001b[0m\u001b[1;33m\u001b[0m\u001b[0m\n",
      "\u001b[1;32m<ipython-input-1-7cece8eba0e2>\u001b[0m in \u001b[0;36madd\u001b[1;34m(n1, n2)\u001b[0m\n\u001b[0;32m      1\u001b[0m \u001b[1;32mdef\u001b[0m \u001b[0madd\u001b[0m\u001b[1;33m(\u001b[0m\u001b[0mn1\u001b[0m\u001b[1;33m,\u001b[0m\u001b[0mn2\u001b[0m\u001b[1;33m)\u001b[0m\u001b[1;33m:\u001b[0m\u001b[1;33m\u001b[0m\u001b[1;33m\u001b[0m\u001b[0m\n\u001b[0;32m      2\u001b[0m \u001b[1;33m\u001b[0m\u001b[0m\n\u001b[1;32m----> 3\u001b[1;33m     \u001b[0mprint\u001b[0m\u001b[1;33m(\u001b[0m\u001b[0mn1\u001b[0m\u001b[1;33m+\u001b[0m\u001b[0mn2\u001b[0m\u001b[1;33m)\u001b[0m\u001b[1;33m\u001b[0m\u001b[1;33m\u001b[0m\u001b[0m\n\u001b[0m",
      "\u001b[1;31mTypeError\u001b[0m: unsupported operand type(s) for +: 'int' and 'str'"
     ]
    }
   ],
   "source": [
    "add(num1,num2) # this is type error says while ask for input it accept as a string and we can't add int + str so here type error occur\n",
    "\n",
    "print(\"Hello\")  # after print state,ent it also not executed bcoz error occurs then next part will skip and execution stop \n",
    "\n",
    "# so even if error occur and to avoid that error and we want to execute complete code then we have to do try except bloacks \n",
    "\n",
    "# see how next??"
   ]
  },
  {
   "cell_type": "markdown",
   "metadata": {},
   "source": [
    "# try and except"
   ]
  },
  {
   "cell_type": "raw",
   "metadata": {},
   "source": [
    "The basic terminology and syntax used to handle errors in Python are the try and except statements. The code which can cause an exception to occur is put in the try block and the handling of the exception is then implemented in the except block of code. The syntax follows:\n",
    "\n",
    "try:\n",
    "   You do your operations here...\n",
    "   ...\n",
    "except ExceptionI:\n",
    "   If there is ExceptionI, then execute this block.\n",
    "except ExceptionII:\n",
    "   If there is ExceptionII, then execute this block.\n",
    "   ...\n",
    "else:\n",
    "   If there is no exception then execute this block. \n",
    "\n",
    "We can also just check for any exception with just using except: To get a better understanding of all this let's check out an example: We will look at some code that opens and writes a file:"
   ]
  },
  {
   "cell_type": "code",
   "execution_count": 8,
   "metadata": {},
   "outputs": [],
   "source": [
    "try:\n",
    "    # want to attempt this code\n",
    "    # may have an error \n",
    "    \n",
    "    result = 10 + 10\n",
    "    \n",
    "except:\n",
    "    \n",
    "    print(\"Hey it looks like are not adding! \")"
   ]
  },
  {
   "cell_type": "code",
   "execution_count": 10,
   "metadata": {},
   "outputs": [
    {
     "data": {
      "text/plain": [
       "20"
      ]
     },
     "execution_count": 10,
     "metadata": {},
     "output_type": "execute_result"
    }
   ],
   "source": [
    "result # see no error bcoz result execute successfully so try blaock executes but now see next error in try bloack"
   ]
  },
  {
   "cell_type": "code",
   "execution_count": 11,
   "metadata": {},
   "outputs": [
    {
     "name": "stdout",
     "output_type": "stream",
     "text": [
      "Hey it looks like are not adding! \n"
     ]
    }
   ],
   "source": [
    "try:\n",
    "    # want to attempt this code\n",
    "    # may have an error \n",
    "    \n",
    "    result = 10 + '10'\n",
    "    \n",
    "except:\n",
    "    \n",
    "    print(\"Hey it looks like are not adding! \")"
   ]
  },
  {
   "cell_type": "code",
   "execution_count": 12,
   "metadata": {},
   "outputs": [],
   "source": [
    "# now see try block get error so it executes except block if there was not try except block it gives an error like type error \n",
    "# so we don't want to show error for that try except block used "
   ]
  },
  {
   "cell_type": "code",
   "execution_count": 13,
   "metadata": {},
   "outputs": [
    {
     "name": "stdout",
     "output_type": "stream",
     "text": [
      "Hey it looks like are not adding! \n"
     ]
    }
   ],
   "source": [
    "try:\n",
    "    # want to attempt this code\n",
    "    # may have an error \n",
    "    \n",
    "    result = 10 + '10'\n",
    "    \n",
    "except:\n",
    "    \n",
    "    print(\"Hey it looks like are not adding! \")\n",
    "\n",
    "else:\n",
    "    print(\"Hey adding well!\")\n",
    "    print(result)"
   ]
  },
  {
   "cell_type": "code",
   "execution_count": 14,
   "metadata": {},
   "outputs": [
    {
     "name": "stdout",
     "output_type": "stream",
     "text": [
      "Hey adding well!\n",
      "20\n"
     ]
    }
   ],
   "source": [
    "try:\n",
    "    # want to attempt this code\n",
    "    # may have an error \n",
    "    \n",
    "    result = 10 + 10\n",
    "    \n",
    "except:\n",
    "    \n",
    "    print(\"Hey it looks like are not adding! \")\n",
    "\n",
    "else:\n",
    "    print(\"Hey adding well!\")\n",
    "    print(result)"
   ]
  },
  {
   "cell_type": "code",
   "execution_count": 20,
   "metadata": {},
   "outputs": [],
   "source": [
    "# now see else block execute when try block is true i.e hey except block is false then else block will excute"
   ]
  },
  {
   "cell_type": "code",
   "execution_count": null,
   "metadata": {},
   "outputs": [],
   "source": []
  },
  {
   "cell_type": "code",
   "execution_count": null,
   "metadata": {},
   "outputs": [],
   "source": []
  },
  {
   "cell_type": "markdown",
   "metadata": {},
   "source": [
    "# try except finally"
   ]
  },
  {
   "cell_type": "code",
   "execution_count": null,
   "metadata": {},
   "outputs": [],
   "source": []
  },
  {
   "cell_type": "code",
   "execution_count": null,
   "metadata": {},
   "outputs": [],
   "source": []
  },
  {
   "cell_type": "code",
   "execution_count": null,
   "metadata": {},
   "outputs": [],
   "source": []
  },
  {
   "cell_type": "code",
   "execution_count": 21,
   "metadata": {},
   "outputs": [
    {
     "name": "stdout",
     "output_type": "stream",
     "text": [
      "I am always run!\n"
     ]
    }
   ],
   "source": [
    "\n",
    "# here it can occurs two errors so we write two exceptions blocks\n",
    "# don't need to remeber all types or error now \n",
    "# finally block will execute always but we saw else block will execute only if execption blaock not execute unless there is error or not \n",
    "try:\n",
    "    \n",
    "    f = open('testfile','w')           # this is mode 'w' which allows you to write something in a file only not read \n",
    "    f.write(\"write a test line\")\n",
    "\n",
    "except TypeError:\n",
    "    print(\"Hey this is a type error occur!\")\n",
    "    \n",
    "except OSError:\n",
    "    print(\"HEY there was a OS Error!\")\n",
    "\n",
    "finally:\n",
    "    print(\"I am always run!\")"
   ]
  },
  {
   "cell_type": "code",
   "execution_count": 22,
   "metadata": {},
   "outputs": [
    {
     "name": "stdout",
     "output_type": "stream",
     "text": [
      "HEY there was a OS Error!\n",
      "I am always run!\n"
     ]
    }
   ],
   "source": [
    "try:\n",
    "    \n",
    "    f = open('testfile','r')           # here we can write only but if ur mode will be 'r' then error occurs bcoz it allows u to read only and u r trying to write \n",
    "    f.write(\"write a test line\")\n",
    "\n",
    "except TypeError:\n",
    "    print(\"Hey this is a type error occur!\")\n",
    "    \n",
    "except OSError:\n",
    "    print(\"HEY there was a OS Error!\")\n",
    "\n",
    "finally:\n",
    "    print(\"I am always run!\")"
   ]
  },
  {
   "cell_type": "code",
   "execution_count": 23,
   "metadata": {},
   "outputs": [],
   "source": [
    "# see finally block execute always \n",
    "# if u want to write all error in one block if u r not remeber see "
   ]
  },
  {
   "cell_type": "code",
   "execution_count": 26,
   "metadata": {},
   "outputs": [
    {
     "name": "stdout",
     "output_type": "stream",
     "text": [
      "all other exceptions!\n",
      "I am always run!\n"
     ]
    }
   ],
   "source": [
    "try:\n",
    "    \n",
    "    f = open('testfile','r')           # here we can write only but if ur mode will be 'r' then error occurs bcoz it allows u to read only and u r trying to write \n",
    "    f.write(\"write a test line\")\n",
    "\n",
    "except:\n",
    "    print(\"all other exceptions!\")\n",
    "    \n",
    "\n",
    "finally:\n",
    "    print(\"I am always run!\")"
   ]
  },
  {
   "cell_type": "code",
   "execution_count": null,
   "metadata": {},
   "outputs": [],
   "source": []
  },
  {
   "cell_type": "code",
   "execution_count": 27,
   "metadata": {},
   "outputs": [
    {
     "name": "stdout",
     "output_type": "stream",
     "text": [
      "please provide an integer : 20\n"
     ]
    }
   ],
   "source": [
    "result = int(input(\"please provide an integer : \"))"
   ]
  },
  {
   "cell_type": "code",
   "execution_count": 29,
   "metadata": {},
   "outputs": [
    {
     "data": {
      "text/plain": [
       "20"
      ]
     },
     "execution_count": 29,
     "metadata": {},
     "output_type": "execute_result"
    }
   ],
   "source": [
    "result"
   ]
  },
  {
   "cell_type": "code",
   "execution_count": 30,
   "metadata": {},
   "outputs": [
    {
     "name": "stdout",
     "output_type": "stream",
     "text": [
      "please provide an integer : word\n"
     ]
    },
    {
     "ename": "ValueError",
     "evalue": "invalid literal for int() with base 10: 'word'",
     "output_type": "error",
     "traceback": [
      "\u001b[1;31m---------------------------------------------------------------------------\u001b[0m",
      "\u001b[1;31mValueError\u001b[0m                                Traceback (most recent call last)",
      "\u001b[1;32m<ipython-input-30-bbc7e6acf5e0>\u001b[0m in \u001b[0;36m<module>\u001b[1;34m\u001b[0m\n\u001b[1;32m----> 1\u001b[1;33m \u001b[0mresult\u001b[0m \u001b[1;33m=\u001b[0m \u001b[0mint\u001b[0m\u001b[1;33m(\u001b[0m\u001b[0minput\u001b[0m\u001b[1;33m(\u001b[0m\u001b[1;34m\"please provide an integer : \"\u001b[0m\u001b[1;33m)\u001b[0m\u001b[1;33m)\u001b[0m\u001b[1;33m\u001b[0m\u001b[1;33m\u001b[0m\u001b[0m\n\u001b[0m",
      "\u001b[1;31mValueError\u001b[0m: invalid literal for int() with base 10: 'word'"
     ]
    }
   ],
   "source": [
    "result = int(input(\"please provide an integer : \"))"
   ]
  },
  {
   "cell_type": "code",
   "execution_count": 31,
   "metadata": {},
   "outputs": [],
   "source": [
    "## see here value error means we can only print integer whwere u give input as a string so to avoaid such error see next"
   ]
  },
  {
   "cell_type": "code",
   "execution_count": null,
   "metadata": {},
   "outputs": [],
   "source": []
  },
  {
   "cell_type": "code",
   "execution_count": 32,
   "metadata": {},
   "outputs": [],
   "source": [
    "def ask_for_int():\n",
    "    \n",
    "    try:\n",
    "        result = int(input(\"please provide an integer : \"))\n",
    "    \n",
    "    except:\n",
    "        print(\"Whoops! that is not an integer plese enter an integer \")\n",
    "    \n",
    "    finally:\n",
    "        print(\"End of try/except/finally block\")\n",
    "        "
   ]
  },
  {
   "cell_type": "code",
   "execution_count": 34,
   "metadata": {},
   "outputs": [
    {
     "name": "stdout",
     "output_type": "stream",
     "text": [
      "please provide an integer : 20\n",
      "End of try/except/finally block\n"
     ]
    }
   ],
   "source": [
    "ask_for_int()"
   ]
  },
  {
   "cell_type": "code",
   "execution_count": 35,
   "metadata": {},
   "outputs": [
    {
     "data": {
      "text/plain": [
       "20"
      ]
     },
     "execution_count": 35,
     "metadata": {},
     "output_type": "execute_result"
    }
   ],
   "source": [
    "result"
   ]
  },
  {
   "cell_type": "code",
   "execution_count": 36,
   "metadata": {},
   "outputs": [
    {
     "name": "stdout",
     "output_type": "stream",
     "text": [
      "please provide an integer : word\n",
      "Whoops! that is not an integer plese enter an integer \n",
      "End of try/except/finally block\n"
     ]
    }
   ],
   "source": [
    "ask_for_int()"
   ]
  },
  {
   "cell_type": "code",
   "execution_count": 37,
   "metadata": {},
   "outputs": [],
   "source": [
    "# see it execute except blaock that it handles error but if we want to ask again if not correct input then see how?"
   ]
  },
  {
   "cell_type": "code",
   "execution_count": 45,
   "metadata": {},
   "outputs": [],
   "source": [
    "def ask_for_int():\n",
    "    \n",
    "    while True:\n",
    "        try:\n",
    "            result = int(input(\"please provide an integer : \"))\n",
    "\n",
    "        \n",
    "        # if try block not executed then continue to ask in execption block to ask again for input so continue statement should be here\n",
    "        # continue statement execute continuously while loop till correct input\n",
    "        except:\n",
    "            print(\"Whoops! that is not an integer plese enter an integer \")\n",
    "            continue\n",
    "        \n",
    "        # this else block should be there if there is correct input print anything u want to give msg to user and break \n",
    "        # statement be there to come out of whileloop \n",
    "        else:\n",
    "            print(\"Yes your input is correct thank you!\")\n",
    "            break                                            \n",
    "\n",
    "        finally:\n",
    "            print(\"End of try/except/finally block\")\n",
    "            print(\"Hey i am always run at the end! \\n\")\n"
   ]
  },
  {
   "cell_type": "code",
   "execution_count": 46,
   "metadata": {},
   "outputs": [
    {
     "name": "stdout",
     "output_type": "stream",
     "text": [
      "please provide an integer : 20\n",
      "Yes your input is correct thank you!\n",
      "End of try/except/finally block\n",
      "Hey i am always run at the end! \n",
      "\n"
     ]
    }
   ],
   "source": [
    "ask_for_int()"
   ]
  },
  {
   "cell_type": "code",
   "execution_count": 47,
   "metadata": {},
   "outputs": [
    {
     "name": "stdout",
     "output_type": "stream",
     "text": [
      "please provide an integer : word\n",
      "Whoops! that is not an integer plese enter an integer \n",
      "End of try/except/finally block\n",
      "Hey i am always run at the end! \n",
      "\n",
      "please provide an integer : w\n",
      "Whoops! that is not an integer plese enter an integer \n",
      "End of try/except/finally block\n",
      "Hey i am always run at the end! \n",
      "\n",
      "please provide an integer : da\n",
      "Whoops! that is not an integer plese enter an integer \n",
      "End of try/except/finally block\n",
      "Hey i am always run at the end! \n",
      "\n",
      "please provide an integer : 20\n",
      "Yes your input is correct thank you!\n",
      "End of try/except/finally block\n",
      "Hey i am always run at the end! \n",
      "\n"
     ]
    }
   ],
   "source": [
    "ask_for_int()"
   ]
  },
  {
   "cell_type": "code",
   "execution_count": 48,
   "metadata": {},
   "outputs": [],
   "source": [
    "def ask_for_int():\n",
    "    \n",
    "    while True:\n",
    "        try:\n",
    "            result = int(input(\"please provide an integer : \"))\n",
    "\n",
    "        \n",
    "        # if try block not executed then continue to ask in execption block to ask again for input so continue statement should be here\n",
    "        # continue statement execute continuously while loop till correct input\n",
    "        except:\n",
    "            print(\"Whoops! that is not an integer plese enter an integer \")\n",
    "            continue\n",
    "        \n",
    "        # this else block should be there if there is correct input print anything u want to give msg to user and break \n",
    "        # statement be there to come out of whileloop \n",
    "        else:\n",
    "            print(\"Yes your input is correct thank you!\")\n",
    "            break                                            \n",
    "\n",
    "       "
   ]
  },
  {
   "cell_type": "code",
   "execution_count": 49,
   "metadata": {},
   "outputs": [
    {
     "name": "stdout",
     "output_type": "stream",
     "text": [
      "please provide an integer : 20\n",
      "Yes your input is correct thank you!\n"
     ]
    }
   ],
   "source": [
    "ask_for_int()"
   ]
  },
  {
   "cell_type": "code",
   "execution_count": 50,
   "metadata": {},
   "outputs": [
    {
     "name": "stdout",
     "output_type": "stream",
     "text": [
      "please provide an integer : wo\n",
      "Whoops! that is not an integer plese enter an integer \n",
      "please provide an integer : sf\n",
      "Whoops! that is not an integer plese enter an integer \n",
      "please provide an integer : cxc\n",
      "Whoops! that is not an integer plese enter an integer \n",
      "please provide an integer : xcer\n",
      "Whoops! that is not an integer plese enter an integer \n",
      "please provide an integer : 2ds\n",
      "Whoops! that is not an integer plese enter an integer \n",
      "please provide an integer : 30\n",
      "Yes your input is correct thank you!\n"
     ]
    }
   ],
   "source": [
    "ask_for_int()"
   ]
  },
  {
   "cell_type": "code",
   "execution_count": null,
   "metadata": {},
   "outputs": [],
   "source": []
  }
 ],
 "metadata": {
  "kernelspec": {
   "display_name": "Python 3",
   "language": "python",
   "name": "python3"
  },
  "language_info": {
   "codemirror_mode": {
    "name": "ipython",
    "version": 3
   },
   "file_extension": ".py",
   "mimetype": "text/x-python",
   "name": "python",
   "nbconvert_exporter": "python",
   "pygments_lexer": "ipython3",
   "version": "3.8.3"
  }
 },
 "nbformat": 4,
 "nbformat_minor": 4
}
