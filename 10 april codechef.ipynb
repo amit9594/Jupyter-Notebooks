{
 "cells": [
  {
   "cell_type": "raw",
   "metadata": {},
   "source": [
    "A string is said to be a child of a another string if it can be formed by deleting 0 or more characters from the other string. Letters cannot be rearranged.\n",
    "Given two strings of equal length, what's the longest string that can be constructed such that it is a child of both?\n",
    "Example\n",
    "S1 = ‘ABCD’\n",
    "S2 = ‘ABDC\n",
    "These strings have two children with maximum length 3, ABC and ABD. They can be formed by eliminating either the D or C from both strings. Return 3."
   ]
  },
  {
   "cell_type": "code",
   "execution_count": 7,
   "metadata": {},
   "outputs": [
    {
     "name": "stdout",
     "output_type": "stream",
     "text": [
      "Enter a string: amit\n",
      "Enter a another string: jadhav\n",
      "['A', 'M', 'I', 'T']\n",
      "['J', 'A', 'D', 'H', 'A', 'V']\n"
     ]
    }
   ],
   "source": [
    "s1 = input('Enter a string: ')\n",
    "s2 = input('Enter a another string: ')\n",
    "\n",
    "def split(word):\n",
    "    return [char for char in word.upper()]\n",
    "\n",
    "l1 = split(s1)\n",
    "l2 = split(s2)\n",
    "\n",
    "print(l1)\n",
    "print(l2)\n",
    "\n",
    "for item in l1:\n",
    "    for ele in l2:\n",
    "        if item == ele:\n",
    "            pass\n"
   ]
  },
  {
   "cell_type": "code",
   "execution_count": 18,
   "metadata": {},
   "outputs": [
    {
     "name": "stdout",
     "output_type": "stream",
     "text": [
      "HARRY\n",
      "SALLY\n",
      "2\n"
     ]
    }
   ],
   "source": [
    "def findcommon(str1, str2):\n",
    "    m = [[0]*(len(str2)+1) for _ in range(len(str1)+1)]\n",
    "    for i,c in enumerate(str1,1):\n",
    "        for j,d in enumerate(str2,1):\n",
    "            if c == d:\n",
    "                m[i][j] = m[i-1][j-1]+1\n",
    "            else:\n",
    "                m[i][j] = max(m[i][j-1],m[i-1][j])\n",
    "                   \n",
    "    return m[-1][-1]\n",
    "\n",
    "print(findcommon(input(), input()))"
   ]
  },
  {
   "cell_type": "code",
   "execution_count": null,
   "metadata": {},
   "outputs": [],
   "source": []
  }
 ],
 "metadata": {
  "kernelspec": {
   "display_name": "Python 3",
   "language": "python",
   "name": "python3"
  },
  "language_info": {
   "codemirror_mode": {
    "name": "ipython",
    "version": 3
   },
   "file_extension": ".py",
   "mimetype": "text/x-python",
   "name": "python",
   "nbconvert_exporter": "python",
   "pygments_lexer": "ipython3",
   "version": "3.8.3"
  }
 },
 "nbformat": 4,
 "nbformat_minor": 4
}
